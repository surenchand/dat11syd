{
 "cells": [
  {
   "cell_type": "markdown",
   "metadata": {},
   "source": [
    "# Lab - Regularization\n",
    "\n",
    "## Week 4 Tuesday 11th June\n",
    "\n",
    "### TASK: Regularized regression\n",
    "### FUNCTIONS: Ridge, RidgeCV, Lasso, LassoCV\n",
    "### DOCUMENTATION: http://scikit-learn.org/stable/modules/linear_model.html\n",
    "### DATA: Crime (n=319 non-null, p=122, type=regression)\n",
    "### DATA DICTIONARY: http://archive.ics.uci.edu/ml/datasets/Communities+and+Crime\n",
    "\n",
    "This data set contains data on violent crimes within a community."
   ]
  },
  {
   "cell_type": "code",
   "execution_count": 1,
   "metadata": {
    "collapsed": false
   },
   "outputs": [],
   "source": [
    "########## Prepare data ##########\n",
    "# read in data, remove categorical features, remove rows with missing values\n",
    "import pandas as pd\n",
    "crime = pd.read_csv('http://archive.ics.uci.edu/ml/machine-learning-databases/communities/communities.data', header=None, na_values=['?'])\n",
    "crime = crime.iloc[:, 5:]\n",
    "crime.dropna(inplace=True)\n",
    "crime.head()\n",
    "\n",
    "# define X and y\n",
    "X = crime.iloc[:, :-1]\n",
    "y = crime.iloc[:, -1]\n",
    "\n",
    "# split into train/test\n",
    "from sklearn.model_selection import train_test_split\n",
    "X_train, X_test, y_train, y_test = train_test_split(X, y, random_state=1)\n"
   ]
  },
  {
   "cell_type": "code",
   "execution_count": 4,
   "metadata": {
    "collapsed": false
   },
   "outputs": [
    {
     "data": {
      "text/plain": [
       "(319, 122)"
      ]
     },
     "execution_count": 4,
     "metadata": {},
     "output_type": "execute_result"
    }
   ],
   "source": [
    "# How many columns are in X?\n",
    "X.shape"
   ]
  },
  {
   "cell_type": "code",
   "execution_count": 5,
   "metadata": {
    "collapsed": false
   },
   "outputs": [
    {
     "data": {
      "text/plain": [
       "array([ -3.66188167e+00,   6.98124465e-01,  -2.61955467e-01,\n",
       "        -2.85270027e-01,  -1.64740837e-01,   2.46972333e-01,\n",
       "        -1.09290051e+00,  -5.96857796e-01,   1.11200239e+00,\n",
       "        -7.21968931e-01,   4.27346598e+00,  -2.28040268e-01,\n",
       "         8.04875769e-01,  -2.57934732e-01,  -2.63458023e-01,\n",
       "        -1.04616958e+00,   6.07784197e-01,   7.73552561e-01,\n",
       "         5.96468029e-02,   6.90215922e-01,   2.16759430e-02,\n",
       "        -4.87802949e-01,  -5.18858404e-01,   1.39478815e-01,\n",
       "        -1.24417942e-01,   3.15003821e-01,  -1.52633736e-01,\n",
       "        -9.65003927e-01,   1.17142163e+00,  -3.08546690e-02,\n",
       "        -9.29085548e-01,   1.24654586e-01,   1.98104506e-01,\n",
       "         7.30804821e-01,  -1.77337294e-01,   8.32927588e-02,\n",
       "         3.46045601e-01,   5.01837338e-01,   1.57062958e+00,\n",
       "        -4.13478807e-01,   1.39350802e+00,  -3.49428114e+00,\n",
       "         7.09577818e-01,  -8.32141352e-01,  -1.39984927e+00,\n",
       "         1.02482840e+00,   2.13855006e-01,  -6.18937325e-01,\n",
       "         5.28954490e-01,   7.98294890e-02,   5.93688560e-02,\n",
       "        -1.68582667e-01,   7.31264051e-01,  -1.39635208e+00,\n",
       "         2.38507704e-01,   5.50621439e-01,  -5.61447867e-01,\n",
       "         6.18989764e-01,   2.55517024e+00,  -3.71769599e+00,\n",
       "         7.09191935e-01,   3.82041439e-01,   8.23752836e-01,\n",
       "        -1.67703547e+00,  -1.73150450e+00,   9.90120171e-01,\n",
       "        -5.72745697e-01,  -1.45877295e+00,   8.68032144e-01,\n",
       "         5.15959984e-01,   3.14453207e-02,   2.01869791e-01,\n",
       "         9.65291940e-02,   2.13034099e+00,  -6.95374423e-02,\n",
       "         4.62477023e-02,  -1.10565955e-02,  -1.34313780e-02,\n",
       "        -1.04515494e-01,  -8.76985171e-01,   4.26781907e-01,\n",
       "        -1.85405795e-01,  -8.16215517e-01,  -2.86596076e-01,\n",
       "        -1.56110708e-01,   1.76468580e+00,  -5.70163730e-01,\n",
       "        -7.54066704e-02,  -1.74212697e-01,  -8.89747220e-02,\n",
       "         2.26336403e-01,   1.38030073e+00,  -3.37304744e-01,\n",
       "        -2.57856611e-02,   8.91299188e-02,   3.49876793e-01,\n",
       "        -1.22428557e+00,  -3.67941205e+01,  -6.95699750e-01,\n",
       "         2.95269279e-01,  -1.48590316e-03,   2.34206416e-01,\n",
       "        -7.09533984e-03,   3.67152957e+01,  -8.90665109e-02,\n",
       "         3.79550678e-02,   3.19375782e-01,   4.60708905e-01,\n",
       "         1.41090069e-01,  -6.67017320e-01,  -2.59035245e-01,\n",
       "        -4.60600755e-04,  -1.51868232e-02,   7.54768410e-02,\n",
       "        -2.36105498e-03,  -1.50328233e-01,   1.85575558e-01,\n",
       "         6.31979224e-01,  -1.50253625e-01,   1.87638817e-02,\n",
       "        -3.38095851e-02,  -4.46104032e-01])"
      ]
     },
     "execution_count": 5,
     "metadata": {},
     "output_type": "execute_result"
    }
   ],
   "source": [
    "########## Linear Regression Model Without Regularization ##########\n",
    "# linear regression\n",
    "from sklearn.linear_model import LinearRegression\n",
    "lm = LinearRegression()\n",
    "lm.fit(X_train, y_train)\n",
    "lm.coef_\n",
    "# What are these numbers?"
   ]
  },
  {
   "cell_type": "code",
   "execution_count": 6,
   "metadata": {
    "collapsed": false
   },
   "outputs": [
    {
     "name": "stdout",
     "output_type": "stream",
     "text": [
      "RMSE (no regularization) = 0.233813676495\n"
     ]
    }
   ],
   "source": [
    "# make predictions and evaluate\n",
    "import numpy as np\n",
    "from sklearn import metrics\n",
    "preds = lm.predict(X_test)\n",
    "print('RMSE (no regularization) =', np.sqrt(metrics.mean_squared_error(y_test, preds)))"
   ]
  },
  {
   "cell_type": "code",
   "execution_count": 15,
   "metadata": {
    "collapsed": false
   },
   "outputs": [
    {
     "name": "stdout",
     "output_type": "stream",
     "text": [
      "RMSE (Ridge reg.) = 0.164279068049\n"
     ]
    }
   ],
   "source": [
    "########## Ridge Regression Model ##########\n",
    "# ridge regression (alpha must be positive, larger means more regularization)\n",
    "from sklearn.linear_model import Ridge\n",
    "rreg = Ridge(alpha=0.1, normalize=True)\n",
    "rreg.fit(X_train, y_train)\n",
    "rreg.coef_\n",
    "preds = rreg.predict(X_test)\n",
    "print('RMSE (Ridge reg.) =', np.sqrt(metrics.mean_squared_error(y_test, preds)))\n",
    "# Is this model better? Why?"
   ]
  },
  {
   "cell_type": "code",
   "execution_count": 14,
   "metadata": {
    "collapsed": false
   },
   "outputs": [
    {
     "name": "stdout",
     "output_type": "stream",
     "text": [
      "Optimal Alpha Value:  1.0\n",
      "RMSE (Ridge CV reg.) = 0.163129782343\n"
     ]
    }
   ],
   "source": [
    "# use RidgeCV to select best alpha\n",
    "from sklearn.linear_model import RidgeCV\n",
    "alpha_range = 10.**np.arange(-2, 3)\n",
    "rregcv = RidgeCV(normalize=True, scoring='neg_mean_squared_error', alphas=alpha_range)\n",
    "rregcv.fit(X_train, y_train)\n",
    "\n",
    "# Print the optimal value of Alpha for Ridge Regression\n",
    "print('Optimal Alpha Value: ', rregcv.alpha_)\n",
    "\n",
    "# Print the RMSE for the ridge regression model\n",
    "preds = rregcv.predict(X_test)\n",
    "print ('RMSE (Ridge CV reg.) =', np.sqrt(metrics.mean_squared_error(y_test, preds)))\n",
    "# What is the range of alpha values we are searching over?"
   ]
  },
  {
   "cell_type": "code",
   "execution_count": 16,
   "metadata": {
    "collapsed": false
   },
   "outputs": [
    {
     "name": "stdout",
     "output_type": "stream",
     "text": [
      "RMSE (Lasso reg.) = 0.198165225429\n"
     ]
    }
   ],
   "source": [
    "########## Lasso Regression Model ##########\n",
    "# lasso (alpha must be positive, larger means more regularization)\n",
    "from sklearn.linear_model import Lasso\n",
    "las = Lasso(alpha=0.01, normalize=True)\n",
    "las.fit(X_train, y_train)\n",
    "las.coef_\n",
    "preds = las.predict(X_test)\n",
    "print('RMSE (Lasso reg.) =', np.sqrt(metrics.mean_squared_error(y_test, preds)))"
   ]
  },
  {
   "cell_type": "code",
   "execution_count": 18,
   "metadata": {
    "collapsed": false
   },
   "outputs": [
    {
     "name": "stdout",
     "output_type": "stream",
     "text": [
      "RMSE (Lasso reg.) = 0.160039024044\n"
     ]
    }
   ],
   "source": [
    "# try a smaller alpha\n",
    "las = Lasso(alpha=0.001, normalize=True)\n",
    "las.fit(X_train, y_train)\n",
    "las.coef_\n",
    "preds = las.predict(X_test)\n",
    "print('RMSE (Lasso reg.) =', np.sqrt(metrics.mean_squared_error(y_test, preds)))\n"
   ]
  },
  {
   "cell_type": "code",
   "execution_count": 22,
   "metadata": {
    "collapsed": false
   },
   "outputs": [
    {
     "name": "stdout",
     "output_type": "stream",
     "text": [
      "[  1.00000000e-05   1.00000000e-04   1.00000000e-03   1.00000000e-02\n",
      "   1.00000000e-01   1.00000000e+00   1.00000000e+01   1.00000000e+02\n",
      "   1.00000000e+03   1.00000000e+04]\n",
      "Optimal Alpha Value:  0.001\n",
      "RMSE (Lasso CV reg.) = 0.160039024044\n"
     ]
    },
    {
     "name": "stderr",
     "output_type": "stream",
     "text": [
      "/Users/ianhansel/anaconda3/lib/python3.6/site-packages/sklearn/linear_model/coordinate_descent.py:484: ConvergenceWarning: Objective did not converge. You might want to increase the number of iterations. Fitting data with very small alpha may cause precision problems.\n",
      "  ConvergenceWarning)\n"
     ]
    }
   ],
   "source": [
    "# use LassoCV to select best alpha (tries 100 alphas by default)\n",
    "from sklearn.linear_model import LassoCV\n",
    "alpha_range = 10.**np.arange(-5, 5)\n",
    "print(alpha_range)\n",
    "lascv = LassoCV(normalize=True, alphas=alpha_range)\n",
    "lascv.fit(X_train, y_train)\n",
    "print('Optimal Alpha Value: ',lascv.alpha_)\n",
    "lascv.coef_\n",
    "preds = lascv.predict(X_test)\n",
    "print('RMSE (Lasso CV reg.) =', np.sqrt(metrics.mean_squared_error(y_test, preds)))"
   ]
  },
  {
   "cell_type": "markdown",
   "metadata": {},
   "source": [
    "### Task 1: Carry out Elastic net regularised regression\n",
    "\n",
    "### Lookup [Elastic Net](http://scikit-learn.org/stable/modules/linear_model.html#elastic-net) and complete the following.\n",
    "\n",
    "\n",
    "\n",
    "1. What is elastic net?\n",
    "\n",
    "Ridge (L2) and Lasso (L1) regularization differ in how they cope with correlated predictors: Ridge will divide the coefficient loading equally among them whereas Lasso will place all the loading on one of them while shrinking the others towards zero. Elastic Net combines the advantages of both: it tends to either select a group of correlated predictors in which case it puts equal loading on all of them, or it completely shrinks the group.\n",
    "\n",
    "Elastic Net tends to select more predictors, distributing the loading evenly among them, whereas Lasso tends to select fewer predictors. For elastic net there is no limitation to the number of selected variables.\n",
    "\n",
    "2. How does it work?\n",
    "\n",
    "Minimises the objective function of,\n",
    "\n",
    "` 1 / (2 * n_samples) * ||y - Xw||^2_2 + alpha * l1_ratio * ||w||_1 + 0.5 * alpha * (1 - l1_ratio) * ||w||^2_2 `\n",
    "\n",
    "Which is a way of combining the penalties we saw in ridge and lasso regression.\n",
    "\n",
    "3. Run elastic net on the above dataset"
   ]
  },
  {
   "cell_type": "code",
   "execution_count": 29,
   "metadata": {
    "collapsed": false
   },
   "outputs": [
    {
     "name": "stdout",
     "output_type": "stream",
     "text": [
      "Optimal Alpha Value:  0.0257031221707   Optimal l1_ratio:  0.1\n",
      "RMSE (Elastic Net CV reg.) = 0.159971754497\n"
     ]
    }
   ],
   "source": [
    "# Setup the elastic net model\n",
    "from sklearn.linear_model import ElasticNetCV\n",
    "l1_ratio_list = [.1, .5, .7, .9, .95, .99, 1]\n",
    "enet = ElasticNetCV(l1_ratio=l1_ratio_list, eps=0.001, n_alphas=100, fit_intercept=True, normalize=False, \n",
    "                    precompute='auto', max_iter=10000, tol=0.0001, cv=None, \n",
    "                    copy_X=True, verbose=0, n_jobs=1, positive=False, random_state=None, selection='cyclic')\n",
    "\n",
    "enet.fit(X_train, y_train)\n",
    "print('Optimal Alpha Value: ',enet.alpha_, ',  Optimal l1_ratio: ', enet.l1_ratio_)\n",
    "enet.coef_\n",
    "preds = enet.predict(X_test)\n",
    "print('RMSE (Elastic Net CV reg.) =', np.sqrt(metrics.mean_squared_error(y_test, preds)))"
   ]
  },
  {
   "cell_type": "markdown",
   "metadata": {
    "collapsed": true
   },
   "source": [
    "### Task 2: Carry out Regularised Regression\n",
    "\n",
    "1. Run all three forms of reularised regression on the Boston Housing DataSet\n",
    "2. What do the coefficients mean?\n",
    "3. What would you advise someone living in Boston to try and raise the value of their home?"
   ]
  },
  {
   "cell_type": "code",
   "execution_count": 35,
   "metadata": {
    "collapsed": false
   },
   "outputs": [
    {
     "name": "stdout",
     "output_type": "stream",
     "text": [
      "Alpha Range:  [  1.00000000e-05   1.00000000e-04   1.00000000e-03   1.00000000e-02\n",
      "   1.00000000e-01   1.00000000e+00   1.00000000e+01   1.00000000e+02\n",
      "   1.00000000e+03   1.00000000e+04] \n",
      "\n",
      "Lasso model:  -3.717 * LSTAT + 2.972 * RM + -1.772 * PTRATIO + -1.564 * DIS + -0.992 * NOX + 0.664 * B + 0.597 * CHAS + -0.308 * CRIM + 0.305 * ZN + -0.0 * INDUS + -0.0 * AGE + 0.0 * RAD + -0.0 * TAX\n"
     ]
    },
    {
     "name": "stderr",
     "output_type": "stream",
     "text": [
      "/Users/ianhansel/anaconda3/lib/python3.6/site-packages/ipykernel/__main__.py:20: FutureWarning: comparison to `None` will result in an elementwise object comparison in the future.\n"
     ]
    }
   ],
   "source": [
    "# Build Lasso Model\n",
    "from sklearn.linear_model import LassoCV\n",
    "from sklearn.preprocessing import StandardScaler\n",
    "from sklearn.datasets import load_boston\n",
    "  \n",
    "boston = load_boston()\n",
    "scaler = StandardScaler()\n",
    "X = scaler.fit_transform(boston[\"data\"])\n",
    "Y = boston[\"target\"]\n",
    "names = boston[\"feature_names\"]\n",
    "\n",
    "alpha_range = 10.**np.arange(-5, 5)\n",
    "print('Alpha Range: ', alpha_range, '\\n')\n",
    "\n",
    "lasso_model = LassoCV(normalize=True, alphas=alpha_range)\n",
    "lasso_model.fit(X, Y)\n",
    "\n",
    "#A helper method for pretty-printing linear models\n",
    "def pretty_print_linear(coefs, names = None, sort = False):\n",
    "    if names == None:\n",
    "        names = [\"X%s\" % x for x in range(len(coefs))]\n",
    "    lst = zip(coefs, names)\n",
    "    if sort:\n",
    "        lst = sorted(lst,  key = lambda x:-np.abs(x[0]))\n",
    "    return \" + \".join(\"%s * %s\" % (round(coef, 3), name)\n",
    "                                   for coef, name in lst)\n",
    "  \n",
    "print(\"Lasso model: \", pretty_print_linear(lasso_model.coef_, names, sort = True))"
   ]
  },
  {
   "cell_type": "code",
   "execution_count": 36,
   "metadata": {
    "collapsed": false
   },
   "outputs": [
    {
     "name": "stdout",
     "output_type": "stream",
     "text": [
      "Ridge model:  -0.067 * CHAS + 0.057 * INDUS + -0.02 * LSTAT + 0.015 * AGE + -0.008 * DIS + 0.008 * TAX + 0.008 * NOX + 0.004 * B + 0.004 * RM + 0.004 * ZN + -0.001 * CRIM + -0.001 * PTRATIO + -0.001 * RAD\n"
     ]
    },
    {
     "name": "stderr",
     "output_type": "stream",
     "text": [
      "/Users/ianhansel/anaconda3/lib/python3.6/site-packages/ipykernel/__main__.py:20: FutureWarning: comparison to `None` will result in an elementwise object comparison in the future.\n"
     ]
    }
   ],
   "source": [
    "# Build Ridge regression model\n",
    "from sklearn.linear_model import RidgeCV\n",
    "\n",
    "alpha_range = 10.**np.arange(-2, 3)\n",
    "ridge_model = RidgeCV(normalize=True, scoring='neg_mean_squared_error', alphas=alpha_range)\n",
    "ridge_model.fit(X_train, y_train)\n",
    "\n",
    "print(\"Ridge model: \", pretty_print_linear(ridge_model.coef_, names, sort = True))"
   ]
  },
  {
   "cell_type": "code",
   "execution_count": 37,
   "metadata": {
    "collapsed": false
   },
   "outputs": [
    {
     "name": "stdout",
     "output_type": "stream",
     "text": [
      "Elastic Net model:  -0.116 * CHAS + 0.11 * INDUS + -0.006 * LSTAT + 0.0 * CRIM + -0.0 * ZN + 0.0 * NOX + 0.0 * RM + 0.0 * AGE + 0.0 * DIS + 0.0 * RAD + 0.0 * TAX + 0.0 * PTRATIO + 0.0 * B\n"
     ]
    },
    {
     "name": "stderr",
     "output_type": "stream",
     "text": [
      "/Users/ianhansel/anaconda3/lib/python3.6/site-packages/ipykernel/__main__.py:20: FutureWarning: comparison to `None` will result in an elementwise object comparison in the future.\n"
     ]
    }
   ],
   "source": [
    "# Build Elastic Net Model\n",
    "# Setup the elastic net model\n",
    "from sklearn.linear_model import ElasticNetCV\n",
    "l1_ratio_list = [.1, .5, .7, .9, .95, .99, 1]\n",
    "enet = ElasticNetCV(l1_ratio=l1_ratio_list, eps=0.001, n_alphas=100, fit_intercept=True, normalize=False, \n",
    "                    precompute='auto', max_iter=10000, tol=0.0001, cv=None, \n",
    "                    copy_X=True, verbose=0, n_jobs=1, positive=False, random_state=None, selection='cyclic')\n",
    "\n",
    "enet.fit(X_train, y_train)\n",
    "\n",
    "print(\"Elastic Net model: \", pretty_print_linear(enet.coef_, names, sort = True))"
   ]
  },
  {
   "cell_type": "code",
   "execution_count": 38,
   "metadata": {
    "collapsed": false
   },
   "outputs": [
    {
     "name": "stdout",
     "output_type": "stream",
     "text": [
      "Boston House Prices dataset\n",
      "===========================\n",
      "\n",
      "Notes\n",
      "------\n",
      "Data Set Characteristics:  \n",
      "\n",
      "    :Number of Instances: 506 \n",
      "\n",
      "    :Number of Attributes: 13 numeric/categorical predictive\n",
      "    \n",
      "    :Median Value (attribute 14) is usually the target\n",
      "\n",
      "    :Attribute Information (in order):\n",
      "        - CRIM     per capita crime rate by town\n",
      "        - ZN       proportion of residential land zoned for lots over 25,000 sq.ft.\n",
      "        - INDUS    proportion of non-retail business acres per town\n",
      "        - CHAS     Charles River dummy variable (= 1 if tract bounds river; 0 otherwise)\n",
      "        - NOX      nitric oxides concentration (parts per 10 million)\n",
      "        - RM       average number of rooms per dwelling\n",
      "        - AGE      proportion of owner-occupied units built prior to 1940\n",
      "        - DIS      weighted distances to five Boston employment centres\n",
      "        - RAD      index of accessibility to radial highways\n",
      "        - TAX      full-value property-tax rate per $10,000\n",
      "        - PTRATIO  pupil-teacher ratio by town\n",
      "        - B        1000(Bk - 0.63)^2 where Bk is the proportion of blacks by town\n",
      "        - LSTAT    % lower status of the population\n",
      "        - MEDV     Median value of owner-occupied homes in $1000's\n",
      "\n",
      "    :Missing Attribute Values: None\n",
      "\n",
      "    :Creator: Harrison, D. and Rubinfeld, D.L.\n",
      "\n",
      "This is a copy of UCI ML housing dataset.\n",
      "http://archive.ics.uci.edu/ml/datasets/Housing\n",
      "\n",
      "\n",
      "This dataset was taken from the StatLib library which is maintained at Carnegie Mellon University.\n",
      "\n",
      "The Boston house-price data of Harrison, D. and Rubinfeld, D.L. 'Hedonic\n",
      "prices and the demand for clean air', J. Environ. Economics & Management,\n",
      "vol.5, 81-102, 1978.   Used in Belsley, Kuh & Welsch, 'Regression diagnostics\n",
      "...', Wiley, 1980.   N.B. Various transformations are used in the table on\n",
      "pages 244-261 of the latter.\n",
      "\n",
      "The Boston house-price data has been used in many machine learning papers that address regression\n",
      "problems.   \n",
      "     \n",
      "**References**\n",
      "\n",
      "   - Belsley, Kuh & Welsch, 'Regression diagnostics: Identifying Influential Data and Sources of Collinearity', Wiley, 1980. 244-261.\n",
      "   - Quinlan,R. (1993). Combining Instance-Based and Model-Based Learning. In Proceedings on the Tenth International Conference of Machine Learning, 236-243, University of Massachusetts, Amherst. Morgan Kaufmann.\n",
      "   - many more! (see http://archive.ics.uci.edu/ml/datasets/Housing)\n",
      "\n"
     ]
    }
   ],
   "source": [
    "# Interpret Results\n",
    "print(boston.DESCR)"
   ]
  },
  {
   "cell_type": "markdown",
   "metadata": {},
   "source": [
    "When looking at the outputs of the elastic net model it becomes evident that some of the most important features of the model (CHAS, INDUS and LSTAT) are things a home owner can do very little about. It's all about location, location, location. Don't purchase near the Charles River, try to increase the proportion of non-retail business acres per town (which is surprising) and decrease the % lower status of the population (try help people out in your neighbourhood maybe?)."
   ]
  },
  {
   "cell_type": "code",
   "execution_count": null,
   "metadata": {
    "collapsed": true
   },
   "outputs": [],
   "source": []
  }
 ],
 "metadata": {
  "kernelspec": {
   "display_name": "Python 3",
   "language": "python",
   "name": "python3"
  },
  "language_info": {
   "codemirror_mode": {
    "name": "ipython",
    "version": 3
   },
   "file_extension": ".py",
   "mimetype": "text/x-python",
   "name": "python",
   "nbconvert_exporter": "python",
   "pygments_lexer": "ipython3",
   "version": "3.6.0"
  }
 },
 "nbformat": 4,
 "nbformat_minor": 0
}
