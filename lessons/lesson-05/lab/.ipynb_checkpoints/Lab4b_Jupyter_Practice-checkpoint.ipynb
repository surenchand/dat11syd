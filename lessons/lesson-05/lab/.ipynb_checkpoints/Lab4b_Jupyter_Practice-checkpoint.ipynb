{
 "cells": [
  {
   "cell_type": "markdown",
   "metadata": {},
   "source": [
    "# Markdown\n",
    "\n",
    "In Jupyter notebooks (and on github) we can use Markdown syntax to make nice looking text, include links and images, render code and equations, and organize our presentations.\n",
    "\n",
    "When you make a new cell in jupyter by either:\n",
    "* Pressing the hotkey combo \"shift-enter\" to execute a tab\n",
    "* Selecting insert cell from the insert menu\n",
    "\n",
    "You'll notice that the default cell content-type is \"code\". To make a cell into a markdown cell, either:\n",
    "* Select \"Markdown\" from the drop-down menu above, or\n",
    "* Use the hotkey \"Ctrl-m\" and then press \"m\""
   ]
  },
  {
   "cell_type": "markdown",
   "metadata": {
    "collapsed": true
   },
   "source": [
    "# First exercise\n",
    "* Make this cell into a markdown cell\n",
    "* Run the cell using shift-enter"
   ]
  },
  {
   "cell_type": "markdown",
   "metadata": {},
   "source": [
    "## Hotkeys\n",
    "\n",
    "There are a ton of useful hotkeys in Jupyter. Pressing \"shift-m\" puts you into **command mode**. Pushing another key then usually does something useful. For example,\n",
    "* `shift-m` then `a` inserts a new cell above this one\n",
    "* `shift-m` then `b` inserts a new cell below\n",
    "\n",
    "You can find a list of hotkeys [here](https://sowingseasons.com/blog/reference/2016/01/jupyter-keyboard-shortcuts/23298516).\n",
    "\n",
    "Exercise: Practice by making at least one cell above this one and one cell below."
   ]
  },
  {
   "cell_type": "markdown",
   "metadata": {},
   "source": [
    "## Rendering Code and Equations in Markdown\n",
    "\n",
    "Enclosing text in backticks will render the text as code. For example, `y = a * x + b`\n",
    "renders code inline, and three backticks renders code as a block:\n",
    "```\n",
    "def my_function(x):\n",
    "    return x * x\n",
    "```\n",
    "\n",
    "If you include the language, Jupyter will color the code nicely:\n",
    "\n",
    "```python\n",
    "def my_function(x):\n",
    "    return x * x\n",
    "```\n",
    "\n",
    "If you happen to know about LaTeX, you can also render math equations using two dollar signs `$$`\n",
    "like so:\n",
    "\n",
    "$$ y = a x + b$$\n",
    "\n",
    "If the cell already rendered the equation, double-click somewhere in the cell to see the syntax."
   ]
  },
  {
   "cell_type": "markdown",
   "metadata": {},
   "source": [
    "## Making Links\n",
    "\n",
    "In Markdown we can link to other sites like so::\n",
    "`[link-name](link-URL)`, for example:\n",
    "[Google](www.google.com). Double-click on the cell to see the synatax.\n",
    "\n",
    "Exercise:\n",
    "* Insert a new cell below this one\n",
    "* Make a link to General Assembly's webpage\n",
    "* Make a link to our github repository"
   ]
  },
  {
   "cell_type": "markdown",
   "metadata": {},
   "source": [
    "## Embedding Images\n",
    "\n",
    "We can also embed images. This is a famous visualization of Napolean's failed invasion of Russia.\n",
    "\n",
    "![Napolean's Invasion](https://upload.wikimedia.org/wikipedia/commons/2/29/Minard.png)\n",
    "\n",
    "In a new cell, insert an image of your favorite sports team's logo, your favorite animal, or "
   ]
  },
  {
   "cell_type": "markdown",
   "metadata": {},
   "source": [
    "## More Markdown\n",
    "\n",
    "As data scientists we're often expected to read documentation and apply \n",
    "\n",
    "Here's a good list of [markdown commands](https://github.com/adam-p/markdown-here/wiki/Markdown-Cheatsheet). Take a look and then complete the following exercises.\n",
    "* Make three different level headers\n",
    "* Make an ordered list of the data science workflow (seven items!)\n",
    "* Embed the data science workflow image in a new cell (you can find the image on our github page)\n",
    "* Use markdown to make one word in the following sentence bold, one italic, and one strike-through:\n",
    "\n",
    "\n",
    "> The quick brown fox jumps over the lazy dog."
   ]
  },
  {
   "cell_type": "markdown",
   "metadata": {
    "collapsed": true
   },
   "source": [
    "## My awesome list\n",
    "\n",
    "1. First item\n",
    "2. Second item\n",
    "    * sub item\n",
    "3. \n",
    "    \n",
    "\n",
    "$\\alpha$\n",
    "\n",
    "$$ \\int_E {f(e) \\, dE}$$\n"
   ]
  },
  {
   "cell_type": "markdown",
   "metadata": {
    "collapsed": true
   },
   "source": [
    "The *quick* brown **fox** jumps over the ~~lazy~~ dog."
   ]
  },
  {
   "cell_type": "markdown",
   "metadata": {},
   "source": [
    "# Python Practice\n",
    "\n",
    "Now that we've learned a bit about markdown, try to get into the habit of using markdown to explain and break up your code. This is a good habit because it:\n",
    "* Keeps your code organized\n",
    "* Makes it easier to follow your logic when you present or share\n",
    "* Makes it easier for you to recall your intentions later\n",
    "\n",
    "Now let's switch gears and practice using Python."
   ]
  },
  {
   "cell_type": "markdown",
   "metadata": {},
   "source": [
    "Anything you can do in python you can do in a Jupyter notebook. That includes importing libraries, defining functions, and making plots. Work through the following exercises, and feel free to search for help."
   ]
  },
  {
   "cell_type": "markdown",
   "metadata": {},
   "source": [
    "### Exercise 1\n",
    "Print your name using the `print` command"
   ]
  },
  {
   "cell_type": "code",
   "execution_count": null,
   "metadata": {
    "collapsed": true
   },
   "outputs": [],
   "source": []
  },
  {
   "cell_type": "markdown",
   "metadata": {},
   "source": [
    "### Exercise 2\n",
    "Create a list of the first 10 integers using `range`"
   ]
  },
  {
   "cell_type": "code",
   "execution_count": null,
   "metadata": {},
   "outputs": [],
   "source": []
  },
  {
   "cell_type": "markdown",
   "metadata": {},
   "source": [
    "### Exercise 3\n",
    "Write a function that takes one variable `n` and sums the squares of the positive numbers less than or equal to `n`. There are a couple of ways to do this: list comprehensions, a loop, and probably others."
   ]
  },
  {
   "cell_type": "code",
   "execution_count": null,
   "metadata": {
    "collapsed": true
   },
   "outputs": [],
   "source": [
    "def sum_squares(n):    \n",
    "    s = 0\n",
    "    # fill in this part for the sum of squares `s` less than or equal to n\n",
    "\n",
    "    \n",
    "    return s"
   ]
  },
  {
   "cell_type": "markdown",
   "metadata": {},
   "source": [
    "### Exercise 4\n",
    "\n",
    "Use your function to find the sum of the first 5 squares.\n"
   ]
  },
  {
   "cell_type": "code",
   "execution_count": null,
   "metadata": {},
   "outputs": [],
   "source": [
    "sum_squares(5)"
   ]
  },
  {
   "cell_type": "markdown",
   "metadata": {},
   "source": [
    "### Exercise 5\n",
    "\n",
    "It turns out that there is a nice formula for the sum of squares:\n",
    "    \n",
    "$$\\frac{n (n+1) (2n+1)}{6}$$\n",
    "\n",
    "Write a new function `sum_squares2` that uses this formula. If you used this method above for `sum_squares`, write the function using a loop instead."
   ]
  },
  {
   "cell_type": "code",
   "execution_count": null,
   "metadata": {
    "collapsed": true
   },
   "outputs": [],
   "source": [
    "def sum_squares2(n):\n",
    "    # This function computes the sum of the squares\n",
    "    # less than and including n \n",
    "    \n",
    "    \n",
    "    return s"
   ]
  },
  {
   "cell_type": "code",
   "execution_count": null,
   "metadata": {},
   "outputs": [],
   "source": [
    "sum_squares2(5)"
   ]
  },
  {
   "cell_type": "markdown",
   "metadata": {},
   "source": [
    "### Exercise 6\n",
    "\n",
    "Compute the sum of the first 20 squares. Do your functions agree?"
   ]
  },
  {
   "cell_type": "code",
   "execution_count": null,
   "metadata": {
    "collapsed": true
   },
   "outputs": [],
   "source": []
  },
  {
   "cell_type": "markdown",
   "metadata": {},
   "source": []
  },
  {
   "cell_type": "markdown",
   "metadata": {},
   "source": [
    "# Practical Exercises\n",
    "\n",
    "Hopefully so far so good! Let's learn about some useful libraries now. \n",
    "\n",
    "## Downloading data\n",
    "\n",
    "We can even download data inside a notebook. This is really useful when you want to scrape websites for data, and for a lot of other purposes like connecting to APIs. Let's try this out using the `requests` package. If for some reason this isn't installed, you can install it with conda using the graphical interface or from the commandline:\n",
    "```bash\n",
    "conda install requests\n",
    "```\n",
    "\n",
    "We'll download the famous [Boston Housing dataset](https://archive.ics.uci.edu/ml/datasets/Housing) from the UCI machine learning repository. "
   ]
  },
  {
   "cell_type": "code",
   "execution_count": null,
   "metadata": {},
   "outputs": [],
   "source": [
    "# Import the library\n",
    "import requests\n",
    "\n",
    "url = \"https://archive.ics.uci.edu/ml/machine-learning-databases/housing/housing.data\"\n",
    "# Download the data\n",
    "r = requests.get(url)\n",
    "# Save it to disk\n",
    "with open(\"housing.csv\", \"wb\") as data:\n",
    "    data.write(r.content)"
   ]
  },
  {
   "cell_type": "markdown",
   "metadata": {},
   "source": [
    "**Exercise**: Try downloading another dataset from the UCI repository (any one you like is fine)."
   ]
  },
  {
   "cell_type": "code",
   "execution_count": null,
   "metadata": {},
   "outputs": [],
   "source": [
    "dir(r)\n",
    "print(r.status_code)"
   ]
  },
  {
   "cell_type": "markdown",
   "metadata": {},
   "source": [
    "Now let's open the file with `pandas`. We'll spend a lot of time getting comfortable with `pandas` next week. For now let's just load the data into a data frame.\n",
    "\n",
    "The data doesn't include the column names, so we'll have to add those manually. (Data science isn't always glamorous!) You can find an explanation of the data at the link above."
   ]
  },
  {
   "cell_type": "code",
   "execution_count": null,
   "metadata": {},
   "outputs": [],
   "source": [
    "import pandas as pd\n",
    "names = [\"CRIM\", \"ZN\", \"INDUS\", \"CHAS\", \"NOX\", \"RM\", \"AGE\", \"DIS\", \"RAD\", \"TAX\",\n",
    "           \"PTRATIO\", \"B\", \"LSTAT\", \"MEDV\"]\n",
    "data_frame = pd.read_csv(\"housing.csv\", names=names, delim_whitespace=True)"
   ]
  },
  {
   "cell_type": "markdown",
   "metadata": {},
   "source": [
    "### Take a look at the data"
   ]
  },
  {
   "cell_type": "code",
   "execution_count": null,
   "metadata": {},
   "outputs": [],
   "source": [
    "data_frame.head()"
   ]
  },
  {
   "cell_type": "markdown",
   "metadata": {},
   "source": [
    "## Next Steps\n",
    "\n",
    "If you've made it this far you are doing great! Get a jump start on the next class by poking around with pandas:\n",
    "* Compute the mean and standard deviation of some of the columns. You can get the data like so: `data_frame[\"CRIM\"]`\n",
    "* Try to make a histogram of some of the columns.\n",
    "* Compute the correlation matrix with `data_frame.corr()`. Notice anything interesting?\n",
    "* Try to make a scatter plot of some of the strongly correlated columns.\n",
    "\n",
    "Take a look at the `pandas` [visualization documentation](http://pandas.pydata.org/pandas-docs/stable/visualization.html) for some ideas on how to make plots.\n",
    "\n",
    "Try to sketch out a plan of how to use the data science workflow on this dataset. Start by formulating a problem, such as predicting property tax (TAX) from the other variables. What steps have you already completed in the DSW?"
   ]
  },
  {
   "cell_type": "code",
   "execution_count": null,
   "metadata": {},
   "outputs": [],
   "source": [
    "import numpy as np\n",
    "\n",
    "# sum(data_frame[\"CRIM\"]) / len(data_frame[\"CRIM\"])\n",
    "np.mean(data_frame[\"CRIM\"])"
   ]
  },
  {
   "cell_type": "code",
   "execution_count": null,
   "metadata": {
    "collapsed": true
   },
   "outputs": [],
   "source": [
    "my_file = open(\"housing.csv\")\n",
    "\n"
   ]
  },
  {
   "cell_type": "code",
   "execution_count": null,
   "metadata": {},
   "outputs": [],
   "source": [
    "with open(\"housing.csv\") as my_file:\n",
    "    print my_file.readlines()[0]\n",
    "my_file"
   ]
  },
  {
   "cell_type": "code",
   "execution_count": null,
   "metadata": {
    "collapsed": true
   },
   "outputs": [],
   "source": [
    "squares = [x*2 for x in range(10)]"
   ]
  },
  {
   "cell_type": "code",
   "execution_count": null,
   "metadata": {},
   "outputs": [],
   "source": [
    "squares[3]"
   ]
  },
  {
   "cell_type": "code",
   "execution_count": null,
   "metadata": {},
   "outputs": [],
   "source": [
    "data_frame.head()"
   ]
  },
  {
   "cell_type": "code",
   "execution_count": null,
   "metadata": {},
   "outputs": [],
   "source": [
    "data_frame[\"CRIM\"]"
   ]
  },
  {
   "cell_type": "code",
   "execution_count": null,
   "metadata": {
    "collapsed": true
   },
   "outputs": [],
   "source": [
    "my_dict = {\"marc\": 34, \"cecilia\": 30}"
   ]
  },
  {
   "cell_type": "code",
   "execution_count": null,
   "metadata": {},
   "outputs": [],
   "source": [
    "# This will make an error, because there is no key 0\n",
    "my_dict[0]"
   ]
  },
  {
   "cell_type": "code",
   "execution_count": null,
   "metadata": {},
   "outputs": [],
   "source": [
    "my_dict[\"marc\"]"
   ]
  },
  {
   "cell_type": "code",
   "execution_count": 1,
   "metadata": {},
   "outputs": [
    {
     "data": {
      "text/plain": [
       "<matplotlib.collections.PathCollection at 0x10afb7c18>"
      ]
     },
     "execution_count": 1,
     "metadata": {},
     "output_type": "execute_result"
    }
   ],
   "source": [
    "import matplotlib.pyplot as plt\n",
    "\n",
    "plt.scatter(range(0, 10), [x*x for x in range(0, 10)])"
   ]
  },
  {
   "cell_type": "code",
   "execution_count": 2,
   "metadata": {},
   "outputs": [
    {
     "data": {
      "image/png": "[encoded data removed]",
      "text/plain": [
       "<matplotlib.figure.Figure at 0x10b3b3a58>"
      ]
     },
     "metadata": {},
     "output_type": "display_data"
    }
   ],
   "source": [
    "plt.show()"
   ]
  },
  {
   "cell_type": "code",
   "execution_count": null,
   "metadata": {
    "collapsed": true
   },
   "outputs": [],
   "source": []
  }
 ],
 "metadata": {
  "kernelspec": {
   "display_name": "Python 3",
   "language": "python",
   "name": "python3"
  },
  "language_info": {
   "codemirror_mode": {
    "name": "ipython",
    "version": 3
   },
   "file_extension": ".py",
   "mimetype": "text/x-python",
   "name": "python",
   "nbconvert_exporter": "python",
   "pygments_lexer": "ipython3",
   "version": "3.5.1"
  }
 },
 "nbformat": 4,
 "nbformat_minor": 1
}
