{
 "cells": [
  {
   "cell_type": "markdown",
   "metadata": {},
   "source": [
    "# Data Science Part Time Course\n",
    "\n",
    "## Lesson 1 - Lab-01: Introduction to MySQL\n",
    "\n"
   ]
  },
  {
   "cell_type": "markdown",
   "metadata": {},
   "source": [
    "## 1. Accessing the MySQL database\n",
    "\n",
    "Connect via the link: [http://paulgoodall.tech/mywebsql/]\n",
    "\n",
    "Use the credentials:\n",
    "* username: dat11syd\n",
    "* password: dat11syd"
   ]
  },
  {
   "cell_type": "markdown",
   "metadata": {},
   "source": [
    "## 2. List the available databases\n",
    "\n",
    "Try the command:\n",
    "\n",
    "```sql\n",
    "show databases;\n",
    "```"
   ]
  },
  {
   "cell_type": "markdown",
   "metadata": {},
   "source": [
    "## 3. Showing the tables in a database\n",
    "\n",
    "Try the command:\n",
    "\n",
    "```sql\n",
    "show tables in dat11syd_ex1;\n",
    "```"
   ]
  },
  {
   "cell_type": "markdown",
   "metadata": {},
   "source": [
    "## 4. Learning about a particular table:\n",
    "\n",
    "Try the command:\n",
    "\n",
    "```sql\n",
    "describe dat11syd_ex1.people_list;\n",
    "```"
   ]
  },
  {
   "cell_type": "markdown",
   "metadata": {},
   "source": [
    "## 5. Display the first 5 rows from 'all columns' (*) in the table:\n",
    "\n",
    "Try the command:\n",
    "\n",
    "```sql\n",
    "select * from dat11syd_ex1.people_list limit 5;\n",
    "```"
   ]
  },
  {
   "cell_type": "code",
   "execution_count": 1,
   "metadata": {},
   "outputs": [],
   "source": [
    "#  Can you edit the above to only show the first column?"
   ]
  },
  {
   "cell_type": "markdown",
   "metadata": {},
   "source": [
    "## 6. Simple query - counting the number of rows in the dataset:\n",
    "\n",
    "Try the command:\n",
    "\n",
    "```sql\n",
    "select count(*) as my_count from dat11syd_ex1.people_list;\n",
    "```"
   ]
  },
  {
   "cell_type": "code",
   "execution_count": null,
   "metadata": {},
   "outputs": [],
   "source": [
    "# Above we have called the answer \"my_count\" but you can call it whatever you like."
   ]
  },
  {
   "cell_type": "markdown",
   "metadata": {},
   "source": [
    "## 7. Aggregating table values:\n",
    "\n",
    "Try the command:\n",
    "\n",
    "```sql\n",
    "select name1, count(*) as my_count\n",
    "from dat11syd_ex1.people_list\n",
    "group by name1\n",
    "order by my_count desc;\n",
    "```"
   ]
  },
  {
   "cell_type": "code",
   "execution_count": null,
   "metadata": {},
   "outputs": [],
   "source": [
    "# The above is grouping by the first name - you should see that the first name isn't unique."
   ]
  },
  {
   "cell_type": "markdown",
   "metadata": {},
   "source": [
    "## 8. Joining the values from different tables based upon an ID in common:\n",
    "\n",
    "Try the command:\n",
    "\n",
    "```sql\n",
    "select T1.*, T2.age\n",
    "from dat11syd_ex1.people_list as T1\n",
    "  left join dat11syd_ex1.people_ages as T2\n",
    "  on T1.person_id = T2.person_id\n",
    "```"
   ]
  },
  {
   "cell_type": "code",
   "execution_count": 2,
   "metadata": {},
   "outputs": [],
   "source": [
    "# The above joins on the ages from table 2 onto the data from table 1 by looking it up by the ID column 'person_id'\n",
    "#\n",
    "# Q1 - Why are there NULL values in the dataset?\n",
    "# Q2 - What happens if you try other join types:  right join, outer join, inner join\n",
    "# Q3 - What happens if you left join by \"name1\" instead of \"person_id\"?"
   ]
  },
  {
   "cell_type": "markdown",
   "metadata": {},
   "source": [
    "## 9. Creating a new table:\n",
    "\n",
    "Try the command:\n",
    "\n",
    "** EDIT THE NAME TO YOURS! **\n",
    "\n",
    "```sql\n",
    "create table dat11syd_ex1.people_joined_paul as\n",
    "select T1.*, T2.age\n",
    "from dat11syd_ex1.people_list as T1\n",
    "  left join dat11syd_ex1.people_ages as T2\n",
    "  on T1.person_id = T2.person_id;\n",
    "```"
   ]
  },
  {
   "cell_type": "code",
   "execution_count": null,
   "metadata": {},
   "outputs": [],
   "source": [
    "## Does the new table look as you expected?"
   ]
  },
  {
   "cell_type": "markdown",
   "metadata": {},
   "source": [
    "## 10. Joining a large dataset:\n",
    "\n",
    "a) - look at the tables in the **dat11syd_ex2** database\n",
    "\n",
    "b) - use count(*) to check how many rows are in each table, and \"limit 5\" to look at the first 5 rows of each\n",
    "\n",
    "c) - use what you've learned to create a new table called: **dat11syd_ex2.YOUR_NAME** that has all the possible columns associated with each property sale.  Ask **James** to review when done."
   ]
  },
  {
   "cell_type": "code",
   "execution_count": null,
   "metadata": {},
   "outputs": [],
   "source": []
  }
 ],
 "metadata": {
  "kernelspec": {
   "display_name": "Python 3",
   "language": "python",
   "name": "python3"
  },
  "language_info": {
   "codemirror_mode": {
    "name": "ipython",
    "version": 3
   },
   "file_extension": ".py",
   "mimetype": "text/x-python",
   "name": "python",
   "nbconvert_exporter": "python",
   "pygments_lexer": "ipython3",
   "version": "3.5.2"
  }
 },
 "nbformat": 4,
 "nbformat_minor": 1
}
