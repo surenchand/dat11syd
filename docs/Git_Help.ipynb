{
 "cells": [
  {
   "cell_type": "markdown",
   "metadata": {},
   "source": [
    "# ## General Assembly DAT11 Sydney - 26th Feb 2018 ##\n",
    "\n",
    "## Help with the Git commands\n"
   ]
  },
  {
   "cell_type": "code",
   "execution_count": 1,
   "metadata": {},
   "outputs": [],
   "source": [
    "# Getting started:\n",
    "\n",
    "# In order to use this script you will first need to have done this from the command-line (terminal) and\n",
    "# have told git to remember your login credentials as follows:\n",
    "\n",
    "# For Linux::\n",
    "# git config --global credential.helper cache\n",
    "\n",
    "# Using \"Git for Windows\"::\n",
    "# git config --global credential.helper wincred\n",
    "\n",
    "# For Mac::\n",
    "# git config --global credential.helper osxkeychain"
   ]
  },
  {
   "cell_type": "markdown",
   "metadata": {},
   "source": [
    "### At the START of every lesson:\n",
    "At the START of the class, you’ll need to sync the latest materials from the COURSE repo.\n",
    "\n",
    "REMEMBER - in Jupyter Notebooks, you can execute terminal commands by starting your line with the ! symbol."
   ]
  },
  {
   "cell_type": "code",
   "execution_count": null,
   "metadata": {},
   "outputs": [],
   "source": [
    "# (1) IMPORTANT! - change the directory to your dat11syd directory:\n",
    "! cd ~/workspace/dat11syd"
   ]
  },
  {
   "cell_type": "code",
   "execution_count": null,
   "metadata": {},
   "outputs": [],
   "source": [
    "# (2) Make sure to select the “master” branch of your repo:\n",
    "! git checkout master"
   ]
  },
  {
   "cell_type": "code",
   "execution_count": null,
   "metadata": {},
   "outputs": [],
   "source": [
    "# (3) Fetch the latest changes from the UPSTREAM repo (i.e the course repo)\n",
    "! git fetch upstream"
   ]
  },
  {
   "cell_type": "code",
   "execution_count": null,
   "metadata": {},
   "outputs": [],
   "source": [
    "# (Interim Step)\n",
    "#! git add -A\n",
    "#! git commit -m \"committing before merging\""
   ]
  },
  {
   "cell_type": "code",
   "execution_count": null,
   "metadata": {},
   "outputs": [],
   "source": [
    "# (4) Merge the changes from the upstream repo to your master branch:\n",
    "\n",
    "# Note - if you get errors like:\n",
    "# \"error: Your local changes to the following files would be overwritten by merge\"\n",
    "# Then uncomment the interim step above and run that first.\n",
    "\n",
    "! git merge upstream/master"
   ]
  },
  {
   "cell_type": "markdown",
   "metadata": {},
   "source": [
    "### DURING every lesson:\n",
    "\n",
    "(5) Before editing, either copy files to your “students/” folder, or rename them"
   ]
  },
  {
   "cell_type": "markdown",
   "metadata": {},
   "source": [
    "### At the END of every lesson:"
   ]
  },
  {
   "cell_type": "code",
   "execution_count": null,
   "metadata": {},
   "outputs": [],
   "source": [
    "# (6) Make sure you are in the dat11syd directory:\n",
    "! cd ~/workspace/dat11syd"
   ]
  },
  {
   "cell_type": "code",
   "execution_count": null,
   "metadata": {},
   "outputs": [],
   "source": [
    "# (7) Add any files that you’ve updated to your git registry:\n",
    "! git add -A"
   ]
  },
  {
   "cell_type": "code",
   "execution_count": null,
   "metadata": {},
   "outputs": [],
   "source": [
    "# (8) Commit the changes with a sensible comment:\n",
    "! git commit -m \"my updates for lesson 7\""
   ]
  },
  {
   "cell_type": "code",
   "execution_count": 2,
   "metadata": {},
   "outputs": [
    {
     "name": "stdout",
     "output_type": "stream",
     "text": [
      "fatal: Not a git repository (or any parent up to mount point /Volumes/Oblivion)\r\n",
      "Stopping at filesystem boundary (GIT_DISCOVERY_ACROSS_FILESYSTEM not set).\r\n"
     ]
    }
   ],
   "source": [
    "# (9) Push your changes to your PERSONAL repo:\n",
    "# NOTE - you may have to do this from the command-line the first time to get it to save your login credentials forever.\n",
    "! git push origin master"
   ]
  },
  {
   "cell_type": "markdown",
   "metadata": {},
   "source": [
    "### DONE! :)"
   ]
  }
 ],
 "metadata": {
  "kernelspec": {
   "display_name": "Python 3",
   "language": "python",
   "name": "python3"
  },
  "language_info": {
   "codemirror_mode": {
    "name": "ipython",
    "version": 3
   },
   "file_extension": ".py",
   "mimetype": "text/x-python",
   "name": "python",
   "nbconvert_exporter": "python",
   "pygments_lexer": "ipython3",
   "version": "3.5.1"
  }
 },
 "nbformat": 4,
 "nbformat_minor": 1
}
