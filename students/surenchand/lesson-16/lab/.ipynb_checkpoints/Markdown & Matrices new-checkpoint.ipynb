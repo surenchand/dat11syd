{
 "cells": [
  {
   "cell_type": "markdown",
   "metadata": {},
   "source": [
    "<script type=\"text/x-mathjax-config\">\n",
    "  MathJax.Hub.Config({\n",
    "    TeX: {\n",
    "      extensions: [\"color.js\"]\n",
    "    }\n",
    "  });"
   ]
  },
  {
   "cell_type": "markdown",
   "metadata": {},
   "source": [
    "# Matrices Example (written using Markdown)"
   ]
  },
  {
   "cell_type": "markdown",
   "metadata": {},
   "source": [
    "For a refresher about how to use Markdown with Jupyter notebooks, look here: [Markdown Guide Pages](http://jupyter-notebook.readthedocs.io/en/stable/examples/Notebook/Working%20With%20Markdown%20Cells.html)\n",
    "\n",
    "Remember - you can double-click on any cell to see the underlying markdown, and then shift-return again to typeset it again."
   ]
  },
  {
   "cell_type": "markdown",
   "metadata": {},
   "source": [
    "The general form of an ${\\bf m \\times n}$ matrix (${\\bf m}$-rows and ${\\bf n}$-columns):\n",
    "\n",
    "\\begin{equation*}\n",
    "\\mathbf{A} =  \\begin{vmatrix}\n",
    "a_{11} & a_{12} & a_{13} & \\ldots & a_{1n}\\\\\n",
    "a_{21} & a_{22} & a_{23} & \\ldots & a_{2n}\\\\\n",
    "a_{31} & a_{32} & a_{33} & \\ldots & a_{3n}\\\\\n",
    "\\vdots & \\vdots & \\vdots & \\ddots & \\vdots\\\\\n",
    "a_{m1} & a_{m2} & a_{m3} & \\ldots & a_{mn}\\\\\n",
    "\\end{vmatrix}\n",
    "\\end{equation*}"
   ]
  },
  {
   "cell_type": "markdown",
   "metadata": {},
   "source": [
    "Here is an example of how the ${\\bf DOT~PRODUCT}$ works:\n",
    "$\\require{color}$\n",
    "\n",
    "\\begin{equation*}\n",
    "\\mathbf{X} =  \\begin{vmatrix}\n",
    "\\textcolor{red}{\\bf 1} & \\textcolor{blue}{\\bf 2} \\\\\n",
    "{\\bf 3} & \\textcolor{green}{\\bf 4} \\\\\n",
    "\\end{vmatrix}\n",
    "\\end{equation*}\n",
    "\n",
    "\\begin{equation*}\n",
    "\\mathbf{Y} =  \\begin{vmatrix}\n",
    "\\textcolor{magenta}{\\bf 5} & \\textcolor{orange}{\\bf 6} \\\\\n",
    "\\textcolor{cyan}{\\bf 7} & \\textcolor{purple}{\\bf 8} \\\\\n",
    "\\end{vmatrix}\n",
    "\\end{equation*}\n",
    "\n",
    "\\begin{equation*}\n",
    "\\mathbf{X} \\,{\\large\\bf\\cdot}\\, \\mathbf{Y} =\n",
    "\\begin{vmatrix}\n",
    "\\textcolor{red}{\\bf 1} & \\textcolor{blue}{\\bf 2} \\\\\n",
    "{\\bf 3} & \\textcolor{green}{\\bf 4} \\\\\n",
    "\\end{vmatrix}\n",
    "\\,{\\large\\bf\\cdot}\\,\n",
    "\\begin{vmatrix}\n",
    "\\textcolor{magenta}{\\bf 5} & \\textcolor{orange}{\\bf 6} \\\\\n",
    "\\textcolor{cyan}{\\bf 7} & \\textcolor{purple}{\\bf 8} \\\\\n",
    "\\end{vmatrix} = \n",
    "(\\textcolor{red}{\\bf 1} \\,\\times\\, \\textcolor{magenta}{\\bf 5}) + (\\textcolor{blue}{\\bf 2} \\,\\times\\, \\textcolor{cyan}{\\bf 7}) + ({\\bf 3} \\,\\times\\, \\textcolor{orange}{\\bf 6}) + (\\textcolor{green}{\\bf 4} \\,\\times\\, \\textcolor{purple}{\\bf 8})\n",
    "= 5 + 14 + 18 + 32 = 69\n",
    "\\end{equation*}"
   ]
  },
  {
   "cell_type": "markdown",
   "metadata": {},
   "source": [
    "Here is an example of how the ${\\bf MATRIX~PRODUCT}$ works:\n",
    "\n",
    "$\\require{color}$\n",
    "\n",
    "\\begin{equation*}\n",
    "\\mathbf{Z} \\,=\\, \\mathbf{X} \\,{\\times}\\, \\mathbf{Y} \\,=\\, \\mathbf{X\\,Y}\\\\\n",
    "\\end{equation*}\n",
    "\n",
    "\\begin{equation*}\n",
    "\\mathbf{Z} \\,=\\, \n",
    "\\begin{vmatrix}\n",
    "\\textcolor{red}{\\bf 1} & \\textcolor{blue}{\\bf 2} \\\\\n",
    "{\\bf 3} & \\textcolor{green}{\\bf 4} \\\\\n",
    "\\end{vmatrix}\n",
    "\\,{\\times}\\,\n",
    "\\begin{vmatrix}\n",
    "\\textcolor{magenta}{\\bf 5} & \\textcolor{orange}{\\bf 6} \\\\\n",
    "\\textcolor{cyan}{\\bf 7} & \\textcolor{purple}{\\bf 8} \\\\\n",
    "\\end{vmatrix}\n",
    "= \n",
    "\\begin{vmatrix}\n",
    "\\textcolor{red}{\\bf 1} & \\textcolor{blue}{\\bf 2} \\\\\n",
    "{\\bf 3} & \\textcolor{green}{\\bf 4} \\\\\n",
    "\\end{vmatrix}\n",
    "\\begin{vmatrix}\n",
    "\\textcolor{magenta}{\\bf 5} & \\textcolor{orange}{\\bf 6} \\\\\n",
    "\\textcolor{cyan}{\\bf 7} & \\textcolor{purple}{\\bf 8} \\\\\n",
    "\\end{vmatrix} \\\\\n",
    "\\end{equation*}"
   ]
  },
  {
   "cell_type": "markdown",
   "metadata": {},
   "source": [
    "$\\require{color}$\n",
    "\n",
    "\\begin{equation*}\n",
    "= \n",
    "\\begin{vmatrix}\n",
    "(\\textcolor{red}{\\bf 1}\\times\\textcolor{magenta}{\\bf 5} + \\textcolor{blue}{\\bf 2}\\times\\textcolor{cyan}{\\bf 7}) & \n",
    "(\\textcolor{red}{\\bf 1}\\times\\textcolor{orange}{\\bf 6} + \\textcolor{blue}{\\bf 2}\\times\\textcolor{purple}{\\bf 8}) \\\\\n",
    "(\\textcolor{black}{\\bf 3}\\times\\textcolor{magenta}{\\bf 5} + \\textcolor{green}{\\bf 4}\\times\\textcolor{cyan}{\\bf 7}) & \n",
    "(\\textcolor{black}{\\bf 3}\\times\\textcolor{orange}{\\bf 6} + \\textcolor{green}{\\bf 4}\\times\\textcolor{purple}{\\bf 8}) \\\\\n",
    "\\end{vmatrix}\n",
    "\\end{equation*}\n",
    "\n",
    "\\begin{equation*}\n",
    "= \n",
    "\\begin{vmatrix}\n",
    "19 & 22 \\\\\n",
    "43 & 50 \\\\\n",
    "\\end{vmatrix}\n",
    "\\end{equation*}"
   ]
  },
  {
   "cell_type": "markdown",
   "metadata": {},
   "source": [
    "Below are some matrices that we will use in the example questions:"
   ]
  },
  {
   "cell_type": "markdown",
   "metadata": {},
   "source": [
    "\\begin{equation*}\n",
    "\\mathbf{A} =  \\begin{vmatrix}\n",
    "1 & 4 \\\\\n",
    "2 & 1 \\\\\n",
    "\\end{vmatrix}\n",
    "\\end{equation*}\n",
    "\n",
    "\\begin{equation*}\n",
    "\\mathbf{B} =  \\begin{vmatrix}\n",
    "2 & 2 & 3 \\\\\n",
    "1 & 2 & 3 \\\\\n",
    "\\end{vmatrix}\n",
    "\\end{equation*}\n",
    "\n",
    "\\begin{equation*}\n",
    "\\mathbf{C} =  \\begin{vmatrix}\n",
    "3 & 2 \\\\\n",
    "2 & 1 \\\\\n",
    "0 & 1 \\\\\n",
    "\\end{vmatrix}\n",
    "\\end{equation*}\n",
    "\n",
    "\\begin{equation*}\n",
    "\\mathbf{D} =  \\begin{vmatrix}\n",
    "0 & 1 & 1 \\\\\n",
    "4 & 2 & 3 \\\\\n",
    "1 & 0 & 3 \\\\\n",
    "\\end{vmatrix}\n",
    "\\end{equation*}"
   ]
  },
  {
   "cell_type": "markdown",
   "metadata": {},
   "source": [
    "## Exercise:\n",
    "\n",
    "2) If possible, calculate the dot product and matrix product for each po"
   ]
  }
 ],
 "metadata": {
  "kernelspec": {
   "display_name": "Python 3",
   "language": "python",
   "name": "python3"
  },
  "language_info": {
   "codemirror_mode": {
    "name": "ipython",
    "version": 3
   },
   "file_extension": ".py",
   "mimetype": "text/x-python",
   "name": "python",
   "nbconvert_exporter": "python",
   "pygments_lexer": "ipython3",
   "version": "3.5.2"
  }
 },
 "nbformat": 4,
 "nbformat_minor": 2
}
