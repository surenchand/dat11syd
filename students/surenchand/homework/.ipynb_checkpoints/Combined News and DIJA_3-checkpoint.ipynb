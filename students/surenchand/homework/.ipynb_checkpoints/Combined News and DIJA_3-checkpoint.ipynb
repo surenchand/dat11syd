{
 "cells": [
  {
   "cell_type": "code",
   "execution_count": 1,
   "metadata": {},
   "outputs": [],
   "source": [
    "# Import the libraries required\n",
    "import pandas as pd\n",
    "import statsmodels.formula.api as smf\n",
    "import matplotlib.pyplot as plt\n",
    "\n",
    "# this allows plots to appear directly in the notebook\n",
    "%matplotlib inline"
   ]
  },
  {
   "cell_type": "code",
   "execution_count": 2,
   "metadata": {},
   "outputs": [],
   "source": [
    "News_DIJA_data = pd.read_csv(\"~/workspace/dat11syd/students/surenchand/data/Combined_News_DJIA.csv\")"
   ]
  },
  {
   "cell_type": "code",
   "execution_count": 3,
   "metadata": {},
   "outputs": [],
   "source": [
    "#drop any nan value\n",
    "News_DIJA_data.dropna(how='any', inplace=True)"
   ]
  },
  {
   "cell_type": "code",
   "execution_count": 4,
   "metadata": {},
   "outputs": [],
   "source": [
    "#change object to date time stamp\n",
    "News_DIJA_data['Date'] = pd.to_datetime(News_DIJA_data['Date'])"
   ]
  },
  {
   "cell_type": "code",
   "execution_count": 5,
   "metadata": {},
   "outputs": [
    {
     "data": {
      "text/plain": [
       "Index(['Top1', 'Top2', 'Top3', 'Top4', 'Top5', 'Top6', 'Top7', 'Top8', 'Top9',\n",
       "       'Top10', 'Top11', 'Top12', 'Top13', 'Top14', 'Top15', 'Top16', 'Top17',\n",
       "       'Top18', 'Top19', 'Top20', 'Top21', 'Top22', 'Top23', 'Top24', 'Top25'],\n",
       "      dtype='object')"
      ]
     },
     "execution_count": 5,
     "metadata": {},
     "output_type": "execute_result"
    }
   ],
   "source": [
    "News_DIJA_data.select_dtypes(['object']).columns"
   ]
  },
  {
   "cell_type": "code",
   "execution_count": 6,
   "metadata": {},
   "outputs": [],
   "source": [
    "#remove unneccesary characters from all columns\n",
    "News_Columns = News_DIJA_data.select_dtypes(['object']).columns\n",
    "News_DIJA_data[News_Columns] = News_DIJA_data[News_Columns].replace('b\"',\"\",regex=True)\n",
    "News_DIJA_data[News_Columns] = News_DIJA_data[News_Columns].replace(\"b'\",\"\", regex=True)\n",
    "News_DIJA_data[News_Columns] = News_DIJA_data[News_Columns].replace(\"-\",\" \", regex=True)\n",
    "News_DIJA_data[News_Columns] = News_DIJA_data[News_Columns].replace(\"'\",\"\", regex=True)\n",
    "News_DIJA_data[News_Columns] = News_DIJA_data[News_Columns].replace(\"&amp;\",\"\",regex=True)"
   ]
  },
  {
   "cell_type": "code",
   "execution_count": 7,
   "metadata": {},
   "outputs": [
    {
     "data": {
      "text/html": [
       "<div>\n",
       "<style scoped>\n",
       "    .dataframe tbody tr th:only-of-type {\n",
       "        vertical-align: middle;\n",
       "    }\n",
       "\n",
       "    .dataframe tbody tr th {\n",
       "        vertical-align: top;\n",
       "    }\n",
       "\n",
       "    .dataframe thead th {\n",
       "        text-align: right;\n",
       "    }\n",
       "</style>\n",
       "<table border=\"1\" class=\"dataframe\">\n",
       "  <thead>\n",
       "    <tr style=\"text-align: right;\">\n",
       "      <th></th>\n",
       "      <th>Date</th>\n",
       "      <th>Label</th>\n",
       "      <th>Top1</th>\n",
       "      <th>Top2</th>\n",
       "      <th>Top3</th>\n",
       "      <th>Top4</th>\n",
       "      <th>Top5</th>\n",
       "      <th>Top6</th>\n",
       "      <th>Top7</th>\n",
       "      <th>Top8</th>\n",
       "      <th>...</th>\n",
       "      <th>Top16</th>\n",
       "      <th>Top17</th>\n",
       "      <th>Top18</th>\n",
       "      <th>Top19</th>\n",
       "      <th>Top20</th>\n",
       "      <th>Top21</th>\n",
       "      <th>Top22</th>\n",
       "      <th>Top23</th>\n",
       "      <th>Top24</th>\n",
       "      <th>Top25</th>\n",
       "    </tr>\n",
       "  </thead>\n",
       "  <tbody>\n",
       "    <tr>\n",
       "      <th>0</th>\n",
       "      <td>2008-08-08</td>\n",
       "      <td>0</td>\n",
       "      <td>Georgia downs two Russian warplanes as countri...</td>\n",
       "      <td>BREAKING: Musharraf to be impeached.</td>\n",
       "      <td>Russia Today: Columns of troops roll into Sout...</td>\n",
       "      <td>Russian tanks are moving towards the capital o...</td>\n",
       "      <td>Afghan children raped with impunity, U.N. offi...</td>\n",
       "      <td>150 Russian tanks have entered South Ossetia w...</td>\n",
       "      <td>Breaking: Georgia invades South Ossetia, Russi...</td>\n",
       "      <td>The enemy combatent trials are nothing but a s...</td>\n",
       "      <td>...</td>\n",
       "      <td>Georgia Invades South Ossetia   if Russia gets...</td>\n",
       "      <td>Al Qaeda Faces Islamist Backlash</td>\n",
       "      <td>Condoleezza Rice: \"The US would not act to pre...</td>\n",
       "      <td>This is a busy day:  The European Union has ap...</td>\n",
       "      <td>Georgia will withdraw 1,000 soldiers from Iraq...</td>\n",
       "      <td>Why the Pentagon Thinks Attacking Iran is a Ba...</td>\n",
       "      <td>Caucasus in crisis: Georgia invades South Ossetia</td>\n",
       "      <td>Indian shoe manufactory    And again in a seri...</td>\n",
       "      <td>Visitors Suffering from Mental Illnesses Banne...</td>\n",
       "      <td>No Help for Mexicos Kidnapping Surge\"</td>\n",
       "    </tr>\n",
       "    <tr>\n",
       "      <th>1</th>\n",
       "      <td>2008-08-11</td>\n",
       "      <td>1</td>\n",
       "      <td>Why wont America and Nato help us? If they won...</td>\n",
       "      <td>Bush puts foot down on Georgian conflict</td>\n",
       "      <td>Jewish Georgian minister: Thanks to Israeli tr...</td>\n",
       "      <td>Georgian army flees in disarray as Russians ad...</td>\n",
       "      <td>Olympic opening ceremony fireworks faked\"</td>\n",
       "      <td>What were the Mossad with fraudulent New Zeala...</td>\n",
       "      <td>Russia angered by Israeli military sale to Geo...</td>\n",
       "      <td>An American citizen living in S.Ossetia blames...</td>\n",
       "      <td>...</td>\n",
       "      <td>Israel and the US behind the Georgian aggression?</td>\n",
       "      <td>\"Do not believe TV, neither Russian nor Georgi...</td>\n",
       "      <td>Riots are still going on in Montreal (Canada) ...</td>\n",
       "      <td>China to overtake US as largest manufacturer</td>\n",
       "      <td>War in South Ossetia [PICS]</td>\n",
       "      <td>Israeli Physicians Group Condemns State Torture</td>\n",
       "      <td>Russia has just beaten the United States over...</td>\n",
       "      <td>Perhaps *the* question about the Georgia   Rus...</td>\n",
       "      <td>Russia is so much better at war</td>\n",
       "      <td>So this is what its come to: trading sex for f...</td>\n",
       "    </tr>\n",
       "    <tr>\n",
       "      <th>2</th>\n",
       "      <td>2008-08-12</td>\n",
       "      <td>0</td>\n",
       "      <td>Remember that adorable 9 year old who sang at ...</td>\n",
       "      <td>Russia ends Georgia operation\"</td>\n",
       "      <td>\"If we had no sexual harassment we would have ...</td>\n",
       "      <td>Al Qaeda is losing support in Iraq because of ...</td>\n",
       "      <td>Ceasefire in Georgia: Putin Outmaneuvers the West</td>\n",
       "      <td>Why Microsoft and Intel tried to kill the XO $...</td>\n",
       "      <td>Stratfor: The Russo Georgian War and the Balan...</td>\n",
       "      <td>Im Trying to Get a Sense of This Whole Georgia...</td>\n",
       "      <td>...</td>\n",
       "      <td>U.S. troops still in Georgia (did you know the...</td>\n",
       "      <td>Why Russias response to Georgia was right</td>\n",
       "      <td>Gorbachev accuses U.S. of making a \"serious bl...</td>\n",
       "      <td>Russia, Georgia, and NATO: Cold War Two</td>\n",
       "      <td>Remember that adorable 62 year old who led you...</td>\n",
       "      <td>War in Georgia: The Israeli connection</td>\n",
       "      <td>All signs point to the US encouraging Georgia ...</td>\n",
       "      <td>Christopher King argues that the US and NATO a...</td>\n",
       "      <td>America: The New Mexico?</td>\n",
       "      <td>BBC NEWS | Asia Pacific | Extinction by man no...</td>\n",
       "    </tr>\n",
       "    <tr>\n",
       "      <th>3</th>\n",
       "      <td>2008-08-13</td>\n",
       "      <td>0</td>\n",
       "      <td>U.S. refuses Israel weapons to attack Iran: r...</td>\n",
       "      <td>When the president ordered to attack Tskhinval...</td>\n",
       "      <td>Israel clears troops who killed Reuters camer...</td>\n",
       "      <td>Britain\\s policy of being tough on drugs is \"p...</td>\n",
       "      <td>Body of 14 year old found in trunk; Latest (ra...</td>\n",
       "      <td>China has moved 10 *million* quake survivors i...</td>\n",
       "      <td>Bush announces Operation Get All Up In Russias...</td>\n",
       "      <td>Russian forces sink Georgian ships</td>\n",
       "      <td>...</td>\n",
       "      <td>Elephants extinct by 2020?</td>\n",
       "      <td>US humanitarian missions soon in Georgia   if ...</td>\n",
       "      <td>Georgias DDOS came from US sources\"</td>\n",
       "      <td>Russian convoy heads into Georgia, violating t...</td>\n",
       "      <td>Israeli defence minister: US against strike on...</td>\n",
       "      <td>Gorbachev: We Had No Choice</td>\n",
       "      <td>Witness: Russian forces head towards Tbilisi i...</td>\n",
       "      <td>Quarter of Russians blame U.S. for conflict: ...</td>\n",
       "      <td>Georgian president  says US military will take...</td>\n",
       "      <td>2006: Nobel laureate Aleksander Solzhenitsyn a...</td>\n",
       "    </tr>\n",
       "    <tr>\n",
       "      <th>4</th>\n",
       "      <td>2008-08-14</td>\n",
       "      <td>1</td>\n",
       "      <td>All the experts admit that we should legalise ...</td>\n",
       "      <td>War in South Osetia   89 pictures made by a Ru...</td>\n",
       "      <td>Swedish wrestler Ara Abrahamian throws away me...</td>\n",
       "      <td>Russia exaggerated the death toll in South Oss...</td>\n",
       "      <td>Missile That Killed 9 Inside Pakistan May Have...</td>\n",
       "      <td>Rushdie Condemns Random Houses Refusal to Publ...</td>\n",
       "      <td>Poland and US agree to missle defense deal. In...</td>\n",
       "      <td>Will the Russians conquer Tblisi? Bet on it, n...</td>\n",
       "      <td>...</td>\n",
       "      <td>Bank analyst forecast Georgian crisis 2 days e...</td>\n",
       "      <td>Georgia confict could set back Russias US rela...</td>\n",
       "      <td>War in the Caucasus is as much the product of ...</td>\n",
       "      <td>\"Non media\" photos of South Ossetia/Georgia co...</td>\n",
       "      <td>Georgian TV reporter shot by Russian sniper du...</td>\n",
       "      <td>Saudi Arabia: Mother moves to block child marr...</td>\n",
       "      <td>Taliban wages war on humanitarian aid workers</td>\n",
       "      <td>Russia: World  \"can forget about\" Georgia\\s te...</td>\n",
       "      <td>Darfur rebels accuse Sudan of mounting major a...</td>\n",
       "      <td>Philippines : Peace Advocate say Muslims need ...</td>\n",
       "    </tr>\n",
       "    <tr>\n",
       "      <th>5</th>\n",
       "      <td>2008-08-15</td>\n",
       "      <td>1</td>\n",
       "      <td>Mom of missing gay man: Too bad hes not a 21 y...</td>\n",
       "      <td>Russia: U.S. Poland Missile Deal Wont Go Unpun...</td>\n",
       "      <td>The government has been accused of creating la...</td>\n",
       "      <td>The Italian government has lashed out at an in...</td>\n",
       "      <td>Gorbachev: Georgia started conflict in S. Ossetia</td>\n",
       "      <td>China fakes more than your girlfriend; Ethnic ...</td>\n",
       "      <td>The UNs criticism of freedom of expression in ...</td>\n",
       "      <td>Russian general threatens nuclear strike on Po...</td>\n",
       "      <td>...</td>\n",
       "      <td>Why are redditors generally supportive of Russ...</td>\n",
       "      <td>Johann Hari: We need to stop being such coward...</td>\n",
       "      <td>US officials have said that their military pre...</td>\n",
       "      <td>Israel clears troops who killed Reuters cameraman</td>\n",
       "      <td>Unenforceable laws encourage cops to escalate ...</td>\n",
       "      <td>What Chinese pollution really looks like</td>\n",
       "      <td>Hacker Kidnaps and Tortures Informant, Posts P...</td>\n",
       "      <td>Bush Tells Putin: This Aggression Will Not Stand</td>\n",
       "      <td>Georgia is all about the oil pipelines</td>\n",
       "      <td>Rivals say they plan to remove Georgian president</td>\n",
       "    </tr>\n",
       "    <tr>\n",
       "      <th>6</th>\n",
       "      <td>2008-08-18</td>\n",
       "      <td>0</td>\n",
       "      <td>In an Afghan prison, the majority of female pr...</td>\n",
       "      <td>Little girl, youre not ugly; they are\"</td>\n",
       "      <td>Pakistans Musharraf to Resign, Leave the Country\"</td>\n",
       "      <td>Tornado throws a bus in Poland, captured by on...</td>\n",
       "      <td>Britains terror laws have left me and my famil...</td>\n",
       "      <td>Iran fires satellite into space\"</td>\n",
       "      <td>Rights of Non Muslims restricted by new Maldiv...</td>\n",
       "      <td>Tour of Tskhinvali undercuts Russian version o...</td>\n",
       "      <td>...</td>\n",
       "      <td>MI5 seeks gay spies</td>\n",
       "      <td>New porn channel lets Canadians strut their s...</td>\n",
       "      <td>The Dangerous Neighbor: Vladimir Putin Takes o...</td>\n",
       "      <td>Israel opinion page: Russians are saner.</td>\n",
       "      <td>NATOs Hour\"</td>\n",
       "      <td>Georgian President Saakashvili Eats His Tie on...</td>\n",
       "      <td>No Chicken Left Behind: Animal RFID Surveillan...</td>\n",
       "      <td>Putin has given us an order that everyone must...</td>\n",
       "      <td>National DNA database grows on the genes of th...</td>\n",
       "      <td>Mayor Asks Ugly Women To Visit His Town</td>\n",
       "    </tr>\n",
       "    <tr>\n",
       "      <th>7</th>\n",
       "      <td>2008-08-19</td>\n",
       "      <td>0</td>\n",
       "      <td>Man arrested and locked up for five hours afte...</td>\n",
       "      <td>The US missile defence system is the magic pud...</td>\n",
       "      <td>Schrder lambasted for blaming Russian conflict...</td>\n",
       "      <td>Officials: 10 French soldiers killed near Kabul</td>\n",
       "      <td>These ten laws make China a totalitarian waste...</td>\n",
       "      <td>Russia seizes US vehicles</td>\n",
       "      <td>Muslims are only 4% of Denmarks 5.4 million pe...</td>\n",
       "      <td>Taliban Forces Kill 10 French Soldiers and Rai...</td>\n",
       "      <td>...</td>\n",
       "      <td>Brazil Will Play Military War Game to Defend R...</td>\n",
       "      <td>16,000 fine for British woman caught sharing g...</td>\n",
       "      <td>102 year old grandma is oldest person on Facebook</td>\n",
       "      <td>Today 5 years ago   August 19th 2003. Bombing ...</td>\n",
       "      <td>US national Ken Haywood, whose computer was fo...</td>\n",
       "      <td>Taliban kill 10 French troops near Afghan cap...</td>\n",
       "      <td>Not Everybody Loves Offshore Wind Power in Spain</td>\n",
       "      <td>Taliban Forces Kill 10 French Soldiers and Rai...</td>\n",
       "      <td>Pakistan is more democratic than America.</td>\n",
       "      <td>Blaze engulfs Egyptian parliament</td>\n",
       "    </tr>\n",
       "    <tr>\n",
       "      <th>8</th>\n",
       "      <td>2008-08-20</td>\n",
       "      <td>1</td>\n",
       "      <td>Two elderly Chinese women have been sentenced ...</td>\n",
       "      <td>The Power of Islam: The Human Rights Council a...</td>\n",
       "      <td>We had 55 times more military soldiers in the ...</td>\n",
       "      <td>\"I live here on less than a dollar a month\"   ...</td>\n",
       "      <td>Russia sends aircraft carrier to Syria.</td>\n",
       "      <td>The American people should be eternally gratef...</td>\n",
       "      <td>Abkhazia officially appeals to Russia for inde...</td>\n",
       "      <td>Russia warns of response \"beyond diplomacy\" ag...</td>\n",
       "      <td>...</td>\n",
       "      <td>Grote Markt [PIC]</td>\n",
       "      <td>Russia has informed Norway that it plans to cu...</td>\n",
       "      <td>What Are the Aims of this War?: French Opposit...</td>\n",
       "      <td>Bush Covered up Musharraf Ties with Al Qaeda</td>\n",
       "      <td>Mikhail Gorbachev: Russia Never Wanted a War</td>\n",
       "      <td>Germans urge tougher laws after new privacy sc...</td>\n",
       "      <td>The Time of the Wimps: Dialogue with Russia Is...</td>\n",
       "      <td>1998 Missile Strikes on Bin Laden May Have Bac...</td>\n",
       "      <td>For a moment lets forget everything else and p...</td>\n",
       "      <td>The First Solar Radio Station in Argentina</td>\n",
       "    </tr>\n",
       "    <tr>\n",
       "      <th>9</th>\n",
       "      <td>2008-08-21</td>\n",
       "      <td>1</td>\n",
       "      <td>British resident held in Guantanamo Bay wins l...</td>\n",
       "      <td>Chinese may have killed 140 Tibetans this week...</td>\n",
       "      <td>U.S. Navy Ships Head to Georgia</td>\n",
       "      <td>Hacker uncovers Chinese olympic fraud</td>\n",
       "      <td>If youve ever wondered what Kim Jong Il was li...</td>\n",
       "      <td>Russias Nuclear Threat Is More Than Words\"</td>\n",
       "      <td>Czech President: \"I must protest aloud against...</td>\n",
       "      <td>50% Of All Food Produced Is Wasted Before It G...</td>\n",
       "      <td>...</td>\n",
       "      <td>Russia condemns US missile deal</td>\n",
       "      <td>NATOs decision to freeze relations with Moscow...</td>\n",
       "      <td>Sweet Sixteen or Fraudulent Fourteen,  Hackers...</td>\n",
       "      <td>If Russias feeling churlish, they can pretty m...</td>\n",
       "      <td>Chinese Gymnasts 14, Official Document Shows</td>\n",
       "      <td>Suicide attack kills at least 50 at Pakistan a...</td>\n",
       "      <td>The Abkhazian Parliament has approved an offic...</td>\n",
       "      <td>Georgia, Bulgaria and the Second Balkan War | ...</td>\n",
       "      <td>Terrorist reveals Paks sinister designs on India\"</td>\n",
       "      <td>International Olympic Committee launches probe...</td>\n",
       "    </tr>\n",
       "  </tbody>\n",
       "</table>\n",
       "<p>10 rows × 27 columns</p>\n",
       "</div>"
      ],
      "text/plain": [
       "        Date  Label                                               Top1  \\\n",
       "0 2008-08-08      0  Georgia downs two Russian warplanes as countri...   \n",
       "1 2008-08-11      1  Why wont America and Nato help us? If they won...   \n",
       "2 2008-08-12      0  Remember that adorable 9 year old who sang at ...   \n",
       "3 2008-08-13      0   U.S. refuses Israel weapons to attack Iran: r...   \n",
       "4 2008-08-14      1  All the experts admit that we should legalise ...   \n",
       "5 2008-08-15      1  Mom of missing gay man: Too bad hes not a 21 y...   \n",
       "6 2008-08-18      0  In an Afghan prison, the majority of female pr...   \n",
       "7 2008-08-19      0  Man arrested and locked up for five hours afte...   \n",
       "8 2008-08-20      1  Two elderly Chinese women have been sentenced ...   \n",
       "9 2008-08-21      1  British resident held in Guantanamo Bay wins l...   \n",
       "\n",
       "                                                Top2  \\\n",
       "0               BREAKING: Musharraf to be impeached.   \n",
       "1           Bush puts foot down on Georgian conflict   \n",
       "2                     Russia ends Georgia operation\"   \n",
       "3  When the president ordered to attack Tskhinval...   \n",
       "4  War in South Osetia   89 pictures made by a Ru...   \n",
       "5  Russia: U.S. Poland Missile Deal Wont Go Unpun...   \n",
       "6             Little girl, youre not ugly; they are\"   \n",
       "7  The US missile defence system is the magic pud...   \n",
       "8  The Power of Islam: The Human Rights Council a...   \n",
       "9  Chinese may have killed 140 Tibetans this week...   \n",
       "\n",
       "                                                Top3  \\\n",
       "0  Russia Today: Columns of troops roll into Sout...   \n",
       "1  Jewish Georgian minister: Thanks to Israeli tr...   \n",
       "2  \"If we had no sexual harassment we would have ...   \n",
       "3   Israel clears troops who killed Reuters camer...   \n",
       "4  Swedish wrestler Ara Abrahamian throws away me...   \n",
       "5  The government has been accused of creating la...   \n",
       "6  Pakistans Musharraf to Resign, Leave the Country\"   \n",
       "7  Schrder lambasted for blaming Russian conflict...   \n",
       "8  We had 55 times more military soldiers in the ...   \n",
       "9                    U.S. Navy Ships Head to Georgia   \n",
       "\n",
       "                                                Top4  \\\n",
       "0  Russian tanks are moving towards the capital o...   \n",
       "1  Georgian army flees in disarray as Russians ad...   \n",
       "2  Al Qaeda is losing support in Iraq because of ...   \n",
       "3  Britain\\s policy of being tough on drugs is \"p...   \n",
       "4  Russia exaggerated the death toll in South Oss...   \n",
       "5  The Italian government has lashed out at an in...   \n",
       "6  Tornado throws a bus in Poland, captured by on...   \n",
       "7   Officials: 10 French soldiers killed near Kabul    \n",
       "8  \"I live here on less than a dollar a month\"   ...   \n",
       "9              Hacker uncovers Chinese olympic fraud   \n",
       "\n",
       "                                                Top5  \\\n",
       "0  Afghan children raped with impunity, U.N. offi...   \n",
       "1          Olympic opening ceremony fireworks faked\"   \n",
       "2  Ceasefire in Georgia: Putin Outmaneuvers the West   \n",
       "3  Body of 14 year old found in trunk; Latest (ra...   \n",
       "4  Missile That Killed 9 Inside Pakistan May Have...   \n",
       "5  Gorbachev: Georgia started conflict in S. Ossetia   \n",
       "6  Britains terror laws have left me and my famil...   \n",
       "7  These ten laws make China a totalitarian waste...   \n",
       "8            Russia sends aircraft carrier to Syria.   \n",
       "9  If youve ever wondered what Kim Jong Il was li...   \n",
       "\n",
       "                                                Top6  \\\n",
       "0  150 Russian tanks have entered South Ossetia w...   \n",
       "1  What were the Mossad with fraudulent New Zeala...   \n",
       "2  Why Microsoft and Intel tried to kill the XO $...   \n",
       "3  China has moved 10 *million* quake survivors i...   \n",
       "4  Rushdie Condemns Random Houses Refusal to Publ...   \n",
       "5  China fakes more than your girlfriend; Ethnic ...   \n",
       "6                   Iran fires satellite into space\"   \n",
       "7                          Russia seizes US vehicles   \n",
       "8  The American people should be eternally gratef...   \n",
       "9         Russias Nuclear Threat Is More Than Words\"   \n",
       "\n",
       "                                                Top7  \\\n",
       "0  Breaking: Georgia invades South Ossetia, Russi...   \n",
       "1  Russia angered by Israeli military sale to Geo...   \n",
       "2  Stratfor: The Russo Georgian War and the Balan...   \n",
       "3  Bush announces Operation Get All Up In Russias...   \n",
       "4  Poland and US agree to missle defense deal. In...   \n",
       "5  The UNs criticism of freedom of expression in ...   \n",
       "6  Rights of Non Muslims restricted by new Maldiv...   \n",
       "7  Muslims are only 4% of Denmarks 5.4 million pe...   \n",
       "8  Abkhazia officially appeals to Russia for inde...   \n",
       "9  Czech President: \"I must protest aloud against...   \n",
       "\n",
       "                                                Top8  \\\n",
       "0  The enemy combatent trials are nothing but a s...   \n",
       "1  An American citizen living in S.Ossetia blames...   \n",
       "2  Im Trying to Get a Sense of This Whole Georgia...   \n",
       "3                Russian forces sink Georgian ships    \n",
       "4  Will the Russians conquer Tblisi? Bet on it, n...   \n",
       "5  Russian general threatens nuclear strike on Po...   \n",
       "6  Tour of Tskhinvali undercuts Russian version o...   \n",
       "7  Taliban Forces Kill 10 French Soldiers and Rai...   \n",
       "8  Russia warns of response \"beyond diplomacy\" ag...   \n",
       "9  50% Of All Food Produced Is Wasted Before It G...   \n",
       "\n",
       "                         ...                          \\\n",
       "0                        ...                           \n",
       "1                        ...                           \n",
       "2                        ...                           \n",
       "3                        ...                           \n",
       "4                        ...                           \n",
       "5                        ...                           \n",
       "6                        ...                           \n",
       "7                        ...                           \n",
       "8                        ...                           \n",
       "9                        ...                           \n",
       "\n",
       "                                               Top16  \\\n",
       "0  Georgia Invades South Ossetia   if Russia gets...   \n",
       "1  Israel and the US behind the Georgian aggression?   \n",
       "2  U.S. troops still in Georgia (did you know the...   \n",
       "3                         Elephants extinct by 2020?   \n",
       "4  Bank analyst forecast Georgian crisis 2 days e...   \n",
       "5  Why are redditors generally supportive of Russ...   \n",
       "6                                MI5 seeks gay spies   \n",
       "7  Brazil Will Play Military War Game to Defend R...   \n",
       "8                                  Grote Markt [PIC]   \n",
       "9                    Russia condemns US missile deal   \n",
       "\n",
       "                                               Top17  \\\n",
       "0                   Al Qaeda Faces Islamist Backlash   \n",
       "1  \"Do not believe TV, neither Russian nor Georgi...   \n",
       "2          Why Russias response to Georgia was right   \n",
       "3  US humanitarian missions soon in Georgia   if ...   \n",
       "4  Georgia confict could set back Russias US rela...   \n",
       "5  Johann Hari: We need to stop being such coward...   \n",
       "6   New porn channel lets Canadians strut their s...   \n",
       "7  16,000 fine for British woman caught sharing g...   \n",
       "8  Russia has informed Norway that it plans to cu...   \n",
       "9  NATOs decision to freeze relations with Moscow...   \n",
       "\n",
       "                                               Top18  \\\n",
       "0  Condoleezza Rice: \"The US would not act to pre...   \n",
       "1  Riots are still going on in Montreal (Canada) ...   \n",
       "2  Gorbachev accuses U.S. of making a \"serious bl...   \n",
       "3                Georgias DDOS came from US sources\"   \n",
       "4  War in the Caucasus is as much the product of ...   \n",
       "5  US officials have said that their military pre...   \n",
       "6  The Dangerous Neighbor: Vladimir Putin Takes o...   \n",
       "7  102 year old grandma is oldest person on Facebook   \n",
       "8  What Are the Aims of this War?: French Opposit...   \n",
       "9  Sweet Sixteen or Fraudulent Fourteen,  Hackers...   \n",
       "\n",
       "                                               Top19  \\\n",
       "0  This is a busy day:  The European Union has ap...   \n",
       "1       China to overtake US as largest manufacturer   \n",
       "2            Russia, Georgia, and NATO: Cold War Two   \n",
       "3  Russian convoy heads into Georgia, violating t...   \n",
       "4  \"Non media\" photos of South Ossetia/Georgia co...   \n",
       "5  Israel clears troops who killed Reuters cameraman   \n",
       "6           Israel opinion page: Russians are saner.   \n",
       "7  Today 5 years ago   August 19th 2003. Bombing ...   \n",
       "8       Bush Covered up Musharraf Ties with Al Qaeda   \n",
       "9  If Russias feeling churlish, they can pretty m...   \n",
       "\n",
       "                                               Top20  \\\n",
       "0  Georgia will withdraw 1,000 soldiers from Iraq...   \n",
       "1                        War in South Ossetia [PICS]   \n",
       "2  Remember that adorable 62 year old who led you...   \n",
       "3  Israeli defence minister: US against strike on...   \n",
       "4  Georgian TV reporter shot by Russian sniper du...   \n",
       "5  Unenforceable laws encourage cops to escalate ...   \n",
       "6                                        NATOs Hour\"   \n",
       "7  US national Ken Haywood, whose computer was fo...   \n",
       "8       Mikhail Gorbachev: Russia Never Wanted a War   \n",
       "9       Chinese Gymnasts 14, Official Document Shows   \n",
       "\n",
       "                                               Top21  \\\n",
       "0  Why the Pentagon Thinks Attacking Iran is a Ba...   \n",
       "1    Israeli Physicians Group Condemns State Torture   \n",
       "2             War in Georgia: The Israeli connection   \n",
       "3                        Gorbachev: We Had No Choice   \n",
       "4  Saudi Arabia: Mother moves to block child marr...   \n",
       "5           What Chinese pollution really looks like   \n",
       "6  Georgian President Saakashvili Eats His Tie on...   \n",
       "7   Taliban kill 10 French troops near Afghan cap...   \n",
       "8  Germans urge tougher laws after new privacy sc...   \n",
       "9  Suicide attack kills at least 50 at Pakistan a...   \n",
       "\n",
       "                                               Top22  \\\n",
       "0  Caucasus in crisis: Georgia invades South Ossetia   \n",
       "1   Russia has just beaten the United States over...   \n",
       "2  All signs point to the US encouraging Georgia ...   \n",
       "3  Witness: Russian forces head towards Tbilisi i...   \n",
       "4      Taliban wages war on humanitarian aid workers   \n",
       "5  Hacker Kidnaps and Tortures Informant, Posts P...   \n",
       "6  No Chicken Left Behind: Animal RFID Surveillan...   \n",
       "7   Not Everybody Loves Offshore Wind Power in Spain   \n",
       "8  The Time of the Wimps: Dialogue with Russia Is...   \n",
       "9  The Abkhazian Parliament has approved an offic...   \n",
       "\n",
       "                                               Top23  \\\n",
       "0  Indian shoe manufactory    And again in a seri...   \n",
       "1  Perhaps *the* question about the Georgia   Rus...   \n",
       "2  Christopher King argues that the US and NATO a...   \n",
       "3   Quarter of Russians blame U.S. for conflict: ...   \n",
       "4  Russia: World  \"can forget about\" Georgia\\s te...   \n",
       "5   Bush Tells Putin: This Aggression Will Not Stand   \n",
       "6  Putin has given us an order that everyone must...   \n",
       "7  Taliban Forces Kill 10 French Soldiers and Rai...   \n",
       "8  1998 Missile Strikes on Bin Laden May Have Bac...   \n",
       "9  Georgia, Bulgaria and the Second Balkan War | ...   \n",
       "\n",
       "                                               Top24  \\\n",
       "0  Visitors Suffering from Mental Illnesses Banne...   \n",
       "1                    Russia is so much better at war   \n",
       "2                           America: The New Mexico?   \n",
       "3  Georgian president  says US military will take...   \n",
       "4  Darfur rebels accuse Sudan of mounting major a...   \n",
       "5             Georgia is all about the oil pipelines   \n",
       "6  National DNA database grows on the genes of th...   \n",
       "7         Pakistan is more democratic than America.    \n",
       "8  For a moment lets forget everything else and p...   \n",
       "9  Terrorist reveals Paks sinister designs on India\"   \n",
       "\n",
       "                                               Top25  \n",
       "0              No Help for Mexicos Kidnapping Surge\"  \n",
       "1  So this is what its come to: trading sex for f...  \n",
       "2  BBC NEWS | Asia Pacific | Extinction by man no...  \n",
       "3  2006: Nobel laureate Aleksander Solzhenitsyn a...  \n",
       "4  Philippines : Peace Advocate say Muslims need ...  \n",
       "5  Rivals say they plan to remove Georgian president  \n",
       "6            Mayor Asks Ugly Women To Visit His Town  \n",
       "7                  Blaze engulfs Egyptian parliament  \n",
       "8         The First Solar Radio Station in Argentina  \n",
       "9  International Olympic Committee launches probe...  \n",
       "\n",
       "[10 rows x 27 columns]"
      ]
     },
     "execution_count": 7,
     "metadata": {},
     "output_type": "execute_result"
    }
   ],
   "source": [
    "News_DIJA_data.head(10)"
   ]
  },
  {
   "cell_type": "code",
   "execution_count": 8,
   "metadata": {},
   "outputs": [
    {
     "name": "stdout",
     "output_type": "stream",
     "text": [
      "Label    0.534743\n",
      "dtype: float64\n"
     ]
    }
   ],
   "source": [
    "Label_Mean = News_DIJA_data.mean()\n",
    "print(Label_Mean)"
   ]
  },
  {
   "cell_type": "code",
   "execution_count": 9,
   "metadata": {},
   "outputs": [],
   "source": [
    "import pandas as pd\n",
    "News_DIJA_data['Combined'] = \"\"\n",
    "for x in News_Columns:\n",
    "    #print (x)\n",
    "    News_DIJA_data['Combined'] = News_DIJA_data['Combined'].map(str) + News_DIJA_data[x].map(str)\n",
    "\n",
    "#pd.concat(News_DIJA_data['Combined'] , News_DIJA_data['Top1'])"
   ]
  },
  {
   "cell_type": "code",
   "execution_count": 10,
   "metadata": {},
   "outputs": [
    {
     "data": {
      "text/plain": [
       "0    Georgia downs two Russian warplanes as countri...\n",
       "1    Why wont America and Nato help us? If they won...\n",
       "2    Remember that adorable 9 year old who sang at ...\n",
       "3     U.S. refuses Israel weapons to attack Iran: r...\n",
       "4    All the experts admit that we should legalise ...\n",
       "5    Mom of missing gay man: Too bad hes not a 21 y...\n",
       "6    In an Afghan prison, the majority of female pr...\n",
       "7    Man arrested and locked up for five hours afte...\n",
       "8    Two elderly Chinese women have been sentenced ...\n",
       "9    British resident held in Guantanamo Bay wins l...\n",
       "Name: Combined, dtype: object"
      ]
     },
     "execution_count": 10,
     "metadata": {},
     "output_type": "execute_result"
    }
   ],
   "source": [
    "News_DIJA_data['Combined'].head(10)"
   ]
  },
  {
   "cell_type": "code",
   "execution_count": 11,
   "metadata": {},
   "outputs": [],
   "source": [
    "News_DIJA_data['Combined'].to_csv('myfile.csv')"
   ]
  },
  {
   "cell_type": "code",
   "execution_count": 12,
   "metadata": {},
   "outputs": [],
   "source": [
    "from sklearn.feature_extraction.text import TfidfVectorizer\n",
    "from sklearn.feature_extraction.stop_words import ENGLISH_STOP_WORDS\n",
    "from sklearn.model_selection import train_test_split\n",
    "from sklearn.linear_model import LogisticRegression\n",
    "from sklearn.metrics import mean_squared_error\n",
    "from sklearn import metrics"
   ]
  },
  {
   "cell_type": "code",
   "execution_count": 13,
   "metadata": {},
   "outputs": [
    {
     "name": "stdout",
     "output_type": "stream",
     "text": [
      "956124\n"
     ]
    }
   ],
   "source": [
    "Text = News_DIJA_data['Combined'].str.lower()\n",
    "tfdif = TfidfVectorizer(stop_words='english', ngram_range=(2, 3))\n",
    "sent_vectors=tfdif.fit_transform(Text)\n",
    "Words = tfdif.get_feature_names()\n",
    "print (len(Words))"
   ]
  },
  {
   "cell_type": "code",
   "execution_count": 15,
   "metadata": {},
   "outputs": [
    {
     "name": "stdout",
     "output_type": "stream",
     "text": [
      "1678\n"
     ]
    }
   ],
   "source": [
    "tfdif = TfidfVectorizer(stop_words='english', ngram_range=(2, 3), min_df=10)\n",
    "sent_vectors=tfdif.fit_transform(Text)\n",
    "Words = tfdif.get_feature_names()\n",
    "print (len(Words))"
   ]
  },
  {
   "cell_type": "code",
   "execution_count": 16,
   "metadata": {},
   "outputs": [
    {
     "name": "stdout",
     "output_type": "stream",
     "text": [
      "538\n"
     ]
    }
   ],
   "source": [
    "tfdif = TfidfVectorizer(stop_words='english', ngram_range=(2, 3), min_df=20)\n",
    "sent_vectors=tfdif.fit_transform(Text)\n",
    "Words = tfdif.get_feature_names()\n",
    "print (len(Words))"
   ]
  },
  {
   "cell_type": "code",
   "execution_count": 17,
   "metadata": {},
   "outputs": [
    {
     "name": "stdout",
     "output_type": "stream",
     "text": [
      "262\n"
     ]
    }
   ],
   "source": [
    "tfdif = TfidfVectorizer(stop_words='english', ngram_range=(2, 3), min_df=30)\n",
    "sent_vectors=tfdif.fit_transform(Text)\n",
    "Words = tfdif.get_feature_names()\n",
    "print (len(Words))"
   ]
  },
  {
   "cell_type": "code",
   "execution_count": 136,
   "metadata": {},
   "outputs": [
    {
     "name": "stdout",
     "output_type": "stream",
     "text": [
      "The Accuracy sore and MSE for Features:  10\n",
      "Accuracy is:  0.5120967741935484\n",
      "MSE is:  0.4879032258064516\n",
      "The Accuracy sore and MSE for Features:  15\n",
      "Accuracy is:  0.5141129032258065\n",
      "MSE is:  0.48588709677419356\n",
      "The Accuracy sore and MSE for Features:  20\n",
      "Accuracy is:  0.530241935483871\n",
      "MSE is:  0.46975806451612906\n",
      "The Accuracy sore and MSE for Features:  25\n",
      "Accuracy is:  0.5161290322580645\n",
      "MSE is:  0.4838709677419355\n",
      "The Accuracy sore and MSE for Features:  30\n",
      "Accuracy is:  0.5221774193548387\n",
      "MSE is:  0.4778225806451613\n",
      "The Accuracy sore and MSE for Features:  35\n",
      "Accuracy is:  0.5181451612903226\n",
      "MSE is:  0.48185483870967744\n",
      "The Accuracy sore and MSE for Features:  40\n",
      "Accuracy is:  0.5141129032258065\n",
      "MSE is:  0.48588709677419356\n",
      "The Accuracy sore and MSE for Features:  45\n",
      "Accuracy is:  0.5040322580645161\n",
      "MSE is:  0.4959677419354839\n",
      "The Accuracy sore and MSE for Features:  50\n",
      "Accuracy is:  0.530241935483871\n",
      "MSE is:  0.46975806451612906\n",
      "The Accuracy sore and MSE for Features:  55\n",
      "Accuracy is:  0.530241935483871\n",
      "MSE is:  0.46975806451612906\n",
      "The Accuracy sore and MSE for Features:  60\n",
      "Accuracy is:  0.5282258064516129\n",
      "MSE is:  0.4717741935483871\n",
      "The Accuracy sore and MSE for Features:  65\n",
      "Accuracy is:  0.5342741935483871\n",
      "MSE is:  0.4657258064516129\n",
      "The Accuracy sore and MSE for Features:  70\n",
      "Accuracy is:  0.5262096774193549\n",
      "MSE is:  0.4737903225806452\n",
      "The Accuracy sore and MSE for Features:  75\n",
      "Accuracy is:  0.5241935483870968\n",
      "MSE is:  0.47580645161290325\n",
      "The Accuracy sore and MSE for Features:  80\n",
      "Accuracy is:  0.5262096774193549\n",
      "MSE is:  0.4737903225806452\n",
      "The Accuracy sore and MSE for Features:  85\n",
      "Accuracy is:  0.530241935483871\n",
      "MSE is:  0.46975806451612906\n",
      "The Accuracy sore and MSE for Features:  90\n",
      "Accuracy is:  0.5181451612903226\n",
      "MSE is:  0.48185483870967744\n",
      "The Accuracy sore and MSE for Features:  95\n",
      "Accuracy is:  0.5241935483870968\n",
      "MSE is:  0.47580645161290325\n",
      "The Accuracy sore and MSE for Features:  100\n",
      "Accuracy is:  0.5221774193548387\n",
      "MSE is:  0.4778225806451613\n",
      "The Accuracy sore and MSE for Features:  105\n",
      "Accuracy is:  0.5383064516129032\n",
      "MSE is:  0.46169354838709675\n",
      "The Accuracy sore and MSE for Features:  110\n",
      "Accuracy is:  0.5443548387096774\n",
      "MSE is:  0.45564516129032256\n",
      "The Accuracy sore and MSE for Features:  115\n",
      "Accuracy is:  0.5262096774193549\n",
      "MSE is:  0.4737903225806452\n",
      "The Accuracy sore and MSE for Features:  120\n",
      "Accuracy is:  0.5221774193548387\n",
      "MSE is:  0.4778225806451613\n",
      "The Accuracy sore and MSE for Features:  125\n",
      "Accuracy is:  0.5181451612903226\n",
      "MSE is:  0.48185483870967744\n",
      "The Accuracy sore and MSE for Features:  130\n",
      "Accuracy is:  0.5201612903225806\n",
      "MSE is:  0.4798387096774194\n",
      "The Accuracy sore and MSE for Features:  135\n",
      "Accuracy is:  0.5221774193548387\n",
      "MSE is:  0.4778225806451613\n",
      "The Accuracy sore and MSE for Features:  140\n",
      "Accuracy is:  0.5120967741935484\n",
      "MSE is:  0.4879032258064516\n",
      "The Accuracy sore and MSE for Features:  145\n",
      "Accuracy is:  0.5120967741935484\n",
      "MSE is:  0.4879032258064516\n",
      "The Accuracy sore and MSE for Features:  150\n",
      "Accuracy is:  0.5\n",
      "MSE is:  0.5\n",
      "The Accuracy sore and MSE for Features:  155\n",
      "Accuracy is:  0.5080645161290323\n",
      "MSE is:  0.49193548387096775\n",
      "The Accuracy sore and MSE for Features:  160\n",
      "Accuracy is:  0.49798387096774194\n",
      "MSE is:  0.5020161290322581\n",
      "The Accuracy sore and MSE for Features:  165\n",
      "Accuracy is:  0.47580645161290325\n",
      "MSE is:  0.5241935483870968\n",
      "The Accuracy sore and MSE for Features:  170\n",
      "Accuracy is:  0.4737903225806452\n",
      "MSE is:  0.5262096774193549\n",
      "The Accuracy sore and MSE for Features:  175\n",
      "Accuracy is:  0.4879032258064516\n",
      "MSE is:  0.5120967741935484\n",
      "The Accuracy sore and MSE for Features:  180\n",
      "Accuracy is:  0.4899193548387097\n",
      "MSE is:  0.5100806451612904\n",
      "The Accuracy sore and MSE for Features:  185\n",
      "Accuracy is:  0.4778225806451613\n",
      "MSE is:  0.5221774193548387\n",
      "The Accuracy sore and MSE for Features:  190\n",
      "Accuracy is:  0.4838709677419355\n",
      "MSE is:  0.5161290322580645\n",
      "The Accuracy sore and MSE for Features:  195\n",
      "Accuracy is:  0.4778225806451613\n",
      "MSE is:  0.5221774193548387\n",
      "The Accuracy sore and MSE for Features:  200\n",
      "Accuracy is:  0.48185483870967744\n",
      "MSE is:  0.5181451612903226\n",
      "The Accuracy sore and MSE for Features:  205\n",
      "Accuracy is:  0.4717741935483871\n",
      "MSE is:  0.5282258064516129\n",
      "The Accuracy sore and MSE for Features:  210\n",
      "Accuracy is:  0.4838709677419355\n",
      "MSE is:  0.5161290322580645\n",
      "The Accuracy sore and MSE for Features:  215\n",
      "Accuracy is:  0.4717741935483871\n",
      "MSE is:  0.5282258064516129\n",
      "The Accuracy sore and MSE for Features:  220\n",
      "Accuracy is:  0.4798387096774194\n",
      "MSE is:  0.5201612903225806\n",
      "The Accuracy sore and MSE for Features:  225\n",
      "Accuracy is:  0.4899193548387097\n",
      "MSE is:  0.5100806451612904\n",
      "The Accuracy sore and MSE for Features:  230\n",
      "Accuracy is:  0.47580645161290325\n",
      "MSE is:  0.5241935483870968\n",
      "The Accuracy sore and MSE for Features:  235\n",
      "Accuracy is:  0.46975806451612906\n",
      "MSE is:  0.530241935483871\n",
      "The Accuracy sore and MSE for Features:  240\n",
      "Accuracy is:  0.4717741935483871\n",
      "MSE is:  0.5282258064516129\n",
      "The Accuracy sore and MSE for Features:  245\n",
      "Accuracy is:  0.47580645161290325\n",
      "MSE is:  0.5241935483870968\n",
      "The Accuracy sore and MSE for Features:  250\n",
      "Accuracy is:  0.46975806451612906\n",
      "MSE is:  0.530241935483871\n",
      "The Accuracy sore and MSE for Features:  255\n",
      "Accuracy is:  0.48185483870967744\n",
      "MSE is:  0.5181451612903226\n"
     ]
    }
   ],
   "source": [
    "MSE = []\n",
    "Accuracy = []\n",
    "MaxFeatures = []\n",
    "\n",
    "for x in range(10,260,5):\n",
    "    tfdif = TfidfVectorizer(stop_words='english', ngram_range=(2, 3), min_df=30,  max_features=x)\n",
    "    sent_vectors=tfdif.fit_transform(Text)\n",
    "    #Words = tfdif.get_feature_names()\n",
    "    df1 = pd.DataFrame(sent_vectors.toarray(), columns=tfdif.get_feature_names())\n",
    "    res1 = pd.concat([News_DIJA_data, df1], axis=1)\n",
    "    res1.drop(res1.iloc[:,2:27],axis=1, inplace=True)\n",
    "    res1.dropna(how='any', inplace=True)\n",
    "    feature_cols = tfdif.get_feature_names()\n",
    "\n",
    "    X = res1[feature_cols]\n",
    "    y = res1.Label\n",
    "    X_train, X_test, y_train, y_test = train_test_split(X, y, random_state=1)\n",
    "\n",
    "    logreg = LogisticRegression(C=1e9)\n",
    "    logreg.fit(X_train, y_train)\n",
    "    label_pred = logreg.predict(X_test)\n",
    "    \n",
    "    AccuracyScore = metrics.accuracy_score(y_test, label_pred)\n",
    "    MeanSquaredError = mean_squared_error(y_test, label_pred)\n",
    "    \n",
    "    MaxFeatures.append(x)\n",
    "    Accuracy.append(AccuracyScore)\n",
    "    MSE.append(MeanSquaredError)\n",
    "    \n",
    "    print(\"The Accuracy sore and MSE for Features: \", x)\n",
    "    print(\"Accuracy is: \", AccuracyScore )\n",
    "    print(\"MSE is: \", MeanSquaredError )\n"
   ]
  },
  {
   "cell_type": "code",
   "execution_count": 137,
   "metadata": {},
   "outputs": [
    {
     "name": "stdout",
     "output_type": "stream",
     "text": [
      "[0.5120967741935484, 0.5141129032258065, 0.530241935483871, 0.5161290322580645, 0.5221774193548387, 0.5181451612903226, 0.5141129032258065, 0.5040322580645161, 0.530241935483871, 0.530241935483871, 0.5282258064516129, 0.5342741935483871, 0.5262096774193549, 0.5241935483870968, 0.5262096774193549, 0.530241935483871, 0.5181451612903226, 0.5241935483870968, 0.5221774193548387, 0.5383064516129032, 0.5443548387096774, 0.5262096774193549, 0.5221774193548387, 0.5181451612903226, 0.5201612903225806, 0.5221774193548387, 0.5120967741935484, 0.5120967741935484, 0.5, 0.5080645161290323, 0.49798387096774194, 0.47580645161290325, 0.4737903225806452, 0.4879032258064516, 0.4899193548387097, 0.4778225806451613, 0.4838709677419355, 0.4778225806451613, 0.48185483870967744, 0.4717741935483871, 0.4838709677419355, 0.4717741935483871, 0.4798387096774194, 0.4899193548387097, 0.47580645161290325, 0.46975806451612906, 0.4717741935483871, 0.47580645161290325, 0.46975806451612906, 0.48185483870967744]\n"
     ]
    }
   ],
   "source": [
    "print(Accuracy)"
   ]
  },
  {
   "cell_type": "code",
   "execution_count": 138,
   "metadata": {},
   "outputs": [
    {
     "name": "stdout",
     "output_type": "stream",
     "text": [
      "[0.4879032258064516, 0.48588709677419356, 0.46975806451612906, 0.4838709677419355, 0.4778225806451613, 0.48185483870967744, 0.48588709677419356, 0.4959677419354839, 0.46975806451612906, 0.46975806451612906, 0.4717741935483871, 0.4657258064516129, 0.4737903225806452, 0.47580645161290325, 0.4737903225806452, 0.46975806451612906, 0.48185483870967744, 0.47580645161290325, 0.4778225806451613, 0.46169354838709675, 0.45564516129032256, 0.4737903225806452, 0.4778225806451613, 0.48185483870967744, 0.4798387096774194, 0.4778225806451613, 0.4879032258064516, 0.4879032258064516, 0.5, 0.49193548387096775, 0.5020161290322581, 0.5241935483870968, 0.5262096774193549, 0.5120967741935484, 0.5100806451612904, 0.5221774193548387, 0.5161290322580645, 0.5221774193548387, 0.5181451612903226, 0.5282258064516129, 0.5161290322580645, 0.5282258064516129, 0.5201612903225806, 0.5100806451612904, 0.5241935483870968, 0.530241935483871, 0.5282258064516129, 0.5241935483870968, 0.530241935483871, 0.5181451612903226]\n"
     ]
    }
   ],
   "source": [
    "print(MSE)"
   ]
  },
  {
   "cell_type": "code",
   "execution_count": 139,
   "metadata": {},
   "outputs": [
    {
     "data": {
      "text/plain": [
       "Text(120,0.54,'Max Features above mean')"
      ]
     },
     "execution_count": 139,
     "metadata": {},
     "output_type": "execute_result"
    },
    {
     "data": {
      "image/png": "[encoded data removed]",
      "text/plain": [
       "<matplotlib.figure.Figure at 0x7fb687866940>"
      ]
     },
     "metadata": {},
     "output_type": "display_data"
    }
   ],
   "source": [
    "import matplotlib.pyplot as plt\n",
    "plt.plot(MaxFeatures, Accuracy, linewidth=2.0)\n",
    "#hlines(Label_Mean, 5, 150)\n",
    "#plt.plot([Label_Mean, Label_Mean], [5, 150], color='k', linestyle='-', linewidth=2)\n",
    "plt.axhline(y=.534743, color = 'r')\n",
    "plt.annotate('Max Features above mean', xy=(110, 0.544), xytext=(120, 0.54),\n",
    "            arrowprops=dict(facecolor='black', shrink=0.05),\n",
    "            )"
   ]
  },
  {
   "cell_type": "code",
   "execution_count": 140,
   "metadata": {},
   "outputs": [
    {
     "data": {
      "text/plain": [
       "Text(120,0.46,'Lowest MSE')"
      ]
     },
     "execution_count": 140,
     "metadata": {},
     "output_type": "execute_result"
    },
    {
     "data": {
      "image/png": "[encoded data removed]",
      "text/plain": [
       "<matplotlib.figure.Figure at 0x7fb687585358>"
      ]
     },
     "metadata": {},
     "output_type": "display_data"
    }
   ],
   "source": [
    "plt.plot(MaxFeatures, MSE, linewidth=2.0)\n",
    "#hlines(Label_Mean, 5, 150)\n",
    "#plt.plot([Label_Mean, Label_Mean], [5, 150], color='k', linestyle='-', linewidth=2)\n",
    "plt.annotate('Lowest MSE', xy=(110, 0.455), xytext=(120, 0.46),\n",
    "            arrowprops=dict(facecolor='black', shrink=0.05),\n",
    "            )"
   ]
  },
  {
   "cell_type": "code",
   "execution_count": 141,
   "metadata": {},
   "outputs": [
    {
     "data": {
      "image/png": "[encoded data removed]",
      "text/plain": [
       "<matplotlib.figure.Figure at 0x7fb68a8186d8>"
      ]
     },
     "metadata": {},
     "output_type": "display_data"
    }
   ],
   "source": [
    "from sklearn.metrics import roc_auc_score\n",
    "from sklearn.metrics import roc_curve\n",
    "logit_roc_auc = roc_auc_score(y_test, logreg.predict(X_test))\n",
    "fpr, tpr, thresholds = roc_curve(y_test, logreg.predict_proba(X_test)[:,1])\n",
    "plt.figure()\n",
    "plt.plot(fpr, tpr, label='Logistic Regression (area = %0.2f)' % logit_roc_auc)\n",
    "plt.plot([0, 1], [0, 1],'r--')\n",
    "plt.xlim([0.0, 1.0])\n",
    "plt.ylim([0.0, 1.05])\n",
    "plt.xlabel('False Positive Rate')\n",
    "plt.ylabel('True Positive Rate')\n",
    "plt.title('Receiver operating characteristic')\n",
    "plt.legend(loc=\"lower right\")\n",
    "plt.savefig('Log_ROC')\n",
    "plt.show()"
   ]
  },
  {
   "cell_type": "code",
   "execution_count": 144,
   "metadata": {},
   "outputs": [
    {
     "ename": "MemoryError",
     "evalue": "",
     "output_type": "error",
     "traceback": [
      "\u001b[0;31m---------------------------------------------------------------------------\u001b[0m",
      "\u001b[0;31mMemoryError\u001b[0m                               Traceback (most recent call last)",
      "\u001b[0;32m<ipython-input-144-54b1717196ca>\u001b[0m in \u001b[0;36m<module>\u001b[0;34m()\u001b[0m\n\u001b[1;32m      9\u001b[0m     \u001b[0msent_vectors\u001b[0m\u001b[0;34m=\u001b[0m\u001b[0mtfdif\u001b[0m\u001b[0;34m.\u001b[0m\u001b[0mfit_transform\u001b[0m\u001b[0;34m(\u001b[0m\u001b[0mText\u001b[0m\u001b[0;34m)\u001b[0m\u001b[0;34m\u001b[0m\u001b[0m\n\u001b[1;32m     10\u001b[0m     \u001b[0;31m#Words = tfdif.get_feature_names()\u001b[0m\u001b[0;34m\u001b[0m\u001b[0;34m\u001b[0m\u001b[0m\n\u001b[0;32m---> 11\u001b[0;31m     \u001b[0mdf4\u001b[0m \u001b[0;34m=\u001b[0m \u001b[0mpd\u001b[0m\u001b[0;34m.\u001b[0m\u001b[0mDataFrame\u001b[0m\u001b[0;34m(\u001b[0m\u001b[0msent_vectors\u001b[0m\u001b[0;34m.\u001b[0m\u001b[0mtoarray\u001b[0m\u001b[0;34m(\u001b[0m\u001b[0;34m)\u001b[0m\u001b[0;34m,\u001b[0m \u001b[0mcolumns\u001b[0m\u001b[0;34m=\u001b[0m\u001b[0mtfdif\u001b[0m\u001b[0;34m.\u001b[0m\u001b[0mget_feature_names\u001b[0m\u001b[0;34m(\u001b[0m\u001b[0;34m)\u001b[0m\u001b[0;34m)\u001b[0m\u001b[0;34m\u001b[0m\u001b[0m\n\u001b[0m\u001b[1;32m     12\u001b[0m     \u001b[0mres4\u001b[0m \u001b[0;34m=\u001b[0m \u001b[0mpd\u001b[0m\u001b[0;34m.\u001b[0m\u001b[0mconcat\u001b[0m\u001b[0;34m(\u001b[0m\u001b[0;34m[\u001b[0m\u001b[0mNews_DIJA_data\u001b[0m\u001b[0;34m,\u001b[0m \u001b[0mdf4\u001b[0m\u001b[0;34m]\u001b[0m\u001b[0;34m,\u001b[0m \u001b[0maxis\u001b[0m\u001b[0;34m=\u001b[0m\u001b[0;36m1\u001b[0m\u001b[0;34m)\u001b[0m\u001b[0;34m\u001b[0m\u001b[0m\n\u001b[1;32m     13\u001b[0m     \u001b[0mres4\u001b[0m\u001b[0;34m.\u001b[0m\u001b[0mdrop\u001b[0m\u001b[0;34m(\u001b[0m\u001b[0mres4\u001b[0m\u001b[0;34m.\u001b[0m\u001b[0miloc\u001b[0m\u001b[0;34m[\u001b[0m\u001b[0;34m:\u001b[0m\u001b[0;34m,\u001b[0m\u001b[0;36m2\u001b[0m\u001b[0;34m:\u001b[0m\u001b[0;36m27\u001b[0m\u001b[0;34m]\u001b[0m\u001b[0;34m,\u001b[0m\u001b[0maxis\u001b[0m\u001b[0;34m=\u001b[0m\u001b[0;36m1\u001b[0m\u001b[0;34m,\u001b[0m \u001b[0minplace\u001b[0m\u001b[0;34m=\u001b[0m\u001b[0;32mTrue\u001b[0m\u001b[0;34m)\u001b[0m\u001b[0;34m\u001b[0m\u001b[0m\n",
      "\u001b[0;32m/usr/local/lib/python3.5/dist-packages/scipy/sparse/compressed.py\u001b[0m in \u001b[0;36mtoarray\u001b[0;34m(self, order, out)\u001b[0m\n\u001b[1;32m    941\u001b[0m         \u001b[0;32mif\u001b[0m \u001b[0mout\u001b[0m \u001b[0;32mis\u001b[0m \u001b[0;32mNone\u001b[0m \u001b[0;32mand\u001b[0m \u001b[0morder\u001b[0m \u001b[0;32mis\u001b[0m \u001b[0;32mNone\u001b[0m\u001b[0;34m:\u001b[0m\u001b[0;34m\u001b[0m\u001b[0m\n\u001b[1;32m    942\u001b[0m             \u001b[0morder\u001b[0m \u001b[0;34m=\u001b[0m \u001b[0mself\u001b[0m\u001b[0;34m.\u001b[0m\u001b[0m_swap\u001b[0m\u001b[0;34m(\u001b[0m\u001b[0;34m'cf'\u001b[0m\u001b[0;34m)\u001b[0m\u001b[0;34m[\u001b[0m\u001b[0;36m0\u001b[0m\u001b[0;34m]\u001b[0m\u001b[0;34m\u001b[0m\u001b[0m\n\u001b[0;32m--> 943\u001b[0;31m         \u001b[0mout\u001b[0m \u001b[0;34m=\u001b[0m \u001b[0mself\u001b[0m\u001b[0;34m.\u001b[0m\u001b[0m_process_toarray_args\u001b[0m\u001b[0;34m(\u001b[0m\u001b[0morder\u001b[0m\u001b[0;34m,\u001b[0m \u001b[0mout\u001b[0m\u001b[0;34m)\u001b[0m\u001b[0;34m\u001b[0m\u001b[0m\n\u001b[0m\u001b[1;32m    944\u001b[0m         \u001b[0;32mif\u001b[0m \u001b[0;32mnot\u001b[0m \u001b[0;34m(\u001b[0m\u001b[0mout\u001b[0m\u001b[0;34m.\u001b[0m\u001b[0mflags\u001b[0m\u001b[0;34m.\u001b[0m\u001b[0mc_contiguous\u001b[0m \u001b[0;32mor\u001b[0m \u001b[0mout\u001b[0m\u001b[0;34m.\u001b[0m\u001b[0mflags\u001b[0m\u001b[0;34m.\u001b[0m\u001b[0mf_contiguous\u001b[0m\u001b[0;34m)\u001b[0m\u001b[0;34m:\u001b[0m\u001b[0;34m\u001b[0m\u001b[0m\n\u001b[1;32m    945\u001b[0m             \u001b[0;32mraise\u001b[0m \u001b[0mValueError\u001b[0m\u001b[0;34m(\u001b[0m\u001b[0;34m'Output array must be C or F contiguous'\u001b[0m\u001b[0;34m)\u001b[0m\u001b[0;34m\u001b[0m\u001b[0m\n",
      "\u001b[0;32m/usr/local/lib/python3.5/dist-packages/scipy/sparse/base.py\u001b[0m in \u001b[0;36m_process_toarray_args\u001b[0;34m(self, order, out)\u001b[0m\n\u001b[1;32m   1128\u001b[0m             \u001b[0;32mreturn\u001b[0m \u001b[0mout\u001b[0m\u001b[0;34m\u001b[0m\u001b[0m\n\u001b[1;32m   1129\u001b[0m         \u001b[0;32melse\u001b[0m\u001b[0;34m:\u001b[0m\u001b[0;34m\u001b[0m\u001b[0m\n\u001b[0;32m-> 1130\u001b[0;31m             \u001b[0;32mreturn\u001b[0m \u001b[0mnp\u001b[0m\u001b[0;34m.\u001b[0m\u001b[0mzeros\u001b[0m\u001b[0;34m(\u001b[0m\u001b[0mself\u001b[0m\u001b[0;34m.\u001b[0m\u001b[0mshape\u001b[0m\u001b[0;34m,\u001b[0m \u001b[0mdtype\u001b[0m\u001b[0;34m=\u001b[0m\u001b[0mself\u001b[0m\u001b[0;34m.\u001b[0m\u001b[0mdtype\u001b[0m\u001b[0;34m,\u001b[0m \u001b[0morder\u001b[0m\u001b[0;34m=\u001b[0m\u001b[0morder\u001b[0m\u001b[0;34m)\u001b[0m\u001b[0;34m\u001b[0m\u001b[0m\n\u001b[0m\u001b[1;32m   1131\u001b[0m \u001b[0;34m\u001b[0m\u001b[0m\n\u001b[1;32m   1132\u001b[0m     \u001b[0;32mdef\u001b[0m \u001b[0m__numpy_ufunc__\u001b[0m\u001b[0;34m(\u001b[0m\u001b[0mself\u001b[0m\u001b[0;34m,\u001b[0m \u001b[0mfunc\u001b[0m\u001b[0;34m,\u001b[0m \u001b[0mmethod\u001b[0m\u001b[0;34m,\u001b[0m \u001b[0mpos\u001b[0m\u001b[0;34m,\u001b[0m \u001b[0minputs\u001b[0m\u001b[0;34m,\u001b[0m \u001b[0;34m**\u001b[0m\u001b[0mkwargs\u001b[0m\u001b[0;34m)\u001b[0m\u001b[0;34m:\u001b[0m\u001b[0;34m\u001b[0m\u001b[0m\n",
      "\u001b[0;31mMemoryError\u001b[0m: "
     ]
    }
   ],
   "source": [
    "import numpy as np\n",
    "C_Values = list(np.power(10.0, np.arange(-10, 10)))\n",
    "#print (C_Values)\n",
    "MSE = []\n",
    "Accuracy = []\n",
    "\n",
    "for z in C_Values:\n",
    "    tfdif = TfidfVectorizer(stop_words='english', ngram_range=(2, 3))\n",
    "    sent_vectors=tfdif.fit_transform(Text)\n",
    "    #Words = tfdif.get_feature_names()\n",
    "    df4 = pd.DataFrame(sent_vectors.toarray(), columns=tfdif.get_feature_names())\n",
    "    res4 = pd.concat([News_DIJA_data, df4], axis=1)\n",
    "    res4.drop(res4.iloc[:,2:27],axis=1, inplace=True)\n",
    "    res4.dropna(how='any', inplace=True)\n",
    "    feature_cols = tfdif.get_feature_names()\n",
    "\n",
    "    X = res4[feature_cols]\n",
    "    y = res4.Label\n",
    "    X_train, X_test, y_train, y_test = train_test_split(X, y, random_state=1)\n",
    "\n",
    "    logreg = LogisticRegression(C=z)\n",
    "    logreg.fit(X_train, y_train)\n",
    "    label_pred = logreg.predict(X_test)\n",
    "    \n",
    "    AccuracyScore = metrics.accuracy_score(y_test, label_pred)\n",
    "    MeanSquaredError = mean_squared_error(y_test, label_pred)\n",
    "    \n",
    "    Accuracy.append(AccuracyScore)\n",
    "    MSE.append(MeanSquaredError)\n",
    "    \n",
    "    print(\"The Accuracy sore and MSE for C Values: \", z)\n",
    "    print(\"Accuracy is: \", AccuracyScore )\n",
    "    print(\"MSE is: \", MeanSquaredError )"
   ]
  },
  {
   "cell_type": "code",
   "execution_count": 143,
   "metadata": {},
   "outputs": [
    {
     "data": {
      "text/plain": [
       "Text(7,0.53,'C Value above mean')"
      ]
     },
     "execution_count": 143,
     "metadata": {},
     "output_type": "execute_result"
    },
    {
     "data": {
      "image/png": "[encoded data removed]",
      "text/plain": [
       "<matplotlib.figure.Figure at 0x7fb68639fba8>"
      ]
     },
     "metadata": {},
     "output_type": "display_data"
    }
   ],
   "source": [
    "import matplotlib.pyplot as plt\n",
    "import numpy as np\n",
    "\n",
    "plt.plot(np.log(C_Values), Accuracy, marker='o',linewidth=2.0)\n",
    "plt.axhline(y=.534743, color = 'r')\n",
    "plt.annotate('C Value above mean', xy=(2, 0.544), xytext=(7, 0.53),\n",
    "            arrowprops=dict(facecolor='black', shrink=0.05),\n",
    "            )"
   ]
  },
  {
   "cell_type": "code",
   "execution_count": 56,
   "metadata": {},
   "outputs": [
    {
     "name": "stdout",
     "output_type": "stream",
     "text": [
      "The Accuracy sore and MSE for Features:  10\n",
      "Accuracy is:  0.5100806451612904\n",
      "MSE is:  0.4899193548387097\n",
      "The Accuracy sore and MSE for Features:  15\n",
      "Accuracy is:  0.5120967741935484\n",
      "MSE is:  0.4879032258064516\n",
      "The Accuracy sore and MSE for Features:  20\n",
      "Accuracy is:  0.530241935483871\n",
      "MSE is:  0.46975806451612906\n",
      "The Accuracy sore and MSE for Features:  25\n",
      "Accuracy is:  0.5181451612903226\n",
      "MSE is:  0.48185483870967744\n",
      "The Accuracy sore and MSE for Features:  30\n",
      "Accuracy is:  0.5221774193548387\n",
      "MSE is:  0.4778225806451613\n",
      "The Accuracy sore and MSE for Features:  35\n",
      "Accuracy is:  0.5181451612903226\n",
      "MSE is:  0.48185483870967744\n",
      "The Accuracy sore and MSE for Features:  40\n",
      "Accuracy is:  0.5161290322580645\n",
      "MSE is:  0.4838709677419355\n",
      "The Accuracy sore and MSE for Features:  45\n",
      "Accuracy is:  0.5040322580645161\n",
      "MSE is:  0.4959677419354839\n",
      "The Accuracy sore and MSE for Features:  50\n",
      "Accuracy is:  0.5141129032258065\n",
      "MSE is:  0.48588709677419356\n",
      "The Accuracy sore and MSE for Features:  55\n",
      "Accuracy is:  0.532258064516129\n",
      "MSE is:  0.46774193548387094\n",
      "The Accuracy sore and MSE for Features:  60\n",
      "Accuracy is:  0.5342741935483871\n",
      "MSE is:  0.4657258064516129\n",
      "The Accuracy sore and MSE for Features:  65\n",
      "Accuracy is:  0.5181451612903226\n",
      "MSE is:  0.48185483870967744\n",
      "The Accuracy sore and MSE for Features:  70\n",
      "Accuracy is:  0.5201612903225806\n",
      "MSE is:  0.4798387096774194\n",
      "The Accuracy sore and MSE for Features:  75\n",
      "Accuracy is:  0.5282258064516129\n",
      "MSE is:  0.4717741935483871\n",
      "The Accuracy sore and MSE for Features:  80\n",
      "Accuracy is:  0.5282258064516129\n",
      "MSE is:  0.4717741935483871\n",
      "The Accuracy sore and MSE for Features:  85\n",
      "Accuracy is:  0.530241935483871\n",
      "MSE is:  0.46975806451612906\n",
      "The Accuracy sore and MSE for Features:  90\n",
      "Accuracy is:  0.5262096774193549\n",
      "MSE is:  0.4737903225806452\n",
      "The Accuracy sore and MSE for Features:  95\n",
      "Accuracy is:  0.5161290322580645\n",
      "MSE is:  0.4838709677419355\n",
      "The Accuracy sore and MSE for Features:  100\n",
      "Accuracy is:  0.5262096774193549\n",
      "MSE is:  0.4737903225806452\n",
      "The Accuracy sore and MSE for Features:  105\n",
      "Accuracy is:  0.5423387096774194\n",
      "MSE is:  0.4576612903225806\n",
      "The Accuracy sore and MSE for Features:  110\n",
      "Accuracy is:  0.5443548387096774\n",
      "MSE is:  0.45564516129032256\n",
      "The Accuracy sore and MSE for Features:  115\n",
      "Accuracy is:  0.5241935483870968\n",
      "MSE is:  0.47580645161290325\n",
      "The Accuracy sore and MSE for Features:  120\n",
      "Accuracy is:  0.5342741935483871\n",
      "MSE is:  0.4657258064516129\n",
      "The Accuracy sore and MSE for Features:  125\n",
      "Accuracy is:  0.5262096774193549\n",
      "MSE is:  0.4737903225806452\n",
      "The Accuracy sore and MSE for Features:  130\n",
      "Accuracy is:  0.5262096774193549\n",
      "MSE is:  0.4737903225806452\n",
      "The Accuracy sore and MSE for Features:  135\n",
      "Accuracy is:  0.5181451612903226\n",
      "MSE is:  0.48185483870967744\n",
      "The Accuracy sore and MSE for Features:  140\n",
      "Accuracy is:  0.5120967741935484\n",
      "MSE is:  0.4879032258064516\n"
     ]
    }
   ],
   "source": [
    "MSE = []\n",
    "Accuracy = []\n",
    "MaxFeatures = []\n",
    "\n",
    "for x in range(10,145,5):\n",
    "    tfdif = TfidfVectorizer(stop_words='english', ngram_range=(2, 3), min_df=10,  max_features=x)\n",
    "    sent_vectors=tfdif.fit_transform(Text)\n",
    "    #Words = tfdif.get_feature_names()\n",
    "    df3 = pd.DataFrame(sent_vectors.toarray(), columns=tfdif.get_feature_names())\n",
    "    res3 = pd.concat([News_DIJA_data, df3], axis=1)\n",
    "    res3.drop(res3.iloc[:,2:27],axis=1, inplace=True)\n",
    "    res3.dropna(how='any', inplace=True)\n",
    "    feature_cols = tfdif.get_feature_names()\n",
    "\n",
    "    X = res3[feature_cols]\n",
    "    y = res3.Label\n",
    "    X_train, X_test, y_train, y_test = train_test_split(X, y, random_state=1)\n",
    "\n",
    "    logreg = LogisticRegression(C=10)\n",
    "    logreg.fit(X_train, y_train)\n",
    "    label_pred = logreg.predict(X_test)\n",
    "    \n",
    "    AccuracyScore = metrics.accuracy_score(y_test, label_pred)\n",
    "    MeanSquaredError = mean_squared_error(y_test, label_pred)\n",
    "    \n",
    "    MaxFeatures.append(x)\n",
    "    Accuracy.append(AccuracyScore)\n",
    "    MSE.append(MeanSquaredError)\n",
    "    \n",
    "    print(\"The Accuracy sore and MSE for Features: \", x)\n",
    "    print(\"Accuracy is: \", AccuracyScore )\n",
    "    print(\"MSE is: \", MeanSquaredError )\n"
   ]
  },
  {
   "cell_type": "code",
   "execution_count": 60,
   "metadata": {},
   "outputs": [
    {
     "data": {
      "text/plain": [
       "Text(90,0.54,'Max Features above mean')"
      ]
     },
     "execution_count": 60,
     "metadata": {},
     "output_type": "execute_result"
    },
    {
     "data": {
      "image/png": "[encoded data removed]",
      "text/plain": [
       "<matplotlib.figure.Figure at 0x7fb687dde630>"
      ]
     },
     "metadata": {},
     "output_type": "display_data"
    }
   ],
   "source": [
    "plt.plot(MaxFeatures, Accuracy, linewidth=2.0)\n",
    "#hlines(Label_Mean, 5, 150)\n",
    "#plt.plot([Label_Mean, Label_Mean], [5, 150], color='k', linestyle='-', linewidth=2)\n",
    "plt.axhline(y=.534743, color = 'r')\n",
    "plt.annotate('Max Features above mean', xy=(110, 0.544), xytext=(90, 0.54),\n",
    "            arrowprops=dict(facecolor='black', shrink=0.05),\n",
    "            )"
   ]
  },
  {
   "cell_type": "code",
   "execution_count": 61,
   "metadata": {},
   "outputs": [
    {
     "name": "stdout",
     "output_type": "stream",
     "text": [
      "['000 people', '000 year', '10 000', '10 years', '100 000', '20 years', '30 000', '30 years', 'air force', 'al jazeera', 'al qaeda', 'al qaida', 'barack obama', 'barrier reef', 'bbc news', 'bin laden', 'boko haram', 'catholic church', 'chemical weapons', 'child abuse', 'civil war', 'climate change', 'court rules', 'david cameron', 'death penalty', 'death toll', 'drug war', 'east jerusalem', 'edward snowden', 'european union', 'far right', 'foreign minister', 'fukushima nuclear', 'gay marriage', 'gaza strip', 'global warming', 'high court', 'hong kong', 'human rights', 'iraq war', 'islamic state', 'julian assange', 'kim jong', 'middle east', 'million people', 'minister says', 'new law', 'new york', 'new zealand', 'nobel peace', 'north korea', 'north korean', 'north koreas', 'nuclear plant', 'nuclear power', 'nuclear weapons', 'officials say', 'oil spill', 'old girl', 'osama bin', 'peace prize', 'people killed', 'phone hacking', 'pirate bay', 'pirate party', 'police officer', 'police officers', 'pope francis', 'president vladimir', 'prime minister', 'renewable energy', 'right wing', 'rights watch', 'said monday', 'said tuesday', 'saudi arabia', 'security council', 'security forces', 'sentenced death', 'sex abuse', 'sexual abuse', 'shot dead', 'social media', 'south africa', 'south african', 'south korea', 'south korean', 'supreme court', 'tear gas', 'tens thousands', 'tony blair', 'uk government', 'united nations', 'united states', 'vladimir putin', 'war crimes', 'war drugs', 'west bank', 'wikileaks founder', 'world bank', 'world cup', 'world war', 'worlds biggest', 'worlds largest', 'year old', 'year old girl', 'years ago', 'years jail', 'years prison', 'yr old']\n"
     ]
    }
   ],
   "source": [
    "tfdif = TfidfVectorizer(stop_words='english', ngram_range=(2, 3), min_df=10,  max_features=110)\n",
    "sent_vectors=tfdif.fit_transform(Text)\n",
    "Words = tfdif.get_feature_names()\n",
    "print(Words)\n"
   ]
  },
  {
   "cell_type": "code",
   "execution_count": 62,
   "metadata": {},
   "outputs": [
    {
     "name": "stdout",
     "output_type": "stream",
     "text": [
      "      000 people  000 year    10 000  10 years   100 000  20 years  30 000  \\\n",
      "0       0.000000  0.000000  0.000000       0.0  0.000000       0.0     0.0   \n",
      "1       0.000000  0.000000  0.000000       0.0  0.000000       0.0     0.0   \n",
      "2       0.000000  0.000000  0.000000       0.0  0.000000       0.0     0.0   \n",
      "3       0.000000  0.000000  0.000000       0.0  0.000000       0.0     0.0   \n",
      "4       0.000000  0.000000  0.000000       0.0  0.000000       0.0     0.0   \n",
      "5       0.000000  0.000000  0.000000       0.0  0.000000       0.0     0.0   \n",
      "6       0.000000  0.000000  0.000000       0.0  0.000000       0.0     0.0   \n",
      "7       0.000000  0.000000  0.000000       0.0  0.000000       0.0     0.0   \n",
      "8       0.000000  0.000000  0.000000       0.0  0.000000       0.0     0.0   \n",
      "9       0.000000  0.000000  0.000000       0.0  0.000000       0.0     0.0   \n",
      "10      0.000000  0.000000  0.000000       0.0  0.000000       0.0     0.0   \n",
      "11      0.000000  0.000000  0.000000       0.0  0.000000       0.0     0.0   \n",
      "12      0.000000  0.000000  0.000000       0.0  0.000000       0.0     0.0   \n",
      "13      0.000000  0.000000  0.000000       0.0  0.000000       0.0     0.0   \n",
      "14      0.000000  0.000000  0.000000       0.0  0.000000       0.0     0.0   \n",
      "15      0.000000  0.000000  0.000000       0.0  0.000000       0.0     0.0   \n",
      "16      0.000000  0.000000  0.000000       0.0  0.000000       0.0     0.0   \n",
      "17      0.000000  0.000000  0.000000       0.0  0.000000       0.0     0.0   \n",
      "18      0.000000  0.000000  0.000000       0.0  0.000000       0.0     0.0   \n",
      "19      0.000000  0.000000  0.000000       0.0  0.000000       0.0     0.0   \n",
      "20      0.000000  0.000000  0.000000       0.0  0.000000       0.0     0.0   \n",
      "21      0.000000  0.000000  0.000000       0.0  0.000000       0.0     0.0   \n",
      "22      0.000000  0.000000  0.000000       0.0  0.000000       0.0     0.0   \n",
      "23      0.000000  0.000000  0.000000       0.0  0.000000       0.0     0.0   \n",
      "24      0.000000  0.000000  0.000000       0.0  0.000000       0.0     0.0   \n",
      "25      0.000000  0.000000  0.000000       0.0  0.000000       0.0     0.0   \n",
      "26      0.000000  0.000000  0.000000       0.0  0.000000       0.0     0.0   \n",
      "27      0.000000  0.000000  0.000000       0.0  0.000000       0.0     0.0   \n",
      "28      0.000000  0.000000  0.000000       0.0  0.000000       0.0     0.0   \n",
      "29      0.000000  0.000000  0.000000       0.0  0.000000       0.0     0.0   \n",
      "...          ...       ...       ...       ...       ...       ...     ...   \n",
      "1956    0.000000  0.000000  0.000000       0.0  0.000000       0.0     0.0   \n",
      "1957    0.000000  0.000000  0.000000       0.0  0.000000       0.0     0.0   \n",
      "1958    0.000000  0.000000  0.000000       0.0  0.000000       0.0     0.0   \n",
      "1959    0.000000  0.000000  0.000000       0.0  0.000000       0.0     0.0   \n",
      "1960    0.000000  0.000000  0.000000       0.0  0.000000       0.0     0.0   \n",
      "1961    0.000000  0.000000  0.000000       0.0  0.000000       0.0     0.0   \n",
      "1962    0.000000  0.000000  0.000000       0.0  0.000000       0.0     0.0   \n",
      "1963    0.000000  0.000000  0.000000       0.0  0.000000       0.0     0.0   \n",
      "1964    0.000000  0.000000  0.000000       0.0  0.000000       0.0     0.0   \n",
      "1965    0.000000  0.000000  0.000000       0.0  0.000000       0.0     0.0   \n",
      "1966    0.000000  0.000000  0.000000       0.0  0.338762       0.0     0.0   \n",
      "1967    0.000000  0.744576  0.000000       0.0  0.000000       0.0     0.0   \n",
      "1968    0.000000  0.000000  0.000000       0.0  0.000000       0.0     0.0   \n",
      "1969    0.000000  0.000000  0.707047       0.0  0.000000       0.0     0.0   \n",
      "1970    0.000000  0.000000  0.000000       0.0  0.000000       0.0     0.0   \n",
      "1971    0.000000  0.000000  0.000000       0.0  0.000000       0.0     0.0   \n",
      "1972    0.000000  0.000000  0.000000       0.0  0.000000       0.0     0.0   \n",
      "1973    0.000000  0.000000  0.000000       0.0  0.000000       0.0     0.0   \n",
      "1974    0.327683  0.000000  0.350288       0.0  0.000000       0.0     0.0   \n",
      "1975    0.000000  0.000000  0.000000       0.0  0.000000       0.0     0.0   \n",
      "1976    0.000000  0.000000  0.000000       0.0  0.000000       0.0     0.0   \n",
      "1977    0.000000  0.000000  0.000000       0.0  0.000000       0.0     0.0   \n",
      "1978    0.000000  0.000000  0.000000       0.0  0.000000       0.0     0.0   \n",
      "1979    0.000000  0.000000  0.000000       0.0  0.000000       0.0     0.0   \n",
      "1980    0.000000  0.000000  0.000000       0.0  0.000000       0.0     0.0   \n",
      "1981    0.000000  0.000000  0.000000       0.0  0.000000       0.0     0.0   \n",
      "1982    0.000000  0.000000  0.000000       0.0  0.000000       0.0     0.0   \n",
      "1983    0.000000  0.000000  0.000000       0.0  0.000000       0.0     0.0   \n",
      "1984    0.000000  0.000000  0.000000       0.0  0.000000       0.0     0.0   \n",
      "1985    0.000000  0.000000  0.000000       0.0  0.000000       0.0     0.0   \n",
      "\n",
      "      30 years  air force  al jazeera    ...     world cup  world war  \\\n",
      "0          0.0   0.000000         0.0    ...           0.0   0.476333   \n",
      "1          0.0   0.000000         0.0    ...           0.0   0.640775   \n",
      "2          0.0   0.000000         0.0    ...           0.0   0.000000   \n",
      "3          0.0   0.000000         0.0    ...           0.0   0.000000   \n",
      "4          0.0   0.000000         0.0    ...           0.0   0.000000   \n",
      "5          0.0   0.000000         0.0    ...           0.0   0.000000   \n",
      "6          0.0   0.000000         0.0    ...           0.0   0.000000   \n",
      "7          0.0   0.000000         0.0    ...           0.0   0.000000   \n",
      "8          0.0   0.000000         0.0    ...           0.0   0.000000   \n",
      "9          0.0   0.000000         0.0    ...           0.0   0.000000   \n",
      "10         0.0   0.000000         0.0    ...           0.0   0.000000   \n",
      "11         0.0   0.000000         0.0    ...           0.0   0.000000   \n",
      "12         0.0   0.000000         0.0    ...           0.0   0.000000   \n",
      "13         0.0   0.000000         0.0    ...           0.0   0.000000   \n",
      "14         0.0   0.000000         0.0    ...           0.0   0.000000   \n",
      "15         0.0   0.000000         0.0    ...           0.0   0.000000   \n",
      "16         0.0   0.000000         0.0    ...           0.0   0.000000   \n",
      "17         0.0   0.000000         0.0    ...           0.0   0.000000   \n",
      "18         0.0   0.000000         0.0    ...           0.0   0.000000   \n",
      "19         0.0   0.000000         0.0    ...           0.0   0.000000   \n",
      "20         0.0   0.000000         0.0    ...           0.0   0.000000   \n",
      "21         0.0   0.000000         0.0    ...           0.0   0.000000   \n",
      "22         0.0   0.000000         0.0    ...           0.0   0.000000   \n",
      "23         0.0   0.000000         0.0    ...           0.0   0.000000   \n",
      "24         0.0   0.000000         0.0    ...           0.0   0.000000   \n",
      "25         0.0   0.000000         0.0    ...           0.0   0.000000   \n",
      "26         0.0   0.000000         0.0    ...           0.0   0.000000   \n",
      "27         0.0   0.000000         0.0    ...           0.0   0.000000   \n",
      "28         0.0   0.000000         0.0    ...           0.0   0.000000   \n",
      "29         0.0   0.000000         0.0    ...           0.0   0.000000   \n",
      "...        ...        ...         ...    ...           ...        ...   \n",
      "1956       0.0   0.000000         0.0    ...           0.0   0.000000   \n",
      "1957       0.0   0.000000         0.0    ...           0.0   0.000000   \n",
      "1958       0.0   0.000000         0.0    ...           0.0   0.000000   \n",
      "1959       0.0   0.000000         0.0    ...           0.0   0.000000   \n",
      "1960       0.0   0.000000         0.0    ...           0.0   0.000000   \n",
      "1961       0.0   0.000000         0.0    ...           0.0   0.000000   \n",
      "1962       0.0   0.000000         0.0    ...           0.0   0.000000   \n",
      "1963       0.0   0.000000         0.0    ...           0.0   0.000000   \n",
      "1964       0.0   0.000000         0.0    ...           0.0   0.000000   \n",
      "1965       0.0   0.000000         0.0    ...           0.0   0.000000   \n",
      "1966       0.0   0.000000         0.0    ...           0.0   0.000000   \n",
      "1967       0.0   0.000000         0.0    ...           0.0   0.000000   \n",
      "1968       0.0   0.410567         0.0    ...           0.0   0.000000   \n",
      "1969       0.0   0.000000         0.0    ...           0.0   0.000000   \n",
      "1970       0.0   0.000000         0.0    ...           0.0   0.000000   \n",
      "1971       0.0   0.000000         0.0    ...           0.0   0.000000   \n",
      "1972       0.0   0.000000         0.0    ...           0.0   0.000000   \n",
      "1973       0.0   0.000000         0.0    ...           0.0   0.000000   \n",
      "1974       0.0   0.000000         0.0    ...           0.0   0.000000   \n",
      "1975       0.0   0.000000         0.0    ...           0.0   0.000000   \n",
      "1976       0.0   0.000000         0.0    ...           0.0   0.000000   \n",
      "1977       0.0   0.000000         0.0    ...           0.0   0.000000   \n",
      "1978       0.0   0.000000         0.0    ...           0.0   0.000000   \n",
      "1979       0.0   0.474816         0.0    ...           0.0   0.000000   \n",
      "1980       0.0   0.000000         0.0    ...           0.0   0.000000   \n",
      "1981       0.0   0.000000         0.0    ...           0.0   0.000000   \n",
      "1982       0.0   0.000000         0.0    ...           0.0   0.000000   \n",
      "1983       0.0   0.000000         0.0    ...           0.0   0.000000   \n",
      "1984       0.0   0.000000         0.0    ...           0.0   0.000000   \n",
      "1985       0.0   0.000000         0.0    ...           0.0   0.000000   \n",
      "\n",
      "      worlds biggest  worlds largest  year old  year old girl  years ago  \\\n",
      "0           0.000000        0.000000  0.281100       0.000000   0.000000   \n",
      "1           0.000000        0.000000  0.000000       0.000000   0.000000   \n",
      "2           0.000000        0.000000  0.546658       0.000000   0.000000   \n",
      "3           0.000000        0.000000  0.474474       0.000000   0.000000   \n",
      "4           0.000000        0.000000  0.000000       0.000000   0.000000   \n",
      "5           0.000000        0.000000  0.659480       0.000000   0.000000   \n",
      "6           0.000000        0.000000  0.000000       0.000000   0.000000   \n",
      "7           0.000000        0.000000  0.307707       0.000000   0.506809   \n",
      "8           0.000000        0.000000  0.000000       0.000000   0.000000   \n",
      "9           0.000000        0.000000  0.000000       0.000000   0.000000   \n",
      "10          0.000000        0.000000  0.303940       0.000000   0.000000   \n",
      "11          0.000000        0.000000  0.000000       0.000000   0.000000   \n",
      "12          0.000000        0.000000  0.000000       0.000000   0.000000   \n",
      "13          0.000000        0.000000  0.580127       0.000000   0.000000   \n",
      "14          0.000000        0.000000  0.000000       0.000000   0.000000   \n",
      "15          0.000000        0.000000  0.000000       0.000000   0.000000   \n",
      "16          0.000000        0.000000  0.000000       0.000000   0.000000   \n",
      "17          0.000000        0.000000  0.000000       0.000000   0.000000   \n",
      "18          0.000000        0.000000  0.000000       0.000000   0.000000   \n",
      "19          0.000000        0.000000  0.000000       0.000000   0.000000   \n",
      "20          0.000000        0.000000  0.000000       0.000000   0.000000   \n",
      "21          0.000000        0.000000  0.000000       0.000000   0.000000   \n",
      "22          0.000000        0.000000  0.000000       0.000000   0.000000   \n",
      "23          0.000000        0.000000  0.000000       0.000000   0.000000   \n",
      "24          0.000000        0.000000  0.000000       0.000000   0.000000   \n",
      "25          0.000000        0.000000  0.000000       0.000000   0.000000   \n",
      "26          0.000000        0.000000  0.000000       0.000000   0.000000   \n",
      "27          0.000000        0.000000  0.000000       0.000000   0.000000   \n",
      "28          0.000000        0.000000  0.000000       0.000000   0.000000   \n",
      "29          0.000000        0.000000  0.000000       0.000000   0.000000   \n",
      "...              ...             ...       ...            ...        ...   \n",
      "1956        0.000000        0.000000  0.000000       0.000000   0.000000   \n",
      "1957        0.389317        0.000000  0.000000       0.000000   0.000000   \n",
      "1958        0.000000        0.680704  0.000000       0.000000   0.000000   \n",
      "1959        0.000000        0.000000  0.000000       0.000000   0.000000   \n",
      "1960        0.000000        0.000000  0.000000       0.000000   0.000000   \n",
      "1961        0.000000        0.000000  0.000000       0.000000   0.198258   \n",
      "1962        0.000000        0.000000  0.000000       0.000000   0.000000   \n",
      "1963        0.000000        0.000000  0.000000       0.000000   0.000000   \n",
      "1964        0.000000        0.000000  0.264975       0.000000   0.000000   \n",
      "1965        0.000000        0.000000  0.522304       0.000000   0.000000   \n",
      "1966        0.000000        0.000000  0.000000       0.000000   0.000000   \n",
      "1967        0.000000        0.000000  0.375641       0.000000   0.000000   \n",
      "1968        0.000000        0.000000  0.000000       0.000000   0.000000   \n",
      "1969        0.000000        0.344355  0.201698       0.000000   0.000000   \n",
      "1970        0.000000        0.000000  0.000000       0.000000   0.000000   \n",
      "1971        0.000000        0.000000  0.000000       0.000000   0.000000   \n",
      "1972        0.000000        0.000000  0.000000       0.000000   0.000000   \n",
      "1973        0.000000        0.000000  0.000000       0.000000   0.473382   \n",
      "1974        0.000000        0.000000  0.000000       0.000000   0.329167   \n",
      "1975        0.000000        0.000000  0.000000       0.000000   0.000000   \n",
      "1976        0.000000        0.000000  0.213485       0.381649   0.000000   \n",
      "1977        0.000000        0.000000  0.000000       0.000000   0.000000   \n",
      "1978        0.000000        0.000000  0.000000       0.000000   0.000000   \n",
      "1979        0.000000        0.415606  0.000000       0.000000   0.000000   \n",
      "1980        0.000000        0.566828  0.000000       0.000000   0.000000   \n",
      "1981        0.000000        0.000000  0.000000       0.000000   0.000000   \n",
      "1982        0.000000        0.000000  0.000000       0.000000   0.000000   \n",
      "1983        0.000000        0.000000  0.000000       0.000000   0.000000   \n",
      "1984        0.000000        0.000000  0.000000       0.000000   0.415232   \n",
      "1985        0.000000        0.000000  0.557632       0.000000   0.000000   \n",
      "\n",
      "      years jail  years prison    yr old  \n",
      "0       0.000000      0.000000  0.000000  \n",
      "1       0.000000      0.000000  0.000000  \n",
      "2       0.000000      0.000000  0.000000  \n",
      "3       0.000000      0.000000  0.000000  \n",
      "4       0.000000      0.000000  0.000000  \n",
      "5       0.000000      0.000000  0.000000  \n",
      "6       0.000000      0.000000  0.000000  \n",
      "7       0.000000      0.000000  0.000000  \n",
      "8       0.000000      0.000000  0.000000  \n",
      "9       0.000000      0.000000  0.000000  \n",
      "10      0.000000      0.000000  0.000000  \n",
      "11      0.000000      0.000000  0.000000  \n",
      "12      0.000000      0.000000  0.000000  \n",
      "13      0.000000      0.000000  0.000000  \n",
      "14      0.000000      0.000000  0.000000  \n",
      "15      0.000000      0.000000  0.000000  \n",
      "16      0.000000      0.000000  0.000000  \n",
      "17      0.000000      0.000000  0.000000  \n",
      "18      0.000000      0.000000  0.000000  \n",
      "19      0.000000      0.000000  0.000000  \n",
      "20      0.000000      0.000000  0.000000  \n",
      "21      0.000000      0.000000  0.000000  \n",
      "22      0.000000      0.000000  0.000000  \n",
      "23      0.000000      0.000000  0.000000  \n",
      "24      0.000000      0.000000  0.000000  \n",
      "25      0.000000      0.000000  0.000000  \n",
      "26      0.000000      0.000000  0.000000  \n",
      "27      0.000000      0.000000  0.000000  \n",
      "28      0.000000      0.000000  0.000000  \n",
      "29      0.000000      0.000000  0.000000  \n",
      "...          ...           ...       ...  \n",
      "1956    0.000000      0.000000  0.000000  \n",
      "1957    0.000000      0.000000  0.000000  \n",
      "1958    0.000000      0.000000  0.000000  \n",
      "1959    0.000000      0.000000  0.000000  \n",
      "1960    0.000000      0.000000  0.000000  \n",
      "1961    0.000000      0.000000  0.000000  \n",
      "1962    0.000000      0.395773  0.000000  \n",
      "1963    0.000000      0.000000  0.000000  \n",
      "1964    0.000000      0.475086  0.000000  \n",
      "1965    0.000000      0.000000  0.000000  \n",
      "1966    0.000000      0.000000  0.000000  \n",
      "1967    0.000000      0.000000  0.000000  \n",
      "1968    0.000000      0.000000  0.000000  \n",
      "1969    0.000000      0.000000  0.387474  \n",
      "1970    0.000000      0.000000  0.000000  \n",
      "1971    0.441536      0.000000  0.000000  \n",
      "1972    0.000000      0.000000  0.000000  \n",
      "1973    0.000000      0.000000  0.000000  \n",
      "1974    0.000000      0.000000  0.000000  \n",
      "1975    0.000000      0.000000  0.000000  \n",
      "1976    0.000000      0.000000  0.000000  \n",
      "1977    0.000000      0.000000  0.000000  \n",
      "1978    0.000000      0.000000  0.000000  \n",
      "1979    0.000000      0.000000  0.000000  \n",
      "1980    0.000000      0.000000  0.000000  \n",
      "1981    0.000000      0.000000  0.000000  \n",
      "1982    0.000000      0.000000  0.302004  \n",
      "1983    0.000000      0.000000  0.401904  \n",
      "1984    0.000000      0.000000  0.000000  \n",
      "1985    0.000000      0.000000  0.000000  \n",
      "\n",
      "[1986 rows x 110 columns]\n"
     ]
    }
   ],
   "source": [
    "df1 = pd.DataFrame(sent_vectors.toarray(), columns=tfdif.get_feature_names())\n",
    "print(df1)"
   ]
  },
  {
   "cell_type": "code",
   "execution_count": 63,
   "metadata": {},
   "outputs": [
    {
     "data": {
      "text/html": [
       "<div>\n",
       "<style scoped>\n",
       "    .dataframe tbody tr th:only-of-type {\n",
       "        vertical-align: middle;\n",
       "    }\n",
       "\n",
       "    .dataframe tbody tr th {\n",
       "        vertical-align: top;\n",
       "    }\n",
       "\n",
       "    .dataframe thead th {\n",
       "        text-align: right;\n",
       "    }\n",
       "</style>\n",
       "<table border=\"1\" class=\"dataframe\">\n",
       "  <thead>\n",
       "    <tr style=\"text-align: right;\">\n",
       "      <th></th>\n",
       "      <th>Date</th>\n",
       "      <th>Label</th>\n",
       "      <th>Combined</th>\n",
       "      <th>000 people</th>\n",
       "      <th>000 year</th>\n",
       "      <th>10 000</th>\n",
       "      <th>10 years</th>\n",
       "      <th>100 000</th>\n",
       "      <th>20 years</th>\n",
       "      <th>30 000</th>\n",
       "      <th>...</th>\n",
       "      <th>world cup</th>\n",
       "      <th>world war</th>\n",
       "      <th>worlds biggest</th>\n",
       "      <th>worlds largest</th>\n",
       "      <th>year old</th>\n",
       "      <th>year old girl</th>\n",
       "      <th>years ago</th>\n",
       "      <th>years jail</th>\n",
       "      <th>years prison</th>\n",
       "      <th>yr old</th>\n",
       "    </tr>\n",
       "  </thead>\n",
       "  <tbody>\n",
       "    <tr>\n",
       "      <th>0</th>\n",
       "      <td>2008-08-08</td>\n",
       "      <td>0.0</td>\n",
       "      <td>Georgia downs two Russian warplanes as countri...</td>\n",
       "      <td>0.0</td>\n",
       "      <td>0.0</td>\n",
       "      <td>0.0</td>\n",
       "      <td>0.0</td>\n",
       "      <td>0.0</td>\n",
       "      <td>0.0</td>\n",
       "      <td>0.0</td>\n",
       "      <td>...</td>\n",
       "      <td>0.0</td>\n",
       "      <td>0.476333</td>\n",
       "      <td>0.0</td>\n",
       "      <td>0.0</td>\n",
       "      <td>0.281100</td>\n",
       "      <td>0.0</td>\n",
       "      <td>0.0</td>\n",
       "      <td>0.0</td>\n",
       "      <td>0.0</td>\n",
       "      <td>0.0</td>\n",
       "    </tr>\n",
       "    <tr>\n",
       "      <th>1</th>\n",
       "      <td>2008-08-11</td>\n",
       "      <td>1.0</td>\n",
       "      <td>Why wont America and Nato help us? If they won...</td>\n",
       "      <td>0.0</td>\n",
       "      <td>0.0</td>\n",
       "      <td>0.0</td>\n",
       "      <td>0.0</td>\n",
       "      <td>0.0</td>\n",
       "      <td>0.0</td>\n",
       "      <td>0.0</td>\n",
       "      <td>...</td>\n",
       "      <td>0.0</td>\n",
       "      <td>0.640775</td>\n",
       "      <td>0.0</td>\n",
       "      <td>0.0</td>\n",
       "      <td>0.000000</td>\n",
       "      <td>0.0</td>\n",
       "      <td>0.0</td>\n",
       "      <td>0.0</td>\n",
       "      <td>0.0</td>\n",
       "      <td>0.0</td>\n",
       "    </tr>\n",
       "    <tr>\n",
       "      <th>2</th>\n",
       "      <td>2008-08-12</td>\n",
       "      <td>0.0</td>\n",
       "      <td>Remember that adorable 9 year old who sang at ...</td>\n",
       "      <td>0.0</td>\n",
       "      <td>0.0</td>\n",
       "      <td>0.0</td>\n",
       "      <td>0.0</td>\n",
       "      <td>0.0</td>\n",
       "      <td>0.0</td>\n",
       "      <td>0.0</td>\n",
       "      <td>...</td>\n",
       "      <td>0.0</td>\n",
       "      <td>0.000000</td>\n",
       "      <td>0.0</td>\n",
       "      <td>0.0</td>\n",
       "      <td>0.546658</td>\n",
       "      <td>0.0</td>\n",
       "      <td>0.0</td>\n",
       "      <td>0.0</td>\n",
       "      <td>0.0</td>\n",
       "      <td>0.0</td>\n",
       "    </tr>\n",
       "    <tr>\n",
       "      <th>3</th>\n",
       "      <td>2008-08-13</td>\n",
       "      <td>0.0</td>\n",
       "      <td>U.S. refuses Israel weapons to attack Iran: r...</td>\n",
       "      <td>0.0</td>\n",
       "      <td>0.0</td>\n",
       "      <td>0.0</td>\n",
       "      <td>0.0</td>\n",
       "      <td>0.0</td>\n",
       "      <td>0.0</td>\n",
       "      <td>0.0</td>\n",
       "      <td>...</td>\n",
       "      <td>0.0</td>\n",
       "      <td>0.000000</td>\n",
       "      <td>0.0</td>\n",
       "      <td>0.0</td>\n",
       "      <td>0.474474</td>\n",
       "      <td>0.0</td>\n",
       "      <td>0.0</td>\n",
       "      <td>0.0</td>\n",
       "      <td>0.0</td>\n",
       "      <td>0.0</td>\n",
       "    </tr>\n",
       "    <tr>\n",
       "      <th>4</th>\n",
       "      <td>2008-08-14</td>\n",
       "      <td>1.0</td>\n",
       "      <td>All the experts admit that we should legalise ...</td>\n",
       "      <td>0.0</td>\n",
       "      <td>0.0</td>\n",
       "      <td>0.0</td>\n",
       "      <td>0.0</td>\n",
       "      <td>0.0</td>\n",
       "      <td>0.0</td>\n",
       "      <td>0.0</td>\n",
       "      <td>...</td>\n",
       "      <td>0.0</td>\n",
       "      <td>0.000000</td>\n",
       "      <td>0.0</td>\n",
       "      <td>0.0</td>\n",
       "      <td>0.000000</td>\n",
       "      <td>0.0</td>\n",
       "      <td>0.0</td>\n",
       "      <td>0.0</td>\n",
       "      <td>0.0</td>\n",
       "      <td>0.0</td>\n",
       "    </tr>\n",
       "  </tbody>\n",
       "</table>\n",
       "<p>5 rows × 113 columns</p>\n",
       "</div>"
      ],
      "text/plain": [
       "        Date  Label                                           Combined  \\\n",
       "0 2008-08-08    0.0  Georgia downs two Russian warplanes as countri...   \n",
       "1 2008-08-11    1.0  Why wont America and Nato help us? If they won...   \n",
       "2 2008-08-12    0.0  Remember that adorable 9 year old who sang at ...   \n",
       "3 2008-08-13    0.0   U.S. refuses Israel weapons to attack Iran: r...   \n",
       "4 2008-08-14    1.0  All the experts admit that we should legalise ...   \n",
       "\n",
       "   000 people  000 year  10 000  10 years  100 000  20 years  30 000   ...    \\\n",
       "0         0.0       0.0     0.0       0.0      0.0       0.0     0.0   ...     \n",
       "1         0.0       0.0     0.0       0.0      0.0       0.0     0.0   ...     \n",
       "2         0.0       0.0     0.0       0.0      0.0       0.0     0.0   ...     \n",
       "3         0.0       0.0     0.0       0.0      0.0       0.0     0.0   ...     \n",
       "4         0.0       0.0     0.0       0.0      0.0       0.0     0.0   ...     \n",
       "\n",
       "   world cup  world war  worlds biggest  worlds largest  year old  \\\n",
       "0        0.0   0.476333             0.0             0.0  0.281100   \n",
       "1        0.0   0.640775             0.0             0.0  0.000000   \n",
       "2        0.0   0.000000             0.0             0.0  0.546658   \n",
       "3        0.0   0.000000             0.0             0.0  0.474474   \n",
       "4        0.0   0.000000             0.0             0.0  0.000000   \n",
       "\n",
       "   year old girl  years ago  years jail  years prison  yr old  \n",
       "0            0.0        0.0         0.0           0.0     0.0  \n",
       "1            0.0        0.0         0.0           0.0     0.0  \n",
       "2            0.0        0.0         0.0           0.0     0.0  \n",
       "3            0.0        0.0         0.0           0.0     0.0  \n",
       "4            0.0        0.0         0.0           0.0     0.0  \n",
       "\n",
       "[5 rows x 113 columns]"
      ]
     },
     "execution_count": 63,
     "metadata": {},
     "output_type": "execute_result"
    }
   ],
   "source": [
    "res1 = pd.concat([News_DIJA_data, df1], axis=1)\n",
    "res1.drop(res1.iloc[:,2:27],axis=1, inplace=True)\n",
    "res1.dropna(how='any', inplace=True)\n",
    "res1.head()"
   ]
  },
  {
   "cell_type": "code",
   "execution_count": 64,
   "metadata": {},
   "outputs": [
    {
     "data": {
      "text/plain": [
       "Label                0.534039\n",
       "year old             0.081339\n",
       "prime minister       0.063918\n",
       "north korea          0.062431\n",
       "human rights         0.062119\n",
       "united states        0.046620\n",
       "saudi arabia         0.040936\n",
       "islamic state        0.037098\n",
       "climate change       0.035016\n",
       "west bank            0.033817\n",
       "north korean         0.028529\n",
       "war crimes           0.028489\n",
       "middle east          0.027714\n",
       "new zealand          0.026620\n",
       "al qaeda             0.025541\n",
       "south korea          0.025234\n",
       "bbc news             0.024772\n",
       "kim jong             0.024506\n",
       "united nations       0.024299\n",
       "shot dead            0.023071\n",
       "vladimir putin       0.023038\n",
       "000 people           0.022825\n",
       "years ago            0.022541\n",
       "european union       0.022409\n",
       "security forces      0.022234\n",
       "world war            0.021681\n",
       "south africa         0.021045\n",
       "world cup            0.020886\n",
       "hong kong            0.020854\n",
       "al jazeera           0.020825\n",
       "                       ...   \n",
       "gaza strip           0.012250\n",
       "pirate party         0.012217\n",
       "global warming       0.012204\n",
       "civil war            0.012191\n",
       "tony blair           0.012184\n",
       "barrier reef         0.012052\n",
       "10 years             0.012041\n",
       "child abuse          0.011807\n",
       "east jerusalem       0.011762\n",
       "gay marriage         0.011716\n",
       "minister says        0.011489\n",
       "years jail           0.011478\n",
       "rights watch         0.011463\n",
       "tear gas             0.011457\n",
       "chemical weapons     0.011428\n",
       "phone hacking        0.011406\n",
       "north koreas         0.011406\n",
       "security council     0.011309\n",
       "sentenced death      0.011287\n",
       "000 year             0.011238\n",
       "al qaida             0.011175\n",
       "sexual abuse         0.011159\n",
       "social media         0.011144\n",
       "30 000               0.010944\n",
       "nobel peace          0.010831\n",
       "fukushima nuclear    0.010702\n",
       "said monday          0.010530\n",
       "wikileaks founder    0.010521\n",
       "osama bin            0.010163\n",
       "peace prize          0.010136\n",
       "Length: 111, dtype: float64"
      ]
     },
     "execution_count": 64,
     "metadata": {},
     "output_type": "execute_result"
    }
   ],
   "source": [
    "res1.mean().sort_values(ascending=False)"
   ]
  },
  {
   "cell_type": "code",
   "execution_count": 65,
   "metadata": {},
   "outputs": [],
   "source": [
    "import spacy\n",
    "import textacy\n",
    "from textacy import text_utils\n",
    "#text_utils.keyword_in_context(str(Text),'year old', window_width = 30)"
   ]
  },
  {
   "cell_type": "code",
   "execution_count": 66,
   "metadata": {},
   "outputs": [
    {
     "name": "stdout",
     "output_type": "stream",
     "text": [
      "r georgia is a declaration of ...\n",
      "15      russian  prime minister  vladimir putin has accu...\n",
      "16      a girl filmed \n",
      "branches of sci...\n",
      "21      i love the world: thai  prime minister  samak su...\n",
      "22      dutch to ban burkas when pick\n"
     ]
    }
   ],
   "source": [
    "text_utils.keyword_in_context(str(Text),'prime minister', window_width = 50)"
   ]
  },
  {
   "cell_type": "code",
   "execution_count": 67,
   "metadata": {},
   "outputs": [],
   "source": [
    "feature_cols = tfdif.get_feature_names()\n",
    "\n",
    "X = res1[feature_cols]\n",
    "y = res1.Label\n",
    "X_train, X_test, y_train, y_test = train_test_split(X, y, random_state=1)\n",
    "\n",
    "logreg = LogisticRegression(C=10)\n",
    "logreg.fit(X_train, y_train)\n",
    "label_pred = logreg.predict(X_test)"
   ]
  },
  {
   "cell_type": "code",
   "execution_count": 68,
   "metadata": {},
   "outputs": [
    {
     "data": {
      "text/plain": [
       "[('000 people', 0.2527455382950714),\n",
       " ('000 year', 0.7143851570299672),\n",
       " ('10 000', 0.9662249781859042),\n",
       " ('10 years', -0.3805356164191079),\n",
       " ('100 000', -1.0844208342007844),\n",
       " ('20 years', 1.0961133638174945),\n",
       " ('30 000', -0.42921387970073516),\n",
       " ('30 years', -0.07247697724907887),\n",
       " ('air force', 0.14933969933805677),\n",
       " ('al jazeera', 1.5674243918747812),\n",
       " ('al qaeda', -0.005082001671264616),\n",
       " ('al qaida', -0.05496164397792431),\n",
       " ('barack obama', -0.2049882984688977),\n",
       " ('barrier reef', 0.918708056956228),\n",
       " ('bbc news', 0.7702822240988207),\n",
       " ('bin laden', -0.44560195164428534),\n",
       " ('boko haram', -0.008963099856660875),\n",
       " ('catholic church', 0.17025369726316436),\n",
       " ('chemical weapons', 1.1942806988135803),\n",
       " ('child abuse', 0.05141204156697731),\n",
       " ('civil war', -0.3949849144585431),\n",
       " ('climate change', 0.29820241405634007),\n",
       " ('court rules', -0.5427369246969534),\n",
       " ('david cameron', 0.7628937529796562),\n",
       " ('death penalty', 2.62222729532793),\n",
       " ('death toll', 0.8224374951798084),\n",
       " ('drug war', 0.16511853820264982),\n",
       " ('east jerusalem', 1.0854714799852758),\n",
       " ('edward snowden', 0.36811652458644084),\n",
       " ('european union', -0.5680175239954354),\n",
       " ('far right', 0.2616266621995197),\n",
       " ('foreign minister', 1.486446438960306),\n",
       " ('fukushima nuclear', 0.23345036849959586),\n",
       " ('gay marriage', 1.1156129464755709),\n",
       " ('gaza strip', -0.4643273509352175),\n",
       " ('global warming', -0.1249297813711822),\n",
       " ('high court', -0.31404723715087307),\n",
       " ('hong kong', 0.1789072037491458),\n",
       " ('human rights', 0.27176077031258916),\n",
       " ('iraq war', -0.0036161770368655995),\n",
       " ('islamic state', -0.41132274308593986),\n",
       " ('julian assange', 0.9835681311288715),\n",
       " ('kim jong', -0.39107630369126734),\n",
       " ('middle east', -0.26229160374924493),\n",
       " ('million people', 0.7083959667912266),\n",
       " ('minister says', 0.5341775090662301),\n",
       " ('new law', -1.0257891016138574),\n",
       " ('new york', -0.19560014062474898),\n",
       " ('new zealand', 0.5183597549639168),\n",
       " ('nobel peace', 0.19701652335332703),\n",
       " ('north korea', -0.20801314247410235),\n",
       " ('north korean', -0.14234062957273663),\n",
       " ('north koreas', -1.0013106121817579),\n",
       " ('nuclear plant', -0.41739937693315654),\n",
       " ('nuclear power', -0.8763507662138171),\n",
       " ('nuclear weapons', -0.5471613852691946),\n",
       " ('officials say', 1.0905907478567207),\n",
       " ('oil spill', 0.06273794508987701),\n",
       " ('old girl', 0.8057214915467201),\n",
       " ('osama bin', 0.45594804873611766),\n",
       " ('peace prize', 0.23746153081053947),\n",
       " ('people killed', 0.06217379846576987),\n",
       " ('phone hacking', -0.5794048024578815),\n",
       " ('pirate bay', 0.17330480740916812),\n",
       " ('pirate party', -0.0762378951002307),\n",
       " ('police officer', 0.9676852261078084),\n",
       " ('police officers', -0.41295171806029796),\n",
       " ('pope francis', -0.36557314382849115),\n",
       " ('president vladimir', -0.8968744202376002),\n",
       " ('prime minister', -0.4721974150106038),\n",
       " ('renewable energy', 1.1751646430373304),\n",
       " ('right wing', 0.6283806560088186),\n",
       " ('rights watch', -0.5004173915876458),\n",
       " ('said monday', -0.6468610346457261),\n",
       " ('said tuesday', -0.11869559252490469),\n",
       " ('saudi arabia', 0.031011367187914574),\n",
       " ('security council', -0.32184297544847684),\n",
       " ('security forces', -0.09780904180549849),\n",
       " ('sentenced death', -0.5508457390779751),\n",
       " ('sex abuse', -0.343964670393591),\n",
       " ('sexual abuse', -1.570668470775189),\n",
       " ('shot dead', 0.07673603039705972),\n",
       " ('social media', 0.21941295036157007),\n",
       " ('south africa', -0.09081694732461323),\n",
       " ('south african', -1.0689568146897819),\n",
       " ('south korea', -0.8371269578640577),\n",
       " ('south korean', 2.3071186705223896),\n",
       " ('supreme court', 1.1957865109645645),\n",
       " ('tear gas', -0.25550295600318507),\n",
       " ('tens thousands', -0.021520331563194862),\n",
       " ('tony blair', 0.1808083750561542),\n",
       " ('uk government', -0.31721382997210806),\n",
       " ('united nations', -0.1536380260514892),\n",
       " ('united states', 0.1209841686362474),\n",
       " ('vladimir putin', 0.5256664015794082),\n",
       " ('war crimes', -0.7819864653176726),\n",
       " ('war drugs', 1.5062857639826523),\n",
       " ('west bank', -0.05794462456964337),\n",
       " ('wikileaks founder', -0.2504823253901716),\n",
       " ('world bank', -0.18590806849305894),\n",
       " ('world cup', 0.46528540505484123),\n",
       " ('world war', -0.288694414041397),\n",
       " ('worlds biggest', 0.0573376844959057),\n",
       " ('worlds largest', -0.25873670007870014),\n",
       " ('year old', -0.016563614414935115),\n",
       " ('year old girl', -0.33720669010077364),\n",
       " ('years ago', -0.7216742968137978),\n",
       " ('years jail', -0.26592267419913457),\n",
       " ('years prison', -0.04903776786717088),\n",
       " ('yr old', -0.32100066374392244)]"
      ]
     },
     "execution_count": 68,
     "metadata": {},
     "output_type": "execute_result"
    }
   ],
   "source": [
    "coeffs1 = zip(feature_cols, logreg.coef_[0])\n",
    "list(coeffs1)"
   ]
  },
  {
   "cell_type": "code",
   "execution_count": 69,
   "metadata": {},
   "outputs": [
    {
     "name": "stdout",
     "output_type": "stream",
     "text": [
      "[[106 138]\n",
      " [ 88 164]]\n"
     ]
    }
   ],
   "source": [
    "# Build confusion matrix\n",
    "from sklearn.metrics import confusion_matrix\n",
    "compare = pd.DataFrame({'Actual' : y_test, 'Predicted' : label_pred})\n",
    "cm = confusion_matrix(compare['Actual'], compare['Predicted'])\n",
    "print (cm)"
   ]
  },
  {
   "cell_type": "code",
   "execution_count": 70,
   "metadata": {},
   "outputs": [
    {
     "name": "stdout",
     "output_type": "stream",
     "text": [
      "Sensitivity :  0.4344262295081967\n",
      "Specificity :  0.6507936507936508\n",
      "Accuracy : 0.5443548387096774\n"
     ]
    }
   ],
   "source": [
    "import numpy as np\n",
    "\n",
    "sensitivity = cm[0,0]/(cm[0,0]+cm[0,1])\n",
    "print('Sensitivity : ', sensitivity )\n",
    "\n",
    "specificity = cm[1,1]/(cm[1,0]+cm[1,1])\n",
    "print('Specificity : ', specificity)\n",
    "\n",
    "accuracy = (cm[0,0] + cm[1,1])/np.sum(cm)\n",
    "print('Accuracy :', accuracy)"
   ]
  },
  {
   "cell_type": "code",
   "execution_count": 71,
   "metadata": {},
   "outputs": [],
   "source": [
    "# store the predicted probabilities\n",
    "y_pred_prob = logreg.predict_proba(X_test)[:, 1]"
   ]
  },
  {
   "cell_type": "code",
   "execution_count": 72,
   "metadata": {},
   "outputs": [
    {
     "data": {
      "text/plain": [
       "Text(0,0.5,'Frequency')"
      ]
     },
     "execution_count": 72,
     "metadata": {},
     "output_type": "execute_result"
    },
    {
     "data": {
      "image/png": "[encoded data removed]",
      "text/plain": [
       "<matplotlib.figure.Figure at 0x7fb6911dd5c0>"
      ]
     },
     "metadata": {},
     "output_type": "display_data"
    }
   ],
   "source": [
    "# plot the predicted probabilities\n",
    "%matplotlib inline\n",
    "import matplotlib.pyplot as plt\n",
    "plt.hist(y_pred_prob)\n",
    "plt.xlabel('Predicted probability of Data Label')\n",
    "plt.ylabel('Frequency')"
   ]
  },
  {
   "cell_type": "code",
   "execution_count": 73,
   "metadata": {},
   "outputs": [],
   "source": [
    "y_pred_data_label = np.where(y_pred_prob > 0.5, 1, 0)"
   ]
  },
  {
   "cell_type": "code",
   "execution_count": 74,
   "metadata": {},
   "outputs": [],
   "source": [
    "# equivalent function in scikit-learn\n",
    "from sklearn.preprocessing import binarize\n",
    "y_pred_data_label = binarize(y_pred_prob.reshape(1,-1), 0.5).T"
   ]
  },
  {
   "cell_type": "code",
   "execution_count": 75,
   "metadata": {},
   "outputs": [
    {
     "name": "stdout",
     "output_type": "stream",
     "text": [
      "[[106 138]\n",
      " [ 88 164]]\n"
     ]
    }
   ],
   "source": [
    "# new confusion matrix\n",
    "cm = metrics.confusion_matrix(y_test, y_pred_data_label)\n",
    "print (cm)"
   ]
  },
  {
   "cell_type": "code",
   "execution_count": 76,
   "metadata": {},
   "outputs": [
    {
     "name": "stdout",
     "output_type": "stream",
     "text": [
      "Sensitivity :  0.4344262295081967\n",
      "Specificity :  0.6507936507936508\n",
      "Accuracy : 0.5443548387096774\n"
     ]
    }
   ],
   "source": [
    "sensitivity = cm[0,0]/(cm[0,0]+cm[0,1])\n",
    "print('Sensitivity : ', sensitivity )\n",
    "\n",
    "specificity = cm[1,1]/(cm[1,0]+cm[1,1])\n",
    "print('Specificity : ', specificity)\n",
    "\n",
    "accuracy = (cm[0,0] + cm[1,1])/np.sum(cm)\n",
    "print('Accuracy :', accuracy)"
   ]
  },
  {
   "cell_type": "code",
   "execution_count": 92,
   "metadata": {},
   "outputs": [],
   "source": [
    "from sklearn.linear_model import LogisticRegressionCV\n",
    "lrcv = LogisticRegressionCV(Cs=10)\n",
    "#lrcv.fit(X_train, y_train)"
   ]
  },
  {
   "cell_type": "code",
   "execution_count": 96,
   "metadata": {},
   "outputs": [
    {
     "name": "stdout",
     "output_type": "stream",
     "text": [
      "0.5305093292990418\n",
      "             precision    recall  f1-score   support\n",
      "\n",
      "        0.0       0.35      0.01      0.02       924\n",
      "        1.0       0.53      0.99      0.69      1059\n",
      "\n",
      "avg / total       0.45      0.53      0.38      1983\n",
      "\n"
     ]
    }
   ],
   "source": [
    "from sklearn import metrics, cross_validation\n",
    "\n",
    "predicted = cross_validation.cross_val_predict(lrcv, X, y , cv=5)\n",
    "print (metrics.accuracy_score(y, predicted))\n",
    "print (metrics.classification_report(y, predicted) )\n",
    "\n"
   ]
  },
  {
   "cell_type": "code",
   "execution_count": 100,
   "metadata": {},
   "outputs": [
    {
     "name": "stdout",
     "output_type": "stream",
     "text": [
      "59977\n"
     ]
    }
   ],
   "source": [
    "from sklearn.feature_extraction.text import CountVectorizer\n",
    "\n",
    "cv = CountVectorizer(stop_words='english')\n",
    "cv_fit=cv.fit_transform(Text)\n",
    "Word = cv.get_feature_names()\n",
    "print (len(Word))"
   ]
  },
  {
   "cell_type": "code",
   "execution_count": 101,
   "metadata": {},
   "outputs": [
    {
     "name": "stdout",
     "output_type": "stream",
     "text": [
      "7079\n"
     ]
    }
   ],
   "source": [
    "cv = CountVectorizer(stop_words='english', min_df=10)\n",
    "cv_fit=cv.fit_transform(Text)\n",
    "Word = cv.get_feature_names()\n",
    "print (len(Word))"
   ]
  },
  {
   "cell_type": "code",
   "execution_count": 102,
   "metadata": {},
   "outputs": [
    {
     "name": "stdout",
     "output_type": "stream",
     "text": [
      "4314\n"
     ]
    }
   ],
   "source": [
    "cv = CountVectorizer(stop_words='english', min_df=20)\n",
    "cv_fit=cv.fit_transform(Text)\n",
    "Word = cv.get_feature_names()\n",
    "print (len(Word))"
   ]
  },
  {
   "cell_type": "code",
   "execution_count": 103,
   "metadata": {},
   "outputs": [
    {
     "name": "stdout",
     "output_type": "stream",
     "text": [
      "2451\n"
     ]
    }
   ],
   "source": [
    "cv = CountVectorizer(stop_words='english', min_df=40)\n",
    "cv_fit=cv.fit_transform(Text)\n",
    "Word = cv.get_feature_names()\n",
    "print (len(Word))"
   ]
  },
  {
   "cell_type": "code",
   "execution_count": 104,
   "metadata": {},
   "outputs": [
    {
     "name": "stdout",
     "output_type": "stream",
     "text": [
      "932\n"
     ]
    }
   ],
   "source": [
    "cv = CountVectorizer(stop_words='english', min_df=100)\n",
    "cv_fit=cv.fit_transform(Text)\n",
    "Word = cv.get_feature_names()\n",
    "print (len(Word))"
   ]
  },
  {
   "cell_type": "code",
   "execution_count": 105,
   "metadata": {},
   "outputs": [
    {
     "name": "stdout",
     "output_type": "stream",
     "text": [
      "250\n"
     ]
    }
   ],
   "source": [
    "cv = CountVectorizer(stop_words='english', min_df=250)\n",
    "cv_fit=cv.fit_transform(Text)\n",
    "Word = cv.get_feature_names()\n",
    "print (len(Word))"
   ]
  },
  {
   "cell_type": "code",
   "execution_count": 106,
   "metadata": {},
   "outputs": [
    {
     "name": "stdout",
     "output_type": "stream",
     "text": [
      "The Accuracy sore and MSE for Features:  10\n",
      "Accuracy is:  0.4798387096774194\n",
      "MSE is:  0.5201612903225806\n",
      "The Accuracy sore and MSE for Features:  20\n",
      "Accuracy is:  0.5100806451612904\n",
      "MSE is:  0.4899193548387097\n",
      "The Accuracy sore and MSE for Features:  30\n",
      "Accuracy is:  0.5201612903225806\n",
      "MSE is:  0.4798387096774194\n",
      "The Accuracy sore and MSE for Features:  40\n",
      "Accuracy is:  0.5060483870967742\n",
      "MSE is:  0.4939516129032258\n",
      "The Accuracy sore and MSE for Features:  50\n",
      "Accuracy is:  0.5100806451612904\n",
      "MSE is:  0.4899193548387097\n",
      "The Accuracy sore and MSE for Features:  60\n",
      "Accuracy is:  0.4959677419354839\n",
      "MSE is:  0.5040322580645161\n",
      "The Accuracy sore and MSE for Features:  70\n",
      "Accuracy is:  0.4657258064516129\n",
      "MSE is:  0.5342741935483871\n",
      "The Accuracy sore and MSE for Features:  80\n",
      "Accuracy is:  0.4737903225806452\n",
      "MSE is:  0.5262096774193549\n",
      "The Accuracy sore and MSE for Features:  90\n",
      "Accuracy is:  0.4717741935483871\n",
      "MSE is:  0.5282258064516129\n",
      "The Accuracy sore and MSE for Features:  100\n",
      "Accuracy is:  0.44556451612903225\n",
      "MSE is:  0.5544354838709677\n",
      "The Accuracy sore and MSE for Features:  110\n",
      "Accuracy is:  0.48588709677419356\n",
      "MSE is:  0.5141129032258065\n",
      "The Accuracy sore and MSE for Features:  120\n",
      "Accuracy is:  0.5\n",
      "MSE is:  0.5\n",
      "The Accuracy sore and MSE for Features:  130\n",
      "Accuracy is:  0.5060483870967742\n",
      "MSE is:  0.4939516129032258\n",
      "The Accuracy sore and MSE for Features:  140\n",
      "Accuracy is:  0.4798387096774194\n",
      "MSE is:  0.5201612903225806\n",
      "The Accuracy sore and MSE for Features:  150\n",
      "Accuracy is:  0.48588709677419356\n",
      "MSE is:  0.5141129032258065\n",
      "The Accuracy sore and MSE for Features:  160\n",
      "Accuracy is:  0.4959677419354839\n",
      "MSE is:  0.5040322580645161\n",
      "The Accuracy sore and MSE for Features:  170\n",
      "Accuracy is:  0.4798387096774194\n",
      "MSE is:  0.5201612903225806\n",
      "The Accuracy sore and MSE for Features:  180\n",
      "Accuracy is:  0.4717741935483871\n",
      "MSE is:  0.5282258064516129\n",
      "The Accuracy sore and MSE for Features:  190\n",
      "Accuracy is:  0.4737903225806452\n",
      "MSE is:  0.5262096774193549\n",
      "The Accuracy sore and MSE for Features:  200\n",
      "Accuracy is:  0.46975806451612906\n",
      "MSE is:  0.530241935483871\n",
      "The Accuracy sore and MSE for Features:  210\n",
      "Accuracy is:  0.4737903225806452\n",
      "MSE is:  0.5262096774193549\n",
      "The Accuracy sore and MSE for Features:  220\n",
      "Accuracy is:  0.48185483870967744\n",
      "MSE is:  0.5181451612903226\n",
      "The Accuracy sore and MSE for Features:  230\n",
      "Accuracy is:  0.4435483870967742\n",
      "MSE is:  0.5564516129032258\n",
      "The Accuracy sore and MSE for Features:  240\n",
      "Accuracy is:  0.4475806451612903\n",
      "MSE is:  0.5524193548387096\n",
      "The Accuracy sore and MSE for Features:  250\n",
      "Accuracy is:  0.45564516129032256\n",
      "MSE is:  0.5443548387096774\n",
      "The Accuracy sore and MSE for Features:  260\n",
      "Accuracy is:  0.45564516129032256\n",
      "MSE is:  0.5443548387096774\n",
      "The Accuracy sore and MSE for Features:  270\n",
      "Accuracy is:  0.46169354838709675\n",
      "MSE is:  0.5383064516129032\n",
      "The Accuracy sore and MSE for Features:  280\n",
      "Accuracy is:  0.46169354838709675\n",
      "MSE is:  0.5383064516129032\n",
      "The Accuracy sore and MSE for Features:  290\n",
      "Accuracy is:  0.4637096774193548\n",
      "MSE is:  0.5362903225806451\n",
      "The Accuracy sore and MSE for Features:  300\n",
      "Accuracy is:  0.47580645161290325\n",
      "MSE is:  0.5241935483870968\n",
      "The Accuracy sore and MSE for Features:  310\n",
      "Accuracy is:  0.4838709677419355\n",
      "MSE is:  0.5161290322580645\n",
      "The Accuracy sore and MSE for Features:  320\n",
      "Accuracy is:  0.5020161290322581\n",
      "MSE is:  0.49798387096774194\n",
      "The Accuracy sore and MSE for Features:  330\n",
      "Accuracy is:  0.49798387096774194\n",
      "MSE is:  0.5020161290322581\n",
      "The Accuracy sore and MSE for Features:  340\n",
      "Accuracy is:  0.4798387096774194\n",
      "MSE is:  0.5201612903225806\n",
      "The Accuracy sore and MSE for Features:  350\n",
      "Accuracy is:  0.48185483870967744\n",
      "MSE is:  0.5181451612903226\n",
      "The Accuracy sore and MSE for Features:  360\n",
      "Accuracy is:  0.47580645161290325\n",
      "MSE is:  0.5241935483870968\n",
      "The Accuracy sore and MSE for Features:  370\n",
      "Accuracy is:  0.4576612903225806\n",
      "MSE is:  0.5423387096774194\n",
      "The Accuracy sore and MSE for Features:  380\n",
      "Accuracy is:  0.4495967741935484\n",
      "MSE is:  0.5504032258064516\n",
      "The Accuracy sore and MSE for Features:  390\n",
      "Accuracy is:  0.4475806451612903\n",
      "MSE is:  0.5524193548387096\n",
      "The Accuracy sore and MSE for Features:  400\n",
      "Accuracy is:  0.4657258064516129\n",
      "MSE is:  0.5342741935483871\n",
      "The Accuracy sore and MSE for Features:  410\n",
      "Accuracy is:  0.4657258064516129\n",
      "MSE is:  0.5342741935483871\n",
      "The Accuracy sore and MSE for Features:  420\n",
      "Accuracy is:  0.46169354838709675\n",
      "MSE is:  0.5383064516129032\n",
      "The Accuracy sore and MSE for Features:  430\n",
      "Accuracy is:  0.4637096774193548\n",
      "MSE is:  0.5362903225806451\n",
      "The Accuracy sore and MSE for Features:  440\n",
      "Accuracy is:  0.4637096774193548\n",
      "MSE is:  0.5362903225806451\n",
      "The Accuracy sore and MSE for Features:  450\n",
      "Accuracy is:  0.46169354838709675\n",
      "MSE is:  0.5383064516129032\n",
      "The Accuracy sore and MSE for Features:  460\n",
      "Accuracy is:  0.4637096774193548\n",
      "MSE is:  0.5362903225806451\n",
      "The Accuracy sore and MSE for Features:  470\n",
      "Accuracy is:  0.4536290322580645\n",
      "MSE is:  0.5463709677419355\n",
      "The Accuracy sore and MSE for Features:  480\n",
      "Accuracy is:  0.4717741935483871\n",
      "MSE is:  0.5282258064516129\n",
      "The Accuracy sore and MSE for Features:  490\n",
      "Accuracy is:  0.4737903225806452\n",
      "MSE is:  0.5262096774193549\n"
     ]
    }
   ],
   "source": [
    "Text = News_DIJA_data['Combined'].str.lower()\n",
    "\n",
    "MSE = []\n",
    "Accuracy = []\n",
    "MaxFeatures = []\n",
    "\n",
    "for x in range(10,500,10):   \n",
    "    cv = CountVectorizer(stop_words='english', min_df=100, max_features=x)\n",
    "    cv_fit=cv.fit_transform(Text)\n",
    "    df2 = pd.DataFrame(cv_fit.toarray(), columns=cv.get_feature_names())\n",
    "    res2 = pd.concat([News_DIJA_data, df2], axis=1)\n",
    "    res2.drop(res2.iloc[:,2:27],axis=1, inplace=True)\n",
    "    res2.dropna(how='any', inplace=True)\n",
    "    feature_cols = cv.get_feature_names()\n",
    "\n",
    "    X = res2[feature_cols]\n",
    "    y = res2.Label\n",
    "    X_train, X_test, y_train, y_test = train_test_split(X, y, random_state=1)\n",
    "\n",
    "    logreg = LogisticRegression(C=1e9)\n",
    "    logreg.fit(X_train, y_train)\n",
    "    label_pred = logreg.predict(X_test)\n",
    "    \n",
    "    AccuracyScore = metrics.accuracy_score(y_test, label_pred)\n",
    "    MeanSquaredError = mean_squared_error(y_test, label_pred)\n",
    "    \n",
    "    MaxFeatures.append(x)\n",
    "    Accuracy.append(AccuracyScore)\n",
    "    MSE.append(MeanSquaredError)\n",
    "    \n",
    "    print(\"The Accuracy sore and MSE for Features: \", x)\n",
    "    print(\"Accuracy is: \", AccuracyScore )\n",
    "    print(\"MSE is: \", MeanSquaredError )\n"
   ]
  },
  {
   "cell_type": "code",
   "execution_count": 107,
   "metadata": {},
   "outputs": [
    {
     "name": "stdout",
     "output_type": "stream",
     "text": [
      "0.5201612903225806\n"
     ]
    },
    {
     "data": {
      "text/plain": [
       "[2]"
      ]
     },
     "execution_count": 107,
     "metadata": {},
     "output_type": "execute_result"
    }
   ],
   "source": [
    "max(Accuracy)\n",
    "print (max(Accuracy))\n",
    "[i for i,x in enumerate(Accuracy) if x == max(Accuracy)]"
   ]
  },
  {
   "cell_type": "code",
   "execution_count": 108,
   "metadata": {},
   "outputs": [
    {
     "data": {
      "text/plain": [
       "Text(100,0.52,'Best Accuracy sore')"
      ]
     },
     "execution_count": 108,
     "metadata": {},
     "output_type": "execute_result"
    },
    {
     "data": {
      "image/png": "[encoded data removed]",
      "text/plain": [
       "<matplotlib.figure.Figure at 0x7fb6880f94a8>"
      ]
     },
     "metadata": {},
     "output_type": "display_data"
    }
   ],
   "source": [
    "plt.plot(MaxFeatures, Accuracy, linewidth=2.0)\n",
    "plt.axhline(y=.534743, color = 'r')\n",
    "plt.annotate('Best Accuracy sore', xy=(25, 0.52), xytext=(100, 0.52),\n",
    "            arrowprops=dict(facecolor='black', shrink=0.05),\n",
    "            )"
   ]
  },
  {
   "cell_type": "code",
   "execution_count": 109,
   "metadata": {},
   "outputs": [
    {
     "name": "stdout",
     "output_type": "stream",
     "text": [
      "0.4798387096774194\n"
     ]
    },
    {
     "data": {
      "text/plain": [
       "[2]"
      ]
     },
     "execution_count": 109,
     "metadata": {},
     "output_type": "execute_result"
    }
   ],
   "source": [
    "min(MSE)\n",
    "print (min(MSE))\n",
    "[i for i,x in enumerate(MSE) if x == min(MSE)]"
   ]
  },
  {
   "cell_type": "code",
   "execution_count": 110,
   "metadata": {},
   "outputs": [
    {
     "data": {
      "text/plain": [
       "Text(100,0.49,'Lowest MSE sore')"
      ]
     },
     "execution_count": 110,
     "metadata": {},
     "output_type": "execute_result"
    },
    {
     "data": {
      "image/png": "[encoded data removed]",
      "text/plain": [
       "<matplotlib.figure.Figure at 0x7fb68c8bbbe0>"
      ]
     },
     "metadata": {},
     "output_type": "display_data"
    }
   ],
   "source": [
    "plt.plot(MaxFeatures, MSE, linewidth=2.0)\n",
    "plt.annotate('Lowest MSE sore', xy=(25, 0.48), xytext=(100, 0.49),\n",
    "            arrowprops=dict(facecolor='black', shrink=0.05),\n",
    "            )"
   ]
  },
  {
   "cell_type": "code",
   "execution_count": 111,
   "metadata": {},
   "outputs": [],
   "source": [
    "cv = CountVectorizer(stop_words='english', min_df=100, max_features=20)\n",
    "cv_fit=cv.fit_transform(Text)\n",
    "df2 = pd.DataFrame(cv_fit.toarray(), columns=cv.get_feature_names())"
   ]
  },
  {
   "cell_type": "code",
   "execution_count": 112,
   "metadata": {},
   "outputs": [
    {
     "name": "stdout",
     "output_type": "stream",
     "text": [
      "['000', 'china', 'government', 'israel', 'israeli', 'killed', 'military', 'new', 'people', 'police', 'president', 'russia', 'said', 'says', 'state', 'uk', 'war', 'world', 'year', 'years']\n"
     ]
    }
   ],
   "source": [
    "Word = cv.get_feature_names()\n",
    "print(Word)"
   ]
  },
  {
   "cell_type": "code",
   "execution_count": 113,
   "metadata": {},
   "outputs": [
    {
     "name": "stdout",
     "output_type": "stream",
     "text": [
      "      000  china  government  israel  israeli  killed  military  new  people  \\\n",
      "0       1      1           0       2        3       1         2    1       1   \n",
      "1       0      1           0       0        3       0         1    2       0   \n",
      "2       0      0           0       0        1       0         2    1       0   \n",
      "3       0      0           0       2        1       1         2    0       0   \n",
      "4       1      0           0       0        0       2         1    0       0   \n",
      "5       1      0           3       0        0       1         1    0       1   \n",
      "6       1      0           0       0        0       0         0    2       0   \n",
      "7       1      1           0       0        0       1         1    1       1   \n",
      "8       0      0           0       0        0       0         2    1       1   \n",
      "9       0      0           0       0        0       2         0    0       0   \n",
      "10      0      1           1       0        0       0         1    2       1   \n",
      "11      0      0           0       1        2       1         0    1       1   \n",
      "12      0      1           0       1        0       1         1    0       2   \n",
      "13      0      1           2       1        1       0         2    0       0   \n",
      "14      0      1           0       1        0       0         3    2       0   \n",
      "15      0      0           1       1        0       0         1    0       1   \n",
      "16      0      1           0       0        3       0         1    0       0   \n",
      "17      0      0           0       0        0       1         0    1       0   \n",
      "18      0      0           0       2        0       1         0    1       0   \n",
      "19      0      0           1       2        1       2         1    0       2   \n",
      "20      0      0           1       1        0       3         1    1       0   \n",
      "21      1      0           0       0        0       1         0    1       0   \n",
      "22      1      0           0       1        2       0         0    0       1   \n",
      "23      0      1           0       0        0       0         1    0       0   \n",
      "24      1      0           1       0        1       0         1    2       2   \n",
      "25      0      0           0       2        1       1         0    0       1   \n",
      "26      0      1           1       0        0       1         1    0       1   \n",
      "27      0      0           0       0        0       1         1    2       0   \n",
      "28      0      1           0       0        0       0         1    0       1   \n",
      "29      0      1           0       0        0       0         0    0       1   \n",
      "...   ...    ...         ...     ...      ...     ...       ...  ...     ...   \n",
      "1956    0      4           2       1        0       0         1    2       0   \n",
      "1957    0      2           0       0        0       1         5    1       0   \n",
      "1958    1      1           1       0        0       0         1    3       1   \n",
      "1959    3      0           0       0        0       1         1    0       1   \n",
      "1960    1      0           0       0        0       0         0    1       1   \n",
      "1961    2      0           1       0        0       0         0    0       2   \n",
      "1962    2      1           1       0        0       0         1    1       1   \n",
      "1963    2      0           0       0        0       2         0    3       3   \n",
      "1964    0      0           1       0        0       0         0    0       0   \n",
      "1965    1      1           0       0        0       0         2    0       0   \n",
      "1966    1      3           0       0        1       1         0    1       1   \n",
      "1967    3      0           1       0        0       0         1    0       0   \n",
      "1968    1      0           2       1        0       0         1    2       1   \n",
      "1969    4      1           0       0        0       0         0    2       1   \n",
      "1970    2      0           0       2        0       0         0    3       1   \n",
      "1971    0      0           2       0        0       1         0    2       0   \n",
      "1972    0      0           0       0        0       1         0    0       1   \n",
      "1973    0      0           1       1        0       0         0    3       3   \n",
      "1974    1      1           0       1        0       1         0    1       2   \n",
      "1975    1      0           0       1        0       0         0    0       1   \n",
      "1976    1      3           0       0        0       1         1    1       1   \n",
      "1977    1      0           1       0        0       2         1    2       2   \n",
      "1978    0      1           1       0        0       0         1    3       0   \n",
      "1979    0      2           1       0        0       1         0    2       1   \n",
      "1980    0      0           1       0        0       0         0    0       0   \n",
      "1981    0      0           1       0        0       0         0    2       1   \n",
      "1982    2      0           0       0        0       0         0    3       2   \n",
      "1983    1      0           0       0        0       1         0    2       1   \n",
      "1984    1      0           0       0        1       0         1    0       1   \n",
      "1985    0      0           0       0        1       2         0    0       3   \n",
      "\n",
      "      police  president  russia  said  says  state  uk  war  world  year  \\\n",
      "0          0          0       5     0     2      0   0    5      2     1   \n",
      "1          1          0       7     0     1      1   0    1      1     0   \n",
      "2          0          0       4     1     0      0   0    7      0     2   \n",
      "3          0          3       4     0     2      0   0    0      0     1   \n",
      "4          0          0       1     0     1      0   1    3      2     0   \n",
      "5          0          1       3     1     0      0   2    0      0     1   \n",
      "6          0          2       0     0     1      0   0    3      1     1   \n",
      "7          1          0       0     0     0      0   0    1      0     1   \n",
      "8          0          0       5     0     0      0   0    3      0     1   \n",
      "9          1          1       6     0     0      0   0    3      0     0   \n",
      "10         0          1       1     0     1      0   2    1      1     1   \n",
      "11         0          1       1     0     1      0   1    0      0     1   \n",
      "12         0          0       0     1     3      0   1    1      0     0   \n",
      "13         0          0       3     0     1      1   0    0      1     2   \n",
      "14         0          0       4     0     1      1   0    3      0     0   \n",
      "15         1          0       2     0     0      0   1    1      0     0   \n",
      "16         1          0       3     0     2      2   0    3      1     0   \n",
      "17         0          1       4     0     0      0   1    1      1     0   \n",
      "18         0          0       0     0     1      0   0    2      0     0   \n",
      "19         0          0       2     0     3      0   0    1      1     0   \n",
      "20         0          0       1     0     0      0   0    1      1     0   \n",
      "21         0          0       2     1     1      0   1    0      1     2   \n",
      "22         0          0       1     0     0      0   0    1      0     0   \n",
      "23         0          1       0     0     0      0   0    0      0     0   \n",
      "24         0          2       0     2     2      0   1    1      1     0   \n",
      "25         0          1       2     0     0      0   0    2      0     0   \n",
      "26         0          0       1     1     2      1   0    3      1     1   \n",
      "27         0          0       0     0     0      0   0    0      0     0   \n",
      "28         0          1       0     0     2      0   0    1      1     0   \n",
      "29         0          0       1     0     2      0   1    1      1     0   \n",
      "...      ...        ...     ...   ...   ...    ...  ..  ...    ...   ...   \n",
      "1956       0          2       0     1     5      0   0    0      0     4   \n",
      "1957       0          0       0     0     2      1   0    0      0     0   \n",
      "1958       2          1       0     2     2      1   0    0      0     0   \n",
      "1959       1          0       0     0     0      0   2    3      0     0   \n",
      "1960       0          0       1     0     1      1   0    0      1     0   \n",
      "1961       1          0       1     1     1      1   1    0      2     0   \n",
      "1962       1          1       0     0     2      0   1    1      0     0   \n",
      "1963       0          3       2     0     6      0   0    0      1     0   \n",
      "1964       0          0       0     1     3      0   0    0      1     2   \n",
      "1965       0          1       0     1     0      1   0    0      0     2   \n",
      "1966       0          1       0     0     4      0   1    0      0     0   \n",
      "1967       1          0       0     0     0      0   0    1      0     2   \n",
      "1968       1          0       0     1     0      0   0    0      0     1   \n",
      "1969       1          2       0     1     2      0   0    0      1     1   \n",
      "1970       1          0       1     1     1      0   1    1      1     0   \n",
      "1971       0          1       0     1     0      2   1    0      0     1   \n",
      "1972       2          0       1     0     2      2   0    0      0     0   \n",
      "1973       1          0       2     1     2      0   0    0      1     1   \n",
      "1974       3          0       0     1     3      3   0    1      1     0   \n",
      "1975       2          0       0     1     0      1   0    0      0     0   \n",
      "1976       2          1       1     1     0      0   0    0      0     3   \n",
      "1977       1          0       0     1     1      1   0    0      2     4   \n",
      "1978       4          1       0     0     0      1   0    0      0     1   \n",
      "1979       1          0       0     1     2      0   1    0      0     0   \n",
      "1980       0          1       0     1     2      0   3    0      0     1   \n",
      "1981       0          1       0     1     2      1   3    1      1     1   \n",
      "1982       2          2       0     1     1      1   5    0      1     1   \n",
      "1983       0          2       0     1     1      1   1    0      0     2   \n",
      "1984       2          0       1     1     4      0   0    0      0     0   \n",
      "1985       3          2       0     1     1      0   1    1      2     3   \n",
      "\n",
      "      years  \n",
      "0         1  \n",
      "1         0  \n",
      "2         0  \n",
      "3         0  \n",
      "4         1  \n",
      "5         0  \n",
      "6         0  \n",
      "7         1  \n",
      "8         0  \n",
      "9         0  \n",
      "10        0  \n",
      "11        0  \n",
      "12        0  \n",
      "13        0  \n",
      "14        0  \n",
      "15        0  \n",
      "16        0  \n",
      "17        0  \n",
      "18        0  \n",
      "19        0  \n",
      "20        0  \n",
      "21        0  \n",
      "22        1  \n",
      "23        0  \n",
      "24        0  \n",
      "25        0  \n",
      "26        0  \n",
      "27        0  \n",
      "28        0  \n",
      "29        1  \n",
      "...     ...  \n",
      "1956      1  \n",
      "1957      0  \n",
      "1958      0  \n",
      "1959      2  \n",
      "1960      0  \n",
      "1961      3  \n",
      "1962      2  \n",
      "1963      0  \n",
      "1964      1  \n",
      "1965      0  \n",
      "1966      0  \n",
      "1967      0  \n",
      "1968      1  \n",
      "1969      0  \n",
      "1970      0  \n",
      "1971      1  \n",
      "1972      1  \n",
      "1973      3  \n",
      "1974      2  \n",
      "1975      2  \n",
      "1976      1  \n",
      "1977      0  \n",
      "1978      1  \n",
      "1979      0  \n",
      "1980      1  \n",
      "1981      0  \n",
      "1982      0  \n",
      "1983      0  \n",
      "1984      2  \n",
      "1985      1  \n",
      "\n",
      "[1986 rows x 20 columns]\n"
     ]
    }
   ],
   "source": [
    "df2 = pd.DataFrame(cv_fit.toarray(), columns=cv.get_feature_names())\n",
    "print(df2)"
   ]
  },
  {
   "cell_type": "code",
   "execution_count": 114,
   "metadata": {},
   "outputs": [],
   "source": [
    "res2 = pd.concat([News_DIJA_data, df2], axis=1)\n",
    "res2.dropna(how='any', inplace=True)"
   ]
  },
  {
   "cell_type": "code",
   "execution_count": 115,
   "metadata": {},
   "outputs": [
    {
     "data": {
      "text/plain": [
       "says          2380.0\n",
       "new           2209.0\n",
       "government    1904.0\n",
       "police        1784.0\n",
       "people        1746.0\n",
       "world         1594.0\n",
       "000           1573.0\n",
       "israel        1503.0\n",
       "year          1481.0\n",
       "war           1457.0\n",
       "years         1393.0\n",
       "china         1314.0\n",
       "president     1297.0\n",
       "killed        1286.0\n",
       "said          1150.0\n",
       "state         1128.0\n",
       "israeli       1097.0\n",
       "military      1082.0\n",
       "Label         1059.0\n",
       "russia        1041.0\n",
       "uk            1035.0\n",
       "dtype: float64"
      ]
     },
     "execution_count": 115,
     "metadata": {},
     "output_type": "execute_result"
    }
   ],
   "source": [
    "res2.sum().sort_values(ascending=False)"
   ]
  },
  {
   "cell_type": "code",
   "execution_count": 116,
   "metadata": {},
   "outputs": [
    {
     "name": "stdout",
     "output_type": "stream",
     "text": [
      "o bay wins l...\n",
      "10      syria  says  its ready to put a russian mi\n",
      "opec finished??  saudi arabia  says  later!\"puti...\n",
      "25      did sa\n",
      "eeps happening, rape survivor  says : protes...\n",
      "1961    colombia h\n"
     ]
    }
   ],
   "source": [
    "text_utils.keyword_in_context(str(Text),'says', window_width = 30)"
   ]
  },
  {
   "cell_type": "code",
   "execution_count": 122,
   "metadata": {},
   "outputs": [],
   "source": [
    "feature_cols = cv.get_feature_names()\n",
    "X = res2[feature_cols]\n",
    "y = res2.Label\n",
    "X_train1, X_test1, y_train1, y_test1 = train_test_split(X, y, random_state=1)"
   ]
  },
  {
   "cell_type": "code",
   "execution_count": 123,
   "metadata": {},
   "outputs": [
    {
     "name": "stdout",
     "output_type": "stream",
     "text": [
      "0.5100806451612904\n",
      "0.4899193548387097\n"
     ]
    }
   ],
   "source": [
    "logreg = LogisticRegression(C=10)\n",
    "logreg.fit(X_train1, y_train1)\n",
    "\n",
    "label_pred = logreg.predict(X_test1)\n",
    "\n",
    "print(metrics.accuracy_score(y_test1, label_pred))\n",
    "print(mean_squared_error(y_test1, label_pred))"
   ]
  },
  {
   "cell_type": "code",
   "execution_count": 125,
   "metadata": {},
   "outputs": [
    {
     "data": {
      "image/png": "[encoded data removed]",
      "text/plain": [
       "<matplotlib.figure.Figure at 0x7fb6875702b0>"
      ]
     },
     "metadata": {},
     "output_type": "display_data"
    }
   ],
   "source": [
    "from sklearn.metrics import roc_auc_score\n",
    "from sklearn.metrics import roc_curve\n",
    "logit_roc_auc = roc_auc_score(y_test1, logreg.predict(X_test1))\n",
    "fpr, tpr, thresholds = roc_curve(y_test1, logreg.predict_proba(X_test1)[:,1])\n",
    "plt.figure()\n",
    "plt.plot(fpr, tpr, label='Logistic Regression (area = %0.2f)' % logit_roc_auc)\n",
    "plt.plot([0, 1], [0, 1],'r--')\n",
    "plt.xlim([0.0, 1.0])\n",
    "plt.ylim([0.0, 1.05])\n",
    "plt.xlabel('False Positive Rate')\n",
    "plt.ylabel('True Positive Rate')\n",
    "plt.title('Receiver operating characteristic')\n",
    "plt.legend(loc=\"lower right\")\n",
    "plt.savefig('Log_ROC')\n",
    "plt.show()"
   ]
  },
  {
   "cell_type": "code",
   "execution_count": 126,
   "metadata": {},
   "outputs": [],
   "source": [
    "import sklearn.ensemble"
   ]
  },
  {
   "cell_type": "code",
   "execution_count": 127,
   "metadata": {},
   "outputs": [],
   "source": [
    "feature_cols = tfdif.get_feature_names()\n",
    "\n",
    "X = res1[feature_cols]\n",
    "y = res1.Label\n",
    "X_train, X_test, y_train, y_test = train_test_split(X, y, random_state=1)"
   ]
  },
  {
   "cell_type": "code",
   "execution_count": 133,
   "metadata": {},
   "outputs": [],
   "source": [
    "bag = sklearn.ensemble.BaggingRegressor(sklearn.linear_model.LogisticRegressionCV(Cs=10),\n",
    "                                  n_estimators=50,\n",
    "                                  max_features=100,\n",
    "                                  max_samples=0.25,\n",
    "                                  n_jobs=-1\n",
    "                                 )"
   ]
  },
  {
   "cell_type": "code",
   "execution_count": 134,
   "metadata": {},
   "outputs": [
    {
     "data": {
      "text/plain": [
       "BaggingRegressor(base_estimator=LogisticRegressionCV(Cs=10, class_weight=None, cv=None, dual=False,\n",
       "           fit_intercept=True, intercept_scaling=1.0, max_iter=100,\n",
       "           multi_class='ovr', n_jobs=1, penalty='l2', random_state=None,\n",
       "           refit=True, scoring=None, solver='lbfgs', tol=0.0001, verbose=0),\n",
       "         bootstrap=True, bootstrap_features=False, max_features=100,\n",
       "         max_samples=0.25, n_estimators=50, n_jobs=-1, oob_score=False,\n",
       "         random_state=None, verbose=0, warm_start=False)"
      ]
     },
     "execution_count": 134,
     "metadata": {},
     "output_type": "execute_result"
    }
   ],
   "source": [
    "bag.fit(X_train, y_train)"
   ]
  },
  {
   "cell_type": "code",
   "execution_count": 135,
   "metadata": {},
   "outputs": [
    {
     "name": "stdout",
     "output_type": "stream",
     "text": [
      "0.4070629032258064\n"
     ]
    }
   ],
   "source": [
    "label_pred = bag.predict(X_test)\n",
    "\n",
    "#print(sklearn.metrics.accuracy_score(y_test, label_pred))\n",
    "print(mean_squared_error(y_test, label_pred))"
   ]
  },
  {
   "cell_type": "code",
   "execution_count": null,
   "metadata": {},
   "outputs": [],
   "source": [
    "rfr = sklearn.ensemble.RandomForestRegressor(n_estimators=100)\n",
    "rfr.fit(Xtrain, Ytrain)\n",
    "sklearn.metrics.r2_score(Ytest, rfr.predict(Xtest))"
   ]
  }
 ],
 "metadata": {
  "kernelspec": {
   "display_name": "Python 3",
   "language": "python",
   "name": "python3"
  },
  "language_info": {
   "codemirror_mode": {
    "name": "ipython",
    "version": 3
   },
   "file_extension": ".py",
   "mimetype": "text/x-python",
   "name": "python",
   "nbconvert_exporter": "python",
   "pygments_lexer": "ipython3",
   "version": "3.5.2"
  }
 },
 "nbformat": 4,
 "nbformat_minor": 2
}
