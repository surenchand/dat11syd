{
 "cells": [
  {
   "cell_type": "code",
   "execution_count": 1,
   "metadata": {
    "slideshow": {
     "slide_type": "notes"
    }
   },
   "outputs": [
    {
     "name": "stdout",
     "output_type": "stream",
     "text": [
      "Collecting RISE\n",
      "  Downloading rise-5.1.0-py2.py3-none-any.whl (1.7MB)\n",
      "\u001b[K    100% |████████████████████████████████| 1.7MB 870kB/s eta 0:00:01\n",
      "\u001b[?25hRequirement already satisfied: notebook>=5.0.0 in /Users/Dan/anaconda3/lib/python3.6/site-packages (from RISE)\n",
      "Installing collected packages: RISE\n",
      "Successfully installed RISE-5.1.0\n"
     ]
    }
   ],
   "source": [
    "! pip install RISE"
   ]
  },
  {
   "cell_type": "code",
   "execution_count": 2,
   "metadata": {
    "slideshow": {
     "slide_type": "notes"
    }
   },
   "outputs": [
    {
     "name": "stdout",
     "output_type": "stream",
     "text": [
      "Installing /Users/Dan/anaconda3/lib/python3.6/site-packages/rise/static -> rise\n",
      "Making directory: /Users/Dan/anaconda3/share/jupyter/nbextensions/rise/\n",
      "Copying: /Users/Dan/anaconda3/lib/python3.6/site-packages/rise/static/main.css -> /Users/Dan/anaconda3/share/jupyter/nbextensions/rise/main.css\n",
      "Copying: /Users/Dan/anaconda3/lib/python3.6/site-packages/rise/static/main.js -> /Users/Dan/anaconda3/share/jupyter/nbextensions/rise/main.js\n",
      "Making directory: /Users/Dan/anaconda3/share/jupyter/nbextensions/rise/reveal.js\n",
      "Copying: /Users/Dan/anaconda3/lib/python3.6/site-packages/rise/static/reveal.js/.npmignore -> /Users/Dan/anaconda3/share/jupyter/nbextensions/rise/reveal.js/.npmignore\n",
      "Copying: /Users/Dan/anaconda3/lib/python3.6/site-packages/rise/static/reveal.js/Gruntfile.js -> /Users/Dan/anaconda3/share/jupyter/nbextensions/rise/reveal.js/Gruntfile.js\n",
      "Copying: /Users/Dan/anaconda3/lib/python3.6/site-packages/rise/static/reveal.js/index.html -> /Users/Dan/anaconda3/share/jupyter/nbextensions/rise/reveal.js/index.html\n",
      "Copying: /Users/Dan/anaconda3/lib/python3.6/site-packages/rise/static/reveal.js/LICENSE -> /Users/Dan/anaconda3/share/jupyter/nbextensions/rise/reveal.js/LICENSE\n",
      "Copying: /Users/Dan/anaconda3/lib/python3.6/site-packages/rise/static/reveal.js/bower.json -> /Users/Dan/anaconda3/share/jupyter/nbextensions/rise/reveal.js/bower.json\n",
      "Copying: /Users/Dan/anaconda3/lib/python3.6/site-packages/rise/static/reveal.js/README.md -> /Users/Dan/anaconda3/share/jupyter/nbextensions/rise/reveal.js/README.md\n",
      "Copying: /Users/Dan/anaconda3/lib/python3.6/site-packages/rise/static/reveal.js/package.json -> /Users/Dan/anaconda3/share/jupyter/nbextensions/rise/reveal.js/package.json\n",
      "Copying: /Users/Dan/anaconda3/lib/python3.6/site-packages/rise/static/reveal.js/CONTRIBUTING.md -> /Users/Dan/anaconda3/share/jupyter/nbextensions/rise/reveal.js/CONTRIBUTING.md\n",
      "Copying: /Users/Dan/anaconda3/lib/python3.6/site-packages/rise/static/reveal.js/demo.html -> /Users/Dan/anaconda3/share/jupyter/nbextensions/rise/reveal.js/demo.html\n",
      "Copying: /Users/Dan/anaconda3/lib/python3.6/site-packages/rise/static/reveal.js/.travis.yml -> /Users/Dan/anaconda3/share/jupyter/nbextensions/rise/reveal.js/.travis.yml\n",
      "Making directory: /Users/Dan/anaconda3/share/jupyter/nbextensions/rise/reveal.js/test\n",
      "Copying: /Users/Dan/anaconda3/lib/python3.6/site-packages/rise/static/reveal.js/test/test-markdown-options.js -> /Users/Dan/anaconda3/share/jupyter/nbextensions/rise/reveal.js/test/test-markdown-options.js\n",
      "Copying: /Users/Dan/anaconda3/lib/python3.6/site-packages/rise/static/reveal.js/test/test-markdown-external.js -> /Users/Dan/anaconda3/share/jupyter/nbextensions/rise/reveal.js/test/test-markdown-external.js\n",
      "Copying: /Users/Dan/anaconda3/lib/python3.6/site-packages/rise/static/reveal.js/test/test.js -> /Users/Dan/anaconda3/share/jupyter/nbextensions/rise/reveal.js/test/test.js\n",
      "Copying: /Users/Dan/anaconda3/lib/python3.6/site-packages/rise/static/reveal.js/test/test-markdown-element-attributes.js -> /Users/Dan/anaconda3/share/jupyter/nbextensions/rise/reveal.js/test/test-markdown-element-attributes.js\n",
      "Copying: /Users/Dan/anaconda3/lib/python3.6/site-packages/rise/static/reveal.js/test/test-markdown.html -> /Users/Dan/anaconda3/share/jupyter/nbextensions/rise/reveal.js/test/test-markdown.html\n",
      "Copying: /Users/Dan/anaconda3/lib/python3.6/site-packages/rise/static/reveal.js/test/qunit-1.12.0.css -> /Users/Dan/anaconda3/share/jupyter/nbextensions/rise/reveal.js/test/qunit-1.12.0.css\n",
      "Copying: /Users/Dan/anaconda3/lib/python3.6/site-packages/rise/static/reveal.js/test/qunit-1.12.0.js -> /Users/Dan/anaconda3/share/jupyter/nbextensions/rise/reveal.js/test/qunit-1.12.0.js\n",
      "Copying: /Users/Dan/anaconda3/lib/python3.6/site-packages/rise/static/reveal.js/test/test-markdown.js -> /Users/Dan/anaconda3/share/jupyter/nbextensions/rise/reveal.js/test/test-markdown.js\n",
      "Copying: /Users/Dan/anaconda3/lib/python3.6/site-packages/rise/static/reveal.js/test/test-pdf.html -> /Users/Dan/anaconda3/share/jupyter/nbextensions/rise/reveal.js/test/test-pdf.html\n",
      "Copying: /Users/Dan/anaconda3/lib/python3.6/site-packages/rise/static/reveal.js/test/test-markdown-slide-attributes.js -> /Users/Dan/anaconda3/share/jupyter/nbextensions/rise/reveal.js/test/test-markdown-slide-attributes.js\n",
      "Copying: /Users/Dan/anaconda3/lib/python3.6/site-packages/rise/static/reveal.js/test/test-markdown-options.html -> /Users/Dan/anaconda3/share/jupyter/nbextensions/rise/reveal.js/test/test-markdown-options.html\n",
      "Copying: /Users/Dan/anaconda3/lib/python3.6/site-packages/rise/static/reveal.js/test/simple.md -> /Users/Dan/anaconda3/share/jupyter/nbextensions/rise/reveal.js/test/simple.md\n",
      "Copying: /Users/Dan/anaconda3/lib/python3.6/site-packages/rise/static/reveal.js/test/test-markdown-slide-attributes.html -> /Users/Dan/anaconda3/share/jupyter/nbextensions/rise/reveal.js/test/test-markdown-slide-attributes.html\n",
      "Copying: /Users/Dan/anaconda3/lib/python3.6/site-packages/rise/static/reveal.js/test/test-markdown-element-attributes.html -> /Users/Dan/anaconda3/share/jupyter/nbextensions/rise/reveal.js/test/test-markdown-element-attributes.html\n",
      "Copying: /Users/Dan/anaconda3/lib/python3.6/site-packages/rise/static/reveal.js/test/test.html -> /Users/Dan/anaconda3/share/jupyter/nbextensions/rise/reveal.js/test/test.html\n",
      "Copying: /Users/Dan/anaconda3/lib/python3.6/site-packages/rise/static/reveal.js/test/test-pdf.js -> /Users/Dan/anaconda3/share/jupyter/nbextensions/rise/reveal.js/test/test-pdf.js\n",
      "Copying: /Users/Dan/anaconda3/lib/python3.6/site-packages/rise/static/reveal.js/test/test-markdown-external.html -> /Users/Dan/anaconda3/share/jupyter/nbextensions/rise/reveal.js/test/test-markdown-external.html\n",
      "Making directory: /Users/Dan/anaconda3/share/jupyter/nbextensions/rise/reveal.js/test/examples\n",
      "Copying: /Users/Dan/anaconda3/lib/python3.6/site-packages/rise/static/reveal.js/test/examples/slide-backgrounds.html -> /Users/Dan/anaconda3/share/jupyter/nbextensions/rise/reveal.js/test/examples/slide-backgrounds.html\n",
      "Copying: /Users/Dan/anaconda3/lib/python3.6/site-packages/rise/static/reveal.js/test/examples/embedded-media.html -> /Users/Dan/anaconda3/share/jupyter/nbextensions/rise/reveal.js/test/examples/embedded-media.html\n",
      "Copying: /Users/Dan/anaconda3/lib/python3.6/site-packages/rise/static/reveal.js/test/examples/barebones.html -> /Users/Dan/anaconda3/share/jupyter/nbextensions/rise/reveal.js/test/examples/barebones.html\n",
      "Copying: /Users/Dan/anaconda3/lib/python3.6/site-packages/rise/static/reveal.js/test/examples/slide-transitions.html -> /Users/Dan/anaconda3/share/jupyter/nbextensions/rise/reveal.js/test/examples/slide-transitions.html\n",
      "Copying: /Users/Dan/anaconda3/lib/python3.6/site-packages/rise/static/reveal.js/test/examples/math.html -> /Users/Dan/anaconda3/share/jupyter/nbextensions/rise/reveal.js/test/examples/math.html\n",
      "Making directory: /Users/Dan/anaconda3/share/jupyter/nbextensions/rise/reveal.js/test/examples/assets\n",
      "Copying: /Users/Dan/anaconda3/lib/python3.6/site-packages/rise/static/reveal.js/test/examples/assets/image1.png -> /Users/Dan/anaconda3/share/jupyter/nbextensions/rise/reveal.js/test/examples/assets/image1.png\n",
      "Copying: /Users/Dan/anaconda3/lib/python3.6/site-packages/rise/static/reveal.js/test/examples/assets/image2.png -> /Users/Dan/anaconda3/share/jupyter/nbextensions/rise/reveal.js/test/examples/assets/image2.png\n",
      "Making directory: /Users/Dan/anaconda3/share/jupyter/nbextensions/rise/reveal.js/css\n",
      "Copying: /Users/Dan/anaconda3/lib/python3.6/site-packages/rise/static/reveal.js/css/reveal.css.upstream -> /Users/Dan/anaconda3/share/jupyter/nbextensions/rise/reveal.js/css/reveal.css.upstream\n",
      "Copying: /Users/Dan/anaconda3/lib/python3.6/site-packages/rise/static/reveal.js/css/reveal.css -> /Users/Dan/anaconda3/share/jupyter/nbextensions/rise/reveal.js/css/reveal.css\n",
      "Copying: /Users/Dan/anaconda3/lib/python3.6/site-packages/rise/static/reveal.js/css/reveal.scss -> /Users/Dan/anaconda3/share/jupyter/nbextensions/rise/reveal.js/css/reveal.scss\n",
      "Making directory: /Users/Dan/anaconda3/share/jupyter/nbextensions/rise/reveal.js/css/print\n",
      "Copying: /Users/Dan/anaconda3/lib/python3.6/site-packages/rise/static/reveal.js/css/print/paper.css -> /Users/Dan/anaconda3/share/jupyter/nbextensions/rise/reveal.js/css/print/paper.css\n",
      "Copying: /Users/Dan/anaconda3/lib/python3.6/site-packages/rise/static/reveal.js/css/print/pdf.css -> /Users/Dan/anaconda3/share/jupyter/nbextensions/rise/reveal.js/css/print/pdf.css\n",
      "Making directory: /Users/Dan/anaconda3/share/jupyter/nbextensions/rise/reveal.js/css/theme\n",
      "Copying: /Users/Dan/anaconda3/lib/python3.6/site-packages/rise/static/reveal.js/css/theme/black.css -> /Users/Dan/anaconda3/share/jupyter/nbextensions/rise/reveal.js/css/theme/black.css\n",
      "Copying: /Users/Dan/anaconda3/lib/python3.6/site-packages/rise/static/reveal.js/css/theme/blood.css -> /Users/Dan/anaconda3/share/jupyter/nbextensions/rise/reveal.js/css/theme/blood.css\n",
      "Copying: /Users/Dan/anaconda3/lib/python3.6/site-packages/rise/static/reveal.js/css/theme/beige.css -> /Users/Dan/anaconda3/share/jupyter/nbextensions/rise/reveal.js/css/theme/beige.css\n",
      "Copying: /Users/Dan/anaconda3/lib/python3.6/site-packages/rise/static/reveal.js/css/theme/serif.css -> /Users/Dan/anaconda3/share/jupyter/nbextensions/rise/reveal.js/css/theme/serif.css\n",
      "Copying: /Users/Dan/anaconda3/lib/python3.6/site-packages/rise/static/reveal.js/css/theme/README.md -> /Users/Dan/anaconda3/share/jupyter/nbextensions/rise/reveal.js/css/theme/README.md\n",
      "Copying: /Users/Dan/anaconda3/lib/python3.6/site-packages/rise/static/reveal.js/css/theme/night.css -> /Users/Dan/anaconda3/share/jupyter/nbextensions/rise/reveal.js/css/theme/night.css\n",
      "Copying: /Users/Dan/anaconda3/lib/python3.6/site-packages/rise/static/reveal.js/css/theme/white.css -> /Users/Dan/anaconda3/share/jupyter/nbextensions/rise/reveal.js/css/theme/white.css\n",
      "Copying: /Users/Dan/anaconda3/lib/python3.6/site-packages/rise/static/reveal.js/css/theme/solarized.css -> /Users/Dan/anaconda3/share/jupyter/nbextensions/rise/reveal.js/css/theme/solarized.css\n",
      "Copying: /Users/Dan/anaconda3/lib/python3.6/site-packages/rise/static/reveal.js/css/theme/moon.css -> /Users/Dan/anaconda3/share/jupyter/nbextensions/rise/reveal.js/css/theme/moon.css\n",
      "Copying: /Users/Dan/anaconda3/lib/python3.6/site-packages/rise/static/reveal.js/css/theme/simple.css -> /Users/Dan/anaconda3/share/jupyter/nbextensions/rise/reveal.js/css/theme/simple.css\n",
      "Copying: /Users/Dan/anaconda3/lib/python3.6/site-packages/rise/static/reveal.js/css/theme/league.css -> /Users/Dan/anaconda3/share/jupyter/nbextensions/rise/reveal.js/css/theme/league.css\n",
      "Copying: /Users/Dan/anaconda3/lib/python3.6/site-packages/rise/static/reveal.js/css/theme/sky.css -> /Users/Dan/anaconda3/share/jupyter/nbextensions/rise/reveal.js/css/theme/sky.css\n",
      "Making directory: /Users/Dan/anaconda3/share/jupyter/nbextensions/rise/reveal.js/css/theme/source\n",
      "Copying: /Users/Dan/anaconda3/lib/python3.6/site-packages/rise/static/reveal.js/css/theme/source/sky.scss -> /Users/Dan/anaconda3/share/jupyter/nbextensions/rise/reveal.js/css/theme/source/sky.scss\n",
      "Copying: /Users/Dan/anaconda3/lib/python3.6/site-packages/rise/static/reveal.js/css/theme/source/serif.scss -> /Users/Dan/anaconda3/share/jupyter/nbextensions/rise/reveal.js/css/theme/source/serif.scss\n",
      "Copying: /Users/Dan/anaconda3/lib/python3.6/site-packages/rise/static/reveal.js/css/theme/source/solarized.scss -> /Users/Dan/anaconda3/share/jupyter/nbextensions/rise/reveal.js/css/theme/source/solarized.scss\n",
      "Copying: /Users/Dan/anaconda3/lib/python3.6/site-packages/rise/static/reveal.js/css/theme/source/white.scss -> /Users/Dan/anaconda3/share/jupyter/nbextensions/rise/reveal.js/css/theme/source/white.scss\n",
      "Copying: /Users/Dan/anaconda3/lib/python3.6/site-packages/rise/static/reveal.js/css/theme/source/beige.scss -> /Users/Dan/anaconda3/share/jupyter/nbextensions/rise/reveal.js/css/theme/source/beige.scss\n",
      "Copying: /Users/Dan/anaconda3/lib/python3.6/site-packages/rise/static/reveal.js/css/theme/source/moon.scss -> /Users/Dan/anaconda3/share/jupyter/nbextensions/rise/reveal.js/css/theme/source/moon.scss\n",
      "Copying: /Users/Dan/anaconda3/lib/python3.6/site-packages/rise/static/reveal.js/css/theme/source/league.scss -> /Users/Dan/anaconda3/share/jupyter/nbextensions/rise/reveal.js/css/theme/source/league.scss\n",
      "Copying: /Users/Dan/anaconda3/lib/python3.6/site-packages/rise/static/reveal.js/css/theme/source/blood.scss -> /Users/Dan/anaconda3/share/jupyter/nbextensions/rise/reveal.js/css/theme/source/blood.scss\n",
      "Copying: /Users/Dan/anaconda3/lib/python3.6/site-packages/rise/static/reveal.js/css/theme/source/simple.scss -> /Users/Dan/anaconda3/share/jupyter/nbextensions/rise/reveal.js/css/theme/source/simple.scss\n",
      "Copying: /Users/Dan/anaconda3/lib/python3.6/site-packages/rise/static/reveal.js/css/theme/source/black.scss -> /Users/Dan/anaconda3/share/jupyter/nbextensions/rise/reveal.js/css/theme/source/black.scss\n",
      "Copying: /Users/Dan/anaconda3/lib/python3.6/site-packages/rise/static/reveal.js/css/theme/source/night.scss -> /Users/Dan/anaconda3/share/jupyter/nbextensions/rise/reveal.js/css/theme/source/night.scss\n",
      "Making directory: /Users/Dan/anaconda3/share/jupyter/nbextensions/rise/reveal.js/css/theme/template\n",
      "Copying: /Users/Dan/anaconda3/lib/python3.6/site-packages/rise/static/reveal.js/css/theme/template/mixins.scss -> /Users/Dan/anaconda3/share/jupyter/nbextensions/rise/reveal.js/css/theme/template/mixins.scss\n",
      "Copying: /Users/Dan/anaconda3/lib/python3.6/site-packages/rise/static/reveal.js/css/theme/template/theme.scss -> /Users/Dan/anaconda3/share/jupyter/nbextensions/rise/reveal.js/css/theme/template/theme.scss\n",
      "Copying: /Users/Dan/anaconda3/lib/python3.6/site-packages/rise/static/reveal.js/css/theme/template/settings.scss -> /Users/Dan/anaconda3/share/jupyter/nbextensions/rise/reveal.js/css/theme/template/settings.scss\n",
      "Making directory: /Users/Dan/anaconda3/share/jupyter/nbextensions/rise/reveal.js/js\n",
      "Copying: /Users/Dan/anaconda3/lib/python3.6/site-packages/rise/static/reveal.js/js/reveal.js -> /Users/Dan/anaconda3/share/jupyter/nbextensions/rise/reveal.js/js/reveal.js\n",
      "Making directory: /Users/Dan/anaconda3/share/jupyter/nbextensions/rise/reveal.js/plugin\n",
      "Making directory: /Users/Dan/anaconda3/share/jupyter/nbextensions/rise/reveal.js/plugin/notes-server\n",
      "Copying: /Users/Dan/anaconda3/lib/python3.6/site-packages/rise/static/reveal.js/plugin/notes-server/client.js -> /Users/Dan/anaconda3/share/jupyter/nbextensions/rise/reveal.js/plugin/notes-server/client.js\n",
      "Copying: /Users/Dan/anaconda3/lib/python3.6/site-packages/rise/static/reveal.js/plugin/notes-server/index.js -> /Users/Dan/anaconda3/share/jupyter/nbextensions/rise/reveal.js/plugin/notes-server/index.js\n"
     ]
    },
    {
     "name": "stdout",
     "output_type": "stream",
     "text": [
      "Copying: /Users/Dan/anaconda3/lib/python3.6/site-packages/rise/static/reveal.js/plugin/notes-server/notes.html -> /Users/Dan/anaconda3/share/jupyter/nbextensions/rise/reveal.js/plugin/notes-server/notes.html\r\n",
      "Making directory: /Users/Dan/anaconda3/share/jupyter/nbextensions/rise/reveal.js/plugin/zoom-js\r\n",
      "Copying: /Users/Dan/anaconda3/lib/python3.6/site-packages/rise/static/reveal.js/plugin/zoom-js/zoom.js -> /Users/Dan/anaconda3/share/jupyter/nbextensions/rise/reveal.js/plugin/zoom-js/zoom.js\r\n",
      "Making directory: /Users/Dan/anaconda3/share/jupyter/nbextensions/rise/reveal.js/plugin/highlight\r\n",
      "Copying: /Users/Dan/anaconda3/lib/python3.6/site-packages/rise/static/reveal.js/plugin/highlight/highlight.js -> /Users/Dan/anaconda3/share/jupyter/nbextensions/rise/reveal.js/plugin/highlight/highlight.js\r\n",
      "Making directory: /Users/Dan/anaconda3/share/jupyter/nbextensions/rise/reveal.js/plugin/markdown\r\n",
      "Copying: /Users/Dan/anaconda3/lib/python3.6/site-packages/rise/static/reveal.js/plugin/markdown/example.md -> /Users/Dan/anaconda3/share/jupyter/nbextensions/rise/reveal.js/plugin/markdown/example.md\r\n",
      "Copying: /Users/Dan/anaconda3/lib/python3.6/site-packages/rise/static/reveal.js/plugin/markdown/marked.js -> /Users/Dan/anaconda3/share/jupyter/nbextensions/rise/reveal.js/plugin/markdown/marked.js\r\n",
      "Copying: /Users/Dan/anaconda3/lib/python3.6/site-packages/rise/static/reveal.js/plugin/markdown/example.html -> /Users/Dan/anaconda3/share/jupyter/nbextensions/rise/reveal.js/plugin/markdown/example.html\r\n",
      "Copying: /Users/Dan/anaconda3/lib/python3.6/site-packages/rise/static/reveal.js/plugin/markdown/markdown.js -> /Users/Dan/anaconda3/share/jupyter/nbextensions/rise/reveal.js/plugin/markdown/markdown.js\r\n",
      "Making directory: /Users/Dan/anaconda3/share/jupyter/nbextensions/rise/reveal.js/plugin/math\r\n",
      "Copying: /Users/Dan/anaconda3/lib/python3.6/site-packages/rise/static/reveal.js/plugin/math/math.js -> /Users/Dan/anaconda3/share/jupyter/nbextensions/rise/reveal.js/plugin/math/math.js\r\n",
      "Making directory: /Users/Dan/anaconda3/share/jupyter/nbextensions/rise/reveal.js/plugin/print-pdf\r\n",
      "Copying: /Users/Dan/anaconda3/lib/python3.6/site-packages/rise/static/reveal.js/plugin/print-pdf/print-pdf.js -> /Users/Dan/anaconda3/share/jupyter/nbextensions/rise/reveal.js/plugin/print-pdf/print-pdf.js\r\n",
      "Making directory: /Users/Dan/anaconda3/share/jupyter/nbextensions/rise/reveal.js/plugin/search\r\n",
      "Copying: /Users/Dan/anaconda3/lib/python3.6/site-packages/rise/static/reveal.js/plugin/search/search.js -> /Users/Dan/anaconda3/share/jupyter/nbextensions/rise/reveal.js/plugin/search/search.js\r\n",
      "Making directory: /Users/Dan/anaconda3/share/jupyter/nbextensions/rise/reveal.js/plugin/notes\r\n",
      "Copying: /Users/Dan/anaconda3/lib/python3.6/site-packages/rise/static/reveal.js/plugin/notes/notes.js -> /Users/Dan/anaconda3/share/jupyter/nbextensions/rise/reveal.js/plugin/notes/notes.js\r\n",
      "Copying: /Users/Dan/anaconda3/lib/python3.6/site-packages/rise/static/reveal.js/plugin/notes/notes.html -> /Users/Dan/anaconda3/share/jupyter/nbextensions/rise/reveal.js/plugin/notes/notes.html\r\n",
      "Making directory: /Users/Dan/anaconda3/share/jupyter/nbextensions/rise/reveal.js/plugin/multiplex\r\n",
      "Copying: /Users/Dan/anaconda3/lib/python3.6/site-packages/rise/static/reveal.js/plugin/multiplex/client.js -> /Users/Dan/anaconda3/share/jupyter/nbextensions/rise/reveal.js/plugin/multiplex/client.js\r\n",
      "Copying: /Users/Dan/anaconda3/lib/python3.6/site-packages/rise/static/reveal.js/plugin/multiplex/index.js -> /Users/Dan/anaconda3/share/jupyter/nbextensions/rise/reveal.js/plugin/multiplex/index.js\r\n",
      "Copying: /Users/Dan/anaconda3/lib/python3.6/site-packages/rise/static/reveal.js/plugin/multiplex/package.json -> /Users/Dan/anaconda3/share/jupyter/nbextensions/rise/reveal.js/plugin/multiplex/package.json\r\n",
      "Copying: /Users/Dan/anaconda3/lib/python3.6/site-packages/rise/static/reveal.js/plugin/multiplex/master.js -> /Users/Dan/anaconda3/share/jupyter/nbextensions/rise/reveal.js/plugin/multiplex/master.js\r\n",
      "Making directory: /Users/Dan/anaconda3/share/jupyter/nbextensions/rise/reveal.js/lib\r\n",
      "Making directory: /Users/Dan/anaconda3/share/jupyter/nbextensions/rise/reveal.js/lib/css\r\n",
      "Copying: /Users/Dan/anaconda3/lib/python3.6/site-packages/rise/static/reveal.js/lib/css/zenburn.css -> /Users/Dan/anaconda3/share/jupyter/nbextensions/rise/reveal.js/lib/css/zenburn.css\r\n",
      "Making directory: /Users/Dan/anaconda3/share/jupyter/nbextensions/rise/reveal.js/lib/js\r\n",
      "Copying: /Users/Dan/anaconda3/lib/python3.6/site-packages/rise/static/reveal.js/lib/js/html5shiv.js -> /Users/Dan/anaconda3/share/jupyter/nbextensions/rise/reveal.js/lib/js/html5shiv.js\r\n",
      "Copying: /Users/Dan/anaconda3/lib/python3.6/site-packages/rise/static/reveal.js/lib/js/head.min.js -> /Users/Dan/anaconda3/share/jupyter/nbextensions/rise/reveal.js/lib/js/head.min.js\r\n",
      "Copying: /Users/Dan/anaconda3/lib/python3.6/site-packages/rise/static/reveal.js/lib/js/classList.js -> /Users/Dan/anaconda3/share/jupyter/nbextensions/rise/reveal.js/lib/js/classList.js\r\n",
      "Making directory: /Users/Dan/anaconda3/share/jupyter/nbextensions/rise/reveal.js/lib/font\r\n",
      "Making directory: /Users/Dan/anaconda3/share/jupyter/nbextensions/rise/reveal.js/lib/font/source-sans-pro\r\n",
      "Copying: /Users/Dan/anaconda3/lib/python3.6/site-packages/rise/static/reveal.js/lib/font/source-sans-pro/source-sans-pro.css -> /Users/Dan/anaconda3/share/jupyter/nbextensions/rise/reveal.js/lib/font/source-sans-pro/source-sans-pro.css\r\n",
      "Copying: /Users/Dan/anaconda3/lib/python3.6/site-packages/rise/static/reveal.js/lib/font/source-sans-pro/source-sans-pro-semibolditalic.eot -> /Users/Dan/anaconda3/share/jupyter/nbextensions/rise/reveal.js/lib/font/source-sans-pro/source-sans-pro-semibolditalic.eot\r\n",
      "Copying: /Users/Dan/anaconda3/lib/python3.6/site-packages/rise/static/reveal.js/lib/font/source-sans-pro/LICENSE -> /Users/Dan/anaconda3/share/jupyter/nbextensions/rise/reveal.js/lib/font/source-sans-pro/LICENSE\r\n",
      "Copying: /Users/Dan/anaconda3/lib/python3.6/site-packages/rise/static/reveal.js/lib/font/source-sans-pro/source-sans-pro-regular.woff -> /Users/Dan/anaconda3/share/jupyter/nbextensions/rise/reveal.js/lib/font/source-sans-pro/source-sans-pro-regular.woff\r\n",
      "Copying: /Users/Dan/anaconda3/lib/python3.6/site-packages/rise/static/reveal.js/lib/font/source-sans-pro/source-sans-pro-semibold.woff -> /Users/Dan/anaconda3/share/jupyter/nbextensions/rise/reveal.js/lib/font/source-sans-pro/source-sans-pro-semibold.woff\r\n",
      "Copying: /Users/Dan/anaconda3/lib/python3.6/site-packages/rise/static/reveal.js/lib/font/source-sans-pro/source-sans-pro-semibolditalic.woff -> /Users/Dan/anaconda3/share/jupyter/nbextensions/rise/reveal.js/lib/font/source-sans-pro/source-sans-pro-semibolditalic.woff\r\n",
      "Copying: /Users/Dan/anaconda3/lib/python3.6/site-packages/rise/static/reveal.js/lib/font/source-sans-pro/source-sans-pro-semibolditalic.ttf -> /Users/Dan/anaconda3/share/jupyter/nbextensions/rise/reveal.js/lib/font/source-sans-pro/source-sans-pro-semibolditalic.ttf\r\n",
      "Copying: /Users/Dan/anaconda3/lib/python3.6/site-packages/rise/static/reveal.js/lib/font/source-sans-pro/source-sans-pro-regular.eot -> /Users/Dan/anaconda3/share/jupyter/nbextensions/rise/reveal.js/lib/font/source-sans-pro/source-sans-pro-regular.eot\r\n",
      "Copying: /Users/Dan/anaconda3/lib/python3.6/site-packages/rise/static/reveal.js/lib/font/source-sans-pro/source-sans-pro-italic.ttf -> /Users/Dan/anaconda3/share/jupyter/nbextensions/rise/reveal.js/lib/font/source-sans-pro/source-sans-pro-italic.ttf\r\n",
      "Copying: /Users/Dan/anaconda3/lib/python3.6/site-packages/rise/static/reveal.js/lib/font/source-sans-pro/source-sans-pro-semibold.ttf -> /Users/Dan/anaconda3/share/jupyter/nbextensions/rise/reveal.js/lib/font/source-sans-pro/source-sans-pro-semibold.ttf\r\n",
      "Copying: /Users/Dan/anaconda3/lib/python3.6/site-packages/rise/static/reveal.js/lib/font/source-sans-pro/source-sans-pro-italic.woff -> /Users/Dan/anaconda3/share/jupyter/nbextensions/rise/reveal.js/lib/font/source-sans-pro/source-sans-pro-italic.woff\r\n",
      "Copying: /Users/Dan/anaconda3/lib/python3.6/site-packages/rise/static/reveal.js/lib/font/source-sans-pro/source-sans-pro-regular.ttf -> /Users/Dan/anaconda3/share/jupyter/nbextensions/rise/reveal.js/lib/font/source-sans-pro/source-sans-pro-regular.ttf\r\n",
      "Copying: /Users/Dan/anaconda3/lib/python3.6/site-packages/rise/static/reveal.js/lib/font/source-sans-pro/source-sans-pro-italic.eot -> /Users/Dan/anaconda3/share/jupyter/nbextensions/rise/reveal.js/lib/font/source-sans-pro/source-sans-pro-italic.eot\r\n",
      "Copying: /Users/Dan/anaconda3/lib/python3.6/site-packages/rise/static/reveal.js/lib/font/source-sans-pro/source-sans-pro-semibold.eot -> /Users/Dan/anaconda3/share/jupyter/nbextensions/rise/reveal.js/lib/font/source-sans-pro/source-sans-pro-semibold.eot\r\n",
      "Making directory: /Users/Dan/anaconda3/share/jupyter/nbextensions/rise/reveal.js/lib/font/league-gothic\r\n",
      "Copying: /Users/Dan/anaconda3/lib/python3.6/site-packages/rise/static/reveal.js/lib/font/league-gothic/league-gothic.woff -> /Users/Dan/anaconda3/share/jupyter/nbextensions/rise/reveal.js/lib/font/league-gothic/league-gothic.woff\r\n",
      "Copying: /Users/Dan/anaconda3/lib/python3.6/site-packages/rise/static/reveal.js/lib/font/league-gothic/league-gothic.css -> /Users/Dan/anaconda3/share/jupyter/nbextensions/rise/reveal.js/lib/font/league-gothic/league-gothic.css\r\n",
      "Copying: /Users/Dan/anaconda3/lib/python3.6/site-packages/rise/static/reveal.js/lib/font/league-gothic/LICENSE -> /Users/Dan/anaconda3/share/jupyter/nbextensions/rise/reveal.js/lib/font/league-gothic/LICENSE\r\n",
      "Copying: /Users/Dan/anaconda3/lib/python3.6/site-packages/rise/static/reveal.js/lib/font/league-gothic/league-gothic.ttf -> /Users/Dan/anaconda3/share/jupyter/nbextensions/rise/reveal.js/lib/font/league-gothic/league-gothic.ttf\r\n",
      "Copying: /Users/Dan/anaconda3/lib/python3.6/site-packages/rise/static/reveal.js/lib/font/league-gothic/league-gothic.eot -> /Users/Dan/anaconda3/share/jupyter/nbextensions/rise/reveal.js/lib/font/league-gothic/league-gothic.eot\r\n",
      "- Validating: \u001b[32mOK\u001b[0m\r\n",
      "\r\n",
      "    To initialize this nbextension in the browser every time the notebook (or other app) loads:\r\n",
      "    \r\n",
      "          jupyter nbextension enable rise --py --sys-prefix\r\n",
      "    \r\n"
     ]
    }
   ],
   "source": [
    "! jupyter-nbextension install rise --py --sys-prefix"
   ]
  },
  {
   "cell_type": "code",
   "execution_count": 3,
   "metadata": {
    "slideshow": {
     "slide_type": "notes"
    }
   },
   "outputs": [
    {
     "name": "stdout",
     "output_type": "stream",
     "text": [
      "Enabling notebook extension rise/main...\r\n",
      "      - Validating: \u001b[32mOK\u001b[0m\r\n"
     ]
    }
   ],
   "source": [
    "! jupyter nbextension enable rise --py --sys-prefix"
   ]
  }
 ],
 "metadata": {
  "celltoolbar": "Slideshow",
  "kernelspec": {
   "display_name": "Python 3",
   "language": "python",
   "name": "python3"
  },
  "language_info": {
   "codemirror_mode": {
    "name": "ipython",
    "version": 3
   },
   "file_extension": ".py",
   "mimetype": "text/x-python",
   "name": "python",
   "nbconvert_exporter": "python",
   "pygments_lexer": "ipython3",
   "version": "3.5.3"
  }
 },
 "nbformat": 4,
 "nbformat_minor": 2
}
