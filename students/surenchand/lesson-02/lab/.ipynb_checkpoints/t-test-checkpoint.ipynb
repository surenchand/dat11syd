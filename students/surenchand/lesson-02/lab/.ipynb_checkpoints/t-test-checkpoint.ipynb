{
 "cells": [
  {
   "cell_type": "markdown",
   "metadata": {},
   "source": [
    "# T-Test"
   ]
  },
  {
   "cell_type": "code",
   "execution_count": 6,
   "metadata": {
    "collapsed": false
   },
   "outputs": [],
   "source": [
    "from scipy.stats import ttest_ind\n",
    "import pandas as pd\n",
    "import numpy as np\n",
    "\n",
    "# Create data\n",
    "a = np.random.uniform(low=0.0, high=1.0, size=100)\n",
    "b = np.random.uniform(low=0.0, high=1.0, size=100)"
   ]
  },
  {
   "cell_type": "code",
   "execution_count": 11,
   "metadata": {
    "collapsed": false
   },
   "outputs": [
    {
     "name": "stdout",
     "output_type": "stream",
     "text": [
      "p-value > 0.05, no difference in efficacy of drug A vs B\n",
      "The samples are drawn from the same distribution.\n"
     ]
    }
   ],
   "source": [
    "# For a two sided t-test with 95% confidence interval \n",
    "# set null hypothesis true (no difference in efficacy of drug A vs B) if p-value > 0.05 \n",
    "\n",
    "# If p-value < 0.05 then drug B has a higher effacicy than drug A\n",
    "p = ttest_ind(a, b, axis=0, equal_var=True, nan_policy='propagate')[1]\n",
    "\n",
    "if p < 0.05:\n",
    "    print('p-value < 0.05, drug B has a higher effacicy than drug A')\n",
    "else:\n",
    "    print('p-value > 0.05, no difference in efficacy of drug A vs B')\n",
    "    print('The samples are drawn from the same distribution.')\n"
   ]
  }
 ],
 "metadata": {
  "kernelspec": {
   "display_name": "Python 3",
   "language": "python",
   "name": "python3"
  },
  "language_info": {
   "codemirror_mode": {
    "name": "ipython",
    "version": 3
   },
   "file_extension": ".py",
   "mimetype": "text/x-python",
   "name": "python",
   "nbconvert_exporter": "python",
   "pygments_lexer": "ipython3",
   "version": "3.5.3"
  }
 },
 "nbformat": 4,
 "nbformat_minor": 2
}
