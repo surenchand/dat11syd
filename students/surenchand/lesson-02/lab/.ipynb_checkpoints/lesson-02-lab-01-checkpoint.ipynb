{
 "cells": [
  {
   "cell_type": "markdown",
   "metadata": {
    "slideshow": {
     "slide_type": "slide"
    }
   },
   "source": [
    "# *** HAVE YOU COPIED THIS TO YOUR PERSONAL SPACE? ***\n",
    "# Get ready for some coding!\n",
    "1. Run each block of code\n",
    "2. Check for errors\n",
    "3. When you think you're error free, flag down a teaching team member to confirm"
   ]
  },
  {
   "cell_type": "code",
   "execution_count": 1,
   "metadata": {},
   "outputs": [
    {
     "ename": "NameError",
     "evalue": "name 'a' is not defined",
     "output_type": "error",
     "traceback": [
      "\u001b[0;31m---------------------------------------------------------------------------\u001b[0m",
      "\u001b[0;31mNameError\u001b[0m                                 Traceback (most recent call last)",
      "\u001b[0;32m<ipython-input-1-f509e6f6ce2d>\u001b[0m in \u001b[0;36m<module>\u001b[0;34m()\u001b[0m\n\u001b[1;32m      1\u001b[0m \u001b[0;31m####This is what an error looks like\u001b[0m\u001b[0;34m\u001b[0m\u001b[0;34m\u001b[0m\u001b[0m\n\u001b[0;32m----> 2\u001b[0;31m \u001b[0mprint\u001b[0m\u001b[0;34m(\u001b[0m\u001b[0ma\u001b[0m\u001b[0;34m)\u001b[0m\u001b[0;34m\u001b[0m\u001b[0m\n\u001b[0m",
      "\u001b[0;31mNameError\u001b[0m: name 'a' is not defined"
     ]
    }
   ],
   "source": [
    "####This is what an error looks like\n",
    "print(a)"
   ]
  },
  {
   "cell_type": "markdown",
   "metadata": {},
   "source": [
    "# Objectives\n",
    "### Get comfortable with IPython Notebook\n",
    "\n",
    "* How to start IPython Notebook\n",
    "* How to read data into pandas\n",
    "* How to do simple manipulations on pandas dataframes\n",
    "\n",
    "\n",
    "## Start a notebook:\n",
    "For each class, we'll be using a set of common data science libraries and tools, like the IPython notebook. You can start an IPython notebook by running\n",
    "\n",
    "```\n",
    "jupyter notebook $NAME_OF_FILE\n",
    "```"
   ]
  },
  {
   "cell_type": "markdown",
   "metadata": {
    "slideshow": {
     "slide_type": "slide"
    }
   },
   "source": [
    "\n",
    "## Try it yourself!\n",
    "Read and run the block of code below by: \n",
    "1. Clicking on it and pressing the play button above or\n",
    "2. Using a short cut- (help --> keyboard shortcuts)"
   ]
  },
  {
   "cell_type": "code",
   "execution_count": 2,
   "metadata": {
    "scrolled": true,
    "slideshow": {
     "slide_type": "skip"
    }
   },
   "outputs": [],
   "source": [
    "%matplotlib inline\n",
    "import matplotlib.pyplot as plt\n",
    "import matplotlib as mpl\n",
    "import pandas as pd\n",
    "\n",
    "mpl.rcParams['figure.figsize'] = (15, 6)\n",
    "pd.set_option('display.width', 4000)\n",
    "pd.set_option('display.max_columns', 100)"
   ]
  },
  {
   "cell_type": "markdown",
   "metadata": {},
   "source": [
    "# First: Read in the data\n",
    "### Review Simple Commands\n",
    "\n",
    "Practice downloading and reading into sample data"
   ]
  },
  {
   "cell_type": "code",
   "execution_count": null,
   "metadata": {},
   "outputs": [],
   "source": [
    "# Download and read the data (this may take more than 1 minute)\n",
    "orig_data = pd.read_csv('../assets/dataset/311-service-requests.csv', parse_dates=['Created Date'], low_memory=False)"
   ]
  },
  {
   "cell_type": "code",
   "execution_count": null,
   "metadata": {},
   "outputs": [],
   "source": [
    "orig_data.head()"
   ]
  },
  {
   "cell_type": "code",
   "execution_count": null,
   "metadata": {
    "scrolled": true
   },
   "outputs": [],
   "source": [
    "plt.scatter(orig_data['Longitude'], orig_data['Latitude'], marker='.', color=\"purple\")"
   ]
  },
  {
   "cell_type": "markdown",
   "metadata": {
    "slideshow": {
     "slide_type": "slide"
    }
   },
   "source": [
    "## Try this Example: \n",
    "Graph the number of noise complaints each hour in New York"
   ]
  },
  {
   "cell_type": "code",
   "execution_count": null,
   "metadata": {
    "slideshow": {
     "slide_type": "fragment"
    }
   },
   "outputs": [],
   "source": [
    "complaints = orig_data[['Created Date', 'Complaint Type']]\n",
    "noise_complaints = complaints[complaints['Complaint Type'] == 'Noise - Street/Sidewalk']\n",
    "noise_complaints.set_index('Created Date').sort_index().resample('H', how=len).plot()"
   ]
  },
  {
   "cell_type": "markdown",
   "metadata": {},
   "source": [
    "# Second: Using IPython\n",
    "### Review Python Basics\n",
    "\n",
    "Test your skills by answering the following questions:"
   ]
  },
  {
   "cell_type": "markdown",
   "metadata": {},
   "source": [
    "#### Question 1.  Divide 10 by 20 and set the result to a variable named \"A\""
   ]
  },
  {
   "cell_type": "code",
   "execution_count": 3,
   "metadata": {},
   "outputs": [
    {
     "name": "stdout",
     "output_type": "stream",
     "text": [
      "0.5\n"
     ]
    }
   ],
   "source": [
    "### Insert your code here and then uncomment | print A | when you are ready to test it. \n",
    "A = 10/20\n",
    "\n",
    "print(A)"
   ]
  },
  {
   "cell_type": "code",
   "execution_count": 4,
   "metadata": {},
   "outputs": [
    {
     "name": "stdout",
     "output_type": "stream",
     "text": [
      "0.5\n"
     ]
    }
   ],
   "source": [
    "#### If you did not get a float (decimals), alter your equation to get the desired result (0.5) \n",
    "print(float(A))"
   ]
  },
  {
   "cell_type": "markdown",
   "metadata": {},
   "source": [
    "#### Question 2. Create a function called division that will divide any two numbers and prints the result (with decimals). \n",
    "Call your function. Confirm that the results are as expected."
   ]
  },
  {
   "cell_type": "code",
   "execution_count": 6,
   "metadata": {},
   "outputs": [
    {
     "name": "stdout",
     "output_type": "stream",
     "text": [
      "0.5\n"
     ]
    }
   ],
   "source": [
    "# add your function here\n",
    "def division(a,b):\n",
    "    c = a/b\n",
    "    print(float(c))\n",
    "\n",
    "division (10,20)"
   ]
  },
  {
   "cell_type": "markdown",
   "metadata": {},
   "source": [
    "#### Question 3. Using .split() split my string into separate words in a variable named words"
   ]
  },
  {
   "cell_type": "code",
   "execution_count": 45,
   "metadata": {},
   "outputs": [
    {
     "name": "stdout",
     "output_type": "stream",
     "text": [
      "['the', 'cow', 'jumped', 'over', 'the', 'moon']\n"
     ]
    }
   ],
   "source": [
    "my_string = \"the cow jumped over the moon\"\n",
    "# put your code here it should return ['the', 'cow', 'jumped', 'over', 'the', 'moon']\n",
    "split_string =my_string.split(\" \")\n",
    "\n",
    "print(split_string)"
   ]
  },
  {
   "cell_type": "markdown",
   "metadata": {},
   "source": [
    "#### Question 4. How many words are in my_string?"
   ]
  },
  {
   "cell_type": "code",
   "execution_count": 44,
   "metadata": {},
   "outputs": [
    {
     "data": {
      "text/plain": [
       "6"
      ]
     },
     "execution_count": 44,
     "metadata": {},
     "output_type": "execute_result"
    }
   ],
   "source": [
    "len(split_string)"
   ]
  },
  {
   "cell_type": "markdown",
   "metadata": {},
   "source": [
    "#### Question 5. Use a list comprehension to find the length of each word\n",
    "\n",
    "result: [3, 3, 6, 4, 3, 4]"
   ]
  },
  {
   "cell_type": "code",
   "execution_count": 52,
   "metadata": {},
   "outputs": [
    {
     "name": "stdout",
     "output_type": "stream",
     "text": [
      "[3, 3, 6, 4, 3, 4]\n"
     ]
    }
   ],
   "source": [
    "def list_comprehension(res):\n",
    "    a = []\n",
    "    for i in range(len(res)):\n",
    "        a.append(len(res[i]))\n",
    "    print(a)\n",
    "    \n",
    "list_comprehension(split_string)\n",
    "#split_string[1]"
   ]
  },
  {
   "cell_type": "markdown",
   "metadata": {},
   "source": [
    "#### Question 6. Put the words back together in a variable called sentence using .join()\n",
    "result:\n",
    "the cow jumped over the moon"
   ]
  },
  {
   "cell_type": "code",
   "execution_count": 55,
   "metadata": {},
   "outputs": [
    {
     "name": "stdout",
     "output_type": "stream",
     "text": [
      "the cow jumped over the moon\n"
     ]
    }
   ],
   "source": [
    "join_words = ' '.join(split_string)\n",
    "print (join_words)"
   ]
  },
  {
   "cell_type": "markdown",
   "metadata": {},
   "source": [
    "#### Bonus: Add a \"||\" between each word\n",
    "result: \n",
    "the||cow||jumped||over||the||moon"
   ]
  },
  {
   "cell_type": "code",
   "execution_count": 56,
   "metadata": {},
   "outputs": [
    {
     "name": "stdout",
     "output_type": "stream",
     "text": [
      "the||cow||jumped||over||the||moon\n"
     ]
    }
   ],
   "source": [
    "join_words = '||'.join(split_string)\n",
    "print (join_words)"
   ]
  },
  {
   "cell_type": "code",
   "execution_count": null,
   "metadata": {},
   "outputs": [],
   "source": []
  }
 ],
 "metadata": {
  "kernelspec": {
   "display_name": "Python 3",
   "language": "python",
   "name": "python3"
  },
  "language_info": {
   "codemirror_mode": {
    "name": "ipython",
    "version": 3
   },
   "file_extension": ".py",
   "mimetype": "text/x-python",
   "name": "python",
   "nbconvert_exporter": "python",
   "pygments_lexer": "ipython3",
   "version": "3.5.2"
  }
 },
 "nbformat": 4,
 "nbformat_minor": 1
}
