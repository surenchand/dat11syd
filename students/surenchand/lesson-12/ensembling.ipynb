{
 "cells": [
  {
   "cell_type": "code",
   "execution_count": 35,
   "metadata": {
    "collapsed": true
   },
   "outputs": [],
   "source": [
    "import pandas\n",
    "%matplotlib inline\n",
    "import matplotlib.pyplot"
   ]
  },
  {
   "cell_type": "code",
   "execution_count": 6,
   "metadata": {
    "collapsed": false
   },
   "outputs": [
    {
     "data": {
      "text/html": [
       "<div>\n",
       "<table border=\"1\" class=\"dataframe\">\n",
       "  <thead>\n",
       "    <tr style=\"text-align: right;\">\n",
       "      <th></th>\n",
       "      <th>Address</th>\n",
       "      <th>Neighborhood</th>\n",
       "      <th>HouseType</th>\n",
       "      <th>Price</th>\n",
       "      <th>Bath</th>\n",
       "      <th>CrimeIndex</th>\n",
       "      <th>MinutesToLoop</th>\n",
       "      <th>MilesToLake</th>\n",
       "      <th>Age</th>\n",
       "      <th>LotSizeSqft</th>\n",
       "      <th>HouseSizeSqft</th>\n",
       "      <th>SchoolIndex</th>\n",
       "      <th>EstimatedPrice</th>\n",
       "    </tr>\n",
       "  </thead>\n",
       "  <tbody>\n",
       "    <tr>\n",
       "      <th>2</th>\n",
       "      <td>2047 W Thomas St, Chicago IL</td>\n",
       "      <td>Wicker Park</td>\n",
       "      <td>Multi-Family Home</td>\n",
       "      <td>620000</td>\n",
       "      <td>4.0</td>\n",
       "      <td>2.09</td>\n",
       "      <td>9</td>\n",
       "      <td>3.84</td>\n",
       "      <td>94</td>\n",
       "      <td>3049</td>\n",
       "      <td>3492</td>\n",
       "      <td>36.2</td>\n",
       "      <td>629300.0</td>\n",
       "    </tr>\n",
       "    <tr>\n",
       "      <th>4</th>\n",
       "      <td>1634 W Beach Ave, Chicago IL</td>\n",
       "      <td>Wicker Park</td>\n",
       "      <td>Multi-Family Home</td>\n",
       "      <td>477000</td>\n",
       "      <td>2.0</td>\n",
       "      <td>4.63</td>\n",
       "      <td>9</td>\n",
       "      <td>2.96</td>\n",
       "      <td>31</td>\n",
       "      <td>2614</td>\n",
       "      <td>1840</td>\n",
       "      <td>78.9</td>\n",
       "      <td>463644.0</td>\n",
       "    </tr>\n",
       "    <tr>\n",
       "      <th>5</th>\n",
       "      <td>1634 W Wabansia Ave, Chicago IL</td>\n",
       "      <td>Wicker Park</td>\n",
       "      <td>Single-Family Home</td>\n",
       "      <td>695000</td>\n",
       "      <td>2.0</td>\n",
       "      <td>1.40</td>\n",
       "      <td>8</td>\n",
       "      <td>2.86</td>\n",
       "      <td>23</td>\n",
       "      <td>2614</td>\n",
       "      <td>1628</td>\n",
       "      <td>50.0</td>\n",
       "      <td>813150.0</td>\n",
       "    </tr>\n",
       "    <tr>\n",
       "      <th>8</th>\n",
       "      <td>1418 N Bell Ave, Chicago IL</td>\n",
       "      <td>Wicker Park</td>\n",
       "      <td>Multi-Family Home</td>\n",
       "      <td>466000</td>\n",
       "      <td>2.0</td>\n",
       "      <td>4.93</td>\n",
       "      <td>10</td>\n",
       "      <td>4.02</td>\n",
       "      <td>121</td>\n",
       "      <td>3049</td>\n",
       "      <td>1344</td>\n",
       "      <td>16.7</td>\n",
       "      <td>538696.0</td>\n",
       "    </tr>\n",
       "    <tr>\n",
       "      <th>9</th>\n",
       "      <td>1308 N Bosworth Ave, Chicago IL</td>\n",
       "      <td>Wicker Park</td>\n",
       "      <td>Multi-Family Home</td>\n",
       "      <td>435000</td>\n",
       "      <td>2.0</td>\n",
       "      <td>4.75</td>\n",
       "      <td>8</td>\n",
       "      <td>2.89</td>\n",
       "      <td>119</td>\n",
       "      <td>3485</td>\n",
       "      <td>1760</td>\n",
       "      <td>40.0</td>\n",
       "      <td>463275.0</td>\n",
       "    </tr>\n",
       "    <tr>\n",
       "      <th>10</th>\n",
       "      <td>1025 N Wood St, Chicago IL</td>\n",
       "      <td>Wicker Park</td>\n",
       "      <td>Multi-Family Home</td>\n",
       "      <td>303000</td>\n",
       "      <td>2.0</td>\n",
       "      <td>4.68</td>\n",
       "      <td>8</td>\n",
       "      <td>3.43</td>\n",
       "      <td>119</td>\n",
       "      <td>3049</td>\n",
       "      <td>2728</td>\n",
       "      <td>59.5</td>\n",
       "      <td>361782.0</td>\n",
       "    </tr>\n",
       "    <tr>\n",
       "      <th>11</th>\n",
       "      <td>1732 W Pierce Ave, Chicago IL</td>\n",
       "      <td>Wicker Park</td>\n",
       "      <td>Multi-Family Home</td>\n",
       "      <td>314000</td>\n",
       "      <td>3.0</td>\n",
       "      <td>5.18</td>\n",
       "      <td>9</td>\n",
       "      <td>3.06</td>\n",
       "      <td>131</td>\n",
       "      <td>2614</td>\n",
       "      <td>2405</td>\n",
       "      <td>50.0</td>\n",
       "      <td>334724.0</td>\n",
       "    </tr>\n",
       "    <tr>\n",
       "      <th>13</th>\n",
       "      <td>2116 W Potomac Ave, Chicago IL</td>\n",
       "      <td>Wicker Park</td>\n",
       "      <td>Multi-Family Home</td>\n",
       "      <td>650000</td>\n",
       "      <td>3.0</td>\n",
       "      <td>3.89</td>\n",
       "      <td>10</td>\n",
       "      <td>3.86</td>\n",
       "      <td>119</td>\n",
       "      <td>3485</td>\n",
       "      <td>3618</td>\n",
       "      <td>16.7</td>\n",
       "      <td>680550.0</td>\n",
       "    </tr>\n",
       "    <tr>\n",
       "      <th>14</th>\n",
       "      <td>1421 N Wood St, Chicago IL</td>\n",
       "      <td>Wicker Park</td>\n",
       "      <td>Single-Family Home</td>\n",
       "      <td>490500</td>\n",
       "      <td>1.0</td>\n",
       "      <td>5.38</td>\n",
       "      <td>9</td>\n",
       "      <td>3.21</td>\n",
       "      <td>124</td>\n",
       "      <td>2614</td>\n",
       "      <td>922</td>\n",
       "      <td>69.4</td>\n",
       "      <td>516987.0</td>\n",
       "    </tr>\n",
       "    <tr>\n",
       "      <th>16</th>\n",
       "      <td>1411 N Ashland Ave, Chicago IL</td>\n",
       "      <td>Wicker Park</td>\n",
       "      <td>Multi-Family Home</td>\n",
       "      <td>590000</td>\n",
       "      <td>2.0</td>\n",
       "      <td>4.50</td>\n",
       "      <td>8</td>\n",
       "      <td>2.90</td>\n",
       "      <td>118</td>\n",
       "      <td>2614</td>\n",
       "      <td>2544</td>\n",
       "      <td>78.9</td>\n",
       "      <td>589410.0</td>\n",
       "    </tr>\n",
       "    <tr>\n",
       "      <th>17</th>\n",
       "      <td>1409 N Ashland Ave, Chicago IL</td>\n",
       "      <td>Wicker Park</td>\n",
       "      <td>Multi-Family Home</td>\n",
       "      <td>590000</td>\n",
       "      <td>2.0</td>\n",
       "      <td>4.50</td>\n",
       "      <td>8</td>\n",
       "      <td>2.90</td>\n",
       "      <td>119</td>\n",
       "      <td>2614</td>\n",
       "      <td>2352</td>\n",
       "      <td>78.9</td>\n",
       "      <td>644870.0</td>\n",
       "    </tr>\n",
       "    <tr>\n",
       "      <th>19</th>\n",
       "      <td>2152 W Caton St, Chicago IL</td>\n",
       "      <td>Wicker Park</td>\n",
       "      <td>Single-Family Home</td>\n",
       "      <td>885000</td>\n",
       "      <td>3.0</td>\n",
       "      <td>5.58</td>\n",
       "      <td>11</td>\n",
       "      <td>3.72</td>\n",
       "      <td>121</td>\n",
       "      <td>4792</td>\n",
       "      <td>3461</td>\n",
       "      <td>36.1</td>\n",
       "      <td>945180.0</td>\n",
       "    </tr>\n",
       "    <tr>\n",
       "      <th>20</th>\n",
       "      <td>1735 N Hermitage Ave, Chicago IL</td>\n",
       "      <td>Wicker Park</td>\n",
       "      <td>Single-Family Home</td>\n",
       "      <td>982500</td>\n",
       "      <td>3.0</td>\n",
       "      <td>4.65</td>\n",
       "      <td>9</td>\n",
       "      <td>2.98</td>\n",
       "      <td>0</td>\n",
       "      <td>2614</td>\n",
       "      <td>2783</td>\n",
       "      <td>33.3</td>\n",
       "      <td>1087627.5</td>\n",
       "    </tr>\n",
       "    <tr>\n",
       "      <th>23</th>\n",
       "      <td>1725 W Le Moyne St #2, Chicago IL</td>\n",
       "      <td>Wicker Park</td>\n",
       "      <td>Multi-Family Home</td>\n",
       "      <td>580000</td>\n",
       "      <td>3.0</td>\n",
       "      <td>5.18</td>\n",
       "      <td>9</td>\n",
       "      <td>3.08</td>\n",
       "      <td>108</td>\n",
       "      <td>2614</td>\n",
       "      <td>2656</td>\n",
       "      <td>50.0</td>\n",
       "      <td>596820.0</td>\n",
       "    </tr>\n",
       "    <tr>\n",
       "      <th>26</th>\n",
       "      <td>922 N Hermitage Ave, Chicago IL</td>\n",
       "      <td>Wicker Park</td>\n",
       "      <td>Multi-Family Home</td>\n",
       "      <td>398000</td>\n",
       "      <td>2.0</td>\n",
       "      <td>4.23</td>\n",
       "      <td>8</td>\n",
       "      <td>3.42</td>\n",
       "      <td>116</td>\n",
       "      <td>3049</td>\n",
       "      <td>1344</td>\n",
       "      <td>22.2</td>\n",
       "      <td>364170.0</td>\n",
       "    </tr>\n",
       "    <tr>\n",
       "      <th>31</th>\n",
       "      <td>1610 N Winchester Ave, Chicago IL</td>\n",
       "      <td>Wicker Park</td>\n",
       "      <td>Single-Family Home</td>\n",
       "      <td>1050000</td>\n",
       "      <td>2.0</td>\n",
       "      <td>5.65</td>\n",
       "      <td>9</td>\n",
       "      <td>3.41</td>\n",
       "      <td>131</td>\n",
       "      <td>3049</td>\n",
       "      <td>2580</td>\n",
       "      <td>69.4</td>\n",
       "      <td>1050000.0</td>\n",
       "    </tr>\n",
       "    <tr>\n",
       "      <th>32</th>\n",
       "      <td>1357 N Bell Ave, Chicago IL</td>\n",
       "      <td>Wicker Park</td>\n",
       "      <td>Single-Family Home</td>\n",
       "      <td>1125000</td>\n",
       "      <td>2.0</td>\n",
       "      <td>4.93</td>\n",
       "      <td>10</td>\n",
       "      <td>4.03</td>\n",
       "      <td>21</td>\n",
       "      <td>3049</td>\n",
       "      <td>1290</td>\n",
       "      <td>16.7</td>\n",
       "      <td>1105875.0</td>\n",
       "    </tr>\n",
       "    <tr>\n",
       "      <th>33</th>\n",
       "      <td>1109 N Hermitage Ave, Chicago IL</td>\n",
       "      <td>Wicker Park</td>\n",
       "      <td>Multi-Family Home</td>\n",
       "      <td>383500</td>\n",
       "      <td>2.0</td>\n",
       "      <td>5.38</td>\n",
       "      <td>8</td>\n",
       "      <td>3.29</td>\n",
       "      <td>128</td>\n",
       "      <td>3049</td>\n",
       "      <td>2763</td>\n",
       "      <td>59.5</td>\n",
       "      <td>409961.5</td>\n",
       "    </tr>\n",
       "    <tr>\n",
       "      <th>35</th>\n",
       "      <td>2034 W Willow St #D, Chicago IL</td>\n",
       "      <td>Wicker Park</td>\n",
       "      <td>Townhome</td>\n",
       "      <td>585000</td>\n",
       "      <td>3.0</td>\n",
       "      <td>5.58</td>\n",
       "      <td>11</td>\n",
       "      <td>3.46</td>\n",
       "      <td>0</td>\n",
       "      <td>871</td>\n",
       "      <td>1983</td>\n",
       "      <td>36.1</td>\n",
       "      <td>539955.0</td>\n",
       "    </tr>\n",
       "    <tr>\n",
       "      <th>37</th>\n",
       "      <td>1644 N Hermitage Ave, Chicago IL</td>\n",
       "      <td>Wicker Park</td>\n",
       "      <td>Multi-Family Home</td>\n",
       "      <td>460000</td>\n",
       "      <td>4.0</td>\n",
       "      <td>5.65</td>\n",
       "      <td>9</td>\n",
       "      <td>3.06</td>\n",
       "      <td>121</td>\n",
       "      <td>3049</td>\n",
       "      <td>2856</td>\n",
       "      <td>33.3</td>\n",
       "      <td>541880.0</td>\n",
       "    </tr>\n",
       "    <tr>\n",
       "      <th>38</th>\n",
       "      <td>1738 W Wabansia Ave, Chicago IL</td>\n",
       "      <td>Wicker Park</td>\n",
       "      <td>Single-Family Home</td>\n",
       "      <td>675000</td>\n",
       "      <td>2.0</td>\n",
       "      <td>4.65</td>\n",
       "      <td>9</td>\n",
       "      <td>3.03</td>\n",
       "      <td>114</td>\n",
       "      <td>1742</td>\n",
       "      <td>2279</td>\n",
       "      <td>33.3</td>\n",
       "      <td>654750.0</td>\n",
       "    </tr>\n",
       "    <tr>\n",
       "      <th>39</th>\n",
       "      <td>1456 N Milwaukee Ave, Chicago IL</td>\n",
       "      <td>Wicker Park</td>\n",
       "      <td>Multi-Family Home</td>\n",
       "      <td>2150000</td>\n",
       "      <td>4.0</td>\n",
       "      <td>6.09</td>\n",
       "      <td>8</td>\n",
       "      <td>3.35</td>\n",
       "      <td>128</td>\n",
       "      <td>3049</td>\n",
       "      <td>6422</td>\n",
       "      <td>69.4</td>\n",
       "      <td>2386500.0</td>\n",
       "    </tr>\n",
       "    <tr>\n",
       "      <th>43</th>\n",
       "      <td>1105 N Wolcott Ave, Chicago IL</td>\n",
       "      <td>Wicker Park</td>\n",
       "      <td>Townhome</td>\n",
       "      <td>590000</td>\n",
       "      <td>2.0</td>\n",
       "      <td>3.29</td>\n",
       "      <td>9</td>\n",
       "      <td>3.56</td>\n",
       "      <td>0</td>\n",
       "      <td>871</td>\n",
       "      <td>2183</td>\n",
       "      <td>59.5</td>\n",
       "      <td>575250.0</td>\n",
       "    </tr>\n",
       "    <tr>\n",
       "      <th>45</th>\n",
       "      <td>1237 N Wolcott Ave, Chicago IL</td>\n",
       "      <td>Wicker Park</td>\n",
       "      <td>Multi-Family Home</td>\n",
       "      <td>647500</td>\n",
       "      <td>3.0</td>\n",
       "      <td>4.99</td>\n",
       "      <td>9</td>\n",
       "      <td>3.49</td>\n",
       "      <td>119</td>\n",
       "      <td>3920</td>\n",
       "      <td>4125</td>\n",
       "      <td>59.5</td>\n",
       "      <td>530950.0</td>\n",
       "    </tr>\n",
       "    <tr>\n",
       "      <th>46</th>\n",
       "      <td>1354 N Wolcott Ave, Chicago IL</td>\n",
       "      <td>Wicker Park</td>\n",
       "      <td>Townhome</td>\n",
       "      <td>500000</td>\n",
       "      <td>1.0</td>\n",
       "      <td>5.88</td>\n",
       "      <td>9</td>\n",
       "      <td>3.37</td>\n",
       "      <td>0</td>\n",
       "      <td>1742</td>\n",
       "      <td>2040</td>\n",
       "      <td>69.4</td>\n",
       "      <td>512000.0</td>\n",
       "    </tr>\n",
       "    <tr>\n",
       "      <th>49</th>\n",
       "      <td>1754 W Crystal St, Chicago IL</td>\n",
       "      <td>Wicker Park</td>\n",
       "      <td>Single-Family Home</td>\n",
       "      <td>695000</td>\n",
       "      <td>3.0</td>\n",
       "      <td>4.93</td>\n",
       "      <td>9</td>\n",
       "      <td>3.29</td>\n",
       "      <td>0</td>\n",
       "      <td>2614</td>\n",
       "      <td>2403</td>\n",
       "      <td>59.5</td>\n",
       "      <td>729750.0</td>\n",
       "    </tr>\n",
       "    <tr>\n",
       "      <th>52</th>\n",
       "      <td>1524 W Thomas St, Chicago IL</td>\n",
       "      <td>Wicker Park</td>\n",
       "      <td>Single-Family Home</td>\n",
       "      <td>326000</td>\n",
       "      <td>2.0</td>\n",
       "      <td>5.30</td>\n",
       "      <td>7</td>\n",
       "      <td>2.95</td>\n",
       "      <td>119</td>\n",
       "      <td>3049</td>\n",
       "      <td>1089</td>\n",
       "      <td>27.3</td>\n",
       "      <td>298942.0</td>\n",
       "    </tr>\n",
       "    <tr>\n",
       "      <th>53</th>\n",
       "      <td>1507 N Leavitt St, Chicago IL</td>\n",
       "      <td>Wicker Park</td>\n",
       "      <td>Single-Family Home</td>\n",
       "      <td>245000</td>\n",
       "      <td>1.0</td>\n",
       "      <td>3.51</td>\n",
       "      <td>10</td>\n",
       "      <td>3.86</td>\n",
       "      <td>121</td>\n",
       "      <td>3485</td>\n",
       "      <td>861</td>\n",
       "      <td>93.9</td>\n",
       "      <td>263130.0</td>\n",
       "    </tr>\n",
       "    <tr>\n",
       "      <th>57</th>\n",
       "      <td>1744 N Wilmot Ave, Chicago IL</td>\n",
       "      <td>Wicker Park</td>\n",
       "      <td>Single-Family Home</td>\n",
       "      <td>770000</td>\n",
       "      <td>3.0</td>\n",
       "      <td>5.58</td>\n",
       "      <td>11</td>\n",
       "      <td>3.61</td>\n",
       "      <td>0</td>\n",
       "      <td>2614</td>\n",
       "      <td>2997</td>\n",
       "      <td>36.1</td>\n",
       "      <td>623700.0</td>\n",
       "    </tr>\n",
       "    <tr>\n",
       "      <th>58</th>\n",
       "      <td>1736 N Winnebago Ave #F, Chicago IL</td>\n",
       "      <td>Wicker Park</td>\n",
       "      <td>Townhome</td>\n",
       "      <td>462500</td>\n",
       "      <td>2.0</td>\n",
       "      <td>8.08</td>\n",
       "      <td>11</td>\n",
       "      <td>3.84</td>\n",
       "      <td>0</td>\n",
       "      <td>871</td>\n",
       "      <td>1436</td>\n",
       "      <td>36.1</td>\n",
       "      <td>515225.0</td>\n",
       "    </tr>\n",
       "    <tr>\n",
       "      <th>...</th>\n",
       "      <td>...</td>\n",
       "      <td>...</td>\n",
       "      <td>...</td>\n",
       "      <td>...</td>\n",
       "      <td>...</td>\n",
       "      <td>...</td>\n",
       "      <td>...</td>\n",
       "      <td>...</td>\n",
       "      <td>...</td>\n",
       "      <td>...</td>\n",
       "      <td>...</td>\n",
       "      <td>...</td>\n",
       "      <td>...</td>\n",
       "    </tr>\n",
       "    <tr>\n",
       "      <th>90</th>\n",
       "      <td>2045 W Cortez St, Chicago IL</td>\n",
       "      <td>Wicker Park</td>\n",
       "      <td>Multi-Family Home</td>\n",
       "      <td>405000</td>\n",
       "      <td>2.0</td>\n",
       "      <td>1.09</td>\n",
       "      <td>10</td>\n",
       "      <td>3.86</td>\n",
       "      <td>121</td>\n",
       "      <td>3049</td>\n",
       "      <td>2016</td>\n",
       "      <td>36.2</td>\n",
       "      <td>341415.0</td>\n",
       "    </tr>\n",
       "    <tr>\n",
       "      <th>91</th>\n",
       "      <td>1517 W Augusta Blvd, Chicago IL</td>\n",
       "      <td>Wicker Park</td>\n",
       "      <td>Multi-Family Home</td>\n",
       "      <td>434000</td>\n",
       "      <td>2.0</td>\n",
       "      <td>5.10</td>\n",
       "      <td>6</td>\n",
       "      <td>3.03</td>\n",
       "      <td>121</td>\n",
       "      <td>3049</td>\n",
       "      <td>1512</td>\n",
       "      <td>22.2</td>\n",
       "      <td>471758.0</td>\n",
       "    </tr>\n",
       "    <tr>\n",
       "      <th>92</th>\n",
       "      <td>1500 N Paulina St, Chicago IL</td>\n",
       "      <td>Wicker Park</td>\n",
       "      <td>Single-Family Home</td>\n",
       "      <td>870000</td>\n",
       "      <td>1.0</td>\n",
       "      <td>4.93</td>\n",
       "      <td>8</td>\n",
       "      <td>3.03</td>\n",
       "      <td>14</td>\n",
       "      <td>2614</td>\n",
       "      <td>1996</td>\n",
       "      <td>50.0</td>\n",
       "      <td>936120.0</td>\n",
       "    </tr>\n",
       "    <tr>\n",
       "      <th>93</th>\n",
       "      <td>1118 N Winchester Ave, Chicago IL</td>\n",
       "      <td>Wicker Park</td>\n",
       "      <td>Single-Family Home</td>\n",
       "      <td>495000</td>\n",
       "      <td>1.0</td>\n",
       "      <td>3.49</td>\n",
       "      <td>9</td>\n",
       "      <td>3.67</td>\n",
       "      <td>108</td>\n",
       "      <td>3049</td>\n",
       "      <td>1958</td>\n",
       "      <td>59.5</td>\n",
       "      <td>506880.0</td>\n",
       "    </tr>\n",
       "    <tr>\n",
       "      <th>101</th>\n",
       "      <td>1236 N Hoyne Ave, Chicago IL</td>\n",
       "      <td>Wicker Park</td>\n",
       "      <td>Single-Family Home</td>\n",
       "      <td>650000</td>\n",
       "      <td>1.0</td>\n",
       "      <td>3.39</td>\n",
       "      <td>11</td>\n",
       "      <td>3.85</td>\n",
       "      <td>31</td>\n",
       "      <td>7405</td>\n",
       "      <td>900</td>\n",
       "      <td>69.4</td>\n",
       "      <td>737750.0</td>\n",
       "    </tr>\n",
       "    <tr>\n",
       "      <th>102</th>\n",
       "      <td>1249 N Marion Ct, Chicago IL</td>\n",
       "      <td>Wicker Park</td>\n",
       "      <td>Single-Family Home</td>\n",
       "      <td>730000</td>\n",
       "      <td>2.0</td>\n",
       "      <td>5.74</td>\n",
       "      <td>9</td>\n",
       "      <td>3.42</td>\n",
       "      <td>0</td>\n",
       "      <td>2614</td>\n",
       "      <td>2420</td>\n",
       "      <td>59.5</td>\n",
       "      <td>686930.0</td>\n",
       "    </tr>\n",
       "    <tr>\n",
       "      <th>120</th>\n",
       "      <td>2008 W Potomac Ave #D, Chicago IL</td>\n",
       "      <td>Wicker Park</td>\n",
       "      <td>Townhome</td>\n",
       "      <td>490000</td>\n",
       "      <td>2.0</td>\n",
       "      <td>3.59</td>\n",
       "      <td>11</td>\n",
       "      <td>3.68</td>\n",
       "      <td>0</td>\n",
       "      <td>1307</td>\n",
       "      <td>1328</td>\n",
       "      <td>69.4</td>\n",
       "      <td>560560.0</td>\n",
       "    </tr>\n",
       "    <tr>\n",
       "      <th>121</th>\n",
       "      <td>1130 N Winchester Ave, Chicago IL</td>\n",
       "      <td>Wicker Park</td>\n",
       "      <td>Multi-Family Home</td>\n",
       "      <td>655000</td>\n",
       "      <td>2.0</td>\n",
       "      <td>3.49</td>\n",
       "      <td>9</td>\n",
       "      <td>3.66</td>\n",
       "      <td>114</td>\n",
       "      <td>3485</td>\n",
       "      <td>1484</td>\n",
       "      <td>59.5</td>\n",
       "      <td>641900.0</td>\n",
       "    </tr>\n",
       "    <tr>\n",
       "      <th>128</th>\n",
       "      <td>1522 N Elk Grove Ave, Chicago IL</td>\n",
       "      <td>Wicker Park</td>\n",
       "      <td>Single-Family Home</td>\n",
       "      <td>1570000</td>\n",
       "      <td>4.0</td>\n",
       "      <td>5.79</td>\n",
       "      <td>8</td>\n",
       "      <td>3.33</td>\n",
       "      <td>0</td>\n",
       "      <td>3049</td>\n",
       "      <td>3276</td>\n",
       "      <td>69.4</td>\n",
       "      <td>1342350.0</td>\n",
       "    </tr>\n",
       "    <tr>\n",
       "      <th>130</th>\n",
       "      <td>1435 N Elk Grove Ave, Chicago IL</td>\n",
       "      <td>Wicker Park</td>\n",
       "      <td>Single-Family Home</td>\n",
       "      <td>1550000</td>\n",
       "      <td>3.0</td>\n",
       "      <td>5.99</td>\n",
       "      <td>9</td>\n",
       "      <td>3.24</td>\n",
       "      <td>0</td>\n",
       "      <td>2614</td>\n",
       "      <td>2620</td>\n",
       "      <td>69.4</td>\n",
       "      <td>1464750.0</td>\n",
       "    </tr>\n",
       "    <tr>\n",
       "      <th>135</th>\n",
       "      <td>1924 W Wabansia Ave, Chicago IL</td>\n",
       "      <td>Wicker Park</td>\n",
       "      <td>Single-Family Home</td>\n",
       "      <td>1357000</td>\n",
       "      <td>2.0</td>\n",
       "      <td>4.65</td>\n",
       "      <td>10</td>\n",
       "      <td>3.33</td>\n",
       "      <td>16</td>\n",
       "      <td>3920</td>\n",
       "      <td>2311</td>\n",
       "      <td>36.1</td>\n",
       "      <td>1394996.0</td>\n",
       "    </tr>\n",
       "    <tr>\n",
       "      <th>142</th>\n",
       "      <td>1310 N Bell Ave, Chicago IL</td>\n",
       "      <td>Wicker Park</td>\n",
       "      <td>Single-Family Home</td>\n",
       "      <td>300000</td>\n",
       "      <td>1.0</td>\n",
       "      <td>4.93</td>\n",
       "      <td>11</td>\n",
       "      <td>4.08</td>\n",
       "      <td>127</td>\n",
       "      <td>3049</td>\n",
       "      <td>1512</td>\n",
       "      <td>40.8</td>\n",
       "      <td>280200.0</td>\n",
       "    </tr>\n",
       "    <tr>\n",
       "      <th>145</th>\n",
       "      <td>1321 N Bell Ave, Chicago IL</td>\n",
       "      <td>Wicker Park</td>\n",
       "      <td>Single-Family Home</td>\n",
       "      <td>500000</td>\n",
       "      <td>1.0</td>\n",
       "      <td>4.93</td>\n",
       "      <td>11</td>\n",
       "      <td>4.05</td>\n",
       "      <td>119</td>\n",
       "      <td>3049</td>\n",
       "      <td>1560</td>\n",
       "      <td>16.7</td>\n",
       "      <td>520000.0</td>\n",
       "    </tr>\n",
       "    <tr>\n",
       "      <th>146</th>\n",
       "      <td>1808 W Haddon Ave, Chicago IL</td>\n",
       "      <td>Wicker Park</td>\n",
       "      <td>Multi-Family Home</td>\n",
       "      <td>565000</td>\n",
       "      <td>4.0</td>\n",
       "      <td>4.88</td>\n",
       "      <td>9</td>\n",
       "      <td>3.40</td>\n",
       "      <td>131</td>\n",
       "      <td>2178</td>\n",
       "      <td>2200</td>\n",
       "      <td>59.5</td>\n",
       "      <td>580255.0</td>\n",
       "    </tr>\n",
       "    <tr>\n",
       "      <th>152</th>\n",
       "      <td>1747 W North Ave, Chicago IL</td>\n",
       "      <td>Wicker Park</td>\n",
       "      <td>Multi-Family Home</td>\n",
       "      <td>390000</td>\n",
       "      <td>3.0</td>\n",
       "      <td>5.78</td>\n",
       "      <td>8</td>\n",
       "      <td>3.10</td>\n",
       "      <td>131</td>\n",
       "      <td>2614</td>\n",
       "      <td>2596</td>\n",
       "      <td>50.0</td>\n",
       "      <td>399360.0</td>\n",
       "    </tr>\n",
       "    <tr>\n",
       "      <th>161</th>\n",
       "      <td>2245 W Cortez St, Chicago IL</td>\n",
       "      <td>Wicker Park</td>\n",
       "      <td>Multi-Family Home</td>\n",
       "      <td>350000</td>\n",
       "      <td>2.0</td>\n",
       "      <td>1.96</td>\n",
       "      <td>10</td>\n",
       "      <td>4.20</td>\n",
       "      <td>99</td>\n",
       "      <td>3920</td>\n",
       "      <td>2652</td>\n",
       "      <td>33.3</td>\n",
       "      <td>307300.0</td>\n",
       "    </tr>\n",
       "    <tr>\n",
       "      <th>162</th>\n",
       "      <td>1767 N Hoyne Ave #B, Chicago IL</td>\n",
       "      <td>Wicker Park</td>\n",
       "      <td>Townhome</td>\n",
       "      <td>515000</td>\n",
       "      <td>2.0</td>\n",
       "      <td>5.58</td>\n",
       "      <td>11</td>\n",
       "      <td>3.55</td>\n",
       "      <td>0</td>\n",
       "      <td>871</td>\n",
       "      <td>1754</td>\n",
       "      <td>36.1</td>\n",
       "      <td>563410.0</td>\n",
       "    </tr>\n",
       "    <tr>\n",
       "      <th>165</th>\n",
       "      <td>1634 W Julian St, Chicago IL</td>\n",
       "      <td>Wicker Park</td>\n",
       "      <td>Multi-Family Home</td>\n",
       "      <td>581000</td>\n",
       "      <td>3.0</td>\n",
       "      <td>4.63</td>\n",
       "      <td>9</td>\n",
       "      <td>2.94</td>\n",
       "      <td>121</td>\n",
       "      <td>2614</td>\n",
       "      <td>3432</td>\n",
       "      <td>50.0</td>\n",
       "      <td>611212.0</td>\n",
       "    </tr>\n",
       "    <tr>\n",
       "      <th>166</th>\n",
       "      <td>1632 W Julian St, Chicago IL</td>\n",
       "      <td>Wicker Park</td>\n",
       "      <td>Multi-Family Home</td>\n",
       "      <td>581000</td>\n",
       "      <td>3.0</td>\n",
       "      <td>4.63</td>\n",
       "      <td>9</td>\n",
       "      <td>2.94</td>\n",
       "      <td>121</td>\n",
       "      <td>2614</td>\n",
       "      <td>2646</td>\n",
       "      <td>50.0</td>\n",
       "      <td>664083.0</td>\n",
       "    </tr>\n",
       "    <tr>\n",
       "      <th>167</th>\n",
       "      <td>1614 W Pierce Ave, Chicago IL</td>\n",
       "      <td>Wicker Park</td>\n",
       "      <td>Multi-Family Home</td>\n",
       "      <td>625000</td>\n",
       "      <td>3.0</td>\n",
       "      <td>4.43</td>\n",
       "      <td>8</td>\n",
       "      <td>2.87</td>\n",
       "      <td>123</td>\n",
       "      <td>2614</td>\n",
       "      <td>3360</td>\n",
       "      <td>50.0</td>\n",
       "      <td>705625.0</td>\n",
       "    </tr>\n",
       "    <tr>\n",
       "      <th>170</th>\n",
       "      <td>1916 W Potomac Ave, Chicago IL</td>\n",
       "      <td>Wicker Park</td>\n",
       "      <td>Single-Family Home</td>\n",
       "      <td>722000</td>\n",
       "      <td>2.0</td>\n",
       "      <td>4.99</td>\n",
       "      <td>10</td>\n",
       "      <td>3.52</td>\n",
       "      <td>21</td>\n",
       "      <td>3049</td>\n",
       "      <td>2349</td>\n",
       "      <td>69.4</td>\n",
       "      <td>777594.0</td>\n",
       "    </tr>\n",
       "    <tr>\n",
       "      <th>179</th>\n",
       "      <td>1511 N Paulina St #N, Chicago IL</td>\n",
       "      <td>Wicker Park</td>\n",
       "      <td>Townhome</td>\n",
       "      <td>368500</td>\n",
       "      <td>1.0</td>\n",
       "      <td>4.93</td>\n",
       "      <td>8</td>\n",
       "      <td>3.01</td>\n",
       "      <td>0</td>\n",
       "      <td>871</td>\n",
       "      <td>935</td>\n",
       "      <td>50.0</td>\n",
       "      <td>397243.0</td>\n",
       "    </tr>\n",
       "    <tr>\n",
       "      <th>182</th>\n",
       "      <td>1724 N Winnebago Ave #I, Chicago IL</td>\n",
       "      <td>Wicker Park</td>\n",
       "      <td>Townhome</td>\n",
       "      <td>305000</td>\n",
       "      <td>2.0</td>\n",
       "      <td>8.08</td>\n",
       "      <td>11</td>\n",
       "      <td>3.83</td>\n",
       "      <td>0</td>\n",
       "      <td>436</td>\n",
       "      <td>918</td>\n",
       "      <td>36.1</td>\n",
       "      <td>316895.0</td>\n",
       "    </tr>\n",
       "    <tr>\n",
       "      <th>189</th>\n",
       "      <td>1723 W Le Moyne St, Chicago IL</td>\n",
       "      <td>Wicker Park</td>\n",
       "      <td>Single-Family Home</td>\n",
       "      <td>610000</td>\n",
       "      <td>1.0</td>\n",
       "      <td>5.18</td>\n",
       "      <td>9</td>\n",
       "      <td>3.08</td>\n",
       "      <td>115</td>\n",
       "      <td>2614</td>\n",
       "      <td>392</td>\n",
       "      <td>50.0</td>\n",
       "      <td>724680.0</td>\n",
       "    </tr>\n",
       "    <tr>\n",
       "      <th>190</th>\n",
       "      <td>1422 N Hoyne Ave #1, Chicago IL</td>\n",
       "      <td>Wicker Park</td>\n",
       "      <td>Multi-Family Home</td>\n",
       "      <td>624000</td>\n",
       "      <td>3.0</td>\n",
       "      <td>3.89</td>\n",
       "      <td>10</td>\n",
       "      <td>3.76</td>\n",
       "      <td>109</td>\n",
       "      <td>3485</td>\n",
       "      <td>3663</td>\n",
       "      <td>69.4</td>\n",
       "      <td>643344.0</td>\n",
       "    </tr>\n",
       "    <tr>\n",
       "      <th>194</th>\n",
       "      <td>1732 N Winchester Ave, Chicago IL</td>\n",
       "      <td>Wicker Park</td>\n",
       "      <td>Single-Family Home</td>\n",
       "      <td>1300000</td>\n",
       "      <td>3.0</td>\n",
       "      <td>4.65</td>\n",
       "      <td>10</td>\n",
       "      <td>3.35</td>\n",
       "      <td>0</td>\n",
       "      <td>3049</td>\n",
       "      <td>3043</td>\n",
       "      <td>36.1</td>\n",
       "      <td>1210300.0</td>\n",
       "    </tr>\n",
       "    <tr>\n",
       "      <th>199</th>\n",
       "      <td>2043 W Thomas St, Chicago IL</td>\n",
       "      <td>Wicker Park</td>\n",
       "      <td>Single-Family Home</td>\n",
       "      <td>680000</td>\n",
       "      <td>1.0</td>\n",
       "      <td>2.09</td>\n",
       "      <td>9</td>\n",
       "      <td>3.83</td>\n",
       "      <td>111</td>\n",
       "      <td>3049</td>\n",
       "      <td>1214</td>\n",
       "      <td>36.2</td>\n",
       "      <td>635120.0</td>\n",
       "    </tr>\n",
       "    <tr>\n",
       "      <th>200</th>\n",
       "      <td>1338 N Leavitt St, Chicago IL</td>\n",
       "      <td>Wicker Park</td>\n",
       "      <td>Single-Family Home</td>\n",
       "      <td>322000</td>\n",
       "      <td>1.0</td>\n",
       "      <td>3.76</td>\n",
       "      <td>10</td>\n",
       "      <td>3.97</td>\n",
       "      <td>126</td>\n",
       "      <td>3049</td>\n",
       "      <td>1260</td>\n",
       "      <td>16.7</td>\n",
       "      <td>283682.0</td>\n",
       "    </tr>\n",
       "    <tr>\n",
       "      <th>203</th>\n",
       "      <td>1928 W Crystal St, Chicago IL</td>\n",
       "      <td>Wicker Park</td>\n",
       "      <td>Multi-Family Home</td>\n",
       "      <td>580000</td>\n",
       "      <td>3.0</td>\n",
       "      <td>4.99</td>\n",
       "      <td>9</td>\n",
       "      <td>3.56</td>\n",
       "      <td>119</td>\n",
       "      <td>3049</td>\n",
       "      <td>3612</td>\n",
       "      <td>59.5</td>\n",
       "      <td>657140.0</td>\n",
       "    </tr>\n",
       "    <tr>\n",
       "      <th>215</th>\n",
       "      <td>1746 N Wood St, Chicago IL</td>\n",
       "      <td>Wicker Park</td>\n",
       "      <td>Single-Family Home</td>\n",
       "      <td>1040000</td>\n",
       "      <td>3.0</td>\n",
       "      <td>4.65</td>\n",
       "      <td>10</td>\n",
       "      <td>3.09</td>\n",
       "      <td>8</td>\n",
       "      <td>3049</td>\n",
       "      <td>0</td>\n",
       "      <td>33.3</td>\n",
       "      <td>888160.0</td>\n",
       "    </tr>\n",
       "  </tbody>\n",
       "</table>\n",
       "<p>69 rows × 13 columns</p>\n",
       "</div>"
      ],
      "text/plain": [
       "                                 Address Neighborhood           HouseType  \\\n",
       "2           2047 W Thomas St, Chicago IL  Wicker Park   Multi-Family Home   \n",
       "4           1634 W Beach Ave, Chicago IL  Wicker Park   Multi-Family Home   \n",
       "5        1634 W Wabansia Ave, Chicago IL  Wicker Park  Single-Family Home   \n",
       "8            1418 N Bell Ave, Chicago IL  Wicker Park   Multi-Family Home   \n",
       "9        1308 N Bosworth Ave, Chicago IL  Wicker Park   Multi-Family Home   \n",
       "10            1025 N Wood St, Chicago IL  Wicker Park   Multi-Family Home   \n",
       "11         1732 W Pierce Ave, Chicago IL  Wicker Park   Multi-Family Home   \n",
       "13        2116 W Potomac Ave, Chicago IL  Wicker Park   Multi-Family Home   \n",
       "14            1421 N Wood St, Chicago IL  Wicker Park  Single-Family Home   \n",
       "16        1411 N Ashland Ave, Chicago IL  Wicker Park   Multi-Family Home   \n",
       "17        1409 N Ashland Ave, Chicago IL  Wicker Park   Multi-Family Home   \n",
       "19           2152 W Caton St, Chicago IL  Wicker Park  Single-Family Home   \n",
       "20      1735 N Hermitage Ave, Chicago IL  Wicker Park  Single-Family Home   \n",
       "23     1725 W Le Moyne St #2, Chicago IL  Wicker Park   Multi-Family Home   \n",
       "26       922 N Hermitage Ave, Chicago IL  Wicker Park   Multi-Family Home   \n",
       "31     1610 N Winchester Ave, Chicago IL  Wicker Park  Single-Family Home   \n",
       "32           1357 N Bell Ave, Chicago IL  Wicker Park  Single-Family Home   \n",
       "33      1109 N Hermitage Ave, Chicago IL  Wicker Park   Multi-Family Home   \n",
       "35       2034 W Willow St #D, Chicago IL  Wicker Park            Townhome   \n",
       "37      1644 N Hermitage Ave, Chicago IL  Wicker Park   Multi-Family Home   \n",
       "38       1738 W Wabansia Ave, Chicago IL  Wicker Park  Single-Family Home   \n",
       "39      1456 N Milwaukee Ave, Chicago IL  Wicker Park   Multi-Family Home   \n",
       "43        1105 N Wolcott Ave, Chicago IL  Wicker Park            Townhome   \n",
       "45        1237 N Wolcott Ave, Chicago IL  Wicker Park   Multi-Family Home   \n",
       "46        1354 N Wolcott Ave, Chicago IL  Wicker Park            Townhome   \n",
       "49         1754 W Crystal St, Chicago IL  Wicker Park  Single-Family Home   \n",
       "52          1524 W Thomas St, Chicago IL  Wicker Park  Single-Family Home   \n",
       "53         1507 N Leavitt St, Chicago IL  Wicker Park  Single-Family Home   \n",
       "57         1744 N Wilmot Ave, Chicago IL  Wicker Park  Single-Family Home   \n",
       "58   1736 N Winnebago Ave #F, Chicago IL  Wicker Park            Townhome   \n",
       "..                                   ...          ...                 ...   \n",
       "90          2045 W Cortez St, Chicago IL  Wicker Park   Multi-Family Home   \n",
       "91       1517 W Augusta Blvd, Chicago IL  Wicker Park   Multi-Family Home   \n",
       "92         1500 N Paulina St, Chicago IL  Wicker Park  Single-Family Home   \n",
       "93     1118 N Winchester Ave, Chicago IL  Wicker Park  Single-Family Home   \n",
       "101         1236 N Hoyne Ave, Chicago IL  Wicker Park  Single-Family Home   \n",
       "102         1249 N Marion Ct, Chicago IL  Wicker Park  Single-Family Home   \n",
       "120    2008 W Potomac Ave #D, Chicago IL  Wicker Park            Townhome   \n",
       "121    1130 N Winchester Ave, Chicago IL  Wicker Park   Multi-Family Home   \n",
       "128     1522 N Elk Grove Ave, Chicago IL  Wicker Park  Single-Family Home   \n",
       "130     1435 N Elk Grove Ave, Chicago IL  Wicker Park  Single-Family Home   \n",
       "135      1924 W Wabansia Ave, Chicago IL  Wicker Park  Single-Family Home   \n",
       "142          1310 N Bell Ave, Chicago IL  Wicker Park  Single-Family Home   \n",
       "145          1321 N Bell Ave, Chicago IL  Wicker Park  Single-Family Home   \n",
       "146        1808 W Haddon Ave, Chicago IL  Wicker Park   Multi-Family Home   \n",
       "152         1747 W North Ave, Chicago IL  Wicker Park   Multi-Family Home   \n",
       "161         2245 W Cortez St, Chicago IL  Wicker Park   Multi-Family Home   \n",
       "162      1767 N Hoyne Ave #B, Chicago IL  Wicker Park            Townhome   \n",
       "165         1634 W Julian St, Chicago IL  Wicker Park   Multi-Family Home   \n",
       "166         1632 W Julian St, Chicago IL  Wicker Park   Multi-Family Home   \n",
       "167        1614 W Pierce Ave, Chicago IL  Wicker Park   Multi-Family Home   \n",
       "170       1916 W Potomac Ave, Chicago IL  Wicker Park  Single-Family Home   \n",
       "179     1511 N Paulina St #N, Chicago IL  Wicker Park            Townhome   \n",
       "182  1724 N Winnebago Ave #I, Chicago IL  Wicker Park            Townhome   \n",
       "189       1723 W Le Moyne St, Chicago IL  Wicker Park  Single-Family Home   \n",
       "190      1422 N Hoyne Ave #1, Chicago IL  Wicker Park   Multi-Family Home   \n",
       "194    1732 N Winchester Ave, Chicago IL  Wicker Park  Single-Family Home   \n",
       "199         2043 W Thomas St, Chicago IL  Wicker Park  Single-Family Home   \n",
       "200        1338 N Leavitt St, Chicago IL  Wicker Park  Single-Family Home   \n",
       "203        1928 W Crystal St, Chicago IL  Wicker Park   Multi-Family Home   \n",
       "215           1746 N Wood St, Chicago IL  Wicker Park  Single-Family Home   \n",
       "\n",
       "       Price  Bath  CrimeIndex  MinutesToLoop  MilesToLake  Age  LotSizeSqft  \\\n",
       "2     620000   4.0        2.09              9         3.84   94         3049   \n",
       "4     477000   2.0        4.63              9         2.96   31         2614   \n",
       "5     695000   2.0        1.40              8         2.86   23         2614   \n",
       "8     466000   2.0        4.93             10         4.02  121         3049   \n",
       "9     435000   2.0        4.75              8         2.89  119         3485   \n",
       "10    303000   2.0        4.68              8         3.43  119         3049   \n",
       "11    314000   3.0        5.18              9         3.06  131         2614   \n",
       "13    650000   3.0        3.89             10         3.86  119         3485   \n",
       "14    490500   1.0        5.38              9         3.21  124         2614   \n",
       "16    590000   2.0        4.50              8         2.90  118         2614   \n",
       "17    590000   2.0        4.50              8         2.90  119         2614   \n",
       "19    885000   3.0        5.58             11         3.72  121         4792   \n",
       "20    982500   3.0        4.65              9         2.98    0         2614   \n",
       "23    580000   3.0        5.18              9         3.08  108         2614   \n",
       "26    398000   2.0        4.23              8         3.42  116         3049   \n",
       "31   1050000   2.0        5.65              9         3.41  131         3049   \n",
       "32   1125000   2.0        4.93             10         4.03   21         3049   \n",
       "33    383500   2.0        5.38              8         3.29  128         3049   \n",
       "35    585000   3.0        5.58             11         3.46    0          871   \n",
       "37    460000   4.0        5.65              9         3.06  121         3049   \n",
       "38    675000   2.0        4.65              9         3.03  114         1742   \n",
       "39   2150000   4.0        6.09              8         3.35  128         3049   \n",
       "43    590000   2.0        3.29              9         3.56    0          871   \n",
       "45    647500   3.0        4.99              9         3.49  119         3920   \n",
       "46    500000   1.0        5.88              9         3.37    0         1742   \n",
       "49    695000   3.0        4.93              9         3.29    0         2614   \n",
       "52    326000   2.0        5.30              7         2.95  119         3049   \n",
       "53    245000   1.0        3.51             10         3.86  121         3485   \n",
       "57    770000   3.0        5.58             11         3.61    0         2614   \n",
       "58    462500   2.0        8.08             11         3.84    0          871   \n",
       "..       ...   ...         ...            ...          ...  ...          ...   \n",
       "90    405000   2.0        1.09             10         3.86  121         3049   \n",
       "91    434000   2.0        5.10              6         3.03  121         3049   \n",
       "92    870000   1.0        4.93              8         3.03   14         2614   \n",
       "93    495000   1.0        3.49              9         3.67  108         3049   \n",
       "101   650000   1.0        3.39             11         3.85   31         7405   \n",
       "102   730000   2.0        5.74              9         3.42    0         2614   \n",
       "120   490000   2.0        3.59             11         3.68    0         1307   \n",
       "121   655000   2.0        3.49              9         3.66  114         3485   \n",
       "128  1570000   4.0        5.79              8         3.33    0         3049   \n",
       "130  1550000   3.0        5.99              9         3.24    0         2614   \n",
       "135  1357000   2.0        4.65             10         3.33   16         3920   \n",
       "142   300000   1.0        4.93             11         4.08  127         3049   \n",
       "145   500000   1.0        4.93             11         4.05  119         3049   \n",
       "146   565000   4.0        4.88              9         3.40  131         2178   \n",
       "152   390000   3.0        5.78              8         3.10  131         2614   \n",
       "161   350000   2.0        1.96             10         4.20   99         3920   \n",
       "162   515000   2.0        5.58             11         3.55    0          871   \n",
       "165   581000   3.0        4.63              9         2.94  121         2614   \n",
       "166   581000   3.0        4.63              9         2.94  121         2614   \n",
       "167   625000   3.0        4.43              8         2.87  123         2614   \n",
       "170   722000   2.0        4.99             10         3.52   21         3049   \n",
       "179   368500   1.0        4.93              8         3.01    0          871   \n",
       "182   305000   2.0        8.08             11         3.83    0          436   \n",
       "189   610000   1.0        5.18              9         3.08  115         2614   \n",
       "190   624000   3.0        3.89             10         3.76  109         3485   \n",
       "194  1300000   3.0        4.65             10         3.35    0         3049   \n",
       "199   680000   1.0        2.09              9         3.83  111         3049   \n",
       "200   322000   1.0        3.76             10         3.97  126         3049   \n",
       "203   580000   3.0        4.99              9         3.56  119         3049   \n",
       "215  1040000   3.0        4.65             10         3.09    8         3049   \n",
       "\n",
       "     HouseSizeSqft  SchoolIndex  EstimatedPrice  \n",
       "2             3492         36.2        629300.0  \n",
       "4             1840         78.9        463644.0  \n",
       "5             1628         50.0        813150.0  \n",
       "8             1344         16.7        538696.0  \n",
       "9             1760         40.0        463275.0  \n",
       "10            2728         59.5        361782.0  \n",
       "11            2405         50.0        334724.0  \n",
       "13            3618         16.7        680550.0  \n",
       "14             922         69.4        516987.0  \n",
       "16            2544         78.9        589410.0  \n",
       "17            2352         78.9        644870.0  \n",
       "19            3461         36.1        945180.0  \n",
       "20            2783         33.3       1087627.5  \n",
       "23            2656         50.0        596820.0  \n",
       "26            1344         22.2        364170.0  \n",
       "31            2580         69.4       1050000.0  \n",
       "32            1290         16.7       1105875.0  \n",
       "33            2763         59.5        409961.5  \n",
       "35            1983         36.1        539955.0  \n",
       "37            2856         33.3        541880.0  \n",
       "38            2279         33.3        654750.0  \n",
       "39            6422         69.4       2386500.0  \n",
       "43            2183         59.5        575250.0  \n",
       "45            4125         59.5        530950.0  \n",
       "46            2040         69.4        512000.0  \n",
       "49            2403         59.5        729750.0  \n",
       "52            1089         27.3        298942.0  \n",
       "53             861         93.9        263130.0  \n",
       "57            2997         36.1        623700.0  \n",
       "58            1436         36.1        515225.0  \n",
       "..             ...          ...             ...  \n",
       "90            2016         36.2        341415.0  \n",
       "91            1512         22.2        471758.0  \n",
       "92            1996         50.0        936120.0  \n",
       "93            1958         59.5        506880.0  \n",
       "101            900         69.4        737750.0  \n",
       "102           2420         59.5        686930.0  \n",
       "120           1328         69.4        560560.0  \n",
       "121           1484         59.5        641900.0  \n",
       "128           3276         69.4       1342350.0  \n",
       "130           2620         69.4       1464750.0  \n",
       "135           2311         36.1       1394996.0  \n",
       "142           1512         40.8        280200.0  \n",
       "145           1560         16.7        520000.0  \n",
       "146           2200         59.5        580255.0  \n",
       "152           2596         50.0        399360.0  \n",
       "161           2652         33.3        307300.0  \n",
       "162           1754         36.1        563410.0  \n",
       "165           3432         50.0        611212.0  \n",
       "166           2646         50.0        664083.0  \n",
       "167           3360         50.0        705625.0  \n",
       "170           2349         69.4        777594.0  \n",
       "179            935         50.0        397243.0  \n",
       "182            918         36.1        316895.0  \n",
       "189            392         50.0        724680.0  \n",
       "190           3663         69.4        643344.0  \n",
       "194           3043         36.1       1210300.0  \n",
       "199           1214         36.2        635120.0  \n",
       "200           1260         16.7        283682.0  \n",
       "203           3612         59.5        657140.0  \n",
       "215              0         33.3        888160.0  \n",
       "\n",
       "[69 rows x 13 columns]"
      ]
     },
     "execution_count": 6,
     "metadata": {},
     "output_type": "execute_result"
    }
   ],
   "source": [
    "chicago = pandas.read_csv('/mnt/GA/dat11syd/data/chicagohouseprices2.csv', index_col=0).dropna()\n",
    "chicago"
   ]
  },
  {
   "cell_type": "code",
   "execution_count": 8,
   "metadata": {
    "collapsed": false
   },
   "outputs": [],
   "source": [
    "import sklearn.linear_model"
   ]
  },
  {
   "cell_type": "code",
   "execution_count": 10,
   "metadata": {
    "collapsed": false
   },
   "outputs": [
    {
     "data": {
      "text/plain": [
       "Address            object\n",
       "Neighborhood       object\n",
       "HouseType          object\n",
       "Price               int64\n",
       "Bath              float64\n",
       "CrimeIndex        float64\n",
       "MinutesToLoop       int64\n",
       "MilesToLake       float64\n",
       "Age                 int64\n",
       "LotSizeSqft         int64\n",
       "HouseSizeSqft       int64\n",
       "SchoolIndex       float64\n",
       "EstimatedPrice    float64\n",
       "dtype: object"
      ]
     },
     "execution_count": 10,
     "metadata": {},
     "output_type": "execute_result"
    }
   ],
   "source": [
    "chicago.dtypes"
   ]
  },
  {
   "cell_type": "code",
   "execution_count": 41,
   "metadata": {
    "collapsed": true
   },
   "outputs": [],
   "source": [
    "X_columns = ['EstimatedPrice', 'Bath', 'CrimeIndex', 'MinutesToLoop', 'MilesToLake', 'Age', 'LotSizeSqft', 'HouseSizeSqft', 'SchoolIndex']"
   ]
  },
  {
   "cell_type": "code",
   "execution_count": 42,
   "metadata": {
    "collapsed": true
   },
   "outputs": [],
   "source": [
    "Y = chicago.Price"
   ]
  },
  {
   "cell_type": "code",
   "execution_count": 115,
   "metadata": {
    "collapsed": true
   },
   "outputs": [],
   "source": [
    "sklearn.model_selection.train_test_split?"
   ]
  },
  {
   "cell_type": "code",
   "execution_count": 116,
   "metadata": {
    "collapsed": false
   },
   "outputs": [],
   "source": [
    "import sklearn.model_selection\n",
    "import sklearn.metrics\n",
    "(Xtrain, Xtest, Ytrain, Ytest) = sklearn.model_selection.train_test_split(chicago[X_columns],Y, test_size=5\n",
    "                                                                             )"
   ]
  },
  {
   "cell_type": "code",
   "execution_count": 117,
   "metadata": {
    "collapsed": false
   },
   "outputs": [
    {
     "data": {
      "text/plain": [
       "0.9324649824836214"
      ]
     },
     "execution_count": 117,
     "metadata": {},
     "output_type": "execute_result"
    }
   ],
   "source": [
    "lr = sklearn.linear_model.LinearRegression()\n",
    "lr.fit(Xtrain, Ytrain)\n",
    "sklearn.metrics.r2_score(Ytest, lr.predict(Xtest))"
   ]
  },
  {
   "cell_type": "code",
   "execution_count": 118,
   "metadata": {
    "collapsed": false
   },
   "outputs": [
    {
     "data": {
      "text/plain": [
       "33388.15850613045"
      ]
     },
     "execution_count": 118,
     "metadata": {},
     "output_type": "execute_result"
    }
   ],
   "source": [
    "sklearn.metrics.median_absolute_error(Ytest, lr.predict(Xtest))"
   ]
  },
  {
   "cell_type": "code",
   "execution_count": null,
   "metadata": {
    "collapsed": true
   },
   "outputs": [],
   "source": []
  },
  {
   "cell_type": "code",
   "execution_count": 119,
   "metadata": {
    "collapsed": false
   },
   "outputs": [
    {
     "data": {
      "text/plain": [
       "<matplotlib.collections.PathCollection at 0x7f0e493d8c18>"
      ]
     },
     "execution_count": 119,
     "metadata": {},
     "output_type": "execute_result"
    },
    {
     "data": {
      "image/png": "[encoded data removed]",
      "text/plain": [
       "<matplotlib.figure.Figure at 0x7f0e49488438>"
      ]
     },
     "metadata": {},
     "output_type": "display_data"
    }
   ],
   "source": [
    "matplotlib.pyplot.scatter(Ytest, lr.predict(Xtest))"
   ]
  },
  {
   "cell_type": "code",
   "execution_count": 120,
   "metadata": {
    "collapsed": false
   },
   "outputs": [
    {
     "data": {
      "text/plain": [
       "0.9587675188633095"
      ]
     },
     "execution_count": 120,
     "metadata": {},
     "output_type": "execute_result"
    }
   ],
   "source": [
    "elastic = sklearn.linear_model.ElasticNetCV()\n",
    "elastic.fit(Xtrain, Ytrain)\n",
    "sklearn.metrics.r2_score(Ytest, elastic.predict(Xtest))"
   ]
  },
  {
   "cell_type": "code",
   "execution_count": 121,
   "metadata": {
    "collapsed": false
   },
   "outputs": [
    {
     "data": {
      "text/plain": [
       "18958.115069078747"
      ]
     },
     "execution_count": 121,
     "metadata": {},
     "output_type": "execute_result"
    }
   ],
   "source": [
    "sklearn.metrics.median_absolute_error(Ytest, elastic.predict(Xtest))"
   ]
  },
  {
   "cell_type": "code",
   "execution_count": 122,
   "metadata": {
    "collapsed": false
   },
   "outputs": [
    {
     "data": {
      "text/plain": [
       "<matplotlib.collections.PathCollection at 0x7f0e493210b8>"
      ]
     },
     "execution_count": 122,
     "metadata": {},
     "output_type": "execute_result"
    },
    {
     "data": {
      "image/png": "[encoded data removed]",
      "text/plain": [
       "<matplotlib.figure.Figure at 0x7f0e4948d198>"
      ]
     },
     "metadata": {},
     "output_type": "display_data"
    }
   ],
   "source": [
    "matplotlib.pyplot.scatter(Ytest, elastic.predict(Xtest))"
   ]
  },
  {
   "cell_type": "code",
   "execution_count": 123,
   "metadata": {
    "collapsed": false
   },
   "outputs": [],
   "source": [
    "sklearn.metrics.r2_score?"
   ]
  },
  {
   "cell_type": "code",
   "execution_count": 124,
   "metadata": {
    "collapsed": false
   },
   "outputs": [
    {
     "data": {
      "text/plain": [
       "-0.13249682166861598"
      ]
     },
     "execution_count": 124,
     "metadata": {},
     "output_type": "execute_result"
    }
   ],
   "source": [
    "import sklearn.dummy\n",
    "dummy = sklearn.dummy.DummyRegressor()\n",
    "dummy.fit(Xtrain, Ytrain)\n",
    "sklearn.metrics.r2_score(Ytest, dummy.predict(Xtest))"
   ]
  },
  {
   "cell_type": "code",
   "execution_count": 125,
   "metadata": {
    "collapsed": false
   },
   "outputs": [
    {
     "data": {
      "text/plain": [
       "266382.8125"
      ]
     },
     "execution_count": 125,
     "metadata": {},
     "output_type": "execute_result"
    }
   ],
   "source": [
    "sklearn.metrics.median_absolute_error(Ytest, dummy.predict(Xtest))"
   ]
  },
  {
   "cell_type": "code",
   "execution_count": 126,
   "metadata": {
    "collapsed": false
   },
   "outputs": [
    {
     "data": {
      "text/plain": [
       "<matplotlib.collections.PathCollection at 0x7f0e49271e48>"
      ]
     },
     "execution_count": 126,
     "metadata": {},
     "output_type": "execute_result"
    },
    {
     "data": {
      "image/png": "[encoded data removed]",
      "text/plain": [
       "<matplotlib.figure.Figure at 0x7f0e492b3588>"
      ]
     },
     "metadata": {},
     "output_type": "display_data"
    }
   ],
   "source": [
    "matplotlib.pyplot.scatter(Ytest, dummy.predict(Xtest))"
   ]
  },
  {
   "cell_type": "code",
   "execution_count": 127,
   "metadata": {
    "collapsed": false
   },
   "outputs": [
    {
     "data": {
      "text/plain": [
       "0.9994878485856062"
      ]
     },
     "execution_count": 127,
     "metadata": {},
     "output_type": "execute_result"
    }
   ],
   "source": [
    "import sklearn.tree\n",
    "tree = sklearn.tree.DecisionTreeRegressor()\n",
    "tree.fit(Xtrain, Ytrain)\n",
    "sklearn.metrics.r2_score(Ytest, tree.predict(Xtest))"
   ]
  },
  {
   "cell_type": "code",
   "execution_count": 128,
   "metadata": {
    "collapsed": false
   },
   "outputs": [
    {
     "data": {
      "text/plain": [
       "6500.0"
      ]
     },
     "execution_count": 128,
     "metadata": {},
     "output_type": "execute_result"
    }
   ],
   "source": [
    "sklearn.metrics.median_absolute_error(Ytest, tree.predict(Xtest))"
   ]
  },
  {
   "cell_type": "code",
   "execution_count": 129,
   "metadata": {
    "collapsed": false
   },
   "outputs": [
    {
     "data": {
      "text/plain": [
       "<matplotlib.collections.PathCollection at 0x7f0e4920c240>"
      ]
     },
     "execution_count": 129,
     "metadata": {},
     "output_type": "execute_result"
    },
    {
     "data": {
      "image/png": "[encoded data removed]",
      "text/plain": [
       "<matplotlib.figure.Figure at 0x7f0e4934f4a8>"
      ]
     },
     "metadata": {},
     "output_type": "display_data"
    }
   ],
   "source": [
    "matplotlib.pyplot.scatter(Ytest, tree.predict(Xtest))"
   ]
  },
  {
   "cell_type": "code",
   "execution_count": 130,
   "metadata": {
    "collapsed": true
   },
   "outputs": [],
   "source": [
    "import sklearn.ensemble"
   ]
  },
  {
   "cell_type": "code",
   "execution_count": 131,
   "metadata": {
    "collapsed": false
   },
   "outputs": [],
   "source": [
    "bag = sklearn.ensemble.BaggingRegressor(sklearn.tree.DecisionTreeRegressor(),\n",
    "                                  n_estimators=32,\n",
    "                                  max_features=6,\n",
    "                                  max_samples=0.25,\n",
    "                                  n_jobs=-1\n",
    "                                 )"
   ]
  },
  {
   "cell_type": "code",
   "execution_count": 132,
   "metadata": {
    "collapsed": false
   },
   "outputs": [
    {
     "data": {
      "text/plain": [
       "BaggingRegressor(base_estimator=DecisionTreeRegressor(criterion='mse', max_depth=None, max_features=None,\n",
       "           max_leaf_nodes=None, min_impurity_decrease=0.0,\n",
       "           min_impurity_split=None, min_samples_leaf=1,\n",
       "           min_samples_split=2, min_weight_fraction_leaf=0.0,\n",
       "           presort=False, random_state=None, splitter='best'),\n",
       "         bootstrap=True, bootstrap_features=False, max_features=6,\n",
       "         max_samples=0.25, n_estimators=32, n_jobs=-1, oob_score=False,\n",
       "         random_state=None, verbose=0, warm_start=False)"
      ]
     },
     "execution_count": 132,
     "metadata": {},
     "output_type": "execute_result"
    }
   ],
   "source": [
    "bag.fit(Xtrain, Ytrain)"
   ]
  },
  {
   "cell_type": "code",
   "execution_count": 133,
   "metadata": {
    "collapsed": false
   },
   "outputs": [
    {
     "data": {
      "text/plain": [
       "0.30653599984505275"
      ]
     },
     "execution_count": 133,
     "metadata": {},
     "output_type": "execute_result"
    }
   ],
   "source": [
    "sklearn.metrics.r2_score(Ytest, bag.predict(Xtest))"
   ]
  },
  {
   "cell_type": "code",
   "execution_count": 134,
   "metadata": {
    "collapsed": false
   },
   "outputs": [
    {
     "data": {
      "text/plain": [
       "112328.125"
      ]
     },
     "execution_count": 134,
     "metadata": {},
     "output_type": "execute_result"
    }
   ],
   "source": [
    "sklearn.metrics.median_absolute_error(Ytest, bag.predict(Xtest))"
   ]
  },
  {
   "cell_type": "code",
   "execution_count": 135,
   "metadata": {
    "collapsed": false
   },
   "outputs": [
    {
     "data": {
      "text/plain": [
       "<matplotlib.collections.PathCollection at 0x7f0e4911ec88>"
      ]
     },
     "execution_count": 135,
     "metadata": {},
     "output_type": "execute_result"
    },
    {
     "data": {
      "image/png": "[encoded data removed]",
      "text/plain": [
       "<matplotlib.figure.Figure at 0x7f0e4922e5c0>"
      ]
     },
     "metadata": {},
     "output_type": "display_data"
    }
   ],
   "source": [
    "matplotlib.pyplot.scatter(Ytest, bag.predict(Xtest))"
   ]
  },
  {
   "cell_type": "code",
   "execution_count": 136,
   "metadata": {
    "collapsed": false
   },
   "outputs": [
    {
     "name": "stdout",
     "output_type": "stream",
     "text": [
      "digraph Tree {\n",
      "node [shape=box] ;\n",
      "0 [label=\"X[1] <= 819582.0\\nmse = 77922246093.75\\nsamples = 16\\nvalue = 591812.5\"] ;\n",
      "1 [label=\"X[1] <= 458420.75\\nmse = 22875559171.598\\nsamples = 13\\nvalue = 480692.308\"] ;\n",
      "0 -> 1 [labeldistance=2.5, labelangle=45, headlabel=\"True\"] ;\n",
      "2 [label=\"X[5] <= 2831.5\\nmse = 5008916666.667\\nsamples = 6\\nvalue = 332000.0\"] ;\n",
      "1 -> 2 ;\n",
      "3 [label=\"X[4] <= 1332.0\\nmse = 663062500.0\\nsamples = 2\\nvalue = 241750.0\"] ;\n",
      "2 -> 3 ;\n",
      "4 [label=\"mse = 0.0\\nsamples = 1\\nvalue = 267500.0\"] ;\n",
      "3 -> 4 ;\n",
      "5 [label=\"mse = 0.0\\nsamples = 1\\nvalue = 216000.0\"] ;\n",
      "3 -> 5 ;\n",
      "6 [label=\"X[2] <= 19.45\\nmse = 1073046875.0\\nsamples = 4\\nvalue = 377125.0\"] ;\n",
      "2 -> 6 ;\n",
      "7 [label=\"mse = 0.0\\nsamples = 1\\nvalue = 322000.0\"] ;\n",
      "6 -> 7 ;\n",
      "8 [label=\"X[4] <= 2389.5\\nmse = 80166666.667\\nsamples = 3\\nvalue = 395500.0\"] ;\n",
      "6 -> 8 ;\n",
      "9 [label=\"X[2] <= 29.2\\nmse = 12250000.0\\nsamples = 2\\nvalue = 401500.0\"] ;\n",
      "8 -> 9 ;\n",
      "10 [label=\"mse = 0.0\\nsamples = 1\\nvalue = 398000.0\"] ;\n",
      "9 -> 10 ;\n",
      "11 [label=\"mse = 0.0\\nsamples = 1\\nvalue = 405000.0\"] ;\n",
      "9 -> 11 ;\n",
      "12 [label=\"mse = 0.0\\nsamples = 1\\nvalue = 383500.0\"] ;\n",
      "8 -> 12 ;\n",
      "13 [label=\"X[1] <= 541065.0\\nmse = 2995265306.122\\nsamples = 7\\nvalue = 608142.857\"] ;\n",
      "1 -> 13 ;\n",
      "14 [label=\"mse = 0.0\\nsamples = 1\\nvalue = 495000.0\"] ;\n",
      "13 -> 14 ;\n",
      "15 [label=\"X[4] <= 1958.5\\nmse = 1005333333.333\\nsamples = 6\\nvalue = 627000.0\"] ;\n",
      "13 -> 15 ;\n",
      "16 [label=\"X[4] <= 1609.0\\nmse = 12250000.0\\nsamples = 2\\nvalue = 658500.0\"] ;\n",
      "15 -> 16 ;\n",
      "17 [label=\"mse = 0.0\\nsamples = 1\\nvalue = 655000.0\"] ;\n",
      "16 -> 17 ;\n",
      "18 [label=\"mse = 0.0\\nsamples = 1\\nvalue = 662000.0\"] ;\n",
      "16 -> 18 ;\n",
      "19 [label=\"X[3] <= 9.5\\nmse = 757687500.0\\nsamples = 4\\nvalue = 611250.0\"] ;\n",
      "15 -> 19 ;\n",
      "20 [label=\"X[1] <= 619666.5\\nmse = 20250000.0\\nsamples = 2\\nvalue = 585500.0\"] ;\n",
      "19 -> 20 ;\n",
      "21 [label=\"mse = 0.0\\nsamples = 1\\nvalue = 590000.0\"] ;\n",
      "20 -> 21 ;\n",
      "22 [label=\"mse = 0.0\\nsamples = 1\\nvalue = 581000.0\"] ;\n",
      "20 -> 22 ;\n",
      "23 [label=\"X[1] <= 661947.0\\nmse = 169000000.0\\nsamples = 2\\nvalue = 637000.0\"] ;\n",
      "19 -> 23 ;\n",
      "24 [label=\"mse = 0.0\\nsamples = 1\\nvalue = 624000.0\"] ;\n",
      "23 -> 24 ;\n",
      "25 [label=\"mse = 0.0\\nsamples = 1\\nvalue = 650000.0\"] ;\n",
      "23 -> 25 ;\n",
      "26 [label=\"X[2] <= 43.05\\nmse = 31088888888.889\\nsamples = 3\\nvalue = 1073333.333\"] ;\n",
      "0 -> 26 [labeldistance=2.5, labelangle=-45, headlabel=\"False\"] ;\n",
      "27 [label=\"mse = 0.0\\nsamples = 1\\nvalue = 1300000.0\"] ;\n",
      "26 -> 27 ;\n",
      "28 [label=\"X[3] <= 8.5\\nmse = 8100000000.0\\nsamples = 2\\nvalue = 960000.0\"] ;\n",
      "26 -> 28 ;\n",
      "29 [label=\"mse = 0.0\\nsamples = 1\\nvalue = 870000.0\"] ;\n",
      "28 -> 29 ;\n",
      "30 [label=\"mse = 0.0\\nsamples = 1\\nvalue = 1050000.0\"] ;\n",
      "28 -> 30 ;\n",
      "}"
     ]
    }
   ],
   "source": [
    "import sys\n",
    "sklearn.tree.export_graphviz(bag.estimators_[0], out_file=sys.stdout)"
   ]
  },
  {
   "cell_type": "code",
   "execution_count": 137,
   "metadata": {
    "collapsed": false
   },
   "outputs": [
    {
     "data": {
      "text/plain": [
       "0.9967725799804408"
      ]
     },
     "execution_count": 137,
     "metadata": {},
     "output_type": "execute_result"
    }
   ],
   "source": [
    "ts = sklearn.linear_model.TheilSenRegressor()\n",
    "ts.fit(Xtrain, Ytrain)\n",
    "sklearn.metrics.r2_score(Ytest, ts.predict(Xtest))"
   ]
  },
  {
   "cell_type": "code",
   "execution_count": 138,
   "metadata": {
    "collapsed": false
   },
   "outputs": [
    {
     "data": {
      "text/plain": [
       "20032.31143175636"
      ]
     },
     "execution_count": 138,
     "metadata": {},
     "output_type": "execute_result"
    }
   ],
   "source": [
    "sklearn.metrics.median_absolute_error(Ytest, ts.predict(Xtest))"
   ]
  },
  {
   "cell_type": "code",
   "execution_count": 139,
   "metadata": {
    "collapsed": false
   },
   "outputs": [
    {
     "ename": "SyntaxError",
     "evalue": "invalid syntax (<ipython-input-139-0376b4ceb073>, line 10)",
     "output_type": "error",
     "traceback": [
      "\u001b[0;36m  File \u001b[0;32m\"<ipython-input-139-0376b4ceb073>\"\u001b[0;36m, line \u001b[0;32m10\u001b[0m\n\u001b[0;31m    print(answers)\u001b[0m\n\u001b[0m        ^\u001b[0m\n\u001b[0;31mSyntaxError\u001b[0m\u001b[0;31m:\u001b[0m invalid syntax\n"
     ]
    }
   ],
   "source": [
    "import numpy\n",
    "class MegaEnsemble:\n",
    "    def __init__(self, models):\n",
    "        self.models = models\n",
    "    def predict(self,X):\n",
    "        final_answer = []\n",
    "        for i in X.index:\n",
    "            x = X.loc[i]\n",
    "            answers = [m.predict(x) for m in self.models].append(numpy.mean(answers)\n",
    "        print(answers)\n",
    "        for i in range(answers):\n",
    "            final_answer.append(answers[i].mean)\n",
    "        return final_answer"
   ]
  },
  {
   "cell_type": "code",
   "execution_count": 140,
   "metadata": {
    "collapsed": false
   },
   "outputs": [
    {
     "ename": "TypeError",
     "evalue": "Cannot cast array data from dtype('float64') to dtype('<U32') according to the rule 'safe'",
     "output_type": "error",
     "traceback": [
      "\u001b[0;31m---------------------------------------------------------------------------\u001b[0m",
      "\u001b[0;31mTypeError\u001b[0m                                 Traceback (most recent call last)",
      "\u001b[0;32m<ipython-input-140-d239f3a0dc39>\u001b[0m in \u001b[0;36m<module>\u001b[0;34m()\u001b[0m\n\u001b[1;32m      1\u001b[0m \u001b[0mm\u001b[0m \u001b[0;34m=\u001b[0m \u001b[0mMegaEnsemble\u001b[0m\u001b[0;34m(\u001b[0m\u001b[0;34m[\u001b[0m\u001b[0mlr\u001b[0m\u001b[0;34m,\u001b[0m \u001b[0mts\u001b[0m\u001b[0;34m,\u001b[0m \u001b[0mtree\u001b[0m\u001b[0;34m,\u001b[0m \u001b[0mbag\u001b[0m\u001b[0;34m,\u001b[0m \u001b[0melastic\u001b[0m\u001b[0;34m]\u001b[0m\u001b[0;34m)\u001b[0m\u001b[0;34m\u001b[0m\u001b[0m\n\u001b[0;32m----> 2\u001b[0;31m \u001b[0mm\u001b[0m\u001b[0;34m.\u001b[0m\u001b[0mpredict\u001b[0m\u001b[0;34m(\u001b[0m\u001b[0mXtest\u001b[0m\u001b[0;34m)\u001b[0m\u001b[0;34m\u001b[0m\u001b[0m\n\u001b[0m",
      "\u001b[0;32m<ipython-input-101-be07f22f96e1>\u001b[0m in \u001b[0;36mpredict\u001b[0;34m(self, X)\u001b[0m\n\u001b[1;32m      6\u001b[0m         \u001b[0mfinal_answer\u001b[0m \u001b[0;34m=\u001b[0m \u001b[0;34m[\u001b[0m\u001b[0;34m]\u001b[0m\u001b[0;34m\u001b[0m\u001b[0m\n\u001b[1;32m      7\u001b[0m         \u001b[0;32mfor\u001b[0m \u001b[0mx\u001b[0m \u001b[0;32min\u001b[0m \u001b[0mX\u001b[0m\u001b[0;34m:\u001b[0m\u001b[0;34m\u001b[0m\u001b[0m\n\u001b[0;32m----> 8\u001b[0;31m             \u001b[0manswers\u001b[0m \u001b[0;34m=\u001b[0m \u001b[0;34m[\u001b[0m\u001b[0mm\u001b[0m\u001b[0;34m.\u001b[0m\u001b[0mpredict\u001b[0m\u001b[0;34m(\u001b[0m\u001b[0mx\u001b[0m\u001b[0;34m)\u001b[0m \u001b[0;32mfor\u001b[0m \u001b[0mm\u001b[0m \u001b[0;32min\u001b[0m \u001b[0mself\u001b[0m\u001b[0;34m.\u001b[0m\u001b[0mmodels\u001b[0m\u001b[0;34m]\u001b[0m\u001b[0;34m\u001b[0m\u001b[0m\n\u001b[0m\u001b[1;32m      9\u001b[0m             \u001b[0mprint\u001b[0m\u001b[0;34m(\u001b[0m\u001b[0manswers\u001b[0m\u001b[0;34m)\u001b[0m\u001b[0;34m\u001b[0m\u001b[0m\n\u001b[1;32m     10\u001b[0m             \u001b[0mfinal_answer\u001b[0m\u001b[0;34m.\u001b[0m\u001b[0mappend\u001b[0m\u001b[0;34m(\u001b[0m\u001b[0mnumpy\u001b[0m\u001b[0;34m.\u001b[0m\u001b[0mmean\u001b[0m\u001b[0;34m(\u001b[0m\u001b[0manswers\u001b[0m\u001b[0;34m)\u001b[0m\u001b[0;34m)\u001b[0m\u001b[0;34m\u001b[0m\u001b[0m\n",
      "\u001b[0;32m<ipython-input-101-be07f22f96e1>\u001b[0m in \u001b[0;36m<listcomp>\u001b[0;34m(.0)\u001b[0m\n\u001b[1;32m      6\u001b[0m         \u001b[0mfinal_answer\u001b[0m \u001b[0;34m=\u001b[0m \u001b[0;34m[\u001b[0m\u001b[0;34m]\u001b[0m\u001b[0;34m\u001b[0m\u001b[0m\n\u001b[1;32m      7\u001b[0m         \u001b[0;32mfor\u001b[0m \u001b[0mx\u001b[0m \u001b[0;32min\u001b[0m \u001b[0mX\u001b[0m\u001b[0;34m:\u001b[0m\u001b[0;34m\u001b[0m\u001b[0m\n\u001b[0;32m----> 8\u001b[0;31m             \u001b[0manswers\u001b[0m \u001b[0;34m=\u001b[0m \u001b[0;34m[\u001b[0m\u001b[0mm\u001b[0m\u001b[0;34m.\u001b[0m\u001b[0mpredict\u001b[0m\u001b[0;34m(\u001b[0m\u001b[0mx\u001b[0m\u001b[0;34m)\u001b[0m \u001b[0;32mfor\u001b[0m \u001b[0mm\u001b[0m \u001b[0;32min\u001b[0m \u001b[0mself\u001b[0m\u001b[0;34m.\u001b[0m\u001b[0mmodels\u001b[0m\u001b[0;34m]\u001b[0m\u001b[0;34m\u001b[0m\u001b[0m\n\u001b[0m\u001b[1;32m      9\u001b[0m             \u001b[0mprint\u001b[0m\u001b[0;34m(\u001b[0m\u001b[0manswers\u001b[0m\u001b[0;34m)\u001b[0m\u001b[0;34m\u001b[0m\u001b[0m\n\u001b[1;32m     10\u001b[0m             \u001b[0mfinal_answer\u001b[0m\u001b[0;34m.\u001b[0m\u001b[0mappend\u001b[0m\u001b[0;34m(\u001b[0m\u001b[0mnumpy\u001b[0m\u001b[0;34m.\u001b[0m\u001b[0mmean\u001b[0m\u001b[0;34m(\u001b[0m\u001b[0manswers\u001b[0m\u001b[0;34m)\u001b[0m\u001b[0;34m)\u001b[0m\u001b[0;34m\u001b[0m\u001b[0m\n",
      "\u001b[0;32m/usr/lib/python3/dist-packages/sklearn/linear_model/base.py\u001b[0m in \u001b[0;36mpredict\u001b[0;34m(self, X)\u001b[0m\n\u001b[1;32m    254\u001b[0m             \u001b[0mReturns\u001b[0m \u001b[0mpredicted\u001b[0m \u001b[0mvalues\u001b[0m\u001b[0;34m.\u001b[0m\u001b[0;34m\u001b[0m\u001b[0m\n\u001b[1;32m    255\u001b[0m         \"\"\"\n\u001b[0;32m--> 256\u001b[0;31m         \u001b[0;32mreturn\u001b[0m \u001b[0mself\u001b[0m\u001b[0;34m.\u001b[0m\u001b[0m_decision_function\u001b[0m\u001b[0;34m(\u001b[0m\u001b[0mX\u001b[0m\u001b[0;34m)\u001b[0m\u001b[0;34m\u001b[0m\u001b[0m\n\u001b[0m\u001b[1;32m    257\u001b[0m \u001b[0;34m\u001b[0m\u001b[0m\n\u001b[1;32m    258\u001b[0m     \u001b[0m_preprocess_data\u001b[0m \u001b[0;34m=\u001b[0m \u001b[0mstaticmethod\u001b[0m\u001b[0;34m(\u001b[0m\u001b[0m_preprocess_data\u001b[0m\u001b[0;34m)\u001b[0m\u001b[0;34m\u001b[0m\u001b[0m\n",
      "\u001b[0;32m/usr/lib/python3/dist-packages/sklearn/linear_model/base.py\u001b[0m in \u001b[0;36m_decision_function\u001b[0;34m(self, X)\u001b[0m\n\u001b[1;32m    239\u001b[0m         \u001b[0mX\u001b[0m \u001b[0;34m=\u001b[0m \u001b[0mcheck_array\u001b[0m\u001b[0;34m(\u001b[0m\u001b[0mX\u001b[0m\u001b[0;34m,\u001b[0m \u001b[0maccept_sparse\u001b[0m\u001b[0;34m=\u001b[0m\u001b[0;34m[\u001b[0m\u001b[0;34m'csr'\u001b[0m\u001b[0;34m,\u001b[0m \u001b[0;34m'csc'\u001b[0m\u001b[0;34m,\u001b[0m \u001b[0;34m'coo'\u001b[0m\u001b[0;34m]\u001b[0m\u001b[0;34m)\u001b[0m\u001b[0;34m\u001b[0m\u001b[0m\n\u001b[1;32m    240\u001b[0m         return safe_sparse_dot(X, self.coef_.T,\n\u001b[0;32m--> 241\u001b[0;31m                                dense_output=True) + self.intercept_\n\u001b[0m\u001b[1;32m    242\u001b[0m \u001b[0;34m\u001b[0m\u001b[0m\n\u001b[1;32m    243\u001b[0m     \u001b[0;32mdef\u001b[0m \u001b[0mpredict\u001b[0m\u001b[0;34m(\u001b[0m\u001b[0mself\u001b[0m\u001b[0;34m,\u001b[0m \u001b[0mX\u001b[0m\u001b[0;34m)\u001b[0m\u001b[0;34m:\u001b[0m\u001b[0;34m\u001b[0m\u001b[0m\n",
      "\u001b[0;32m/usr/lib/python3/dist-packages/sklearn/utils/extmath.py\u001b[0m in \u001b[0;36msafe_sparse_dot\u001b[0;34m(a, b, dense_output)\u001b[0m\n\u001b[1;32m    138\u001b[0m         \u001b[0;32mreturn\u001b[0m \u001b[0mret\u001b[0m\u001b[0;34m\u001b[0m\u001b[0m\n\u001b[1;32m    139\u001b[0m     \u001b[0;32melse\u001b[0m\u001b[0;34m:\u001b[0m\u001b[0;34m\u001b[0m\u001b[0m\n\u001b[0;32m--> 140\u001b[0;31m         \u001b[0;32mreturn\u001b[0m \u001b[0mnp\u001b[0m\u001b[0;34m.\u001b[0m\u001b[0mdot\u001b[0m\u001b[0;34m(\u001b[0m\u001b[0ma\u001b[0m\u001b[0;34m,\u001b[0m \u001b[0mb\u001b[0m\u001b[0;34m)\u001b[0m\u001b[0;34m\u001b[0m\u001b[0m\n\u001b[0m\u001b[1;32m    141\u001b[0m \u001b[0;34m\u001b[0m\u001b[0m\n\u001b[1;32m    142\u001b[0m \u001b[0;34m\u001b[0m\u001b[0m\n",
      "\u001b[0;31mTypeError\u001b[0m: Cannot cast array data from dtype('float64') to dtype('<U32') according to the rule 'safe'"
     ]
    }
   ],
   "source": [
    "m = MegaEnsemble([lr, ts, tree, bag, elastic])\n",
    "m.predict(Xtest)"
   ]
  },
  {
   "cell_type": "code",
   "execution_count": 141,
   "metadata": {
    "collapsed": false
   },
   "outputs": [
    {
     "data": {
      "text/plain": [
       "0.9004945536426489"
      ]
     },
     "execution_count": 141,
     "metadata": {},
     "output_type": "execute_result"
    }
   ],
   "source": [
    "rfr = sklearn.ensemble.RandomForestRegressor(n_estimators=100)\n",
    "rfr.fit(Xtrain, Ytrain)\n",
    "sklearn.metrics.r2_score(Ytest, rfr.predict(Xtest))"
   ]
  },
  {
   "cell_type": "code",
   "execution_count": 142,
   "metadata": {
    "collapsed": false
   },
   "outputs": [
    {
     "data": {
      "text/plain": [
       "42590.0"
      ]
     },
     "execution_count": 142,
     "metadata": {},
     "output_type": "execute_result"
    }
   ],
   "source": [
    "sklearn.metrics.median_absolute_error(Ytest, rfr.predict(Xtest))"
   ]
  },
  {
   "cell_type": "code",
   "execution_count": 143,
   "metadata": {
    "collapsed": false
   },
   "outputs": [
    {
     "data": {
      "text/plain": [
       "(64, 9)"
      ]
     },
     "execution_count": 143,
     "metadata": {},
     "output_type": "execute_result"
    }
   ],
   "source": [
    "Xtrain.shape"
   ]
  },
  {
   "cell_type": "code",
   "execution_count": 144,
   "metadata": {
    "collapsed": false
   },
   "outputs": [
    {
     "data": {
      "text/plain": [
       "(5, 9)"
      ]
     },
     "execution_count": 144,
     "metadata": {},
     "output_type": "execute_result"
    }
   ],
   "source": [
    "Xtest.shape"
   ]
  },
  {
   "cell_type": "code",
   "execution_count": 146,
   "metadata": {
    "collapsed": false
   },
   "outputs": [
    {
     "data": {
      "text/plain": [
       "0.9965310500102249"
      ]
     },
     "execution_count": 146,
     "metadata": {},
     "output_type": "execute_result"
    }
   ],
   "source": [
    "ransac = sklearn.linear_model.RANSACRegressor()\n",
    "ransac.fit(Xtrain, Ytrain)\n",
    "sklearn.metrics.r2_score(Ytest, ransac.predict(Xtest))"
   ]
  },
  {
   "cell_type": "code",
   "execution_count": 147,
   "metadata": {
    "collapsed": false
   },
   "outputs": [
    {
     "data": {
      "text/plain": [
       "35809.16883288033"
      ]
     },
     "execution_count": 147,
     "metadata": {},
     "output_type": "execute_result"
    }
   ],
   "source": [
    "sklearn.metrics.median_absolute_error(Ytest, ransac.predict(Xtest))"
   ]
  },
  {
   "cell_type": "code",
   "execution_count": 148,
   "metadata": {
    "collapsed": false
   },
   "outputs": [
    {
     "name": "stderr",
     "output_type": "stream",
     "text": [
      "/usr/lib/python3/dist-packages/sklearn/utils/__init__.py:93: FutureWarning: Conversion of the second argument of issubdtype from `int` to `np.signedinteger` is deprecated. In future, it will be treated as `np.int64 == np.dtype(int).type`.\n",
      "  if np.issubdtype(mask.dtype, np.int):\n"
     ]
    },
    {
     "data": {
      "text/plain": [
       "0.9844359107796341"
      ]
     },
     "execution_count": 148,
     "metadata": {},
     "output_type": "execute_result"
    }
   ],
   "source": [
    "huber = sklearn.linear_model.HuberRegressor()\n",
    "huber.fit(Xtrain, Ytrain)\n",
    "sklearn.metrics.r2_score(Ytest, huber.predict(Xtest))"
   ]
  },
  {
   "cell_type": "code",
   "execution_count": 149,
   "metadata": {
    "collapsed": false
   },
   "outputs": [
    {
     "data": {
      "text/plain": [
       "17799.982074184576"
      ]
     },
     "execution_count": 149,
     "metadata": {},
     "output_type": "execute_result"
    }
   ],
   "source": [
    "sklearn.metrics.median_absolute_error(Ytest, huber.predict(Xtest))"
   ]
  },
  {
   "cell_type": "code",
   "execution_count": null,
   "metadata": {
    "collapsed": true
   },
   "outputs": [],
   "source": []
  }
 ],
 "metadata": {
  "kernelspec": {
   "display_name": "Python 3",
   "language": "python",
   "name": "python3"
  },
  "language_info": {
   "codemirror_mode": {
    "name": "ipython",
    "version": 3
   },
   "file_extension": ".py",
   "mimetype": "text/x-python",
   "name": "python",
   "nbconvert_exporter": "python",
   "pygments_lexer": "ipython3",
   "version": "3.6.3"
  }
 },
 "nbformat": 4,
 "nbformat_minor": 2
}
