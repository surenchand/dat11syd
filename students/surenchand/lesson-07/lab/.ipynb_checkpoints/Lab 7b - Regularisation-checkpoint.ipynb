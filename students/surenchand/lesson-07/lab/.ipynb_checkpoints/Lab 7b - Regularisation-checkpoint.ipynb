{
 "cells": [
  {
   "cell_type": "markdown",
   "metadata": {},
   "source": [
    "# Lab 7b - Regularisation\n",
    "\n",
    "### Regularised regression with Ridge & LASSO\n",
    "\n",
    "- FUNCTIONS: Ridge, RidgeCV, Lasso, LassoCV\n",
    "- DOCUMENTATION: http://scikit-learn.org/stable/modules/linear_model.html\n",
    "- DATA: \n",
    "  - Dataset 'Crime' (n=319 non-null, p=122, type=regression)\n",
    "    - This data set contains data on violent crimes within a community.\n",
    "    - Data Dictionary: http://archive.ics.uci.edu/ml/datasets/Communities+and+Crime\n",
    "  - Dataset 'boston' \n",
    "    - This data set contains Boston house prices and candidate predictors."
   ]
  },
  {
   "cell_type": "code",
   "execution_count": 1,
   "metadata": {},
   "outputs": [],
   "source": [
    "import pandas as pd\n",
    "import numpy as np\n",
    "import scipy.stats as st"
   ]
  },
  {
   "cell_type": "code",
   "execution_count": 3,
   "metadata": {},
   "outputs": [],
   "source": [
    "# read data, remove categorical features, remove rows with missing values\n",
    "crime = pd.read_csv('http://archive.ics.uci.edu/ml/machine-learning-databases/communities/communities.data', \n",
    "                    header=None, na_values=['?'])"
   ]
  },
  {
   "cell_type": "code",
   "execution_count": 7,
   "metadata": {},
   "outputs": [
    {
     "data": {
      "text/plain": [
       "<bound method DataFrame.isnull of       0      1        2                       3    4     5     6     7    \\\n",
       "0       8    NaN      NaN            Lakewoodcity    1  0.19  0.33  0.02   \n",
       "1      53    NaN      NaN             Tukwilacity    1  0.00  0.16  0.12   \n",
       "2      24    NaN      NaN            Aberdeentown    1  0.00  0.42  0.49   \n",
       "3      34    5.0  81440.0     Willingborotownship    1  0.04  0.77  1.00   \n",
       "4      42   95.0   6096.0       Bethlehemtownship    1  0.01  0.55  0.02   \n",
       "5       6    NaN      NaN       SouthPasadenacity    1  0.02  0.28  0.06   \n",
       "6      44    7.0  41500.0             Lincolntown    1  0.01  0.39  0.00   \n",
       "7       6    NaN      NaN               Selmacity    1  0.01  0.74  0.03   \n",
       "8      21    NaN      NaN           Hendersoncity    1  0.03  0.34  0.20   \n",
       "9      29    NaN      NaN             Claytoncity    1  0.01  0.40  0.06   \n",
       "10      6    NaN      NaN            DalyCitycity    1  0.13  0.71  0.15   \n",
       "11     36    NaN      NaN  RockvilleCentrevillage    1  0.02  0.46  0.08   \n",
       "12     25   21.0  44105.0             Needhamtown    1  0.03  0.47  0.01   \n",
       "13     55   87.0  30075.0          GrandChutetown    1  0.01  0.44  0.00   \n",
       "14      6    NaN      NaN           DanaPointcity    1  0.04  0.36  0.01   \n",
       "15     19  187.0  91370.0           FortDodgecity    1  0.03  0.34  0.06   \n",
       "16     36    1.0   1000.0              Albanycity    1  0.15  0.31  0.40   \n",
       "17     34   27.0  17650.0        Denvilletownship    1  0.01  0.53  0.01   \n",
       "18     18    NaN      NaN          Valparaisocity    1  0.02  0.47  0.01   \n",
       "19     42  129.0  66376.0       Rostravertownship    1  0.00  0.41  0.05   \n",
       "20      6    NaN      NaN             Modestocity    1  0.25  0.54  0.05   \n",
       "21     12   31.0      NaN        Jacksonvillecity    1  1.00  0.42  0.47   \n",
       "22     41    NaN      NaN        KlamathFallscity    1  0.01  0.34  0.02   \n",
       "23     19  193.0  93926.0           SiouxCitycity    1  0.11  0.43  0.04   \n",
       "24      6    NaN      NaN              Delanocity    1  0.02  0.96  0.05   \n",
       "25      8    NaN      NaN              Goldencity    1  0.00  0.33  0.02   \n",
       "26      6    NaN      NaN             Gardenacity    1  0.06  0.49  0.46   \n",
       "27     39   29.0  61798.0           Perrytownship    1  0.01  0.37  0.01   \n",
       "28     54    NaN      NaN             Beckleycity    1  0.01  0.27  0.43   \n",
       "29      9    7.0  22490.0         EastHamptontown    1  0.00  0.50  0.01   \n",
       "...   ...    ...      ...                     ...  ...   ...   ...   ...   \n",
       "1964   36  119.0  49121.0         MountVernoncity   10  0.09  0.45  1.00   \n",
       "1965   18   97.0      NaN        Indianapoliscity   10  1.00  0.36  0.44   \n",
       "1966    6    NaN      NaN         RedwoodCitycity   10  0.09  0.41  0.07   \n",
       "1967   25   17.0  76135.0            Westfordtown   10  0.01  0.66  0.00   \n",
       "1968   34   25.0  62430.0          RedBankborough   10  0.00  0.24  0.51   \n",
       "1969    6    NaN      NaN        SanFranciscocity   10  1.00  0.29  0.21   \n",
       "1970   45    NaN      NaN               Caycecity   10  0.00  0.37  0.38   \n",
       "1971    1    NaN      NaN             Decaturcity   10  0.06  0.39  0.32   \n",
       "1972    6    NaN      NaN            Redlandscity   10  0.08  0.49  0.07   \n",
       "1973   39    NaN      NaN           Englewoodcity   10  0.00  0.38  0.03   \n",
       "1974   37    NaN      NaN             Tarborotown   10  0.00  0.41  0.62   \n",
       "1975   53    NaN      NaN            Kirklandcity   10  0.05  0.27  0.03   \n",
       "1976   25   17.0   1605.0           Arlingtontown   10  0.06  0.29  0.03   \n",
       "1977   47    NaN      NaN           Maryvillecity   10  0.01  0.35  0.06   \n",
       "1978    9    1.0   4720.0              Betheltown   10  0.01  0.54  0.02   \n",
       "1979   34   39.0  61530.0              Rahwaycity   10  0.02  0.43  0.39   \n",
       "1980   25    5.0  69170.0             Tauntoncity   10  0.06  0.43  0.04   \n",
       "1981    9    9.0  35650.0              Hamdentown   10  0.07  0.38  0.17   \n",
       "1982   42  133.0  73168.0    SpringGardentownship   10  0.00  0.47  0.02   \n",
       "1983   13    NaN      NaN          ForestParkcity   10  0.01  0.45  0.37   \n",
       "1984   39   95.0  48342.0              Maumeecity   10  0.01  0.43  0.01   \n",
       "1985    1    NaN      NaN       AlexanderCitycity   10  0.01  0.41  0.55   \n",
       "1986    9    3.0  70550.0         Southingtontown   10  0.05  0.52  0.02   \n",
       "1987   44    7.0  11800.0        Burrillvilletown   10  0.01  0.65  0.00   \n",
       "1988   28    NaN      NaN            Columbuscity   10  0.02  0.41  1.00   \n",
       "1989   12    NaN      NaN       TempleTerracecity   10  0.01  0.40  0.10   \n",
       "1990    6    NaN      NaN             Seasidecity   10  0.05  0.96  0.46   \n",
       "1991    9    9.0  80070.0           Waterburytown   10  0.16  0.37  0.25   \n",
       "1992   25   17.0  72600.0             Walthamcity   10  0.08  0.51  0.06   \n",
       "1993    6    NaN      NaN             Ontariocity   10  0.20  0.78  0.14   \n",
       "\n",
       "       8     9    ...    118   119   120   121   122   123  124   125   126  \\\n",
       "0     0.90  0.12  ...   0.12  0.26  0.20  0.06  0.04  0.90  0.5  0.32  0.14   \n",
       "1     0.74  0.45  ...   0.02  0.12  0.45   NaN   NaN   NaN  NaN  0.00   NaN   \n",
       "2     0.56  0.17  ...   0.01  0.21  0.02   NaN   NaN   NaN  NaN  0.00   NaN   \n",
       "3     0.08  0.12  ...   0.02  0.39  0.28   NaN   NaN   NaN  NaN  0.00   NaN   \n",
       "4     0.95  0.09  ...   0.04  0.09  0.02   NaN   NaN   NaN  NaN  0.00   NaN   \n",
       "5     0.54  1.00  ...   0.01  0.58  0.10   NaN   NaN   NaN  NaN  0.00   NaN   \n",
       "6     0.98  0.06  ...   0.05  0.08  0.06   NaN   NaN   NaN  NaN  0.00   NaN   \n",
       "7     0.46  0.20  ...   0.01  0.33  0.00   NaN   NaN   NaN  NaN  0.00   NaN   \n",
       "8     0.84  0.02  ...   0.04  0.17  0.04   NaN   NaN   NaN  NaN  0.00   NaN   \n",
       "9     0.87  0.30  ...   0.00  0.47  0.11   NaN   NaN   NaN  NaN  0.00   NaN   \n",
       "10    0.07  1.00  ...   0.02  1.00  1.00   NaN   NaN   NaN  NaN  0.00   NaN   \n",
       "11    0.91  0.07  ...   0.01  0.63  1.00   NaN   NaN   NaN  NaN  0.00   NaN   \n",
       "12    0.96  0.13  ...   0.03  0.18  0.59   NaN   NaN   NaN  NaN  0.00   NaN   \n",
       "13    0.98  0.04  ...   0.08  0.04  0.00   NaN   NaN   NaN  NaN  0.00   NaN   \n",
       "14    0.85  0.14  ...   0.02  0.40  0.15   NaN   NaN   NaN  NaN  0.00   NaN   \n",
       "15    0.93  0.03  ...   0.04  0.15  0.04   NaN   NaN   NaN  NaN  0.00   NaN   \n",
       "16    0.63  0.14  ...   0.06  0.39  0.84  0.06  0.06  0.91  0.5  0.88  0.26   \n",
       "17    0.94  0.20  ...   0.03  0.09  0.21   NaN   NaN   NaN  NaN  0.00   NaN   \n",
       "18    0.97  0.07  ...   0.03  0.20  0.07   NaN   NaN   NaN  NaN  0.00   NaN   \n",
       "19    0.96  0.01  ...   0.09  0.03  0.05   NaN   NaN   NaN  NaN  0.00   NaN   \n",
       "20    0.71  0.48  ...   0.09  0.46  0.05  0.09  0.05  0.88  0.5  0.76  0.13   \n",
       "21    0.59  0.12  ...   1.00  0.07  0.15  1.00  0.35  0.73  0.0  0.31  0.21   \n",
       "22    0.87  0.07  ...   0.05  0.09  0.06   NaN   NaN   NaN  NaN  0.00   NaN   \n",
       "23    0.89  0.09  ...   0.16  0.12  0.07  0.04  0.01  0.81  1.0  0.56  0.09   \n",
       "24    0.00  1.00  ...   0.02  0.22  0.02   NaN   NaN   NaN  NaN  0.00   NaN   \n",
       "25    0.91  0.16  ...   0.02  0.15  0.16   NaN   NaN   NaN  NaN  0.00   NaN   \n",
       "26    0.00  1.00  ...   0.01  0.79  0.21   NaN   NaN   NaN  NaN  0.00   NaN   \n",
       "27    0.99  0.02  ...   0.04  0.09  0.00   NaN   NaN   NaN  NaN  0.00   NaN   \n",
       "28    0.64  0.08  ...   0.02  0.17  0.00   NaN   NaN   NaN  NaN  0.00   NaN   \n",
       "29    0.98  0.02  ...   0.10  0.02  0.08   NaN   NaN   NaN  NaN  0.00   NaN   \n",
       "...    ...   ...  ...    ...   ...   ...   ...   ...   ...  ...   ...   ...   \n",
       "1964  0.08  0.11  ...   0.01  1.00  1.00   NaN   NaN   NaN  NaN  0.00   NaN   \n",
       "1965  0.64  0.06  ...   1.00  0.17  0.18  0.45  0.19  0.50  0.5  0.44  0.21   \n",
       "1966  0.74  0.39  ...   0.05  0.29  0.22   NaN   NaN   NaN  NaN  0.00   NaN   \n",
       "1967  0.97  0.10  ...   0.09  0.04  0.04   NaN   NaN   NaN  NaN  0.00   NaN   \n",
       "1968  0.53  0.11  ...   0.00  0.50  0.49   NaN   NaN   NaN  NaN  0.00   NaN   \n",
       "1969  0.29  1.00  ...   0.13  1.00  1.00  0.53  0.62  0.64  0.5  0.64  0.35   \n",
       "1970  0.69  0.04  ...   0.02  0.10  0.08   NaN   NaN   NaN  NaN  0.00   NaN   \n",
       "1971  0.73  0.04  ...   0.14  0.09  0.01   NaN   NaN   NaN  NaN  0.00   NaN   \n",
       "1972  0.69  0.27  ...   0.07  0.21  0.02   NaN   NaN   NaN  NaN  0.00   NaN   \n",
       "1973  0.97  0.04  ...   0.01  0.18  0.10   NaN   NaN   NaN  NaN  0.00   NaN   \n",
       "1974  0.51  0.02  ...   0.02  0.10  0.00   NaN   NaN   NaN  NaN  0.00   NaN   \n",
       "1975  0.89  0.27  ...   0.03  0.31  0.34   NaN   NaN   NaN  NaN  0.00   NaN   \n",
       "1976  0.93  0.18  ...   0.01  0.72  0.94   NaN   NaN   NaN  NaN  0.00   NaN   \n",
       "1977  0.94  0.06  ...   0.04  0.12  0.01   NaN   NaN   NaN  NaN  0.00   NaN   \n",
       "1978  0.94  0.13  ...   0.05  0.09  0.14   NaN   NaN   NaN  NaN  0.00   NaN   \n",
       "1979  0.63  0.15  ...   0.01  0.53  0.43   NaN   NaN   NaN  NaN  0.00   NaN   \n",
       "1980  0.93  0.03  ...   0.13  0.09  0.11   NaN   NaN   NaN  NaN  0.00   NaN   \n",
       "1981  0.84  0.11  ...   0.09  0.13  0.17  0.02  0.01  0.72  0.0  0.62  0.15   \n",
       "1982  0.98  0.03  ...   0.02  0.14  0.04   NaN   NaN   NaN  NaN  0.00   NaN   \n",
       "1983  0.65  0.15  ...   0.02  0.16  0.13   NaN   NaN   NaN  NaN  0.00   NaN   \n",
       "1984  0.98  0.03  ...   0.02  0.15  0.06   NaN   NaN   NaN  NaN  0.00   NaN   \n",
       "1985  0.57  0.01  ...   0.11  0.03  0.01   NaN   NaN   NaN  NaN  0.00   NaN   \n",
       "1986  0.97  0.04  ...   0.10  0.09  0.03   NaN   NaN   NaN  NaN  0.00   NaN   \n",
       "1987  1.00  0.01  ...   0.16  0.02  0.02   NaN   NaN   NaN  NaN  0.00   NaN   \n",
       "1988  0.21  0.02  ...   0.03  0.17  0.02   NaN   NaN   NaN  NaN  0.00   NaN   \n",
       "1989  0.87  0.12  ...   0.01  0.28  0.05   NaN   NaN   NaN  NaN  0.00   NaN   \n",
       "1990  0.28  0.83  ...   0.02  0.37  0.20   NaN   NaN   NaN  NaN  0.00   NaN   \n",
       "1991  0.69  0.04  ...   0.08  0.32  0.18  0.08  0.06  0.78  0.0  0.91  0.28   \n",
       "1992  0.87  0.22  ...   0.03  0.38  0.33  0.02  0.02  0.79  0.0  0.22  0.18   \n",
       "1993  0.46  0.24  ...   0.11  0.30  0.05  0.08  0.04  0.73  0.5  1.00  0.13   \n",
       "\n",
       "       127  \n",
       "0     0.20  \n",
       "1     0.67  \n",
       "2     0.43  \n",
       "3     0.12  \n",
       "4     0.03  \n",
       "5     0.14  \n",
       "6     0.03  \n",
       "7     0.55  \n",
       "8     0.53  \n",
       "9     0.15  \n",
       "10    0.24  \n",
       "11    0.08  \n",
       "12    0.06  \n",
       "13    0.09  \n",
       "14    0.21  \n",
       "15    0.30  \n",
       "16    0.49  \n",
       "17    0.07  \n",
       "18    0.15  \n",
       "19    0.03  \n",
       "20    0.34  \n",
       "21    0.69  \n",
       "22    0.21  \n",
       "23    0.63  \n",
       "24    0.31  \n",
       "25    0.12  \n",
       "26    0.84  \n",
       "27    0.10  \n",
       "28    0.49  \n",
       "29    0.02  \n",
       "...    ...  \n",
       "1964  0.60  \n",
       "1965  0.69  \n",
       "1966  0.30  \n",
       "1967  0.04  \n",
       "1968  0.19  \n",
       "1969  0.75  \n",
       "1970  0.53  \n",
       "1971  0.22  \n",
       "1972  0.30  \n",
       "1973  0.04  \n",
       "1974  0.52  \n",
       "1975  0.09  \n",
       "1976  0.08  \n",
       "1977  0.25  \n",
       "1978  0.04  \n",
       "1979  0.16  \n",
       "1980  0.28  \n",
       "1981  0.07  \n",
       "1982  0.03  \n",
       "1983  0.56  \n",
       "1984  0.14  \n",
       "1985  0.14  \n",
       "1986  0.02  \n",
       "1987  0.04  \n",
       "1988  0.19  \n",
       "1989  0.09  \n",
       "1990  0.45  \n",
       "1991  0.23  \n",
       "1992  0.19  \n",
       "1993  0.48  \n",
       "\n",
       "[1994 rows x 128 columns]>"
      ]
     },
     "execution_count": 7,
     "metadata": {},
     "output_type": "execute_result"
    }
   ],
   "source": [
    "crime.isnull"
   ]
  },
  {
   "cell_type": "code",
   "execution_count": 8,
   "metadata": {},
   "outputs": [
    {
     "data": {
      "text/html": [
       "<div>\n",
       "<style scoped>\n",
       "    .dataframe tbody tr th:only-of-type {\n",
       "        vertical-align: middle;\n",
       "    }\n",
       "\n",
       "    .dataframe tbody tr th {\n",
       "        vertical-align: top;\n",
       "    }\n",
       "\n",
       "    .dataframe thead th {\n",
       "        text-align: right;\n",
       "    }\n",
       "</style>\n",
       "<table border=\"1\" class=\"dataframe\">\n",
       "  <thead>\n",
       "    <tr style=\"text-align: right;\">\n",
       "      <th></th>\n",
       "      <th>5</th>\n",
       "      <th>6</th>\n",
       "      <th>7</th>\n",
       "      <th>8</th>\n",
       "      <th>9</th>\n",
       "      <th>10</th>\n",
       "      <th>11</th>\n",
       "      <th>12</th>\n",
       "      <th>13</th>\n",
       "      <th>14</th>\n",
       "      <th>...</th>\n",
       "      <th>118</th>\n",
       "      <th>119</th>\n",
       "      <th>120</th>\n",
       "      <th>121</th>\n",
       "      <th>122</th>\n",
       "      <th>123</th>\n",
       "      <th>124</th>\n",
       "      <th>125</th>\n",
       "      <th>126</th>\n",
       "      <th>127</th>\n",
       "    </tr>\n",
       "  </thead>\n",
       "  <tbody>\n",
       "    <tr>\n",
       "      <th>0</th>\n",
       "      <td>0.19</td>\n",
       "      <td>0.33</td>\n",
       "      <td>0.02</td>\n",
       "      <td>0.90</td>\n",
       "      <td>0.12</td>\n",
       "      <td>0.17</td>\n",
       "      <td>0.34</td>\n",
       "      <td>0.47</td>\n",
       "      <td>0.29</td>\n",
       "      <td>0.32</td>\n",
       "      <td>...</td>\n",
       "      <td>0.12</td>\n",
       "      <td>0.26</td>\n",
       "      <td>0.20</td>\n",
       "      <td>0.06</td>\n",
       "      <td>0.04</td>\n",
       "      <td>0.90</td>\n",
       "      <td>0.5</td>\n",
       "      <td>0.32</td>\n",
       "      <td>0.14</td>\n",
       "      <td>0.20</td>\n",
       "    </tr>\n",
       "    <tr>\n",
       "      <th>16</th>\n",
       "      <td>0.15</td>\n",
       "      <td>0.31</td>\n",
       "      <td>0.40</td>\n",
       "      <td>0.63</td>\n",
       "      <td>0.14</td>\n",
       "      <td>0.06</td>\n",
       "      <td>0.58</td>\n",
       "      <td>0.72</td>\n",
       "      <td>0.65</td>\n",
       "      <td>0.47</td>\n",
       "      <td>...</td>\n",
       "      <td>0.06</td>\n",
       "      <td>0.39</td>\n",
       "      <td>0.84</td>\n",
       "      <td>0.06</td>\n",
       "      <td>0.06</td>\n",
       "      <td>0.91</td>\n",
       "      <td>0.5</td>\n",
       "      <td>0.88</td>\n",
       "      <td>0.26</td>\n",
       "      <td>0.49</td>\n",
       "    </tr>\n",
       "    <tr>\n",
       "      <th>20</th>\n",
       "      <td>0.25</td>\n",
       "      <td>0.54</td>\n",
       "      <td>0.05</td>\n",
       "      <td>0.71</td>\n",
       "      <td>0.48</td>\n",
       "      <td>0.30</td>\n",
       "      <td>0.42</td>\n",
       "      <td>0.48</td>\n",
       "      <td>0.28</td>\n",
       "      <td>0.32</td>\n",
       "      <td>...</td>\n",
       "      <td>0.09</td>\n",
       "      <td>0.46</td>\n",
       "      <td>0.05</td>\n",
       "      <td>0.09</td>\n",
       "      <td>0.05</td>\n",
       "      <td>0.88</td>\n",
       "      <td>0.5</td>\n",
       "      <td>0.76</td>\n",
       "      <td>0.13</td>\n",
       "      <td>0.34</td>\n",
       "    </tr>\n",
       "    <tr>\n",
       "      <th>21</th>\n",
       "      <td>1.00</td>\n",
       "      <td>0.42</td>\n",
       "      <td>0.47</td>\n",
       "      <td>0.59</td>\n",
       "      <td>0.12</td>\n",
       "      <td>0.05</td>\n",
       "      <td>0.41</td>\n",
       "      <td>0.53</td>\n",
       "      <td>0.34</td>\n",
       "      <td>0.33</td>\n",
       "      <td>...</td>\n",
       "      <td>1.00</td>\n",
       "      <td>0.07</td>\n",
       "      <td>0.15</td>\n",
       "      <td>1.00</td>\n",
       "      <td>0.35</td>\n",
       "      <td>0.73</td>\n",
       "      <td>0.0</td>\n",
       "      <td>0.31</td>\n",
       "      <td>0.21</td>\n",
       "      <td>0.69</td>\n",
       "    </tr>\n",
       "    <tr>\n",
       "      <th>23</th>\n",
       "      <td>0.11</td>\n",
       "      <td>0.43</td>\n",
       "      <td>0.04</td>\n",
       "      <td>0.89</td>\n",
       "      <td>0.09</td>\n",
       "      <td>0.06</td>\n",
       "      <td>0.45</td>\n",
       "      <td>0.48</td>\n",
       "      <td>0.31</td>\n",
       "      <td>0.46</td>\n",
       "      <td>...</td>\n",
       "      <td>0.16</td>\n",
       "      <td>0.12</td>\n",
       "      <td>0.07</td>\n",
       "      <td>0.04</td>\n",
       "      <td>0.01</td>\n",
       "      <td>0.81</td>\n",
       "      <td>1.0</td>\n",
       "      <td>0.56</td>\n",
       "      <td>0.09</td>\n",
       "      <td>0.63</td>\n",
       "    </tr>\n",
       "  </tbody>\n",
       "</table>\n",
       "<p>5 rows × 123 columns</p>\n",
       "</div>"
      ],
      "text/plain": [
       "     5     6     7     8     9     10    11    12    13    14   ...    118  \\\n",
       "0   0.19  0.33  0.02  0.90  0.12  0.17  0.34  0.47  0.29  0.32  ...   0.12   \n",
       "16  0.15  0.31  0.40  0.63  0.14  0.06  0.58  0.72  0.65  0.47  ...   0.06   \n",
       "20  0.25  0.54  0.05  0.71  0.48  0.30  0.42  0.48  0.28  0.32  ...   0.09   \n",
       "21  1.00  0.42  0.47  0.59  0.12  0.05  0.41  0.53  0.34  0.33  ...   1.00   \n",
       "23  0.11  0.43  0.04  0.89  0.09  0.06  0.45  0.48  0.31  0.46  ...   0.16   \n",
       "\n",
       "     119   120   121   122   123  124   125   126   127  \n",
       "0   0.26  0.20  0.06  0.04  0.90  0.5  0.32  0.14  0.20  \n",
       "16  0.39  0.84  0.06  0.06  0.91  0.5  0.88  0.26  0.49  \n",
       "20  0.46  0.05  0.09  0.05  0.88  0.5  0.76  0.13  0.34  \n",
       "21  0.07  0.15  1.00  0.35  0.73  0.0  0.31  0.21  0.69  \n",
       "23  0.12  0.07  0.04  0.01  0.81  1.0  0.56  0.09  0.63  \n",
       "\n",
       "[5 rows x 123 columns]"
      ]
     },
     "execution_count": 8,
     "metadata": {},
     "output_type": "execute_result"
    }
   ],
   "source": [
    "crime = crime.iloc[:, 5:]\n",
    "crime.dropna(inplace=True)\n",
    "crime.head()"
   ]
  },
  {
   "cell_type": "code",
   "execution_count": 9,
   "metadata": {},
   "outputs": [
    {
     "data": {
      "text/html": [
       "<div>\n",
       "<style scoped>\n",
       "    .dataframe tbody tr th:only-of-type {\n",
       "        vertical-align: middle;\n",
       "    }\n",
       "\n",
       "    .dataframe tbody tr th {\n",
       "        vertical-align: top;\n",
       "    }\n",
       "\n",
       "    .dataframe thead th {\n",
       "        text-align: right;\n",
       "    }\n",
       "</style>\n",
       "<table border=\"1\" class=\"dataframe\">\n",
       "  <thead>\n",
       "    <tr style=\"text-align: right;\">\n",
       "      <th></th>\n",
       "      <th>0</th>\n",
       "    </tr>\n",
       "  </thead>\n",
       "  <tbody>\n",
       "    <tr>\n",
       "      <th>5</th>\n",
       "      <td>population</td>\n",
       "    </tr>\n",
       "    <tr>\n",
       "      <th>6</th>\n",
       "      <td>householdsize</td>\n",
       "    </tr>\n",
       "    <tr>\n",
       "      <th>7</th>\n",
       "      <td>racepctblack</td>\n",
       "    </tr>\n",
       "    <tr>\n",
       "      <th>8</th>\n",
       "      <td>racePctWhite</td>\n",
       "    </tr>\n",
       "    <tr>\n",
       "      <th>9</th>\n",
       "      <td>racePctAsian</td>\n",
       "    </tr>\n",
       "  </tbody>\n",
       "</table>\n",
       "</div>"
      ],
      "text/plain": [
       "               0\n",
       "5     population\n",
       "6  householdsize\n",
       "7   racepctblack\n",
       "8   racePctWhite\n",
       "9   racePctAsian"
      ]
     },
     "execution_count": 9,
     "metadata": {},
     "output_type": "execute_result"
    }
   ],
   "source": [
    "# optional: read column names:\n",
    "crimenames = pd.read_csv('communities.data.names', header=None)\n",
    "crimenames = crimenames.iloc[5:, :]\n",
    "crimenames.head()"
   ]
  },
  {
   "cell_type": "code",
   "execution_count": 10,
   "metadata": {},
   "outputs": [],
   "source": [
    "# define X and y\n",
    "X = crime.iloc[:, :-1]\n",
    "y = crime.iloc[:, -1]\n",
    "\n",
    "# split into train/test\n",
    "from sklearn.model_selection import train_test_split\n",
    "X_train, X_test, y_train, y_test = train_test_split(X, y, random_state=1)"
   ]
  },
  {
   "cell_type": "code",
   "execution_count": 11,
   "metadata": {},
   "outputs": [
    {
     "data": {
      "text/plain": [
       "(319, 122)"
      ]
     },
     "execution_count": 11,
     "metadata": {},
     "output_type": "execute_result"
    }
   ],
   "source": [
    "# How many columns are in X?\n",
    "X.shape"
   ]
  },
  {
   "cell_type": "code",
   "execution_count": 13,
   "metadata": {},
   "outputs": [
    {
     "data": {
      "text/html": [
       "<div>\n",
       "<style scoped>\n",
       "    .dataframe tbody tr th:only-of-type {\n",
       "        vertical-align: middle;\n",
       "    }\n",
       "\n",
       "    .dataframe tbody tr th {\n",
       "        vertical-align: top;\n",
       "    }\n",
       "\n",
       "    .dataframe thead th {\n",
       "        text-align: right;\n",
       "    }\n",
       "</style>\n",
       "<table border=\"1\" class=\"dataframe\">\n",
       "  <thead>\n",
       "    <tr style=\"text-align: right;\">\n",
       "      <th></th>\n",
       "      <th>5</th>\n",
       "      <th>6</th>\n",
       "      <th>7</th>\n",
       "      <th>8</th>\n",
       "      <th>9</th>\n",
       "      <th>10</th>\n",
       "      <th>11</th>\n",
       "      <th>12</th>\n",
       "      <th>13</th>\n",
       "      <th>14</th>\n",
       "      <th>...</th>\n",
       "      <th>117</th>\n",
       "      <th>118</th>\n",
       "      <th>119</th>\n",
       "      <th>120</th>\n",
       "      <th>121</th>\n",
       "      <th>122</th>\n",
       "      <th>123</th>\n",
       "      <th>124</th>\n",
       "      <th>125</th>\n",
       "      <th>126</th>\n",
       "    </tr>\n",
       "  </thead>\n",
       "  <tbody>\n",
       "    <tr>\n",
       "      <th>0</th>\n",
       "      <td>0.19</td>\n",
       "      <td>0.33</td>\n",
       "      <td>0.02</td>\n",
       "      <td>0.90</td>\n",
       "      <td>0.12</td>\n",
       "      <td>0.17</td>\n",
       "      <td>0.34</td>\n",
       "      <td>0.47</td>\n",
       "      <td>0.29</td>\n",
       "      <td>0.32</td>\n",
       "      <td>...</td>\n",
       "      <td>0.29</td>\n",
       "      <td>0.12</td>\n",
       "      <td>0.26</td>\n",
       "      <td>0.20</td>\n",
       "      <td>0.06</td>\n",
       "      <td>0.04</td>\n",
       "      <td>0.90</td>\n",
       "      <td>0.5</td>\n",
       "      <td>0.32</td>\n",
       "      <td>0.14</td>\n",
       "    </tr>\n",
       "    <tr>\n",
       "      <th>16</th>\n",
       "      <td>0.15</td>\n",
       "      <td>0.31</td>\n",
       "      <td>0.40</td>\n",
       "      <td>0.63</td>\n",
       "      <td>0.14</td>\n",
       "      <td>0.06</td>\n",
       "      <td>0.58</td>\n",
       "      <td>0.72</td>\n",
       "      <td>0.65</td>\n",
       "      <td>0.47</td>\n",
       "      <td>...</td>\n",
       "      <td>0.22</td>\n",
       "      <td>0.06</td>\n",
       "      <td>0.39</td>\n",
       "      <td>0.84</td>\n",
       "      <td>0.06</td>\n",
       "      <td>0.06</td>\n",
       "      <td>0.91</td>\n",
       "      <td>0.5</td>\n",
       "      <td>0.88</td>\n",
       "      <td>0.26</td>\n",
       "    </tr>\n",
       "    <tr>\n",
       "      <th>20</th>\n",
       "      <td>0.25</td>\n",
       "      <td>0.54</td>\n",
       "      <td>0.05</td>\n",
       "      <td>0.71</td>\n",
       "      <td>0.48</td>\n",
       "      <td>0.30</td>\n",
       "      <td>0.42</td>\n",
       "      <td>0.48</td>\n",
       "      <td>0.28</td>\n",
       "      <td>0.32</td>\n",
       "      <td>...</td>\n",
       "      <td>0.36</td>\n",
       "      <td>0.09</td>\n",
       "      <td>0.46</td>\n",
       "      <td>0.05</td>\n",
       "      <td>0.09</td>\n",
       "      <td>0.05</td>\n",
       "      <td>0.88</td>\n",
       "      <td>0.5</td>\n",
       "      <td>0.76</td>\n",
       "      <td>0.13</td>\n",
       "    </tr>\n",
       "    <tr>\n",
       "      <th>21</th>\n",
       "      <td>1.00</td>\n",
       "      <td>0.42</td>\n",
       "      <td>0.47</td>\n",
       "      <td>0.59</td>\n",
       "      <td>0.12</td>\n",
       "      <td>0.05</td>\n",
       "      <td>0.41</td>\n",
       "      <td>0.53</td>\n",
       "      <td>0.34</td>\n",
       "      <td>0.33</td>\n",
       "      <td>...</td>\n",
       "      <td>1.00</td>\n",
       "      <td>1.00</td>\n",
       "      <td>0.07</td>\n",
       "      <td>0.15</td>\n",
       "      <td>1.00</td>\n",
       "      <td>0.35</td>\n",
       "      <td>0.73</td>\n",
       "      <td>0.0</td>\n",
       "      <td>0.31</td>\n",
       "      <td>0.21</td>\n",
       "    </tr>\n",
       "    <tr>\n",
       "      <th>23</th>\n",
       "      <td>0.11</td>\n",
       "      <td>0.43</td>\n",
       "      <td>0.04</td>\n",
       "      <td>0.89</td>\n",
       "      <td>0.09</td>\n",
       "      <td>0.06</td>\n",
       "      <td>0.45</td>\n",
       "      <td>0.48</td>\n",
       "      <td>0.31</td>\n",
       "      <td>0.46</td>\n",
       "      <td>...</td>\n",
       "      <td>0.29</td>\n",
       "      <td>0.16</td>\n",
       "      <td>0.12</td>\n",
       "      <td>0.07</td>\n",
       "      <td>0.04</td>\n",
       "      <td>0.01</td>\n",
       "      <td>0.81</td>\n",
       "      <td>1.0</td>\n",
       "      <td>0.56</td>\n",
       "      <td>0.09</td>\n",
       "    </tr>\n",
       "  </tbody>\n",
       "</table>\n",
       "<p>5 rows × 122 columns</p>\n",
       "</div>"
      ],
      "text/plain": [
       "     5     6     7     8     9     10    11    12    13    14   ...    117  \\\n",
       "0   0.19  0.33  0.02  0.90  0.12  0.17  0.34  0.47  0.29  0.32  ...   0.29   \n",
       "16  0.15  0.31  0.40  0.63  0.14  0.06  0.58  0.72  0.65  0.47  ...   0.22   \n",
       "20  0.25  0.54  0.05  0.71  0.48  0.30  0.42  0.48  0.28  0.32  ...   0.36   \n",
       "21  1.00  0.42  0.47  0.59  0.12  0.05  0.41  0.53  0.34  0.33  ...   1.00   \n",
       "23  0.11  0.43  0.04  0.89  0.09  0.06  0.45  0.48  0.31  0.46  ...   0.29   \n",
       "\n",
       "     118   119   120   121   122   123  124   125   126  \n",
       "0   0.12  0.26  0.20  0.06  0.04  0.90  0.5  0.32  0.14  \n",
       "16  0.06  0.39  0.84  0.06  0.06  0.91  0.5  0.88  0.26  \n",
       "20  0.09  0.46  0.05  0.09  0.05  0.88  0.5  0.76  0.13  \n",
       "21  1.00  0.07  0.15  1.00  0.35  0.73  0.0  0.31  0.21  \n",
       "23  0.16  0.12  0.07  0.04  0.01  0.81  1.0  0.56  0.09  \n",
       "\n",
       "[5 rows x 122 columns]"
      ]
     },
     "execution_count": 13,
     "metadata": {},
     "output_type": "execute_result"
    }
   ],
   "source": [
    "X.head()"
   ]
  },
  {
   "cell_type": "markdown",
   "metadata": {},
   "source": [
    "### Linear Regression Model Without Regularisation "
   ]
  },
  {
   "cell_type": "code",
   "execution_count": 14,
   "metadata": {},
   "outputs": [
    {
     "data": {
      "text/plain": [
       "array([-3.66188167e+00,  6.98124465e-01, -2.61955467e-01, -2.85270027e-01,\n",
       "       -1.64740837e-01,  2.46972333e-01, -1.09290051e+00, -5.96857796e-01,\n",
       "        1.11200239e+00, -7.21968931e-01,  4.27346598e+00, -2.28040268e-01,\n",
       "        8.04875769e-01, -2.57934732e-01, -2.63458023e-01, -1.04616958e+00,\n",
       "        6.07784197e-01,  7.73552561e-01,  5.96468029e-02,  6.90215922e-01,\n",
       "        2.16759430e-02, -4.87802949e-01, -5.18858404e-01,  1.39478815e-01,\n",
       "       -1.24417942e-01,  3.15003821e-01, -1.52633736e-01, -9.65003927e-01,\n",
       "        1.17142163e+00, -3.08546690e-02, -9.29085548e-01,  1.24654586e-01,\n",
       "        1.98104506e-01,  7.30804821e-01, -1.77337294e-01,  8.32927588e-02,\n",
       "        3.46045601e-01,  5.01837338e-01,  1.57062958e+00, -4.13478807e-01,\n",
       "        1.39350802e+00, -3.49428114e+00,  7.09577818e-01, -8.32141352e-01,\n",
       "       -1.39984927e+00,  1.02482840e+00,  2.13855006e-01, -6.18937325e-01,\n",
       "        5.28954490e-01,  7.98294890e-02,  5.93688560e-02, -1.68582667e-01,\n",
       "        7.31264051e-01, -1.39635208e+00,  2.38507704e-01,  5.50621439e-01,\n",
       "       -5.61447867e-01,  6.18989764e-01,  2.55517024e+00, -3.71769599e+00,\n",
       "        7.09191935e-01,  3.82041439e-01,  8.23752836e-01, -1.67703547e+00,\n",
       "       -1.73150450e+00,  9.90120171e-01, -5.72745697e-01, -1.45877295e+00,\n",
       "        8.68032144e-01,  5.15959984e-01,  3.14453207e-02,  2.01869791e-01,\n",
       "        9.65291940e-02,  2.13034099e+00, -6.95374423e-02,  4.62477023e-02,\n",
       "       -1.10565955e-02, -1.34313780e-02, -1.04515494e-01, -8.76985171e-01,\n",
       "        4.26781907e-01, -1.85405795e-01, -8.16215517e-01, -2.86596076e-01,\n",
       "       -1.56110708e-01,  1.76468580e+00, -5.70163730e-01, -7.54066704e-02,\n",
       "       -1.74212697e-01, -8.89747220e-02,  2.26336403e-01,  1.38030073e+00,\n",
       "       -3.37304744e-01, -2.57856611e-02,  8.91299188e-02,  3.49876793e-01,\n",
       "       -1.22428557e+00, -3.67941205e+01, -6.95699750e-01,  2.95269279e-01,\n",
       "       -1.48590316e-03,  2.34206416e-01, -7.09533984e-03,  3.67152957e+01,\n",
       "       -8.90665109e-02,  3.79550678e-02,  3.19375782e-01,  4.60708905e-01,\n",
       "        1.41090069e-01, -6.67017320e-01, -2.59035245e-01, -4.60600755e-04,\n",
       "       -1.51868232e-02,  7.54768410e-02, -2.36105498e-03, -1.50328233e-01,\n",
       "        1.85575558e-01,  6.31979224e-01, -1.50253625e-01,  1.87638817e-02,\n",
       "       -3.38095851e-02, -4.46104032e-01])"
      ]
     },
     "execution_count": 14,
     "metadata": {},
     "output_type": "execute_result"
    }
   ],
   "source": [
    "# linear regression\n",
    "from sklearn.linear_model import LinearRegression\n",
    "lm = LinearRegression()\n",
    "lm.fit(X_train, y_train)\n",
    "lm.intercept_\n",
    "lm.coef_\n",
    "# What are these numbers?"
   ]
  },
  {
   "cell_type": "code",
   "execution_count": 15,
   "metadata": {},
   "outputs": [
    {
     "data": {
      "text/plain": [
       "DescribeResult(nobs=122, minmax=(-36.794120528700006, 36.715295684780365), mean=-0.008324631712139551, variance=23.294819823700394, skewness=-0.021465688332930867, kurtosis=53.06238369462364)"
      ]
     },
     "execution_count": 15,
     "metadata": {},
     "output_type": "execute_result"
    }
   ],
   "source": [
    "st.describe(lm.coef_)"
   ]
  },
  {
   "cell_type": "code",
   "execution_count": 16,
   "metadata": {},
   "outputs": [
    {
     "name": "stdout",
     "output_type": "stream",
     "text": [
      "RMSE (no regularisation) = 0.2338136764948684\n"
     ]
    }
   ],
   "source": [
    "# make predictions and evaluate\n",
    "import numpy as np\n",
    "from sklearn import metrics\n",
    "preds = lm.predict(X_test)\n",
    "print('RMSE (no regularisation) =', np.sqrt(metrics.mean_squared_error(y_test, preds)))"
   ]
  },
  {
   "cell_type": "markdown",
   "metadata": {},
   "source": [
    "### Ridge Regression Model "
   ]
  },
  {
   "cell_type": "code",
   "execution_count": 18,
   "metadata": {},
   "outputs": [
    {
     "name": "stdout",
     "output_type": "stream",
     "text": [
      "RMSE (Ridge reg.) = 0.16427906804924083\n"
     ]
    }
   ],
   "source": [
    "# ridge regression (alpha must be positive, larger means more regularisation)\n",
    "from sklearn.linear_model import Ridge\n",
    "rreg = Ridge(alpha=0.1, normalize=True)\n",
    "rreg.fit(X_train, y_train)\n",
    "rreg.coef_\n",
    "preds = rreg.predict(X_test)\n",
    "print('RMSE (Ridge reg.) =', np.sqrt(metrics.mean_squared_error(y_test, preds)))\n",
    "# Is this model better? Why?"
   ]
  },
  {
   "cell_type": "markdown",
   "metadata": {},
   "source": [
    "#### Ridge Regression with Cross-Validation "
   ]
  },
  {
   "cell_type": "code",
   "execution_count": 19,
   "metadata": {},
   "outputs": [
    {
     "name": "stdout",
     "output_type": "stream",
     "text": [
      "Optimal Alpha Value:  1.0\n",
      "RMSE (Ridge CV reg.) = 0.16312978234269107\n"
     ]
    }
   ],
   "source": [
    "# use RidgeCV to select best alpha:\n",
    "from sklearn.linear_model import RidgeCV\n",
    "alpha_range = 10.**np.arange(0, 3)\n",
    "rregcv = RidgeCV(normalize=True, scoring='neg_mean_squared_error', alphas=alpha_range)\n",
    "rregcv.fit(X_train, y_train)\n",
    "\n",
    "# Print the optimal value of Alpha for Ridge Regression\n",
    "print('Optimal Alpha Value: ', rregcv.alpha_)\n",
    "\n",
    "# Print the RMSE for the ridge regression model\n",
    "preds = rregcv.predict(X_test)\n",
    "print ('RMSE (Ridge CV reg.) =', np.sqrt(metrics.mean_squared_error(y_test, preds)))\n",
    "# What is the range of alpha values we are searching over?"
   ]
  },
  {
   "cell_type": "markdown",
   "metadata": {},
   "source": [
    "### LASSO Regression Model "
   ]
  },
  {
   "cell_type": "code",
   "execution_count": 22,
   "metadata": {},
   "outputs": [
    {
     "name": "stdout",
     "output_type": "stream",
     "text": [
      "RMSE (Lasso reg.) = 0.19816522542866313\n"
     ]
    }
   ],
   "source": [
    "# lasso (alpha must be positive, larger means more regularisation)\n",
    "from sklearn.linear_model import Lasso\n",
    "las = Lasso(alpha=0.01, normalize=True)\n",
    "las.fit(X_train, y_train)\n",
    "las.coef_\n",
    "preds = las.predict(X_test)\n",
    "print('RMSE (Lasso reg.) =', np.sqrt(metrics.mean_squared_error(y_test, preds)))"
   ]
  },
  {
   "cell_type": "code",
   "execution_count": 23,
   "metadata": {},
   "outputs": [
    {
     "name": "stdout",
     "output_type": "stream",
     "text": [
      "RMSE (Lasso reg.) = 0.16003902404387874\n"
     ]
    }
   ],
   "source": [
    "# try a smaller alpha\n",
    "las = Lasso(alpha=0.001, normalize=True)\n",
    "las.fit(X_train, y_train)\n",
    "las.coef_\n",
    "preds = las.predict(X_test)\n",
    "print('RMSE (Lasso reg.) =', np.sqrt(metrics.mean_squared_error(y_test, preds)))\n"
   ]
  },
  {
   "cell_type": "code",
   "execution_count": 24,
   "metadata": {},
   "outputs": [
    {
     "data": {
      "text/plain": [
       "array([  1.,  10., 100.])"
      ]
     },
     "execution_count": 24,
     "metadata": {},
     "output_type": "execute_result"
    }
   ],
   "source": [
    "alpha_range"
   ]
  },
  {
   "cell_type": "code",
   "execution_count": 25,
   "metadata": {},
   "outputs": [
    {
     "name": "stdout",
     "output_type": "stream",
     "text": [
      "[1.e-05 1.e-04 1.e-03 1.e-02 1.e-01 1.e+00 1.e+01 1.e+02 1.e+03 1.e+04]\n"
     ]
    },
    {
     "name": "stderr",
     "output_type": "stream",
     "text": [
      "/usr/local/lib/python3.5/dist-packages/sklearn/linear_model/coordinate_descent.py:491: ConvergenceWarning: Objective did not converge. You might want to increase the number of iterations. Fitting data with very small alpha may cause precision problems.\n",
      "  ConvergenceWarning)\n"
     ]
    },
    {
     "name": "stdout",
     "output_type": "stream",
     "text": [
      "Optimal Alpha Value:  0.001\n",
      "RMSE (Lasso CV reg.) = 0.16003902404387874\n"
     ]
    }
   ],
   "source": [
    "# use LassoCV to select best alpha (tries 100 alphas by default)\n",
    "from sklearn.linear_model import LassoCV\n",
    "alpha_range = 10.**np.arange(-5, 5)\n",
    "print(alpha_range)\n",
    "lascv = LassoCV(normalize=True, alphas=alpha_range, max_iter=10000)\n",
    "lascv.fit(X_train, y_train)\n",
    "print('Optimal Alpha Value: ',lascv.alpha_)\n",
    "lascv.coef_\n",
    "preds = lascv.predict(X_test)\n",
    "print('RMSE (Lasso CV reg.) =', np.sqrt(metrics.mean_squared_error(y_test, preds)))"
   ]
  },
  {
   "cell_type": "code",
   "execution_count": 26,
   "metadata": {},
   "outputs": [],
   "source": [
    "? LassoCV"
   ]
  },
  {
   "cell_type": "markdown",
   "metadata": {},
   "source": [
    "### Task 1: Elastic Net Regularised Regression\n",
    "\n",
    "#### Look up [Elastic Net](http://scikit-learn.org/stable/modules/linear_model.html#elastic-net) and complete the following.\n",
    "\n",
    "\n",
    "(1) What is elastic net?\n",
    "\n",
    "\n",
    "(2) How does it work?\n",
    "\n",
    "\n",
    "(3) Run elastic net on the above dataset."
   ]
  },
  {
   "cell_type": "code",
   "execution_count": 31,
   "metadata": {},
   "outputs": [],
   "source": [
    "from sklearn.linear_model import ElasticNet\n",
    "?ElasticNet"
   ]
  },
  {
   "cell_type": "code",
   "execution_count": 36,
   "metadata": {},
   "outputs": [
    {
     "name": "stdout",
     "output_type": "stream",
     "text": [
      "Elastic net coeff:  [ 0.  0.  0. -0. -0.  0.  0.  0.  0. -0.  0.  0. -0. -0. -0. -0.  0.  0.\n",
      " -0. -0. -0. -0. -0. -0. -0. -0. -0.  0.  0.  0.  0. -0.  0. -0. -0.  0.\n",
      "  0. -0.  0.  0.  0.  0.  0. -0. -0. -0. -0. -0. -0.  0.  0.  0.  0.  0.\n",
      "  0.  0.  0.  0.  0.  0. -0.  0.  0.  0.  0.  0.  0. -0.  0.  0. -0.  0.\n",
      " -0. -0.  0.  0. -0.  0.  0. -0. -0. -0. -0. -0. -0. -0.  0. -0.  0.  0.\n",
      "  0.  0.  0. -0.  0.  0.  0.  0. -0.  0.  0.  0.  0.  0. -0. -0.  0.  0.\n",
      "  0.  0.  0.  0.  0.  0.  0.  0.  0.  0. -0.  0.  0.  0.]\n",
      "RMSE (Elastic net.) = 0.16003902404387874\n"
     ]
    }
   ],
   "source": [
    "# Set up and run the elastic net model\n",
    "regr = ElasticNet(normalize=True, random_state=1)\n",
    "regr.fit(X_train, y_train)\n",
    "print('Elastic net coeff: ',regr.coef_)\n",
    "preds = lascv.predict(X_test)\n",
    "print('RMSE (Elastic net.) =', np.sqrt(metrics.mean_squared_error(y_test, preds)))"
   ]
  },
  {
   "cell_type": "markdown",
   "metadata": {
    "collapsed": true
   },
   "source": [
    "### Task 2: Carry out Regularised Regression\n",
    "\n",
    "(1) Run all three forms of regularised regression on the Boston Housing dataset.\n",
    "\n",
    "(2) What do the coefficients mean?\n",
    "\n",
    "(3) What would you advise someone living in Boston to try and raise the value of their home?\n"
   ]
  },
  {
   "cell_type": "code",
   "execution_count": null,
   "metadata": {
    "collapsed": true
   },
   "outputs": [],
   "source": [
    "# load libraries and data:\n",
    "from sklearn.linear_model import LassoCV\n",
    "from sklearn.preprocessing import StandardScaler\n",
    "from sklearn.datasets import load_boston\n",
    "\n",
    "# Nb. the sklearn.datasets.load_*() functions return a 'bunch' object:\n",
    "# (ref = http://scikit-learn.org/stable/modules/generated/sklearn.datasets.fetch_mldata.html)\n",
    "\n",
    "crime = pd.read_csv('http://archive.ics.uci.edu/ml/machine-learning-databases/communities/communities.data', \n",
    "                    header=None, na_values=['?'])\n",
    "boston = load_boston()\n",
    "\n",
    "# standardise variables:\n",
    "scaler = StandardScaler()\n",
    "X = scaler.fit_transform(boston[\"data\"])\n",
    "\n",
    "Y = boston[\"target\"]\n",
    "names = boston[\"feature_names\"]\n",
    "\n",
    "# Build Lasso models over a range of alpha:\n",
    "\n"
   ]
  },
  {
   "cell_type": "code",
   "execution_count": null,
   "metadata": {
    "collapsed": true
   },
   "outputs": [],
   "source": [
    "# Build cross-validated Ridge regression model\n",
    "\n"
   ]
  },
  {
   "cell_type": "code",
   "execution_count": null,
   "metadata": {
    "collapsed": true
   },
   "outputs": [],
   "source": [
    "# Build cross-validated Elastic Net Model\n",
    "\n"
   ]
  },
  {
   "cell_type": "code",
   "execution_count": null,
   "metadata": {
    "collapsed": true
   },
   "outputs": [],
   "source": [
    "# Print dataset description\n",
    "\n"
   ]
  },
  {
   "cell_type": "markdown",
   "metadata": {},
   "source": [
    "### *Interpret Results*\n",
    "\n"
   ]
  },
  {
   "cell_type": "code",
   "execution_count": 23,
   "metadata": {},
   "outputs": [
    {
     "ename": "SyntaxError",
     "evalue": "EOL while scanning string literal (<ipython-input-23-ff2df81d750b>, line 2)",
     "output_type": "error",
     "traceback": [
      "\u001b[0;36m  File \u001b[0;32m\"<ipython-input-23-ff2df81d750b>\"\u001b[0;36m, line \u001b[0;32m2\u001b[0m\n\u001b[0;31m    x.replace('\\','//')\u001b[0m\n\u001b[0m                       ^\u001b[0m\n\u001b[0;31mSyntaxError\u001b[0m\u001b[0;31m:\u001b[0m EOL while scanning string literal\n"
     ]
    }
   ],
   "source": [
    "l = ['/']\n"
   ]
  },
  {
   "cell_type": "code",
   "execution_count": null,
   "metadata": {
    "collapsed": true
   },
   "outputs": [],
   "source": []
  },
  {
   "cell_type": "markdown",
   "metadata": {},
   "source": [
    "\n",
    "\n"
   ]
  }
 ],
 "metadata": {
  "kernelspec": {
   "display_name": "Python 3",
   "language": "python",
   "name": "python3"
  },
  "language_info": {
   "codemirror_mode": {
    "name": "ipython",
    "version": 3
   },
   "file_extension": ".py",
   "mimetype": "text/x-python",
   "name": "python",
   "nbconvert_exporter": "python",
   "pygments_lexer": "ipython3",
   "version": "3.5.2"
  }
 },
 "nbformat": 4,
 "nbformat_minor": 1
}
